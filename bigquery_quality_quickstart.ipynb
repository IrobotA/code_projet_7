# 🚀 BigQuery Data Quality - Quick Start

This notebook provides a quick start guide for analyzing BigQuery tables with the data quality checker in VS Code.

## 🎯 What You'll Learn:
- Connect to BigQuery from VS Code
- Run comprehensive data quality analysis
- Understand completeness, validity, and uniqueness checks
- Generate actionable reports
- Handle large tables efficiently

## 📋 Prerequisites:
- BigQuery project with table access
- Credentials configured (see BIGQUERY_VSCODE_SETUP.md)
- Required packages installed (requirements_bigquery.txt)