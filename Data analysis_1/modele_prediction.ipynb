{
 "cells": [
  {
   "cell_type": "code",
   "execution_count": 28,
   "metadata": {},
   "outputs": [],
   "source": [
    "from sklearn.preprocessing import StandardScaler\n",
    "from sklearn.pipeline import Pipeline\n",
    "from sklearn.model_selection import train_test_split\n",
    "from sklearn.feature_selection import RFE # wrapper method pour choisir les features\n",
    "from sklearn.linear_model import RidgeClassifierCV\n",
    "\n",
    "from sklearn.preprocessing import OneHotEncoder\n",
    "import pickle\n",
    "\n",
    "import pandas as pd\n",
    "import numpy as np\n",
    "import mlflow\n",
    "import mlflow.sklearn\n",
    "from sklearn.model_selection import GridSearchCV\n",
    "from sklearn.compose import ColumnTransformer\n",
    "#from mlflow.models.signature import infer_signature\n",
    "\n",
    "#Export new_df_test => sera utilisé pour la prédiction du modele avec fastapi\n"
   ]
  },
  {
   "attachments": {},
   "cell_type": "markdown",
   "metadata": {},
   "source": [
    "Importation des fichiers"
   ]
  },
  {
   "cell_type": "code",
   "execution_count": 30,
   "metadata": {},
   "outputs": [],
   "source": [
    "df_train= pd.read_feather(\"../../datasets/train_2.feather\")\n",
    "df_test = pd.read_feather(\"../../datasets/test_2.feather\")\n",
    "df_train.drop(df_train[df_train['CODE_GENDER']=='XNA'].index,axis=0, inplace = True)\n",
    "#df_train.shape #confirmation de la suppression des 4 lignes"
   ]
  },
  {
   "cell_type": "markdown",
   "metadata": {},
   "source": [
    "Remplacement des valeurs manquantes"
   ]
  },
  {
   "cell_type": "code",
   "execution_count": 31,
   "metadata": {},
   "outputs": [
    {
     "name": "stdout",
     "output_type": "stream",
     "text": [
      "AMT_ANNUITY float64\n",
      "AMT_GOODS_PRICE float64\n",
      "NAME_TYPE_SUITE object\n",
      "NAME_TYPE_SUITE\n",
      "CNT_FAM_MEMBERS float64\n",
      "EXT_SOURCE_2 float64\n",
      "EXT_SOURCE_3 float64\n",
      "OBS_30_CNT_SOCIAL_CIRCLE float64\n",
      "DEF_30_CNT_SOCIAL_CIRCLE float64\n",
      "OBS_60_CNT_SOCIAL_CIRCLE float64\n",
      "DEF_60_CNT_SOCIAL_CIRCLE float64\n",
      "DAYS_LAST_PHONE_CHANGE float64\n",
      "AMT_REQ_CREDIT_BUREAU_HOUR float64\n",
      "AMT_REQ_CREDIT_BUREAU_DAY float64\n",
      "AMT_REQ_CREDIT_BUREAU_WEEK float64\n",
      "AMT_REQ_CREDIT_BUREAU_MON float64\n",
      "AMT_REQ_CREDIT_BUREAU_QRT float64\n",
      "AMT_REQ_CREDIT_BUREAU_YEAR float64\n"
     ]
    },
    {
     "data": {
      "text/plain": [
       "0"
      ]
     },
     "execution_count": 31,
     "metadata": {},
     "output_type": "execute_result"
    }
   ],
   "source": [
    "for col_na in df_train.isna().sum()[df_train.isna().sum() > 0 ].index: \n",
    "    print(col_na,df_train[col_na].dtype)\n",
    "    if df_train[col_na].dtype =='object':\n",
    "        print(col_na)\n",
    "        df_train[col_na] = df_train[col_na].fillna(df_train[col_na].mode().values[0]) # var categ val mqte => mot le plus fréquent\n",
    "    else :\n",
    "        df_train[col_na] = df_train[col_na].fillna(df_train[col_na].median()) # val mqtes => mediane\n",
    "df_train.isna().sum().sum()"
   ]
  },
  {
   "attachments": {},
   "cell_type": "markdown",
   "metadata": {},
   "source": [
    "Separation du jdd"
   ]
  },
  {
   "cell_type": "code",
   "execution_count": 32,
   "metadata": {},
   "outputs": [],
   "source": [
    "X_train,X_test,y_train,y_test = train_test_split(df_train.drop(['TARGET'], axis =1),\n",
    "                                                 df_train['TARGET'],\n",
    "                                                test_size=0.3,\n",
    "                                                random_state=42)"
   ]
  },
  {
   "cell_type": "markdown",
   "metadata": {},
   "source": [
    "Configuration des hyperparamètres"
   ]
  },
  {
   "cell_type": "code",
   "execution_count": 33,
   "metadata": {},
   "outputs": [],
   "source": [
    "ar = X_train.select_dtypes('object').columns #nom des colonnes sous format objets"
   ]
  },
  {
   "attachments": {},
   "cell_type": "markdown",
   "metadata": {},
   "source": [
    "Nombre optimal de features avec RFE => recursive feature elimination"
   ]
  },
  {
   "cell_type": "markdown",
   "metadata": {},
   "source": [
    "#https://machinelearningmastery.com/rfe-feature-selection-in-python/\n",
    "rfe_selector = RFE(estimator = RidgeClassifierCV(),n_features_to_select=70, step=10, verbose = 5)\n",
    "rfe_selector"
   ]
  },
  {
   "cell_type": "markdown",
   "metadata": {},
   "source": [
    "rfe_selector.fit(X_tr_scaled,y_train) #sur données mise à l'échelle\n",
    "rfe_support = rfe_selector.get_support()\n",
    "rfe_feature = X_train.loc[:,rfe_support].columns.to_list()\n",
    "print(str(len(rfe_feature)),'selected features')"
   ]
  },
  {
   "cell_type": "markdown",
   "metadata": {},
   "source": [
    "Pipeline"
   ]
  },
  {
   "cell_type": "markdown",
   "metadata": {},
   "source": [
    "ct = ColumnTransformer([('one-hot-encoder', OneHotEncoder(), ar)], remainder='passthrough')\n",
    "ct.fit(df_train) #https://vitalflux.com/one-hot-encoding-concepts-python-code-examples/#What_is_One-Hot_Encoding pour le résultat"
   ]
  },
  {
   "cell_type": "code",
   "execution_count": null,
   "metadata": {},
   "outputs": [],
   "source": [
    "ar_val = []\n",
    "for index,ar_values in enumerate(ar) :\n",
    "    ar_val.append([i for i in (X_train[ar_values].value_counts().index.values)])"
   ]
  },
  {
   "cell_type": "code",
   "execution_count": 86,
   "metadata": {},
   "outputs": [],
   "source": [
    "#Leave-One-Out cross-validation chaque observation est testé si cv = none mais recquiert beaucoup de temps, meilleur cv = 10 \n",
    "#ColumnTransformer rajouté sinon onehot fait pour toutes les colonnes\n",
    "pipel= Pipeline(steps=[('categ_scaler', ColumnTransformer([('one-hot-encoder', OneHotEncoder(handle_unknown=\"error\", categories = ar_val), ar.values)],remainder=StandardScaler(with_mean=True), verbose = True)),\n",
    "                       ('rfe',   RFE(estimator = RidgeClassifierCV(class_weight='balanced',cv=3,alphas=(0.1,1,10,50),scoring = 'recall'),\n",
    "                                 step=10,\n",
    "                                 verbose = 5\n",
    "                                    )\n",
    "                       )\n",
    "                    ])\n",
    "#('model',RidgeClassifierCV(class_weight='balanced', alphas=(0.1,1,10,100,1000))) cv = 3 sinon 10 trop long"
   ]
  },
  {
   "cell_type": "code",
   "execution_count": null,
   "metadata": {},
   "outputs": [
    {
     "ename": "NameError",
     "evalue": "name 'X_train' is not defined",
     "output_type": "error",
     "traceback": [
      "\u001b[1;31m---------------------------------------------------------------------------\u001b[0m\n",
      "\u001b[1;31mNameError\u001b[0m                                 Traceback (most recent call last)\n",
      "Cell \u001b[1;32mIn[6], line 1\u001b[0m\n",
      "\u001b[1;32m----> 1\u001b[0m ar \u001b[39m=\u001b[39m X_train\u001b[39m.\u001b[39mselect_dtypes(\u001b[39m'\u001b[39m\u001b[39mobject\u001b[39m\u001b[39m'\u001b[39m)\u001b[39m.\u001b[39mcolumns \u001b[39m#nom des colonnes sous format objets\u001b[39;00m\n",
      "\n",
      "\u001b[1;31mNameError\u001b[0m: name 'X_train' is not defined"
     ]
    }
   ],
   "source": [
    "ar = X_train.select_dtypes('object').columns #nom des colonnes sous format objets"
   ]
  },
  {
   "attachments": {},
   "cell_type": "markdown",
   "metadata": {},
   "source": [
    "categories par colonne"
   ]
  },
  {
   "cell_type": "code",
   "execution_count": 89,
   "metadata": {},
   "outputs": [
    {
     "name": "stdout",
     "output_type": "stream",
     "text": [
      "[ColumnTransformer]  (1 of 2) Processing one-hot-encoder, total=   2.2s\n",
      "[ColumnTransformer] ..... (2 of 2) Processing remainder, total=   1.2s\n",
      "Fitting estimator with 164 features.\n",
      "Fitting estimator with 154 features.\n",
      "Fitting estimator with 144 features.\n",
      "Fitting estimator with 134 features.\n",
      "Fitting estimator with 124 features.\n",
      "[ColumnTransformer]  (1 of 2) Processing one-hot-encoder, total=   1.9s\n",
      "[ColumnTransformer] ..... (2 of 2) Processing remainder, total=   1.1s\n",
      "Fitting estimator with 164 features.\n",
      "Fitting estimator with 154 features.\n",
      "Fitting estimator with 144 features.\n",
      "Fitting estimator with 134 features.\n",
      "Fitting estimator with 124 features.\n",
      "[ColumnTransformer]  (1 of 2) Processing one-hot-encoder, total=   1.7s\n",
      "[ColumnTransformer] ..... (2 of 2) Processing remainder, total=   1.1s\n",
      "Fitting estimator with 164 features.\n",
      "Fitting estimator with 154 features.\n",
      "Fitting estimator with 144 features.\n",
      "Fitting estimator with 134 features.\n",
      "Fitting estimator with 124 features.\n",
      "[ColumnTransformer]  (1 of 2) Processing one-hot-encoder, total=   2.5s\n",
      "[ColumnTransformer] ..... (2 of 2) Processing remainder, total=   0.9s\n",
      "Fitting estimator with 164 features.\n",
      "Fitting estimator with 154 features.\n",
      "Fitting estimator with 144 features.\n",
      "Fitting estimator with 134 features.\n",
      "Fitting estimator with 124 features.\n",
      "[ColumnTransformer]  (1 of 2) Processing one-hot-encoder, total=   2.2s\n",
      "[ColumnTransformer] ..... (2 of 2) Processing remainder, total=   1.3s\n",
      "Fitting estimator with 164 features.\n",
      "Fitting estimator with 154 features.\n",
      "Fitting estimator with 144 features.\n",
      "Fitting estimator with 134 features.\n",
      "Fitting estimator with 124 features.\n",
      "[ColumnTransformer]  (1 of 2) Processing one-hot-encoder, total=   2.7s\n",
      "[ColumnTransformer] ..... (2 of 2) Processing remainder, total=   1.6s\n",
      "Fitting estimator with 164 features.\n",
      "Fitting estimator with 154 features.\n",
      "Fitting estimator with 144 features.\n",
      "Fitting estimator with 134 features.\n",
      "Fitting estimator with 124 features.\n"
     ]
    },
    {
     "data": {
      "text/html": [
       "<style>#sk-container-id-8 {color: black;background-color: white;}#sk-container-id-8 pre{padding: 0;}#sk-container-id-8 div.sk-toggleable {background-color: white;}#sk-container-id-8 label.sk-toggleable__label {cursor: pointer;display: block;width: 100%;margin-bottom: 0;padding: 0.3em;box-sizing: border-box;text-align: center;}#sk-container-id-8 label.sk-toggleable__label-arrow:before {content: \"▸\";float: left;margin-right: 0.25em;color: #696969;}#sk-container-id-8 label.sk-toggleable__label-arrow:hover:before {color: black;}#sk-container-id-8 div.sk-estimator:hover label.sk-toggleable__label-arrow:before {color: black;}#sk-container-id-8 div.sk-toggleable__content {max-height: 0;max-width: 0;overflow: hidden;text-align: left;background-color: #f0f8ff;}#sk-container-id-8 div.sk-toggleable__content pre {margin: 0.2em;color: black;border-radius: 0.25em;background-color: #f0f8ff;}#sk-container-id-8 input.sk-toggleable__control:checked~div.sk-toggleable__content {max-height: 200px;max-width: 100%;overflow: auto;}#sk-container-id-8 input.sk-toggleable__control:checked~label.sk-toggleable__label-arrow:before {content: \"▾\";}#sk-container-id-8 div.sk-estimator input.sk-toggleable__control:checked~label.sk-toggleable__label {background-color: #d4ebff;}#sk-container-id-8 div.sk-label input.sk-toggleable__control:checked~label.sk-toggleable__label {background-color: #d4ebff;}#sk-container-id-8 input.sk-hidden--visually {border: 0;clip: rect(1px 1px 1px 1px);clip: rect(1px, 1px, 1px, 1px);height: 1px;margin: -1px;overflow: hidden;padding: 0;position: absolute;width: 1px;}#sk-container-id-8 div.sk-estimator {font-family: monospace;background-color: #f0f8ff;border: 1px dotted black;border-radius: 0.25em;box-sizing: border-box;margin-bottom: 0.5em;}#sk-container-id-8 div.sk-estimator:hover {background-color: #d4ebff;}#sk-container-id-8 div.sk-parallel-item::after {content: \"\";width: 100%;border-bottom: 1px solid gray;flex-grow: 1;}#sk-container-id-8 div.sk-label:hover label.sk-toggleable__label {background-color: #d4ebff;}#sk-container-id-8 div.sk-serial::before {content: \"\";position: absolute;border-left: 1px solid gray;box-sizing: border-box;top: 0;bottom: 0;left: 50%;z-index: 0;}#sk-container-id-8 div.sk-serial {display: flex;flex-direction: column;align-items: center;background-color: white;padding-right: 0.2em;padding-left: 0.2em;position: relative;}#sk-container-id-8 div.sk-item {position: relative;z-index: 1;}#sk-container-id-8 div.sk-parallel {display: flex;align-items: stretch;justify-content: center;background-color: white;position: relative;}#sk-container-id-8 div.sk-item::before, #sk-container-id-8 div.sk-parallel-item::before {content: \"\";position: absolute;border-left: 1px solid gray;box-sizing: border-box;top: 0;bottom: 0;left: 50%;z-index: -1;}#sk-container-id-8 div.sk-parallel-item {display: flex;flex-direction: column;z-index: 1;position: relative;background-color: white;}#sk-container-id-8 div.sk-parallel-item:first-child::after {align-self: flex-end;width: 50%;}#sk-container-id-8 div.sk-parallel-item:last-child::after {align-self: flex-start;width: 50%;}#sk-container-id-8 div.sk-parallel-item:only-child::after {width: 0;}#sk-container-id-8 div.sk-dashed-wrapped {border: 1px dashed gray;margin: 0 0.4em 0.5em 0.4em;box-sizing: border-box;padding-bottom: 0.4em;background-color: white;}#sk-container-id-8 div.sk-label label {font-family: monospace;font-weight: bold;display: inline-block;line-height: 1.2em;}#sk-container-id-8 div.sk-label-container {text-align: center;}#sk-container-id-8 div.sk-container {/* jupyter's `normalize.less` sets `[hidden] { display: none; }` but bootstrap.min.css set `[hidden] { display: none !important; }` so we also need the `!important` here to be able to override the default hidden behavior on the sphinx rendered scikit-learn.org. See: https://github.com/scikit-learn/scikit-learn/issues/21755 */display: inline-block !important;position: relative;}#sk-container-id-8 div.sk-text-repr-fallback {display: none;}</style><div id=\"sk-container-id-8\" class=\"sk-top-container\"><div class=\"sk-text-repr-fallback\"><pre>GridSearchCV(estimator=Pipeline(steps=[(&#x27;categ_scaler&#x27;,\n",
       "                                        ColumnTransformer(remainder=StandardScaler(),\n",
       "                                                          transformers=[(&#x27;one-hot-encoder&#x27;,\n",
       "                                                                         OneHotEncoder(categories=[[&#x27;Cash &#x27;\n",
       "                                                                                                    &#x27;loans&#x27;,\n",
       "                                                                                                    &#x27;Revolving &#x27;\n",
       "                                                                                                    &#x27;loans&#x27;],\n",
       "                                                                                                   [&#x27;F&#x27;,\n",
       "                                                                                                    &#x27;M&#x27;],\n",
       "                                                                                                   [&#x27;N&#x27;,\n",
       "                                                                                                    &#x27;Y&#x27;],\n",
       "                                                                                                   [&#x27;Y&#x27;,\n",
       "                                                                                                    &#x27;N&#x27;],\n",
       "                                                                                                   [&#x27;Unaccompanied&#x27;,\n",
       "                                                                                                    &#x27;Family&#x27;,\n",
       "                                                                                                    &#x27;Spouse, &#x27;\n",
       "                                                                                                    &#x27;partner&#x27;,\n",
       "                                                                                                    &#x27;Children&#x27;,\n",
       "                                                                                                    &#x27;Other_B&#x27;,\n",
       "                                                                                                    &#x27;Other_A&#x27;,\n",
       "                                                                                                    &#x27;Group &#x27;\n",
       "                                                                                                    &#x27;of &#x27;\n",
       "                                                                                                    &#x27;people&#x27;],\n",
       "                                                                                                   [&#x27;Working&#x27;,\n",
       "                                                                                                    &#x27;Commercial &#x27;\n",
       "                                                                                                    &#x27;assoc...\n",
       "       &#x27;FLAG_OWN_REALTY&#x27;, &#x27;NAME_TYPE_SUITE&#x27;, &#x27;NAME_INCOME_TYPE&#x27;,\n",
       "       &#x27;NAME_EDUCATION_TYPE&#x27;, &#x27;NAME_FAMILY_STATUS&#x27;, &#x27;NAME_HOUSING_TYPE&#x27;,\n",
       "       &#x27;WEEKDAY_APPR_PROCESS_START&#x27;, &#x27;ORGANIZATION_TYPE&#x27;], dtype=object))],\n",
       "                                                          verbose=True)),\n",
       "                                       (&#x27;rfe&#x27;,\n",
       "                                        RFE(estimator=RidgeClassifierCV(alphas=(0.1,\n",
       "                                                                                1,\n",
       "                                                                                10,\n",
       "                                                                                50),\n",
       "                                                                        class_weight=&#x27;balanced&#x27;,\n",
       "                                                                        cv=3,\n",
       "                                                                        scoring=&#x27;recall&#x27;),\n",
       "                                            step=10, verbose=5))]),\n",
       "             n_jobs=1, param_grid={&#x27;rfe__n_features_to_select&#x27;: [0.7]},\n",
       "             scoring=&#x27;recall&#x27;)</pre><b>In a Jupyter environment, please rerun this cell to show the HTML representation or trust the notebook. <br />On GitHub, the HTML representation is unable to render, please try loading this page with nbviewer.org.</b></div><div class=\"sk-container\" hidden><div class=\"sk-item sk-dashed-wrapped\"><div class=\"sk-label-container\"><div class=\"sk-label sk-toggleable\"><input class=\"sk-toggleable__control sk-hidden--visually\" id=\"sk-estimator-id-31\" type=\"checkbox\" ><label for=\"sk-estimator-id-31\" class=\"sk-toggleable__label sk-toggleable__label-arrow\">GridSearchCV</label><div class=\"sk-toggleable__content\"><pre>GridSearchCV(estimator=Pipeline(steps=[(&#x27;categ_scaler&#x27;,\n",
       "                                        ColumnTransformer(remainder=StandardScaler(),\n",
       "                                                          transformers=[(&#x27;one-hot-encoder&#x27;,\n",
       "                                                                         OneHotEncoder(categories=[[&#x27;Cash &#x27;\n",
       "                                                                                                    &#x27;loans&#x27;,\n",
       "                                                                                                    &#x27;Revolving &#x27;\n",
       "                                                                                                    &#x27;loans&#x27;],\n",
       "                                                                                                   [&#x27;F&#x27;,\n",
       "                                                                                                    &#x27;M&#x27;],\n",
       "                                                                                                   [&#x27;N&#x27;,\n",
       "                                                                                                    &#x27;Y&#x27;],\n",
       "                                                                                                   [&#x27;Y&#x27;,\n",
       "                                                                                                    &#x27;N&#x27;],\n",
       "                                                                                                   [&#x27;Unaccompanied&#x27;,\n",
       "                                                                                                    &#x27;Family&#x27;,\n",
       "                                                                                                    &#x27;Spouse, &#x27;\n",
       "                                                                                                    &#x27;partner&#x27;,\n",
       "                                                                                                    &#x27;Children&#x27;,\n",
       "                                                                                                    &#x27;Other_B&#x27;,\n",
       "                                                                                                    &#x27;Other_A&#x27;,\n",
       "                                                                                                    &#x27;Group &#x27;\n",
       "                                                                                                    &#x27;of &#x27;\n",
       "                                                                                                    &#x27;people&#x27;],\n",
       "                                                                                                   [&#x27;Working&#x27;,\n",
       "                                                                                                    &#x27;Commercial &#x27;\n",
       "                                                                                                    &#x27;assoc...\n",
       "       &#x27;FLAG_OWN_REALTY&#x27;, &#x27;NAME_TYPE_SUITE&#x27;, &#x27;NAME_INCOME_TYPE&#x27;,\n",
       "       &#x27;NAME_EDUCATION_TYPE&#x27;, &#x27;NAME_FAMILY_STATUS&#x27;, &#x27;NAME_HOUSING_TYPE&#x27;,\n",
       "       &#x27;WEEKDAY_APPR_PROCESS_START&#x27;, &#x27;ORGANIZATION_TYPE&#x27;], dtype=object))],\n",
       "                                                          verbose=True)),\n",
       "                                       (&#x27;rfe&#x27;,\n",
       "                                        RFE(estimator=RidgeClassifierCV(alphas=(0.1,\n",
       "                                                                                1,\n",
       "                                                                                10,\n",
       "                                                                                50),\n",
       "                                                                        class_weight=&#x27;balanced&#x27;,\n",
       "                                                                        cv=3,\n",
       "                                                                        scoring=&#x27;recall&#x27;),\n",
       "                                            step=10, verbose=5))]),\n",
       "             n_jobs=1, param_grid={&#x27;rfe__n_features_to_select&#x27;: [0.7]},\n",
       "             scoring=&#x27;recall&#x27;)</pre></div></div></div><div class=\"sk-parallel\"><div class=\"sk-parallel-item\"><div class=\"sk-item\"><div class=\"sk-label-container\"><div class=\"sk-label sk-toggleable\"><input class=\"sk-toggleable__control sk-hidden--visually\" id=\"sk-estimator-id-32\" type=\"checkbox\" ><label for=\"sk-estimator-id-32\" class=\"sk-toggleable__label sk-toggleable__label-arrow\">estimator: Pipeline</label><div class=\"sk-toggleable__content\"><pre>Pipeline(steps=[(&#x27;categ_scaler&#x27;,\n",
       "                 ColumnTransformer(remainder=StandardScaler(),\n",
       "                                   transformers=[(&#x27;one-hot-encoder&#x27;,\n",
       "                                                  OneHotEncoder(categories=[[&#x27;Cash &#x27;\n",
       "                                                                             &#x27;loans&#x27;,\n",
       "                                                                             &#x27;Revolving &#x27;\n",
       "                                                                             &#x27;loans&#x27;],\n",
       "                                                                            [&#x27;F&#x27;,\n",
       "                                                                             &#x27;M&#x27;],\n",
       "                                                                            [&#x27;N&#x27;,\n",
       "                                                                             &#x27;Y&#x27;],\n",
       "                                                                            [&#x27;Y&#x27;,\n",
       "                                                                             &#x27;N&#x27;],\n",
       "                                                                            [&#x27;Unaccompanied&#x27;,\n",
       "                                                                             &#x27;Family&#x27;,\n",
       "                                                                             &#x27;Spouse, &#x27;\n",
       "                                                                             &#x27;partner&#x27;,\n",
       "                                                                             &#x27;Children&#x27;,\n",
       "                                                                             &#x27;Other_B&#x27;,\n",
       "                                                                             &#x27;Other_A&#x27;,\n",
       "                                                                             &#x27;Group &#x27;\n",
       "                                                                             &#x27;of &#x27;\n",
       "                                                                             &#x27;people&#x27;],\n",
       "                                                                            [&#x27;Working&#x27;,\n",
       "                                                                             &#x27;Commercial &#x27;\n",
       "                                                                             &#x27;associate&#x27;,\n",
       "                                                                             &#x27;Pensioner&#x27;,\n",
       "                                                                             &#x27;Stat...\n",
       "                                                  array([&#x27;NAME_CONTRACT_TYPE&#x27;, &#x27;CODE_GENDER&#x27;, &#x27;FLAG_OWN_CAR&#x27;,\n",
       "       &#x27;FLAG_OWN_REALTY&#x27;, &#x27;NAME_TYPE_SUITE&#x27;, &#x27;NAME_INCOME_TYPE&#x27;,\n",
       "       &#x27;NAME_EDUCATION_TYPE&#x27;, &#x27;NAME_FAMILY_STATUS&#x27;, &#x27;NAME_HOUSING_TYPE&#x27;,\n",
       "       &#x27;WEEKDAY_APPR_PROCESS_START&#x27;, &#x27;ORGANIZATION_TYPE&#x27;], dtype=object))],\n",
       "                                   verbose=True)),\n",
       "                (&#x27;rfe&#x27;,\n",
       "                 RFE(estimator=RidgeClassifierCV(alphas=(0.1, 1, 10, 50),\n",
       "                                                 class_weight=&#x27;balanced&#x27;, cv=3,\n",
       "                                                 scoring=&#x27;recall&#x27;),\n",
       "                     step=10, verbose=5))])</pre></div></div></div><div class=\"sk-serial\"><div class=\"sk-item\"><div class=\"sk-serial\"><div class=\"sk-item sk-dashed-wrapped\"><div class=\"sk-label-container\"><div class=\"sk-label sk-toggleable\"><input class=\"sk-toggleable__control sk-hidden--visually\" id=\"sk-estimator-id-33\" type=\"checkbox\" ><label for=\"sk-estimator-id-33\" class=\"sk-toggleable__label sk-toggleable__label-arrow\">categ_scaler: ColumnTransformer</label><div class=\"sk-toggleable__content\"><pre>ColumnTransformer(remainder=StandardScaler(),\n",
       "                  transformers=[(&#x27;one-hot-encoder&#x27;,\n",
       "                                 OneHotEncoder(categories=[[&#x27;Cash loans&#x27;,\n",
       "                                                            &#x27;Revolving loans&#x27;],\n",
       "                                                           [&#x27;F&#x27;, &#x27;M&#x27;],\n",
       "                                                           [&#x27;N&#x27;, &#x27;Y&#x27;],\n",
       "                                                           [&#x27;Y&#x27;, &#x27;N&#x27;],\n",
       "                                                           [&#x27;Unaccompanied&#x27;,\n",
       "                                                            &#x27;Family&#x27;,\n",
       "                                                            &#x27;Spouse, partner&#x27;,\n",
       "                                                            &#x27;Children&#x27;,\n",
       "                                                            &#x27;Other_B&#x27;,\n",
       "                                                            &#x27;Other_A&#x27;,\n",
       "                                                            &#x27;Group of people&#x27;],\n",
       "                                                           [&#x27;Working&#x27;,\n",
       "                                                            &#x27;Commercial &#x27;\n",
       "                                                            &#x27;associate&#x27;,\n",
       "                                                            &#x27;Pensioner&#x27;,\n",
       "                                                            &#x27;State servant&#x27;,\n",
       "                                                            &#x27;Unemployed&#x27;,\n",
       "                                                            &#x27;Student&#x27;,\n",
       "                                                            &#x27;Business...\n",
       "                                                            &#x27;Transport: type 2&#x27;,\n",
       "                                                            &#x27;Postal&#x27;,\n",
       "                                                            &#x27;Security &#x27;\n",
       "                                                            &#x27;Ministries&#x27;,\n",
       "                                                            &#x27;Trade: type 2&#x27;,\n",
       "                                                            &#x27;Restaurant&#x27;,\n",
       "                                                            &#x27;Services&#x27;,\n",
       "                                                            &#x27;Industry: type 7&#x27;, ...]]),\n",
       "                                 array([&#x27;NAME_CONTRACT_TYPE&#x27;, &#x27;CODE_GENDER&#x27;, &#x27;FLAG_OWN_CAR&#x27;,\n",
       "       &#x27;FLAG_OWN_REALTY&#x27;, &#x27;NAME_TYPE_SUITE&#x27;, &#x27;NAME_INCOME_TYPE&#x27;,\n",
       "       &#x27;NAME_EDUCATION_TYPE&#x27;, &#x27;NAME_FAMILY_STATUS&#x27;, &#x27;NAME_HOUSING_TYPE&#x27;,\n",
       "       &#x27;WEEKDAY_APPR_PROCESS_START&#x27;, &#x27;ORGANIZATION_TYPE&#x27;], dtype=object))],\n",
       "                  verbose=True)</pre></div></div></div><div class=\"sk-parallel\"><div class=\"sk-parallel-item\"><div class=\"sk-item\"><div class=\"sk-label-container\"><div class=\"sk-label sk-toggleable\"><input class=\"sk-toggleable__control sk-hidden--visually\" id=\"sk-estimator-id-34\" type=\"checkbox\" ><label for=\"sk-estimator-id-34\" class=\"sk-toggleable__label sk-toggleable__label-arrow\">one-hot-encoder</label><div class=\"sk-toggleable__content\"><pre>[&#x27;NAME_CONTRACT_TYPE&#x27; &#x27;CODE_GENDER&#x27; &#x27;FLAG_OWN_CAR&#x27; &#x27;FLAG_OWN_REALTY&#x27;\n",
       " &#x27;NAME_TYPE_SUITE&#x27; &#x27;NAME_INCOME_TYPE&#x27; &#x27;NAME_EDUCATION_TYPE&#x27;\n",
       " &#x27;NAME_FAMILY_STATUS&#x27; &#x27;NAME_HOUSING_TYPE&#x27; &#x27;WEEKDAY_APPR_PROCESS_START&#x27;\n",
       " &#x27;ORGANIZATION_TYPE&#x27;]</pre></div></div></div><div class=\"sk-serial\"><div class=\"sk-item\"><div class=\"sk-estimator sk-toggleable\"><input class=\"sk-toggleable__control sk-hidden--visually\" id=\"sk-estimator-id-35\" type=\"checkbox\" ><label for=\"sk-estimator-id-35\" class=\"sk-toggleable__label sk-toggleable__label-arrow\">OneHotEncoder</label><div class=\"sk-toggleable__content\"><pre>OneHotEncoder(categories=[[&#x27;Cash loans&#x27;, &#x27;Revolving loans&#x27;], [&#x27;F&#x27;, &#x27;M&#x27;],\n",
       "                          [&#x27;N&#x27;, &#x27;Y&#x27;], [&#x27;Y&#x27;, &#x27;N&#x27;],\n",
       "                          [&#x27;Unaccompanied&#x27;, &#x27;Family&#x27;, &#x27;Spouse, partner&#x27;,\n",
       "                           &#x27;Children&#x27;, &#x27;Other_B&#x27;, &#x27;Other_A&#x27;,\n",
       "                           &#x27;Group of people&#x27;],\n",
       "                          [&#x27;Working&#x27;, &#x27;Commercial associate&#x27;, &#x27;Pensioner&#x27;,\n",
       "                           &#x27;State servant&#x27;, &#x27;Unemployed&#x27;, &#x27;Student&#x27;,\n",
       "                           &#x27;Businessman&#x27;, &#x27;Maternity leave&#x27;],\n",
       "                          [&#x27;Secondary / secondary special&#x27;, &#x27;Higher education&#x27;,\n",
       "                           &#x27;Incomple...\n",
       "                           &#x27;Other&#x27;, &#x27;Medicine&#x27;, &#x27;Business Entity Type 2&#x27;,\n",
       "                           &#x27;Government&#x27;, &#x27;School&#x27;, &#x27;Trade: type 7&#x27;,\n",
       "                           &#x27;Kindergarten&#x27;, &#x27;Construction&#x27;,\n",
       "                           &#x27;Business Entity Type 1&#x27;, &#x27;Transport: type 4&#x27;,\n",
       "                           &#x27;Trade: type 3&#x27;, &#x27;Industry: type 9&#x27;, &#x27;Security&#x27;,\n",
       "                           &#x27;Industry: type 3&#x27;, &#x27;Housing&#x27;, &#x27;Industry: type 11&#x27;,\n",
       "                           &#x27;Military&#x27;, &#x27;Bank&#x27;, &#x27;Agriculture&#x27;, &#x27;Police&#x27;,\n",
       "                           &#x27;Transport: type 2&#x27;, &#x27;Postal&#x27;, &#x27;Security Ministries&#x27;,\n",
       "                           &#x27;Trade: type 2&#x27;, &#x27;Restaurant&#x27;, &#x27;Services&#x27;,\n",
       "                           &#x27;Industry: type 7&#x27;, ...]])</pre></div></div></div></div></div></div><div class=\"sk-parallel-item\"><div class=\"sk-item\"><div class=\"sk-label-container\"><div class=\"sk-label sk-toggleable\"><input class=\"sk-toggleable__control sk-hidden--visually\" id=\"sk-estimator-id-36\" type=\"checkbox\" ><label for=\"sk-estimator-id-36\" class=\"sk-toggleable__label sk-toggleable__label-arrow\">remainder</label><div class=\"sk-toggleable__content\"><pre></pre></div></div></div><div class=\"sk-serial\"><div class=\"sk-item\"><div class=\"sk-estimator sk-toggleable\"><input class=\"sk-toggleable__control sk-hidden--visually\" id=\"sk-estimator-id-37\" type=\"checkbox\" ><label for=\"sk-estimator-id-37\" class=\"sk-toggleable__label sk-toggleable__label-arrow\">StandardScaler</label><div class=\"sk-toggleable__content\"><pre>StandardScaler()</pre></div></div></div></div></div></div></div></div><div class=\"sk-item sk-dashed-wrapped\"><div class=\"sk-label-container\"><div class=\"sk-label sk-toggleable\"><input class=\"sk-toggleable__control sk-hidden--visually\" id=\"sk-estimator-id-38\" type=\"checkbox\" ><label for=\"sk-estimator-id-38\" class=\"sk-toggleable__label sk-toggleable__label-arrow\">rfe: RFE</label><div class=\"sk-toggleable__content\"><pre>RFE(estimator=RidgeClassifierCV(alphas=(0.1, 1, 10, 50),\n",
       "                                class_weight=&#x27;balanced&#x27;, cv=3,\n",
       "                                scoring=&#x27;recall&#x27;),\n",
       "    step=10, verbose=5)</pre></div></div></div><div class=\"sk-parallel\"><div class=\"sk-parallel-item\"><div class=\"sk-item\"><div class=\"sk-label-container\"><div class=\"sk-label sk-toggleable\"><input class=\"sk-toggleable__control sk-hidden--visually\" id=\"sk-estimator-id-39\" type=\"checkbox\" ><label for=\"sk-estimator-id-39\" class=\"sk-toggleable__label sk-toggleable__label-arrow\">estimator: RidgeClassifierCV</label><div class=\"sk-toggleable__content\"><pre>RidgeClassifierCV(alphas=(0.1, 1, 10, 50), class_weight=&#x27;balanced&#x27;, cv=3,\n",
       "                  scoring=&#x27;recall&#x27;)</pre></div></div></div><div class=\"sk-serial\"><div class=\"sk-item\"><div class=\"sk-estimator sk-toggleable\"><input class=\"sk-toggleable__control sk-hidden--visually\" id=\"sk-estimator-id-40\" type=\"checkbox\" ><label for=\"sk-estimator-id-40\" class=\"sk-toggleable__label sk-toggleable__label-arrow\">RidgeClassifierCV</label><div class=\"sk-toggleable__content\"><pre>RidgeClassifierCV(alphas=(0.1, 1, 10, 50), class_weight=&#x27;balanced&#x27;, cv=3,\n",
       "                  scoring=&#x27;recall&#x27;)</pre></div></div></div></div></div></div></div></div></div></div></div></div></div></div></div></div></div>"
      ],
      "text/plain": [
       "GridSearchCV(estimator=Pipeline(steps=[('categ_scaler',\n",
       "                                        ColumnTransformer(remainder=StandardScaler(),\n",
       "                                                          transformers=[('one-hot-encoder',\n",
       "                                                                         OneHotEncoder(categories=[['Cash '\n",
       "                                                                                                    'loans',\n",
       "                                                                                                    'Revolving '\n",
       "                                                                                                    'loans'],\n",
       "                                                                                                   ['F',\n",
       "                                                                                                    'M'],\n",
       "                                                                                                   ['N',\n",
       "                                                                                                    'Y'],\n",
       "                                                                                                   ['Y',\n",
       "                                                                                                    'N'],\n",
       "                                                                                                   ['Unaccompanied',\n",
       "                                                                                                    'Family',\n",
       "                                                                                                    'Spouse, '\n",
       "                                                                                                    'partner',\n",
       "                                                                                                    'Children',\n",
       "                                                                                                    'Other_B',\n",
       "                                                                                                    'Other_A',\n",
       "                                                                                                    'Group '\n",
       "                                                                                                    'of '\n",
       "                                                                                                    'people'],\n",
       "                                                                                                   ['Working',\n",
       "                                                                                                    'Commercial '\n",
       "                                                                                                    'assoc...\n",
       "       'FLAG_OWN_REALTY', 'NAME_TYPE_SUITE', 'NAME_INCOME_TYPE',\n",
       "       'NAME_EDUCATION_TYPE', 'NAME_FAMILY_STATUS', 'NAME_HOUSING_TYPE',\n",
       "       'WEEKDAY_APPR_PROCESS_START', 'ORGANIZATION_TYPE'], dtype=object))],\n",
       "                                                          verbose=True)),\n",
       "                                       ('rfe',\n",
       "                                        RFE(estimator=RidgeClassifierCV(alphas=(0.1,\n",
       "                                                                                1,\n",
       "                                                                                10,\n",
       "                                                                                50),\n",
       "                                                                        class_weight='balanced',\n",
       "                                                                        cv=3,\n",
       "                                                                        scoring='recall'),\n",
       "                                            step=10, verbose=5))]),\n",
       "             n_jobs=1, param_grid={'rfe__n_features_to_select': [0.7]},\n",
       "             scoring='recall')"
      ]
     },
     "execution_count": 89,
     "metadata": {},
     "output_type": "execute_result"
    }
   ],
   "source": [
    "#pipel[1].estimator_.coef_ # pour avoir feature importance\n",
    "#\"Found unknown categories [7] in column 5 during transform\", while running with n_jobs=1\n",
    "param_grid =  {'rfe__n_features_to_select':[0.7]} #grid params with __ (0.3,3,30) #,0.8,0.9\n",
    "search = GridSearchCV(pipel, param_grid, n_jobs=1, scoring = 'recall', verbose = 3) \n",
    "search.fit(X_train.drop(['SK_ID_CURR'], axis =1), y_train) # 21 min pour un parametre dans le gridsearch et 4 parametres dans ridgeclassifier "
   ]
  },
  {
   "cell_type": "code",
   "execution_count": 122,
   "metadata": {},
   "outputs": [
    {
     "data": {
      "text/html": [
       "<style>#sk-container-id-11 {color: black;background-color: white;}#sk-container-id-11 pre{padding: 0;}#sk-container-id-11 div.sk-toggleable {background-color: white;}#sk-container-id-11 label.sk-toggleable__label {cursor: pointer;display: block;width: 100%;margin-bottom: 0;padding: 0.3em;box-sizing: border-box;text-align: center;}#sk-container-id-11 label.sk-toggleable__label-arrow:before {content: \"▸\";float: left;margin-right: 0.25em;color: #696969;}#sk-container-id-11 label.sk-toggleable__label-arrow:hover:before {color: black;}#sk-container-id-11 div.sk-estimator:hover label.sk-toggleable__label-arrow:before {color: black;}#sk-container-id-11 div.sk-toggleable__content {max-height: 0;max-width: 0;overflow: hidden;text-align: left;background-color: #f0f8ff;}#sk-container-id-11 div.sk-toggleable__content pre {margin: 0.2em;color: black;border-radius: 0.25em;background-color: #f0f8ff;}#sk-container-id-11 input.sk-toggleable__control:checked~div.sk-toggleable__content {max-height: 200px;max-width: 100%;overflow: auto;}#sk-container-id-11 input.sk-toggleable__control:checked~label.sk-toggleable__label-arrow:before {content: \"▾\";}#sk-container-id-11 div.sk-estimator input.sk-toggleable__control:checked~label.sk-toggleable__label {background-color: #d4ebff;}#sk-container-id-11 div.sk-label input.sk-toggleable__control:checked~label.sk-toggleable__label {background-color: #d4ebff;}#sk-container-id-11 input.sk-hidden--visually {border: 0;clip: rect(1px 1px 1px 1px);clip: rect(1px, 1px, 1px, 1px);height: 1px;margin: -1px;overflow: hidden;padding: 0;position: absolute;width: 1px;}#sk-container-id-11 div.sk-estimator {font-family: monospace;background-color: #f0f8ff;border: 1px dotted black;border-radius: 0.25em;box-sizing: border-box;margin-bottom: 0.5em;}#sk-container-id-11 div.sk-estimator:hover {background-color: #d4ebff;}#sk-container-id-11 div.sk-parallel-item::after {content: \"\";width: 100%;border-bottom: 1px solid gray;flex-grow: 1;}#sk-container-id-11 div.sk-label:hover label.sk-toggleable__label {background-color: #d4ebff;}#sk-container-id-11 div.sk-serial::before {content: \"\";position: absolute;border-left: 1px solid gray;box-sizing: border-box;top: 0;bottom: 0;left: 50%;z-index: 0;}#sk-container-id-11 div.sk-serial {display: flex;flex-direction: column;align-items: center;background-color: white;padding-right: 0.2em;padding-left: 0.2em;position: relative;}#sk-container-id-11 div.sk-item {position: relative;z-index: 1;}#sk-container-id-11 div.sk-parallel {display: flex;align-items: stretch;justify-content: center;background-color: white;position: relative;}#sk-container-id-11 div.sk-item::before, #sk-container-id-11 div.sk-parallel-item::before {content: \"\";position: absolute;border-left: 1px solid gray;box-sizing: border-box;top: 0;bottom: 0;left: 50%;z-index: -1;}#sk-container-id-11 div.sk-parallel-item {display: flex;flex-direction: column;z-index: 1;position: relative;background-color: white;}#sk-container-id-11 div.sk-parallel-item:first-child::after {align-self: flex-end;width: 50%;}#sk-container-id-11 div.sk-parallel-item:last-child::after {align-self: flex-start;width: 50%;}#sk-container-id-11 div.sk-parallel-item:only-child::after {width: 0;}#sk-container-id-11 div.sk-dashed-wrapped {border: 1px dashed gray;margin: 0 0.4em 0.5em 0.4em;box-sizing: border-box;padding-bottom: 0.4em;background-color: white;}#sk-container-id-11 div.sk-label label {font-family: monospace;font-weight: bold;display: inline-block;line-height: 1.2em;}#sk-container-id-11 div.sk-label-container {text-align: center;}#sk-container-id-11 div.sk-container {/* jupyter's `normalize.less` sets `[hidden] { display: none; }` but bootstrap.min.css set `[hidden] { display: none !important; }` so we also need the `!important` here to be able to override the default hidden behavior on the sphinx rendered scikit-learn.org. See: https://github.com/scikit-learn/scikit-learn/issues/21755 */display: inline-block !important;position: relative;}#sk-container-id-11 div.sk-text-repr-fallback {display: none;}</style><div id=\"sk-container-id-11\" class=\"sk-top-container\"><div class=\"sk-text-repr-fallback\"><pre>RidgeClassifierCV(alphas=(0.1, 1, 10, 50), class_weight=&#x27;balanced&#x27;, cv=3,\n",
       "                  scoring=&#x27;recall&#x27;)</pre><b>In a Jupyter environment, please rerun this cell to show the HTML representation or trust the notebook. <br />On GitHub, the HTML representation is unable to render, please try loading this page with nbviewer.org.</b></div><div class=\"sk-container\" hidden><div class=\"sk-item\"><div class=\"sk-estimator sk-toggleable\"><input class=\"sk-toggleable__control sk-hidden--visually\" id=\"sk-estimator-id-53\" type=\"checkbox\" checked><label for=\"sk-estimator-id-53\" class=\"sk-toggleable__label sk-toggleable__label-arrow\">RidgeClassifierCV</label><div class=\"sk-toggleable__content\"><pre>RidgeClassifierCV(alphas=(0.1, 1, 10, 50), class_weight=&#x27;balanced&#x27;, cv=3,\n",
       "                  scoring=&#x27;recall&#x27;)</pre></div></div></div></div></div>"
      ],
      "text/plain": [
       "RidgeClassifierCV(alphas=(0.1, 1, 10, 50), class_weight='balanced', cv=3,\n",
       "                  scoring='recall')"
      ]
     },
     "execution_count": 122,
     "metadata": {},
     "output_type": "execute_result"
    }
   ],
   "source": [
    "search.best_estimator_.steps[1][1].estimator"
   ]
  },
  {
   "cell_type": "code",
   "execution_count": 126,
   "metadata": {},
   "outputs": [
    {
     "data": {
      "text/plain": [
       "{'categ_scaler': ColumnTransformer(remainder=StandardScaler(),\n",
       "                   transformers=[('one-hot-encoder',\n",
       "                                  OneHotEncoder(categories=[['Cash loans',\n",
       "                                                             'Revolving loans'],\n",
       "                                                            ['F', 'M'],\n",
       "                                                            ['N', 'Y'],\n",
       "                                                            ['Y', 'N'],\n",
       "                                                            ['Unaccompanied',\n",
       "                                                             'Family',\n",
       "                                                             'Spouse, partner',\n",
       "                                                             'Children',\n",
       "                                                             'Other_B',\n",
       "                                                             'Other_A',\n",
       "                                                             'Group of people'],\n",
       "                                                            ['Working',\n",
       "                                                             'Commercial '\n",
       "                                                             'associate',\n",
       "                                                             'Pensioner',\n",
       "                                                             'State servant',\n",
       "                                                             'Unemployed',\n",
       "                                                             'Student',\n",
       "                                                             'Business...\n",
       "                                                             'Transport: type 2',\n",
       "                                                             'Postal',\n",
       "                                                             'Security '\n",
       "                                                             'Ministries',\n",
       "                                                             'Trade: type 2',\n",
       "                                                             'Restaurant',\n",
       "                                                             'Services',\n",
       "                                                             'Industry: type 7', ...]]),\n",
       "                                  array(['NAME_CONTRACT_TYPE', 'CODE_GENDER', 'FLAG_OWN_CAR',\n",
       "        'FLAG_OWN_REALTY', 'NAME_TYPE_SUITE', 'NAME_INCOME_TYPE',\n",
       "        'NAME_EDUCATION_TYPE', 'NAME_FAMILY_STATUS', 'NAME_HOUSING_TYPE',\n",
       "        'WEEKDAY_APPR_PROCESS_START', 'ORGANIZATION_TYPE'], dtype=object))],\n",
       "                   verbose=True),\n",
       " 'rfe': RFE(estimator=RidgeClassifierCV(alphas=(0.1, 1, 10, 50),\n",
       "                                 class_weight='balanced', cv=3,\n",
       "                                 scoring='recall'),\n",
       "     n_features_to_select=0.7, step=10, verbose=5)}"
      ]
     },
     "execution_count": 126,
     "metadata": {},
     "output_type": "execute_result"
    }
   ],
   "source": [
    "search.best_estimator_.named_steps"
   ]
  },
  {
   "cell_type": "code",
   "execution_count": 132,
   "metadata": {},
   "outputs": [
    {
     "data": {
      "text/plain": [
       "['alphas',\n",
       " 'fit_intercept',\n",
       " 'scoring',\n",
       " 'cv',\n",
       " 'gcv_mode',\n",
       " 'store_cv_values',\n",
       " 'alpha_per_target',\n",
       " 'class_weight',\n",
       " '__module__',\n",
       " '__annotations__',\n",
       " '__doc__',\n",
       " '_parameter_constraints',\n",
       " 'param',\n",
       " '__init__',\n",
       " 'fit',\n",
       " '_more_tags',\n",
       " '__abstractmethods__',\n",
       " '_abc_impl',\n",
       " '_prepare_data',\n",
       " 'predict',\n",
       " 'classes_',\n",
       " 'decision_function',\n",
       " '_predict_proba_lr',\n",
       " '_estimator_type',\n",
       " 'score',\n",
       " '__dict__',\n",
       " '__weakref__',\n",
       " '__repr__',\n",
       " '__hash__',\n",
       " '__str__',\n",
       " '__getattribute__',\n",
       " '__setattr__',\n",
       " '__delattr__',\n",
       " '__lt__',\n",
       " '__le__',\n",
       " '__eq__',\n",
       " '__ne__',\n",
       " '__gt__',\n",
       " '__ge__',\n",
       " '__new__',\n",
       " '__reduce_ex__',\n",
       " '__reduce__',\n",
       " '__subclasshook__',\n",
       " '__init_subclass__',\n",
       " '__format__',\n",
       " '__sizeof__',\n",
       " '__dir__',\n",
       " '__class__',\n",
       " '_decision_function',\n",
       " '_set_intercept',\n",
       " '_get_param_names',\n",
       " 'get_params',\n",
       " 'set_params',\n",
       " '__getstate__',\n",
       " '__setstate__',\n",
       " '_get_tags',\n",
       " '_check_n_features',\n",
       " '_check_feature_names',\n",
       " '_validate_data',\n",
       " '_validate_params',\n",
       " '_repr_html_',\n",
       " '_repr_html_inner',\n",
       " '_repr_mimebundle_']"
      ]
     },
     "execution_count": 132,
     "metadata": {},
     "output_type": "execute_result"
    }
   ],
   "source": [
    "search.best_estimator_[1].estimator.__dir__()"
   ]
  },
  {
   "cell_type": "code",
   "execution_count": 174,
   "metadata": {},
   "outputs": [
    {
     "data": {
      "text/plain": [
       "array([[-8.23943652e-02,  8.23943651e-02,  5.62116781e-02,\n",
       "        -5.62116781e-02, -3.79727739e-02,  5.47800436e-02,\n",
       "         4.09120540e-02,  4.10371357e-01,  3.66271873e-01,\n",
       "        -1.27737959e+00,  3.60426989e-01, -2.58802053e-01,\n",
       "        -2.01563566e-01,  2.27395839e-02,  5.77935407e-01,\n",
       "         1.51291170e-01,  4.30709365e-02,  2.22971702e-01,\n",
       "        -3.51445466e-01, -6.99003420e-04,  4.74872208e-02,\n",
       "         7.01240401e-02,  6.51966109e-02, -2.54697953e-02,\n",
       "         5.94149554e-02,  5.15010788e-02, -5.67092769e-02,\n",
       "        -1.65821961e-02, -3.47124689e-02, -2.85216929e-02,\n",
       "        -4.71231278e-02,  2.13807299e-01, -1.95299258e+00,\n",
       "         2.38776162e-01,  1.57206431e-01,  1.29754981e-01,\n",
       "         1.76260211e-01,  1.24010116e-01,  9.11443078e-02,\n",
       "         2.05525659e-01,  1.60418161e-01,  2.77705528e-01,\n",
       "         1.58644981e-01,  2.23195303e-01,  2.58884224e-01,\n",
       "         2.02331048e-01,  2.30115212e-01,  1.55594015e-01,\n",
       "         2.15981400e-01,  1.01002904e-01,  2.59523509e-01,\n",
       "         5.83043317e-02,  1.20072958e-01,  2.33194359e-01,\n",
       "        -5.89955926e-02, -2.33262584e-02,  2.56203769e-01,\n",
       "         1.43058038e-01,  9.34629760e-02,  1.29908525e-01,\n",
       "         4.44004331e-01,  1.86665157e-01,  7.92126222e-02,\n",
       "         8.16180438e-02,  2.09590432e-01,  2.41656222e-01,\n",
       "         5.01559628e-02,  4.07238343e-02,  2.25702151e-01,\n",
       "         1.40552989e-01,  1.55983103e-01,  1.29976421e-01,\n",
       "         3.93629207e-01,  1.54831652e-01,  2.39767343e-01,\n",
       "         2.66808929e-01,  2.31550357e-01,  2.42030469e-01,\n",
       "         8.14981122e-02,  1.60549989e-01,  6.81379375e-02,\n",
       "         4.39943310e-02, -4.71326688e-02, -3.61517438e-01,\n",
       "        -1.33343124e-01,  2.71302336e-01,  4.03897348e-01,\n",
       "         5.94927036e-02, -4.47252129e-01,  3.75884963e-02,\n",
       "         1.84954419e+00,  1.50277776e-02,  3.18921044e-02,\n",
       "         4.01458144e-01,  2.63003095e-02, -1.86500333e-02,\n",
       "         5.97574113e-02,  2.63698789e-02, -1.65037848e-02,\n",
       "         1.83193714e-02, -1.69127237e-01, -2.01277081e-01,\n",
       "         7.93747160e-02,  1.85499053e-02, -7.71164966e-02,\n",
       "         1.71810765e-02,  2.90770422e-02,  5.17035548e-02,\n",
       "         2.44301316e-02, -1.83760348e-02, -1.69015806e-02,\n",
       "        -2.32821799e-02, -1.87547942e-02, -1.62380590e-02]])"
      ]
     },
     "execution_count": 174,
     "metadata": {},
     "output_type": "execute_result"
    }
   ],
   "source": [
    "search.best_estimator_.steps[1][1].estimator_.coef_"
   ]
  },
  {
   "cell_type": "code",
   "execution_count": 90,
   "metadata": {},
   "outputs": [
    {
     "data": {
      "text/plain": [
       "{'mean_fit_time': array([203.99719629]),\n",
       " 'std_fit_time': array([13.04841595]),\n",
       " 'mean_score_time': array([1.39802284]),\n",
       " 'std_score_time': array([0.12961348]),\n",
       " 'param_rfe__n_features_to_select': masked_array(data=[0.7],\n",
       "              mask=[False],\n",
       "        fill_value='?',\n",
       "             dtype=object),\n",
       " 'params': [{'rfe__n_features_to_select': 0.7}],\n",
       " 'split0_test_score': array([0.66484465]),\n",
       " 'split1_test_score': array([0.6551625]),\n",
       " 'split2_test_score': array([0.66637906]),\n",
       " 'split3_test_score': array([0.67788323]),\n",
       " 'split4_test_score': array([0.6769275]),\n",
       " 'mean_test_score': array([0.66823939]),\n",
       " 'std_test_score': array([0.00841994]),\n",
       " 'rank_test_score': array([1])}"
      ]
     },
     "execution_count": 90,
     "metadata": {},
     "output_type": "execute_result"
    }
   ],
   "source": [
    "search.cv_results_"
   ]
  },
  {
   "cell_type": "code",
   "execution_count": 93,
   "metadata": {},
   "outputs": [
    {
     "data": {
      "text/plain": [
       "'http://127.0.0.1:5000'"
      ]
     },
     "execution_count": 93,
     "metadata": {},
     "output_type": "execute_result"
    }
   ],
   "source": [
    "mlflow.get_tracking_uri()"
   ]
  },
  {
   "attachments": {},
   "cell_type": "markdown",
   "metadata": {},
   "source": [
    "Mlflow"
   ]
  },
  {
   "cell_type": "code",
   "execution_count": 92,
   "metadata": {},
   "outputs": [],
   "source": [
    "mlflow.set_tracking_uri('http://127.0.0.1:5000') # changé de 5000"
   ]
  },
  {
   "cell_type": "code",
   "execution_count": 95,
   "metadata": {},
   "outputs": [
    {
     "data": {
      "text/plain": [
       "{'mean_fit_time': array([203.99719629]),\n",
       " 'std_fit_time': array([13.04841595]),\n",
       " 'mean_score_time': array([1.39802284]),\n",
       " 'std_score_time': array([0.12961348]),\n",
       " 'param_rfe__n_features_to_select': masked_array(data=[0.7],\n",
       "              mask=[False],\n",
       "        fill_value='?',\n",
       "             dtype=object),\n",
       " 'params': [{'rfe__n_features_to_select': 0.7}],\n",
       " 'split0_test_score': array([0.66484465]),\n",
       " 'split1_test_score': array([0.6551625]),\n",
       " 'split2_test_score': array([0.66637906]),\n",
       " 'split3_test_score': array([0.67788323]),\n",
       " 'split4_test_score': array([0.6769275]),\n",
       " 'mean_test_score': array([0.66823939]),\n",
       " 'std_test_score': array([0.00841994]),\n",
       " 'rank_test_score': array([1])}"
      ]
     },
     "execution_count": 95,
     "metadata": {},
     "output_type": "execute_result"
    }
   ],
   "source": [
    "search.cv_results_"
   ]
  },
  {
   "cell_type": "code",
   "execution_count": 104,
   "metadata": {},
   "outputs": [
    {
     "name": "stdout",
     "output_type": "stream",
     "text": [
      "Logging parameters\n",
      "Logging metrics\n",
      "Logging model\n"
     ]
    }
   ],
   "source": [
    "mlflow.set_experiment(\"Pipeline + Gridsearch\") #Set the given experiment as the active experiment. The experiment must either be specified by name via experiment_name \n",
    "for i in range(len(search.cv_results_['params'])): # search remplace log_reg\n",
    "    run_index = i\n",
    "    cv_results = search.cv_results_\n",
    "    with mlflow.start_run(run_name=str(run_index)) as run:  \n",
    "            mlflow.log_param(\"folds\", search.cv)\n",
    "            print(\"Logging parameters\")\n",
    "            params = list(search.param_grid.keys())\n",
    "            for param in params:\n",
    "                mlflow.log_param(param, cv_results[\"param_%s\" % param][run_index])\n",
    "            print(\"Logging metrics\")\n",
    "            for score_name in [score for score in cv_results if \"mean_test\" in score]:\n",
    "                mlflow.log_metric(score_name, cv_results[score_name][run_index])\n",
    "                mlflow.log_metric(score_name.replace(\"mean\",\"std\"), cv_results[score_name.replace(\"mean\",\"std\")][run_index])\n",
    "            print(\"Logging model\")        \n",
    "            mlflow.sklearn.log_model(search.best_estimator_, 'Ridge_classifier_CV')#cv_results[score_name.replace(\"mean\",\"std\")][run_index]"
   ]
  },
  {
   "cell_type": "code",
   "execution_count": 175,
   "metadata": {},
   "outputs": [],
   "source": [
    "pickle_out = open(\"pipel_3.pkl\",\"wb\") # avec one hot encoder scaler et rfe , prochaine version avec 0.7,0.8,0.9\n",
    "pickle.dump(search.best_estimator_,pickle_out)\n",
    "pickle_out.close()"
   ]
  },
  {
   "attachments": {},
   "cell_type": "markdown",
   "metadata": {},
   "source": [
    "Import du modele qu'on a exporté pour tester"
   ]
  },
  {
   "cell_type": "code",
   "execution_count": 181,
   "metadata": {},
   "outputs": [
    {
     "data": {
      "text/html": [
       "<div>\n",
       "<style scoped>\n",
       "    .dataframe tbody tr th:only-of-type {\n",
       "        vertical-align: middle;\n",
       "    }\n",
       "\n",
       "    .dataframe tbody tr th {\n",
       "        vertical-align: top;\n",
       "    }\n",
       "\n",
       "    .dataframe thead th {\n",
       "        text-align: right;\n",
       "    }\n",
       "</style>\n",
       "<table border=\"1\" class=\"dataframe\">\n",
       "  <thead>\n",
       "    <tr style=\"text-align: right;\">\n",
       "      <th></th>\n",
       "      <th>SK_ID_CURR</th>\n",
       "      <th>NAME_CONTRACT_TYPE</th>\n",
       "      <th>CODE_GENDER</th>\n",
       "      <th>FLAG_OWN_CAR</th>\n",
       "      <th>FLAG_OWN_REALTY</th>\n",
       "      <th>CNT_CHILDREN</th>\n",
       "      <th>AMT_INCOME_TOTAL</th>\n",
       "      <th>AMT_CREDIT</th>\n",
       "      <th>AMT_ANNUITY</th>\n",
       "      <th>AMT_GOODS_PRICE</th>\n",
       "      <th>...</th>\n",
       "      <th>FLAG_DOCUMENT_18</th>\n",
       "      <th>FLAG_DOCUMENT_19</th>\n",
       "      <th>FLAG_DOCUMENT_20</th>\n",
       "      <th>FLAG_DOCUMENT_21</th>\n",
       "      <th>AMT_REQ_CREDIT_BUREAU_HOUR</th>\n",
       "      <th>AMT_REQ_CREDIT_BUREAU_DAY</th>\n",
       "      <th>AMT_REQ_CREDIT_BUREAU_WEEK</th>\n",
       "      <th>AMT_REQ_CREDIT_BUREAU_MON</th>\n",
       "      <th>AMT_REQ_CREDIT_BUREAU_QRT</th>\n",
       "      <th>AMT_REQ_CREDIT_BUREAU_YEAR</th>\n",
       "    </tr>\n",
       "  </thead>\n",
       "  <tbody>\n",
       "    <tr>\n",
       "      <th>232927</th>\n",
       "      <td>369780</td>\n",
       "      <td>Cash loans</td>\n",
       "      <td>F</td>\n",
       "      <td>N</td>\n",
       "      <td>Y</td>\n",
       "      <td>2</td>\n",
       "      <td>72000.0</td>\n",
       "      <td>198666.0</td>\n",
       "      <td>15696.0</td>\n",
       "      <td>175500.0</td>\n",
       "      <td>...</td>\n",
       "      <td>0</td>\n",
       "      <td>0</td>\n",
       "      <td>0</td>\n",
       "      <td>0</td>\n",
       "      <td>0.0</td>\n",
       "      <td>0.0</td>\n",
       "      <td>0.0</td>\n",
       "      <td>0.0</td>\n",
       "      <td>0.0</td>\n",
       "      <td>1.0</td>\n",
       "    </tr>\n",
       "  </tbody>\n",
       "</table>\n",
       "<p>1 rows × 71 columns</p>\n",
       "</div>"
      ],
      "text/plain": [
       "       SK_ID_CURR NAME_CONTRACT_TYPE CODE_GENDER FLAG_OWN_CAR FLAG_OWN_REALTY  \\\n",
       "232927     369780         Cash loans           F            N               Y   \n",
       "\n",
       "       CNT_CHILDREN AMT_INCOME_TOTAL AMT_CREDIT AMT_ANNUITY AMT_GOODS_PRICE  \\\n",
       "232927            2          72000.0   198666.0     15696.0        175500.0   \n",
       "\n",
       "        ... FLAG_DOCUMENT_18 FLAG_DOCUMENT_19 FLAG_DOCUMENT_20  \\\n",
       "232927  ...                0                0                0   \n",
       "\n",
       "       FLAG_DOCUMENT_21 AMT_REQ_CREDIT_BUREAU_HOUR AMT_REQ_CREDIT_BUREAU_DAY  \\\n",
       "232927                0                        0.0                       0.0   \n",
       "\n",
       "       AMT_REQ_CREDIT_BUREAU_WEEK AMT_REQ_CREDIT_BUREAU_MON  \\\n",
       "232927                        0.0                       0.0   \n",
       "\n",
       "       AMT_REQ_CREDIT_BUREAU_QRT AMT_REQ_CREDIT_BUREAU_YEAR  \n",
       "232927                       0.0                        1.0  \n",
       "\n",
       "[1 rows x 71 columns]"
      ]
     },
     "execution_count": 181,
     "metadata": {},
     "output_type": "execute_result"
    }
   ],
   "source": [
    "pd.DataFrame(X_test.iloc[0,:]).transpose()"
   ]
  },
  {
   "cell_type": "code",
   "execution_count": 182,
   "metadata": {},
   "outputs": [
    {
     "data": {
      "text/plain": [
       "array([0], dtype=int64)"
      ]
     },
     "execution_count": 182,
     "metadata": {},
     "output_type": "execute_result"
    }
   ],
   "source": [
    "pickle_in = open(\"pipel_3.pkl\",\"rb\") #notre pipeline importé\n",
    "classifier_test=pickle.load(pickle_in) #chargé dans une variable\n",
    "classifier_test.predict(pd.DataFrame(X_test.iloc[0,:]).transpose())#X_test.loc[0,:] pd.DataFrame(X_test.iloc[0,:]).transpose()"
   ]
  },
  {
   "attachments": {},
   "cell_type": "markdown",
   "metadata": {},
   "source": [
    "Feature importance"
   ]
  },
  {
   "cell_type": "markdown",
   "metadata": {},
   "source": [
    "#au lieu d'avoir une series permet d'avoir un format dataframe comme attendue par standardscaler\n",
    "pd.DataFrame(X_train.iloc[0,:]).transpose()"
   ]
  },
  {
   "attachments": {},
   "cell_type": "markdown",
   "metadata": {},
   "source": [
    "tuto à suivre pour améliorer bokeh"
   ]
  },
  {
   "attachments": {},
   "cell_type": "markdown",
   "metadata": {},
   "source": [
    "https://trenton3983.github.io/files/projects/2020-03-15_interactive_data_visualization_with_bokeh/2020-03-15_interactive_data_visualization_with_bokeh.html"
   ]
  },
  {
   "cell_type": "code",
   "execution_count": null,
   "metadata": {},
   "outputs": [],
   "source": [
    "# sorting the bars means sorting the range factors\n",
    "sorted_fruits = sorted(cols, key=lambda x: feat_i[cols.to_list().index(x)])\n",
    "#x_range=sorted_fruits\n",
    "\n",
    "p = figure(x_range=sorted_fruits, height=350, title=\"Feature_importance\",\n",
    "           tools='pan,box_zoom,reset')\n",
    "\n",
    "p.vbar(x=cols.values, top=feat_i, width=0.9)\n",
    "\n",
    "p.xaxis.major_label_orientation = \"vertical\"\n",
    "p.axis.major_label_standoff  = 5 # distance entre les labels x et la visualisation\n",
    "\n",
    "#p.xgrid.grid_line_color = None\n",
    "p.y_range.start = 0\n",
    "\n",
    "show(p)"
   ]
  },
  {
   "attachments": {},
   "cell_type": "markdown",
   "metadata": {},
   "source": [
    "https://docs.bokeh.org/en/latest/docs/user_guide/plotting.html"
   ]
  },
  {
   "attachments": {
    "image.png": {
     "image/png": "[encoded data removed]"
    }
   },
   "cell_type": "markdown",
   "metadata": {},
   "source": [
    "![image.png](attachment:image.png)"
   ]
  }
 ],
 "metadata": {
  "kernelspec": {
   "display_name": ".venv",
   "language": "python",
   "name": "python3"
  },
  "language_info": {
   "codemirror_mode": {
    "name": "ipython",
    "version": 3
   },
   "file_extension": ".py",
   "mimetype": "text/x-python",
   "name": "python",
   "nbconvert_exporter": "python",
   "pygments_lexer": "ipython3",
   "version": "3.9.13"
  },
  "orig_nbformat": 4,
  "vscode": {
   "interpreter": {
    "hash": "2d2d9aa71f1703c75bc3be39a6f8ddbf6c36aca69f388de4b317d86743ee94c3"
   }
  }
 },
 "nbformat": 4,
 "nbformat_minor": 2
}
