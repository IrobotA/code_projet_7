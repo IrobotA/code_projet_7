{
 "cells": [
  {
   "cell_type": "code",
   "execution_count": 381,
   "metadata": {},
   "outputs": [],
   "source": [
    "from sklearn.preprocessing import StandardScaler\n",
    "from sklearn.pipeline import Pipeline\n",
    "from sklearn.model_selection import train_test_split\n",
    "from sklearn.feature_selection import RFE # wrapper method pour choisir les features\n",
    "from sklearn.linear_model import RidgeClassifierCV\n",
    "\n",
    "from sklearn.preprocessing import OneHotEncoder\n",
    "import pickle\n",
    "\n",
    "import pandas as pd\n",
    "import numpy as np\n",
    "import mlflow\n",
    "import mlflow.sklearn\n",
    "#from mlflow.models.signature import infer_signature\n",
    "\n",
    "#Export new_df_test => sera utilisé pour la prédiction du modele avec fastapi\n"
   ]
  },
  {
   "cell_type": "code",
   "execution_count": 333,
   "metadata": {},
   "outputs": [],
   "source": [
    "df_train= pd.read_feather(\"../../datasets/train_2.feather\")\n",
    "df_test = pd.read_feather(\"../../datasets/test_2.feather\")\n",
    "df_train.drop(df_train[df_train['CODE_GENDER']=='XNA'].index,axis=0, inplace = True)\n",
    "#df_train.shape #confirmation de la suppression des 4 lignes"
   ]
  },
  {
   "cell_type": "code",
   "execution_count": 334,
   "metadata": {},
   "outputs": [
    {
     "name": "stdout",
     "output_type": "stream",
     "text": [
      "AMT_ANNUITY float64\n",
      "AMT_GOODS_PRICE float64\n",
      "NAME_TYPE_SUITE object\n",
      "CNT_FAM_MEMBERS float64\n",
      "EXT_SOURCE_2 float64\n",
      "EXT_SOURCE_3 float64\n",
      "OBS_30_CNT_SOCIAL_CIRCLE float64\n",
      "DEF_30_CNT_SOCIAL_CIRCLE float64\n",
      "OBS_60_CNT_SOCIAL_CIRCLE float64\n",
      "DEF_60_CNT_SOCIAL_CIRCLE float64\n",
      "DAYS_LAST_PHONE_CHANGE float64\n",
      "AMT_REQ_CREDIT_BUREAU_HOUR float64\n",
      "AMT_REQ_CREDIT_BUREAU_DAY float64\n",
      "AMT_REQ_CREDIT_BUREAU_WEEK float64\n",
      "AMT_REQ_CREDIT_BUREAU_MON float64\n",
      "AMT_REQ_CREDIT_BUREAU_QRT float64\n",
      "AMT_REQ_CREDIT_BUREAU_YEAR float64\n"
     ]
    },
    {
     "data": {
      "text/plain": [
       "1292"
      ]
     },
     "execution_count": 334,
     "metadata": {},
     "output_type": "execute_result"
    }
   ],
   "source": [
    "for col_na in df_train.isna().sum()[df_train.isna().sum() > 0 ].index: \n",
    "    print(col_na,df_train[col_na].dtype)\n",
    "    if df_train[col_na].dtype =='object':\n",
    "        df_train[col_na] = df_train[col_na].fillna(df_train[col_na].mode()) # var categ val mqte => mot le plus fréquent\n",
    "    else :\n",
    "        df_train[col_na] = df_train[col_na].fillna(df_train[col_na].median()) # val mqtes => mediane\n",
    "df_train.isna().sum().sum()"
   ]
  },
  {
   "cell_type": "code",
   "execution_count": 335,
   "metadata": {},
   "outputs": [],
   "source": [
    "X_train,X_test,y_train,y_test = train_test_split(df_train.drop(['TARGET'], axis =1),\n",
    "                                                 df_train['TARGET'],\n",
    "                                                test_size=0.3,\n",
    "                                                random_state=42)\n",
    "\n"
   ]
  },
  {
   "attachments": {},
   "cell_type": "markdown",
   "metadata": {},
   "source": [
    "Nombre optimal de features avec RFE => recursive feature elimination"
   ]
  },
  {
   "cell_type": "markdown",
   "metadata": {},
   "source": [
    "#https://machinelearningmastery.com/rfe-feature-selection-in-python/\n",
    "rfe_selector = RFE(estimator = RidgeClassifierCV(),n_features_to_select=70, step=10, verbose = 5)\n",
    "rfe_selector"
   ]
  },
  {
   "cell_type": "markdown",
   "metadata": {},
   "source": [
    "rfe_selector.fit(X_tr_scaled,y_train) #sur données mise à l'échelle\n",
    "rfe_support = rfe_selector.get_support()\n",
    "rfe_feature = X_train.loc[:,rfe_support].columns.to_list()\n",
    "print(str(len(rfe_feature)),'selected features')"
   ]
  },
  {
   "cell_type": "markdown",
   "metadata": {},
   "source": [
    "Pipeline"
   ]
  },
  {
   "cell_type": "code",
   "execution_count": 365,
   "metadata": {},
   "outputs": [],
   "source": [
    "from sklearn.model_selection import GridSearchCV\n",
    "from sklearn.compose import ColumnTransformer\n",
    "import mlflow.sklearn\n",
    "#from mlflow.models.signature import infer_signature"
   ]
  },
  {
   "cell_type": "code",
   "execution_count": 366,
   "metadata": {},
   "outputs": [
    {
     "data": {
      "text/html": [
       "<style>#sk-container-id-8 {color: black;background-color: white;}#sk-container-id-8 pre{padding: 0;}#sk-container-id-8 div.sk-toggleable {background-color: white;}#sk-container-id-8 label.sk-toggleable__label {cursor: pointer;display: block;width: 100%;margin-bottom: 0;padding: 0.3em;box-sizing: border-box;text-align: center;}#sk-container-id-8 label.sk-toggleable__label-arrow:before {content: \"▸\";float: left;margin-right: 0.25em;color: #696969;}#sk-container-id-8 label.sk-toggleable__label-arrow:hover:before {color: black;}#sk-container-id-8 div.sk-estimator:hover label.sk-toggleable__label-arrow:before {color: black;}#sk-container-id-8 div.sk-toggleable__content {max-height: 0;max-width: 0;overflow: hidden;text-align: left;background-color: #f0f8ff;}#sk-container-id-8 div.sk-toggleable__content pre {margin: 0.2em;color: black;border-radius: 0.25em;background-color: #f0f8ff;}#sk-container-id-8 input.sk-toggleable__control:checked~div.sk-toggleable__content {max-height: 200px;max-width: 100%;overflow: auto;}#sk-container-id-8 input.sk-toggleable__control:checked~label.sk-toggleable__label-arrow:before {content: \"▾\";}#sk-container-id-8 div.sk-estimator input.sk-toggleable__control:checked~label.sk-toggleable__label {background-color: #d4ebff;}#sk-container-id-8 div.sk-label input.sk-toggleable__control:checked~label.sk-toggleable__label {background-color: #d4ebff;}#sk-container-id-8 input.sk-hidden--visually {border: 0;clip: rect(1px 1px 1px 1px);clip: rect(1px, 1px, 1px, 1px);height: 1px;margin: -1px;overflow: hidden;padding: 0;position: absolute;width: 1px;}#sk-container-id-8 div.sk-estimator {font-family: monospace;background-color: #f0f8ff;border: 1px dotted black;border-radius: 0.25em;box-sizing: border-box;margin-bottom: 0.5em;}#sk-container-id-8 div.sk-estimator:hover {background-color: #d4ebff;}#sk-container-id-8 div.sk-parallel-item::after {content: \"\";width: 100%;border-bottom: 1px solid gray;flex-grow: 1;}#sk-container-id-8 div.sk-label:hover label.sk-toggleable__label {background-color: #d4ebff;}#sk-container-id-8 div.sk-serial::before {content: \"\";position: absolute;border-left: 1px solid gray;box-sizing: border-box;top: 0;bottom: 0;left: 50%;z-index: 0;}#sk-container-id-8 div.sk-serial {display: flex;flex-direction: column;align-items: center;background-color: white;padding-right: 0.2em;padding-left: 0.2em;position: relative;}#sk-container-id-8 div.sk-item {position: relative;z-index: 1;}#sk-container-id-8 div.sk-parallel {display: flex;align-items: stretch;justify-content: center;background-color: white;position: relative;}#sk-container-id-8 div.sk-item::before, #sk-container-id-8 div.sk-parallel-item::before {content: \"\";position: absolute;border-left: 1px solid gray;box-sizing: border-box;top: 0;bottom: 0;left: 50%;z-index: -1;}#sk-container-id-8 div.sk-parallel-item {display: flex;flex-direction: column;z-index: 1;position: relative;background-color: white;}#sk-container-id-8 div.sk-parallel-item:first-child::after {align-self: flex-end;width: 50%;}#sk-container-id-8 div.sk-parallel-item:last-child::after {align-self: flex-start;width: 50%;}#sk-container-id-8 div.sk-parallel-item:only-child::after {width: 0;}#sk-container-id-8 div.sk-dashed-wrapped {border: 1px dashed gray;margin: 0 0.4em 0.5em 0.4em;box-sizing: border-box;padding-bottom: 0.4em;background-color: white;}#sk-container-id-8 div.sk-label label {font-family: monospace;font-weight: bold;display: inline-block;line-height: 1.2em;}#sk-container-id-8 div.sk-label-container {text-align: center;}#sk-container-id-8 div.sk-container {/* jupyter's `normalize.less` sets `[hidden] { display: none; }` but bootstrap.min.css set `[hidden] { display: none !important; }` so we also need the `!important` here to be able to override the default hidden behavior on the sphinx rendered scikit-learn.org. See: https://github.com/scikit-learn/scikit-learn/issues/21755 */display: inline-block !important;position: relative;}#sk-container-id-8 div.sk-text-repr-fallback {display: none;}</style><div id=\"sk-container-id-8\" class=\"sk-top-container\"><div class=\"sk-text-repr-fallback\"><pre>ColumnTransformer(remainder=&#x27;passthrough&#x27;,\n",
       "                  transformers=[(&#x27;one-hot-encoder&#x27;, OneHotEncoder(),\n",
       "                                 [&#x27;NAME_CONTRACT_TYPE&#x27;, &#x27;CODE_GENDER&#x27;,\n",
       "                                  &#x27;FLAG_OWN_CAR&#x27;, &#x27;FLAG_OWN_REALTY&#x27;,\n",
       "                                  &#x27;NAME_TYPE_SUITE&#x27;, &#x27;NAME_INCOME_TYPE&#x27;,\n",
       "                                  &#x27;NAME_EDUCATION_TYPE&#x27;, &#x27;NAME_FAMILY_STATUS&#x27;,\n",
       "                                  &#x27;NAME_HOUSING_TYPE&#x27;,\n",
       "                                  &#x27;WEEKDAY_APPR_PROCESS_START&#x27;,\n",
       "                                  &#x27;ORGANIZATION_TYPE&#x27;])])</pre><b>In a Jupyter environment, please rerun this cell to show the HTML representation or trust the notebook. <br />On GitHub, the HTML representation is unable to render, please try loading this page with nbviewer.org.</b></div><div class=\"sk-container\" hidden><div class=\"sk-item sk-dashed-wrapped\"><div class=\"sk-label-container\"><div class=\"sk-label sk-toggleable\"><input class=\"sk-toggleable__control sk-hidden--visually\" id=\"sk-estimator-id-17\" type=\"checkbox\" ><label for=\"sk-estimator-id-17\" class=\"sk-toggleable__label sk-toggleable__label-arrow\">ColumnTransformer</label><div class=\"sk-toggleable__content\"><pre>ColumnTransformer(remainder=&#x27;passthrough&#x27;,\n",
       "                  transformers=[(&#x27;one-hot-encoder&#x27;, OneHotEncoder(),\n",
       "                                 [&#x27;NAME_CONTRACT_TYPE&#x27;, &#x27;CODE_GENDER&#x27;,\n",
       "                                  &#x27;FLAG_OWN_CAR&#x27;, &#x27;FLAG_OWN_REALTY&#x27;,\n",
       "                                  &#x27;NAME_TYPE_SUITE&#x27;, &#x27;NAME_INCOME_TYPE&#x27;,\n",
       "                                  &#x27;NAME_EDUCATION_TYPE&#x27;, &#x27;NAME_FAMILY_STATUS&#x27;,\n",
       "                                  &#x27;NAME_HOUSING_TYPE&#x27;,\n",
       "                                  &#x27;WEEKDAY_APPR_PROCESS_START&#x27;,\n",
       "                                  &#x27;ORGANIZATION_TYPE&#x27;])])</pre></div></div></div><div class=\"sk-parallel\"><div class=\"sk-parallel-item\"><div class=\"sk-item\"><div class=\"sk-label-container\"><div class=\"sk-label sk-toggleable\"><input class=\"sk-toggleable__control sk-hidden--visually\" id=\"sk-estimator-id-18\" type=\"checkbox\" ><label for=\"sk-estimator-id-18\" class=\"sk-toggleable__label sk-toggleable__label-arrow\">one-hot-encoder</label><div class=\"sk-toggleable__content\"><pre>[&#x27;NAME_CONTRACT_TYPE&#x27;, &#x27;CODE_GENDER&#x27;, &#x27;FLAG_OWN_CAR&#x27;, &#x27;FLAG_OWN_REALTY&#x27;, &#x27;NAME_TYPE_SUITE&#x27;, &#x27;NAME_INCOME_TYPE&#x27;, &#x27;NAME_EDUCATION_TYPE&#x27;, &#x27;NAME_FAMILY_STATUS&#x27;, &#x27;NAME_HOUSING_TYPE&#x27;, &#x27;WEEKDAY_APPR_PROCESS_START&#x27;, &#x27;ORGANIZATION_TYPE&#x27;]</pre></div></div></div><div class=\"sk-serial\"><div class=\"sk-item\"><div class=\"sk-estimator sk-toggleable\"><input class=\"sk-toggleable__control sk-hidden--visually\" id=\"sk-estimator-id-19\" type=\"checkbox\" ><label for=\"sk-estimator-id-19\" class=\"sk-toggleable__label sk-toggleable__label-arrow\">OneHotEncoder</label><div class=\"sk-toggleable__content\"><pre>OneHotEncoder()</pre></div></div></div></div></div></div><div class=\"sk-parallel-item\"><div class=\"sk-item\"><div class=\"sk-label-container\"><div class=\"sk-label sk-toggleable\"><input class=\"sk-toggleable__control sk-hidden--visually\" id=\"sk-estimator-id-20\" type=\"checkbox\" ><label for=\"sk-estimator-id-20\" class=\"sk-toggleable__label sk-toggleable__label-arrow\">remainder</label><div class=\"sk-toggleable__content\"><pre>[&#x27;SK_ID_CURR&#x27;, &#x27;TARGET&#x27;, &#x27;CNT_CHILDREN&#x27;, &#x27;AMT_INCOME_TOTAL&#x27;, &#x27;AMT_CREDIT&#x27;, &#x27;AMT_ANNUITY&#x27;, &#x27;AMT_GOODS_PRICE&#x27;, &#x27;REGION_POPULATION_RELATIVE&#x27;, &#x27;DAYS_BIRTH&#x27;, &#x27;DAYS_EMPLOYED&#x27;, &#x27;DAYS_REGISTRATION&#x27;, &#x27;DAYS_ID_PUBLISH&#x27;, &#x27;FLAG_MOBIL&#x27;, &#x27;FLAG_EMP_PHONE&#x27;, &#x27;FLAG_WORK_PHONE&#x27;, &#x27;FLAG_CONT_MOBILE&#x27;, &#x27;FLAG_PHONE&#x27;, &#x27;FLAG_EMAIL&#x27;, &#x27;CNT_FAM_MEMBERS&#x27;, &#x27;REGION_RATING_CLIENT&#x27;, &#x27;REGION_RATING_CLIENT_W_CITY&#x27;, &#x27;HOUR_APPR_PROCESS_START&#x27;, &#x27;REG_REGION_NOT_LIVE_REGION&#x27;, &#x27;REG_REGION_NOT_WORK_REGION&#x27;, &#x27;LIVE_REGION_NOT_WORK_REGION&#x27;, &#x27;REG_CITY_NOT_LIVE_CITY&#x27;, &#x27;REG_CITY_NOT_WORK_CITY&#x27;, &#x27;LIVE_CITY_NOT_WORK_CITY&#x27;, &#x27;EXT_SOURCE_2&#x27;, &#x27;EXT_SOURCE_3&#x27;, &#x27;OBS_30_CNT_SOCIAL_CIRCLE&#x27;, &#x27;DEF_30_CNT_SOCIAL_CIRCLE&#x27;, &#x27;OBS_60_CNT_SOCIAL_CIRCLE&#x27;, &#x27;DEF_60_CNT_SOCIAL_CIRCLE&#x27;, &#x27;DAYS_LAST_PHONE_CHANGE&#x27;, &#x27;FLAG_DOCUMENT_2&#x27;, &#x27;FLAG_DOCUMENT_3&#x27;, &#x27;FLAG_DOCUMENT_4&#x27;, &#x27;FLAG_DOCUMENT_5&#x27;, &#x27;FLAG_DOCUMENT_6&#x27;, &#x27;FLAG_DOCUMENT_7&#x27;, &#x27;FLAG_DOCUMENT_8&#x27;, &#x27;FLAG_DOCUMENT_9&#x27;, &#x27;FLAG_DOCUMENT_10&#x27;, &#x27;FLAG_DOCUMENT_11&#x27;, &#x27;FLAG_DOCUMENT_12&#x27;, &#x27;FLAG_DOCUMENT_13&#x27;, &#x27;FLAG_DOCUMENT_14&#x27;, &#x27;FLAG_DOCUMENT_15&#x27;, &#x27;FLAG_DOCUMENT_16&#x27;, &#x27;FLAG_DOCUMENT_17&#x27;, &#x27;FLAG_DOCUMENT_18&#x27;, &#x27;FLAG_DOCUMENT_19&#x27;, &#x27;FLAG_DOCUMENT_20&#x27;, &#x27;FLAG_DOCUMENT_21&#x27;, &#x27;AMT_REQ_CREDIT_BUREAU_HOUR&#x27;, &#x27;AMT_REQ_CREDIT_BUREAU_DAY&#x27;, &#x27;AMT_REQ_CREDIT_BUREAU_WEEK&#x27;, &#x27;AMT_REQ_CREDIT_BUREAU_MON&#x27;, &#x27;AMT_REQ_CREDIT_BUREAU_QRT&#x27;, &#x27;AMT_REQ_CREDIT_BUREAU_YEAR&#x27;]</pre></div></div></div><div class=\"sk-serial\"><div class=\"sk-item\"><div class=\"sk-estimator sk-toggleable\"><input class=\"sk-toggleable__control sk-hidden--visually\" id=\"sk-estimator-id-21\" type=\"checkbox\" ><label for=\"sk-estimator-id-21\" class=\"sk-toggleable__label sk-toggleable__label-arrow\">passthrough</label><div class=\"sk-toggleable__content\"><pre>passthrough</pre></div></div></div></div></div></div></div></div></div></div>"
      ],
      "text/plain": [
       "ColumnTransformer(remainder='passthrough',\n",
       "                  transformers=[('one-hot-encoder', OneHotEncoder(),\n",
       "                                 ['NAME_CONTRACT_TYPE', 'CODE_GENDER',\n",
       "                                  'FLAG_OWN_CAR', 'FLAG_OWN_REALTY',\n",
       "                                  'NAME_TYPE_SUITE', 'NAME_INCOME_TYPE',\n",
       "                                  'NAME_EDUCATION_TYPE', 'NAME_FAMILY_STATUS',\n",
       "                                  'NAME_HOUSING_TYPE',\n",
       "                                  'WEEKDAY_APPR_PROCESS_START',\n",
       "                                  'ORGANIZATION_TYPE'])])"
      ]
     },
     "execution_count": 366,
     "metadata": {},
     "output_type": "execute_result"
    }
   ],
   "source": [
    "ct = ColumnTransformer([('one-hot-encoder', OneHotEncoder(), ar)], remainder='passthrough')\n",
    "ct.fit(df_train) #https://vitalflux.com/one-hot-encoding-concepts-python-code-examples/#What_is_One-Hot_Encoding pour le résultat"
   ]
  },
  {
   "cell_type": "code",
   "execution_count": 375,
   "metadata": {},
   "outputs": [
    {
     "name": "stdout",
     "output_type": "stream",
     "text": [
      "Fitting estimator with 166 features.\n",
      "Fitting estimator with 156 features.\n",
      "Fitting estimator with 146 features.\n",
      "Fitting estimator with 136 features.\n",
      "Fitting estimator with 126 features.\n",
      "Fitting estimator with 116 features.\n",
      "Fitting estimator with 106 features.\n",
      "Fitting estimator with 96 features.\n",
      "Fitting estimator with 86 features.\n",
      "Fitting estimator with 76 features.\n"
     ]
    },
    {
     "data": {
      "text/html": [
       "<style>#sk-container-id-10 {color: black;background-color: white;}#sk-container-id-10 pre{padding: 0;}#sk-container-id-10 div.sk-toggleable {background-color: white;}#sk-container-id-10 label.sk-toggleable__label {cursor: pointer;display: block;width: 100%;margin-bottom: 0;padding: 0.3em;box-sizing: border-box;text-align: center;}#sk-container-id-10 label.sk-toggleable__label-arrow:before {content: \"▸\";float: left;margin-right: 0.25em;color: #696969;}#sk-container-id-10 label.sk-toggleable__label-arrow:hover:before {color: black;}#sk-container-id-10 div.sk-estimator:hover label.sk-toggleable__label-arrow:before {color: black;}#sk-container-id-10 div.sk-toggleable__content {max-height: 0;max-width: 0;overflow: hidden;text-align: left;background-color: #f0f8ff;}#sk-container-id-10 div.sk-toggleable__content pre {margin: 0.2em;color: black;border-radius: 0.25em;background-color: #f0f8ff;}#sk-container-id-10 input.sk-toggleable__control:checked~div.sk-toggleable__content {max-height: 200px;max-width: 100%;overflow: auto;}#sk-container-id-10 input.sk-toggleable__control:checked~label.sk-toggleable__label-arrow:before {content: \"▾\";}#sk-container-id-10 div.sk-estimator input.sk-toggleable__control:checked~label.sk-toggleable__label {background-color: #d4ebff;}#sk-container-id-10 div.sk-label input.sk-toggleable__control:checked~label.sk-toggleable__label {background-color: #d4ebff;}#sk-container-id-10 input.sk-hidden--visually {border: 0;clip: rect(1px 1px 1px 1px);clip: rect(1px, 1px, 1px, 1px);height: 1px;margin: -1px;overflow: hidden;padding: 0;position: absolute;width: 1px;}#sk-container-id-10 div.sk-estimator {font-family: monospace;background-color: #f0f8ff;border: 1px dotted black;border-radius: 0.25em;box-sizing: border-box;margin-bottom: 0.5em;}#sk-container-id-10 div.sk-estimator:hover {background-color: #d4ebff;}#sk-container-id-10 div.sk-parallel-item::after {content: \"\";width: 100%;border-bottom: 1px solid gray;flex-grow: 1;}#sk-container-id-10 div.sk-label:hover label.sk-toggleable__label {background-color: #d4ebff;}#sk-container-id-10 div.sk-serial::before {content: \"\";position: absolute;border-left: 1px solid gray;box-sizing: border-box;top: 0;bottom: 0;left: 50%;z-index: 0;}#sk-container-id-10 div.sk-serial {display: flex;flex-direction: column;align-items: center;background-color: white;padding-right: 0.2em;padding-left: 0.2em;position: relative;}#sk-container-id-10 div.sk-item {position: relative;z-index: 1;}#sk-container-id-10 div.sk-parallel {display: flex;align-items: stretch;justify-content: center;background-color: white;position: relative;}#sk-container-id-10 div.sk-item::before, #sk-container-id-10 div.sk-parallel-item::before {content: \"\";position: absolute;border-left: 1px solid gray;box-sizing: border-box;top: 0;bottom: 0;left: 50%;z-index: -1;}#sk-container-id-10 div.sk-parallel-item {display: flex;flex-direction: column;z-index: 1;position: relative;background-color: white;}#sk-container-id-10 div.sk-parallel-item:first-child::after {align-self: flex-end;width: 50%;}#sk-container-id-10 div.sk-parallel-item:last-child::after {align-self: flex-start;width: 50%;}#sk-container-id-10 div.sk-parallel-item:only-child::after {width: 0;}#sk-container-id-10 div.sk-dashed-wrapped {border: 1px dashed gray;margin: 0 0.4em 0.5em 0.4em;box-sizing: border-box;padding-bottom: 0.4em;background-color: white;}#sk-container-id-10 div.sk-label label {font-family: monospace;font-weight: bold;display: inline-block;line-height: 1.2em;}#sk-container-id-10 div.sk-label-container {text-align: center;}#sk-container-id-10 div.sk-container {/* jupyter's `normalize.less` sets `[hidden] { display: none; }` but bootstrap.min.css set `[hidden] { display: none !important; }` so we also need the `!important` here to be able to override the default hidden behavior on the sphinx rendered scikit-learn.org. See: https://github.com/scikit-learn/scikit-learn/issues/21755 */display: inline-block !important;position: relative;}#sk-container-id-10 div.sk-text-repr-fallback {display: none;}</style><div id=\"sk-container-id-10\" class=\"sk-top-container\"><div class=\"sk-text-repr-fallback\"><pre>Pipeline(steps=[(&#x27;categ&#x27;,\n",
       "                 ColumnTransformer(remainder=&#x27;passthrough&#x27;,\n",
       "                                   transformers=[(&#x27;one-hot-encoder&#x27;,\n",
       "                                                  OneHotEncoder(),\n",
       "                                                  [&#x27;NAME_CONTRACT_TYPE&#x27;,\n",
       "                                                   &#x27;CODE_GENDER&#x27;,\n",
       "                                                   &#x27;FLAG_OWN_CAR&#x27;,\n",
       "                                                   &#x27;FLAG_OWN_REALTY&#x27;,\n",
       "                                                   &#x27;NAME_TYPE_SUITE&#x27;,\n",
       "                                                   &#x27;NAME_INCOME_TYPE&#x27;,\n",
       "                                                   &#x27;NAME_EDUCATION_TYPE&#x27;,\n",
       "                                                   &#x27;NAME_FAMILY_STATUS&#x27;,\n",
       "                                                   &#x27;NAME_HOUSING_TYPE&#x27;,\n",
       "                                                   &#x27;WEEKDAY_APPR_PROCESS_START&#x27;,\n",
       "                                                   &#x27;ORGANIZATION_TYPE&#x27;])])),\n",
       "                (&#x27;scaler&#x27;, StandardScaler(with_mean=False)),\n",
       "                (&#x27;rfe&#x27;,\n",
       "                 RFE(estimator=RidgeClassifierCV(), n_features_to_select=70,\n",
       "                     step=10, verbose=5)),\n",
       "                (&#x27;model&#x27;, RidgeClassifierCV(class_weight=&#x27;balanced&#x27;))])</pre><b>In a Jupyter environment, please rerun this cell to show the HTML representation or trust the notebook. <br />On GitHub, the HTML representation is unable to render, please try loading this page with nbviewer.org.</b></div><div class=\"sk-container\" hidden><div class=\"sk-item sk-dashed-wrapped\"><div class=\"sk-label-container\"><div class=\"sk-label sk-toggleable\"><input class=\"sk-toggleable__control sk-hidden--visually\" id=\"sk-estimator-id-33\" type=\"checkbox\" ><label for=\"sk-estimator-id-33\" class=\"sk-toggleable__label sk-toggleable__label-arrow\">Pipeline</label><div class=\"sk-toggleable__content\"><pre>Pipeline(steps=[(&#x27;categ&#x27;,\n",
       "                 ColumnTransformer(remainder=&#x27;passthrough&#x27;,\n",
       "                                   transformers=[(&#x27;one-hot-encoder&#x27;,\n",
       "                                                  OneHotEncoder(),\n",
       "                                                  [&#x27;NAME_CONTRACT_TYPE&#x27;,\n",
       "                                                   &#x27;CODE_GENDER&#x27;,\n",
       "                                                   &#x27;FLAG_OWN_CAR&#x27;,\n",
       "                                                   &#x27;FLAG_OWN_REALTY&#x27;,\n",
       "                                                   &#x27;NAME_TYPE_SUITE&#x27;,\n",
       "                                                   &#x27;NAME_INCOME_TYPE&#x27;,\n",
       "                                                   &#x27;NAME_EDUCATION_TYPE&#x27;,\n",
       "                                                   &#x27;NAME_FAMILY_STATUS&#x27;,\n",
       "                                                   &#x27;NAME_HOUSING_TYPE&#x27;,\n",
       "                                                   &#x27;WEEKDAY_APPR_PROCESS_START&#x27;,\n",
       "                                                   &#x27;ORGANIZATION_TYPE&#x27;])])),\n",
       "                (&#x27;scaler&#x27;, StandardScaler(with_mean=False)),\n",
       "                (&#x27;rfe&#x27;,\n",
       "                 RFE(estimator=RidgeClassifierCV(), n_features_to_select=70,\n",
       "                     step=10, verbose=5)),\n",
       "                (&#x27;model&#x27;, RidgeClassifierCV(class_weight=&#x27;balanced&#x27;))])</pre></div></div></div><div class=\"sk-serial\"><div class=\"sk-item sk-dashed-wrapped\"><div class=\"sk-label-container\"><div class=\"sk-label sk-toggleable\"><input class=\"sk-toggleable__control sk-hidden--visually\" id=\"sk-estimator-id-34\" type=\"checkbox\" ><label for=\"sk-estimator-id-34\" class=\"sk-toggleable__label sk-toggleable__label-arrow\">categ: ColumnTransformer</label><div class=\"sk-toggleable__content\"><pre>ColumnTransformer(remainder=&#x27;passthrough&#x27;,\n",
       "                  transformers=[(&#x27;one-hot-encoder&#x27;, OneHotEncoder(),\n",
       "                                 [&#x27;NAME_CONTRACT_TYPE&#x27;, &#x27;CODE_GENDER&#x27;,\n",
       "                                  &#x27;FLAG_OWN_CAR&#x27;, &#x27;FLAG_OWN_REALTY&#x27;,\n",
       "                                  &#x27;NAME_TYPE_SUITE&#x27;, &#x27;NAME_INCOME_TYPE&#x27;,\n",
       "                                  &#x27;NAME_EDUCATION_TYPE&#x27;, &#x27;NAME_FAMILY_STATUS&#x27;,\n",
       "                                  &#x27;NAME_HOUSING_TYPE&#x27;,\n",
       "                                  &#x27;WEEKDAY_APPR_PROCESS_START&#x27;,\n",
       "                                  &#x27;ORGANIZATION_TYPE&#x27;])])</pre></div></div></div><div class=\"sk-parallel\"><div class=\"sk-parallel-item\"><div class=\"sk-item\"><div class=\"sk-label-container\"><div class=\"sk-label sk-toggleable\"><input class=\"sk-toggleable__control sk-hidden--visually\" id=\"sk-estimator-id-35\" type=\"checkbox\" ><label for=\"sk-estimator-id-35\" class=\"sk-toggleable__label sk-toggleable__label-arrow\">one-hot-encoder</label><div class=\"sk-toggleable__content\"><pre>[&#x27;NAME_CONTRACT_TYPE&#x27;, &#x27;CODE_GENDER&#x27;, &#x27;FLAG_OWN_CAR&#x27;, &#x27;FLAG_OWN_REALTY&#x27;, &#x27;NAME_TYPE_SUITE&#x27;, &#x27;NAME_INCOME_TYPE&#x27;, &#x27;NAME_EDUCATION_TYPE&#x27;, &#x27;NAME_FAMILY_STATUS&#x27;, &#x27;NAME_HOUSING_TYPE&#x27;, &#x27;WEEKDAY_APPR_PROCESS_START&#x27;, &#x27;ORGANIZATION_TYPE&#x27;]</pre></div></div></div><div class=\"sk-serial\"><div class=\"sk-item\"><div class=\"sk-estimator sk-toggleable\"><input class=\"sk-toggleable__control sk-hidden--visually\" id=\"sk-estimator-id-36\" type=\"checkbox\" ><label for=\"sk-estimator-id-36\" class=\"sk-toggleable__label sk-toggleable__label-arrow\">OneHotEncoder</label><div class=\"sk-toggleable__content\"><pre>OneHotEncoder()</pre></div></div></div></div></div></div><div class=\"sk-parallel-item\"><div class=\"sk-item\"><div class=\"sk-label-container\"><div class=\"sk-label sk-toggleable\"><input class=\"sk-toggleable__control sk-hidden--visually\" id=\"sk-estimator-id-37\" type=\"checkbox\" ><label for=\"sk-estimator-id-37\" class=\"sk-toggleable__label sk-toggleable__label-arrow\">remainder</label><div class=\"sk-toggleable__content\"><pre>[&#x27;SK_ID_CURR&#x27;, &#x27;CNT_CHILDREN&#x27;, &#x27;AMT_INCOME_TOTAL&#x27;, &#x27;AMT_CREDIT&#x27;, &#x27;AMT_ANNUITY&#x27;, &#x27;AMT_GOODS_PRICE&#x27;, &#x27;REGION_POPULATION_RELATIVE&#x27;, &#x27;DAYS_BIRTH&#x27;, &#x27;DAYS_EMPLOYED&#x27;, &#x27;DAYS_REGISTRATION&#x27;, &#x27;DAYS_ID_PUBLISH&#x27;, &#x27;FLAG_MOBIL&#x27;, &#x27;FLAG_EMP_PHONE&#x27;, &#x27;FLAG_WORK_PHONE&#x27;, &#x27;FLAG_CONT_MOBILE&#x27;, &#x27;FLAG_PHONE&#x27;, &#x27;FLAG_EMAIL&#x27;, &#x27;CNT_FAM_MEMBERS&#x27;, &#x27;REGION_RATING_CLIENT&#x27;, &#x27;REGION_RATING_CLIENT_W_CITY&#x27;, &#x27;HOUR_APPR_PROCESS_START&#x27;, &#x27;REG_REGION_NOT_LIVE_REGION&#x27;, &#x27;REG_REGION_NOT_WORK_REGION&#x27;, &#x27;LIVE_REGION_NOT_WORK_REGION&#x27;, &#x27;REG_CITY_NOT_LIVE_CITY&#x27;, &#x27;REG_CITY_NOT_WORK_CITY&#x27;, &#x27;LIVE_CITY_NOT_WORK_CITY&#x27;, &#x27;EXT_SOURCE_2&#x27;, &#x27;EXT_SOURCE_3&#x27;, &#x27;OBS_30_CNT_SOCIAL_CIRCLE&#x27;, &#x27;DEF_30_CNT_SOCIAL_CIRCLE&#x27;, &#x27;OBS_60_CNT_SOCIAL_CIRCLE&#x27;, &#x27;DEF_60_CNT_SOCIAL_CIRCLE&#x27;, &#x27;DAYS_LAST_PHONE_CHANGE&#x27;, &#x27;FLAG_DOCUMENT_2&#x27;, &#x27;FLAG_DOCUMENT_3&#x27;, &#x27;FLAG_DOCUMENT_4&#x27;, &#x27;FLAG_DOCUMENT_5&#x27;, &#x27;FLAG_DOCUMENT_6&#x27;, &#x27;FLAG_DOCUMENT_7&#x27;, &#x27;FLAG_DOCUMENT_8&#x27;, &#x27;FLAG_DOCUMENT_9&#x27;, &#x27;FLAG_DOCUMENT_10&#x27;, &#x27;FLAG_DOCUMENT_11&#x27;, &#x27;FLAG_DOCUMENT_12&#x27;, &#x27;FLAG_DOCUMENT_13&#x27;, &#x27;FLAG_DOCUMENT_14&#x27;, &#x27;FLAG_DOCUMENT_15&#x27;, &#x27;FLAG_DOCUMENT_16&#x27;, &#x27;FLAG_DOCUMENT_17&#x27;, &#x27;FLAG_DOCUMENT_18&#x27;, &#x27;FLAG_DOCUMENT_19&#x27;, &#x27;FLAG_DOCUMENT_20&#x27;, &#x27;FLAG_DOCUMENT_21&#x27;, &#x27;AMT_REQ_CREDIT_BUREAU_HOUR&#x27;, &#x27;AMT_REQ_CREDIT_BUREAU_DAY&#x27;, &#x27;AMT_REQ_CREDIT_BUREAU_WEEK&#x27;, &#x27;AMT_REQ_CREDIT_BUREAU_MON&#x27;, &#x27;AMT_REQ_CREDIT_BUREAU_QRT&#x27;, &#x27;AMT_REQ_CREDIT_BUREAU_YEAR&#x27;]</pre></div></div></div><div class=\"sk-serial\"><div class=\"sk-item\"><div class=\"sk-estimator sk-toggleable\"><input class=\"sk-toggleable__control sk-hidden--visually\" id=\"sk-estimator-id-38\" type=\"checkbox\" ><label for=\"sk-estimator-id-38\" class=\"sk-toggleable__label sk-toggleable__label-arrow\">passthrough</label><div class=\"sk-toggleable__content\"><pre>passthrough</pre></div></div></div></div></div></div></div></div><div class=\"sk-item\"><div class=\"sk-estimator sk-toggleable\"><input class=\"sk-toggleable__control sk-hidden--visually\" id=\"sk-estimator-id-39\" type=\"checkbox\" ><label for=\"sk-estimator-id-39\" class=\"sk-toggleable__label sk-toggleable__label-arrow\">StandardScaler</label><div class=\"sk-toggleable__content\"><pre>StandardScaler(with_mean=False)</pre></div></div></div><div class=\"sk-item sk-dashed-wrapped\"><div class=\"sk-label-container\"><div class=\"sk-label sk-toggleable\"><input class=\"sk-toggleable__control sk-hidden--visually\" id=\"sk-estimator-id-40\" type=\"checkbox\" ><label for=\"sk-estimator-id-40\" class=\"sk-toggleable__label sk-toggleable__label-arrow\">rfe: RFE</label><div class=\"sk-toggleable__content\"><pre>RFE(estimator=RidgeClassifierCV(), n_features_to_select=70, step=10, verbose=5)</pre></div></div></div><div class=\"sk-parallel\"><div class=\"sk-parallel-item\"><div class=\"sk-item\"><div class=\"sk-label-container\"><div class=\"sk-label sk-toggleable\"><input class=\"sk-toggleable__control sk-hidden--visually\" id=\"sk-estimator-id-41\" type=\"checkbox\" ><label for=\"sk-estimator-id-41\" class=\"sk-toggleable__label sk-toggleable__label-arrow\">estimator: RidgeClassifierCV</label><div class=\"sk-toggleable__content\"><pre>RidgeClassifierCV()</pre></div></div></div><div class=\"sk-serial\"><div class=\"sk-item\"><div class=\"sk-estimator sk-toggleable\"><input class=\"sk-toggleable__control sk-hidden--visually\" id=\"sk-estimator-id-42\" type=\"checkbox\" ><label for=\"sk-estimator-id-42\" class=\"sk-toggleable__label sk-toggleable__label-arrow\">RidgeClassifierCV</label><div class=\"sk-toggleable__content\"><pre>RidgeClassifierCV()</pre></div></div></div></div></div></div></div></div><div class=\"sk-item\"><div class=\"sk-estimator sk-toggleable\"><input class=\"sk-toggleable__control sk-hidden--visually\" id=\"sk-estimator-id-43\" type=\"checkbox\" ><label for=\"sk-estimator-id-43\" class=\"sk-toggleable__label sk-toggleable__label-arrow\">RidgeClassifierCV</label><div class=\"sk-toggleable__content\"><pre>RidgeClassifierCV(class_weight=&#x27;balanced&#x27;)</pre></div></div></div></div></div></div></div>"
      ],
      "text/plain": [
       "Pipeline(steps=[('categ',\n",
       "                 ColumnTransformer(remainder='passthrough',\n",
       "                                   transformers=[('one-hot-encoder',\n",
       "                                                  OneHotEncoder(),\n",
       "                                                  ['NAME_CONTRACT_TYPE',\n",
       "                                                   'CODE_GENDER',\n",
       "                                                   'FLAG_OWN_CAR',\n",
       "                                                   'FLAG_OWN_REALTY',\n",
       "                                                   'NAME_TYPE_SUITE',\n",
       "                                                   'NAME_INCOME_TYPE',\n",
       "                                                   'NAME_EDUCATION_TYPE',\n",
       "                                                   'NAME_FAMILY_STATUS',\n",
       "                                                   'NAME_HOUSING_TYPE',\n",
       "                                                   'WEEKDAY_APPR_PROCESS_START',\n",
       "                                                   'ORGANIZATION_TYPE'])])),\n",
       "                ('scaler', StandardScaler(with_mean=False)),\n",
       "                ('rfe',\n",
       "                 RFE(estimator=RidgeClassifierCV(), n_features_to_select=70,\n",
       "                     step=10, verbose=5)),\n",
       "                ('model', RidgeClassifierCV(class_weight='balanced'))])"
      ]
     },
     "execution_count": 375,
     "metadata": {},
     "output_type": "execute_result"
    }
   ],
   "source": [
    "#ColumnTransformer rajouté sinon onehot fait pour tout a retester après\n",
    "pipel= Pipeline(steps=[('categ', ColumnTransformer([('one-hot-encoder', OneHotEncoder(handle_unknown=\"error\"), ar)], remainder='passthrough')),\n",
    "                       ('scaler',StandardScaler(with_mean=False)),\n",
    "                       ('rfe',   RFE(estimator = RidgeClassifierCV(),n_features_to_select=70, step=10, verbose = 5)),\n",
    "                       ('model',RidgeClassifierCV(class_weight='balanced'))])#balanced n_samples/(n_classes*np.bincount(y))\n",
    "pipel.fit(X_train,y_train)"
   ]
  },
  {
   "cell_type": "code",
   "execution_count": 380,
   "metadata": {},
   "outputs": [
    {
     "name": "stderr",
     "output_type": "stream",
     "text": [
      "c:\\Users\\utilisateur\\Documents\\MyAmaWok\\OC Data Scientist\\Projet OC 7 Implementer un modele de Scoring\\.venv\\lib\\site-packages\\sklearn\\model_selection\\_search.py:953: UserWarning: One or more of the test scores are non-finite: [nan nan]\n",
      "  warnings.warn(\n"
     ]
    },
    {
     "name": "stdout",
     "output_type": "stream",
     "text": [
      "Fitting estimator with 166 features.\n",
      "Fitting estimator with 156 features.\n",
      "Fitting estimator with 146 features.\n",
      "Fitting estimator with 136 features.\n",
      "Fitting estimator with 126 features.\n",
      "Fitting estimator with 116 features.\n",
      "Fitting estimator with 106 features.\n",
      "Fitting estimator with 96 features.\n",
      "Fitting estimator with 86 features.\n",
      "Fitting estimator with 76 features.\n"
     ]
    },
    {
     "data": {
      "text/html": [
       "<style>#sk-container-id-11 {color: black;background-color: white;}#sk-container-id-11 pre{padding: 0;}#sk-container-id-11 div.sk-toggleable {background-color: white;}#sk-container-id-11 label.sk-toggleable__label {cursor: pointer;display: block;width: 100%;margin-bottom: 0;padding: 0.3em;box-sizing: border-box;text-align: center;}#sk-container-id-11 label.sk-toggleable__label-arrow:before {content: \"▸\";float: left;margin-right: 0.25em;color: #696969;}#sk-container-id-11 label.sk-toggleable__label-arrow:hover:before {color: black;}#sk-container-id-11 div.sk-estimator:hover label.sk-toggleable__label-arrow:before {color: black;}#sk-container-id-11 div.sk-toggleable__content {max-height: 0;max-width: 0;overflow: hidden;text-align: left;background-color: #f0f8ff;}#sk-container-id-11 div.sk-toggleable__content pre {margin: 0.2em;color: black;border-radius: 0.25em;background-color: #f0f8ff;}#sk-container-id-11 input.sk-toggleable__control:checked~div.sk-toggleable__content {max-height: 200px;max-width: 100%;overflow: auto;}#sk-container-id-11 input.sk-toggleable__control:checked~label.sk-toggleable__label-arrow:before {content: \"▾\";}#sk-container-id-11 div.sk-estimator input.sk-toggleable__control:checked~label.sk-toggleable__label {background-color: #d4ebff;}#sk-container-id-11 div.sk-label input.sk-toggleable__control:checked~label.sk-toggleable__label {background-color: #d4ebff;}#sk-container-id-11 input.sk-hidden--visually {border: 0;clip: rect(1px 1px 1px 1px);clip: rect(1px, 1px, 1px, 1px);height: 1px;margin: -1px;overflow: hidden;padding: 0;position: absolute;width: 1px;}#sk-container-id-11 div.sk-estimator {font-family: monospace;background-color: #f0f8ff;border: 1px dotted black;border-radius: 0.25em;box-sizing: border-box;margin-bottom: 0.5em;}#sk-container-id-11 div.sk-estimator:hover {background-color: #d4ebff;}#sk-container-id-11 div.sk-parallel-item::after {content: \"\";width: 100%;border-bottom: 1px solid gray;flex-grow: 1;}#sk-container-id-11 div.sk-label:hover label.sk-toggleable__label {background-color: #d4ebff;}#sk-container-id-11 div.sk-serial::before {content: \"\";position: absolute;border-left: 1px solid gray;box-sizing: border-box;top: 0;bottom: 0;left: 50%;z-index: 0;}#sk-container-id-11 div.sk-serial {display: flex;flex-direction: column;align-items: center;background-color: white;padding-right: 0.2em;padding-left: 0.2em;position: relative;}#sk-container-id-11 div.sk-item {position: relative;z-index: 1;}#sk-container-id-11 div.sk-parallel {display: flex;align-items: stretch;justify-content: center;background-color: white;position: relative;}#sk-container-id-11 div.sk-item::before, #sk-container-id-11 div.sk-parallel-item::before {content: \"\";position: absolute;border-left: 1px solid gray;box-sizing: border-box;top: 0;bottom: 0;left: 50%;z-index: -1;}#sk-container-id-11 div.sk-parallel-item {display: flex;flex-direction: column;z-index: 1;position: relative;background-color: white;}#sk-container-id-11 div.sk-parallel-item:first-child::after {align-self: flex-end;width: 50%;}#sk-container-id-11 div.sk-parallel-item:last-child::after {align-self: flex-start;width: 50%;}#sk-container-id-11 div.sk-parallel-item:only-child::after {width: 0;}#sk-container-id-11 div.sk-dashed-wrapped {border: 1px dashed gray;margin: 0 0.4em 0.5em 0.4em;box-sizing: border-box;padding-bottom: 0.4em;background-color: white;}#sk-container-id-11 div.sk-label label {font-family: monospace;font-weight: bold;display: inline-block;line-height: 1.2em;}#sk-container-id-11 div.sk-label-container {text-align: center;}#sk-container-id-11 div.sk-container {/* jupyter's `normalize.less` sets `[hidden] { display: none; }` but bootstrap.min.css set `[hidden] { display: none !important; }` so we also need the `!important` here to be able to override the default hidden behavior on the sphinx rendered scikit-learn.org. See: https://github.com/scikit-learn/scikit-learn/issues/21755 */display: inline-block !important;position: relative;}#sk-container-id-11 div.sk-text-repr-fallback {display: none;}</style><div id=\"sk-container-id-11\" class=\"sk-top-container\"><div class=\"sk-text-repr-fallback\"><pre>GridSearchCV(estimator=Pipeline(steps=[(&#x27;categ&#x27;,\n",
       "                                        ColumnTransformer(remainder=&#x27;passthrough&#x27;,\n",
       "                                                          transformers=[(&#x27;one-hot-encoder&#x27;,\n",
       "                                                                         OneHotEncoder(),\n",
       "                                                                         [&#x27;NAME_CONTRACT_TYPE&#x27;,\n",
       "                                                                          &#x27;CODE_GENDER&#x27;,\n",
       "                                                                          &#x27;FLAG_OWN_CAR&#x27;,\n",
       "                                                                          &#x27;FLAG_OWN_REALTY&#x27;,\n",
       "                                                                          &#x27;NAME_TYPE_SUITE&#x27;,\n",
       "                                                                          &#x27;NAME_INCOME_TYPE&#x27;,\n",
       "                                                                          &#x27;NAME_EDUCATION_TYPE&#x27;,\n",
       "                                                                          &#x27;NAME_FAMILY_STATUS&#x27;,\n",
       "                                                                          &#x27;NAME_HOUSING_TYPE&#x27;,\n",
       "                                                                          &#x27;WEEKDAY_APPR_PROCESS_START&#x27;,\n",
       "                                                                          &#x27;ORGANIZATION_TYPE&#x27;])])),\n",
       "                                       (&#x27;scaler&#x27;,\n",
       "                                        StandardScaler(with_mean=False)),\n",
       "                                       (&#x27;rfe&#x27;,\n",
       "                                        RFE(estimator=RidgeClassifierCV(),\n",
       "                                            n_features_to_select=70, step=10,\n",
       "                                            verbose=5)),\n",
       "                                       (&#x27;model&#x27;,\n",
       "                                        RidgeClassifierCV(class_weight=&#x27;balanced&#x27;))]),\n",
       "             n_jobs=2,\n",
       "             param_grid={&#x27;model__alphas&#x27;: [(0.1, 1, 10), (0.2, 2, 20)]})</pre><b>In a Jupyter environment, please rerun this cell to show the HTML representation or trust the notebook. <br />On GitHub, the HTML representation is unable to render, please try loading this page with nbviewer.org.</b></div><div class=\"sk-container\" hidden><div class=\"sk-item sk-dashed-wrapped\"><div class=\"sk-label-container\"><div class=\"sk-label sk-toggleable\"><input class=\"sk-toggleable__control sk-hidden--visually\" id=\"sk-estimator-id-44\" type=\"checkbox\" ><label for=\"sk-estimator-id-44\" class=\"sk-toggleable__label sk-toggleable__label-arrow\">GridSearchCV</label><div class=\"sk-toggleable__content\"><pre>GridSearchCV(estimator=Pipeline(steps=[(&#x27;categ&#x27;,\n",
       "                                        ColumnTransformer(remainder=&#x27;passthrough&#x27;,\n",
       "                                                          transformers=[(&#x27;one-hot-encoder&#x27;,\n",
       "                                                                         OneHotEncoder(),\n",
       "                                                                         [&#x27;NAME_CONTRACT_TYPE&#x27;,\n",
       "                                                                          &#x27;CODE_GENDER&#x27;,\n",
       "                                                                          &#x27;FLAG_OWN_CAR&#x27;,\n",
       "                                                                          &#x27;FLAG_OWN_REALTY&#x27;,\n",
       "                                                                          &#x27;NAME_TYPE_SUITE&#x27;,\n",
       "                                                                          &#x27;NAME_INCOME_TYPE&#x27;,\n",
       "                                                                          &#x27;NAME_EDUCATION_TYPE&#x27;,\n",
       "                                                                          &#x27;NAME_FAMILY_STATUS&#x27;,\n",
       "                                                                          &#x27;NAME_HOUSING_TYPE&#x27;,\n",
       "                                                                          &#x27;WEEKDAY_APPR_PROCESS_START&#x27;,\n",
       "                                                                          &#x27;ORGANIZATION_TYPE&#x27;])])),\n",
       "                                       (&#x27;scaler&#x27;,\n",
       "                                        StandardScaler(with_mean=False)),\n",
       "                                       (&#x27;rfe&#x27;,\n",
       "                                        RFE(estimator=RidgeClassifierCV(),\n",
       "                                            n_features_to_select=70, step=10,\n",
       "                                            verbose=5)),\n",
       "                                       (&#x27;model&#x27;,\n",
       "                                        RidgeClassifierCV(class_weight=&#x27;balanced&#x27;))]),\n",
       "             n_jobs=2,\n",
       "             param_grid={&#x27;model__alphas&#x27;: [(0.1, 1, 10), (0.2, 2, 20)]})</pre></div></div></div><div class=\"sk-parallel\"><div class=\"sk-parallel-item\"><div class=\"sk-item\"><div class=\"sk-label-container\"><div class=\"sk-label sk-toggleable\"><input class=\"sk-toggleable__control sk-hidden--visually\" id=\"sk-estimator-id-45\" type=\"checkbox\" ><label for=\"sk-estimator-id-45\" class=\"sk-toggleable__label sk-toggleable__label-arrow\">estimator: Pipeline</label><div class=\"sk-toggleable__content\"><pre>Pipeline(steps=[(&#x27;categ&#x27;,\n",
       "                 ColumnTransformer(remainder=&#x27;passthrough&#x27;,\n",
       "                                   transformers=[(&#x27;one-hot-encoder&#x27;,\n",
       "                                                  OneHotEncoder(),\n",
       "                                                  [&#x27;NAME_CONTRACT_TYPE&#x27;,\n",
       "                                                   &#x27;CODE_GENDER&#x27;,\n",
       "                                                   &#x27;FLAG_OWN_CAR&#x27;,\n",
       "                                                   &#x27;FLAG_OWN_REALTY&#x27;,\n",
       "                                                   &#x27;NAME_TYPE_SUITE&#x27;,\n",
       "                                                   &#x27;NAME_INCOME_TYPE&#x27;,\n",
       "                                                   &#x27;NAME_EDUCATION_TYPE&#x27;,\n",
       "                                                   &#x27;NAME_FAMILY_STATUS&#x27;,\n",
       "                                                   &#x27;NAME_HOUSING_TYPE&#x27;,\n",
       "                                                   &#x27;WEEKDAY_APPR_PROCESS_START&#x27;,\n",
       "                                                   &#x27;ORGANIZATION_TYPE&#x27;])])),\n",
       "                (&#x27;scaler&#x27;, StandardScaler(with_mean=False)),\n",
       "                (&#x27;rfe&#x27;,\n",
       "                 RFE(estimator=RidgeClassifierCV(), n_features_to_select=70,\n",
       "                     step=10, verbose=5)),\n",
       "                (&#x27;model&#x27;, RidgeClassifierCV(class_weight=&#x27;balanced&#x27;))])</pre></div></div></div><div class=\"sk-serial\"><div class=\"sk-item\"><div class=\"sk-serial\"><div class=\"sk-item sk-dashed-wrapped\"><div class=\"sk-label-container\"><div class=\"sk-label sk-toggleable\"><input class=\"sk-toggleable__control sk-hidden--visually\" id=\"sk-estimator-id-46\" type=\"checkbox\" ><label for=\"sk-estimator-id-46\" class=\"sk-toggleable__label sk-toggleable__label-arrow\">categ: ColumnTransformer</label><div class=\"sk-toggleable__content\"><pre>ColumnTransformer(remainder=&#x27;passthrough&#x27;,\n",
       "                  transformers=[(&#x27;one-hot-encoder&#x27;, OneHotEncoder(),\n",
       "                                 [&#x27;NAME_CONTRACT_TYPE&#x27;, &#x27;CODE_GENDER&#x27;,\n",
       "                                  &#x27;FLAG_OWN_CAR&#x27;, &#x27;FLAG_OWN_REALTY&#x27;,\n",
       "                                  &#x27;NAME_TYPE_SUITE&#x27;, &#x27;NAME_INCOME_TYPE&#x27;,\n",
       "                                  &#x27;NAME_EDUCATION_TYPE&#x27;, &#x27;NAME_FAMILY_STATUS&#x27;,\n",
       "                                  &#x27;NAME_HOUSING_TYPE&#x27;,\n",
       "                                  &#x27;WEEKDAY_APPR_PROCESS_START&#x27;,\n",
       "                                  &#x27;ORGANIZATION_TYPE&#x27;])])</pre></div></div></div><div class=\"sk-parallel\"><div class=\"sk-parallel-item\"><div class=\"sk-item\"><div class=\"sk-label-container\"><div class=\"sk-label sk-toggleable\"><input class=\"sk-toggleable__control sk-hidden--visually\" id=\"sk-estimator-id-47\" type=\"checkbox\" ><label for=\"sk-estimator-id-47\" class=\"sk-toggleable__label sk-toggleable__label-arrow\">one-hot-encoder</label><div class=\"sk-toggleable__content\"><pre>[&#x27;NAME_CONTRACT_TYPE&#x27;, &#x27;CODE_GENDER&#x27;, &#x27;FLAG_OWN_CAR&#x27;, &#x27;FLAG_OWN_REALTY&#x27;, &#x27;NAME_TYPE_SUITE&#x27;, &#x27;NAME_INCOME_TYPE&#x27;, &#x27;NAME_EDUCATION_TYPE&#x27;, &#x27;NAME_FAMILY_STATUS&#x27;, &#x27;NAME_HOUSING_TYPE&#x27;, &#x27;WEEKDAY_APPR_PROCESS_START&#x27;, &#x27;ORGANIZATION_TYPE&#x27;]</pre></div></div></div><div class=\"sk-serial\"><div class=\"sk-item\"><div class=\"sk-estimator sk-toggleable\"><input class=\"sk-toggleable__control sk-hidden--visually\" id=\"sk-estimator-id-48\" type=\"checkbox\" ><label for=\"sk-estimator-id-48\" class=\"sk-toggleable__label sk-toggleable__label-arrow\">OneHotEncoder</label><div class=\"sk-toggleable__content\"><pre>OneHotEncoder()</pre></div></div></div></div></div></div><div class=\"sk-parallel-item\"><div class=\"sk-item\"><div class=\"sk-label-container\"><div class=\"sk-label sk-toggleable\"><input class=\"sk-toggleable__control sk-hidden--visually\" id=\"sk-estimator-id-49\" type=\"checkbox\" ><label for=\"sk-estimator-id-49\" class=\"sk-toggleable__label sk-toggleable__label-arrow\">remainder</label><div class=\"sk-toggleable__content\"><pre>[&#x27;SK_ID_CURR&#x27;, &#x27;CNT_CHILDREN&#x27;, &#x27;AMT_INCOME_TOTAL&#x27;, &#x27;AMT_CREDIT&#x27;, &#x27;AMT_ANNUITY&#x27;, &#x27;AMT_GOODS_PRICE&#x27;, &#x27;REGION_POPULATION_RELATIVE&#x27;, &#x27;DAYS_BIRTH&#x27;, &#x27;DAYS_EMPLOYED&#x27;, &#x27;DAYS_REGISTRATION&#x27;, &#x27;DAYS_ID_PUBLISH&#x27;, &#x27;FLAG_MOBIL&#x27;, &#x27;FLAG_EMP_PHONE&#x27;, &#x27;FLAG_WORK_PHONE&#x27;, &#x27;FLAG_CONT_MOBILE&#x27;, &#x27;FLAG_PHONE&#x27;, &#x27;FLAG_EMAIL&#x27;, &#x27;CNT_FAM_MEMBERS&#x27;, &#x27;REGION_RATING_CLIENT&#x27;, &#x27;REGION_RATING_CLIENT_W_CITY&#x27;, &#x27;HOUR_APPR_PROCESS_START&#x27;, &#x27;REG_REGION_NOT_LIVE_REGION&#x27;, &#x27;REG_REGION_NOT_WORK_REGION&#x27;, &#x27;LIVE_REGION_NOT_WORK_REGION&#x27;, &#x27;REG_CITY_NOT_LIVE_CITY&#x27;, &#x27;REG_CITY_NOT_WORK_CITY&#x27;, &#x27;LIVE_CITY_NOT_WORK_CITY&#x27;, &#x27;EXT_SOURCE_2&#x27;, &#x27;EXT_SOURCE_3&#x27;, &#x27;OBS_30_CNT_SOCIAL_CIRCLE&#x27;, &#x27;DEF_30_CNT_SOCIAL_CIRCLE&#x27;, &#x27;OBS_60_CNT_SOCIAL_CIRCLE&#x27;, &#x27;DEF_60_CNT_SOCIAL_CIRCLE&#x27;, &#x27;DAYS_LAST_PHONE_CHANGE&#x27;, &#x27;FLAG_DOCUMENT_2&#x27;, &#x27;FLAG_DOCUMENT_3&#x27;, &#x27;FLAG_DOCUMENT_4&#x27;, &#x27;FLAG_DOCUMENT_5&#x27;, &#x27;FLAG_DOCUMENT_6&#x27;, &#x27;FLAG_DOCUMENT_7&#x27;, &#x27;FLAG_DOCUMENT_8&#x27;, &#x27;FLAG_DOCUMENT_9&#x27;, &#x27;FLAG_DOCUMENT_10&#x27;, &#x27;FLAG_DOCUMENT_11&#x27;, &#x27;FLAG_DOCUMENT_12&#x27;, &#x27;FLAG_DOCUMENT_13&#x27;, &#x27;FLAG_DOCUMENT_14&#x27;, &#x27;FLAG_DOCUMENT_15&#x27;, &#x27;FLAG_DOCUMENT_16&#x27;, &#x27;FLAG_DOCUMENT_17&#x27;, &#x27;FLAG_DOCUMENT_18&#x27;, &#x27;FLAG_DOCUMENT_19&#x27;, &#x27;FLAG_DOCUMENT_20&#x27;, &#x27;FLAG_DOCUMENT_21&#x27;, &#x27;AMT_REQ_CREDIT_BUREAU_HOUR&#x27;, &#x27;AMT_REQ_CREDIT_BUREAU_DAY&#x27;, &#x27;AMT_REQ_CREDIT_BUREAU_WEEK&#x27;, &#x27;AMT_REQ_CREDIT_BUREAU_MON&#x27;, &#x27;AMT_REQ_CREDIT_BUREAU_QRT&#x27;, &#x27;AMT_REQ_CREDIT_BUREAU_YEAR&#x27;]</pre></div></div></div><div class=\"sk-serial\"><div class=\"sk-item\"><div class=\"sk-estimator sk-toggleable\"><input class=\"sk-toggleable__control sk-hidden--visually\" id=\"sk-estimator-id-50\" type=\"checkbox\" ><label for=\"sk-estimator-id-50\" class=\"sk-toggleable__label sk-toggleable__label-arrow\">passthrough</label><div class=\"sk-toggleable__content\"><pre>passthrough</pre></div></div></div></div></div></div></div></div><div class=\"sk-item\"><div class=\"sk-estimator sk-toggleable\"><input class=\"sk-toggleable__control sk-hidden--visually\" id=\"sk-estimator-id-51\" type=\"checkbox\" ><label for=\"sk-estimator-id-51\" class=\"sk-toggleable__label sk-toggleable__label-arrow\">StandardScaler</label><div class=\"sk-toggleable__content\"><pre>StandardScaler(with_mean=False)</pre></div></div></div><div class=\"sk-item sk-dashed-wrapped\"><div class=\"sk-label-container\"><div class=\"sk-label sk-toggleable\"><input class=\"sk-toggleable__control sk-hidden--visually\" id=\"sk-estimator-id-52\" type=\"checkbox\" ><label for=\"sk-estimator-id-52\" class=\"sk-toggleable__label sk-toggleable__label-arrow\">rfe: RFE</label><div class=\"sk-toggleable__content\"><pre>RFE(estimator=RidgeClassifierCV(), n_features_to_select=70, step=10, verbose=5)</pre></div></div></div><div class=\"sk-parallel\"><div class=\"sk-parallel-item\"><div class=\"sk-item\"><div class=\"sk-label-container\"><div class=\"sk-label sk-toggleable\"><input class=\"sk-toggleable__control sk-hidden--visually\" id=\"sk-estimator-id-53\" type=\"checkbox\" ><label for=\"sk-estimator-id-53\" class=\"sk-toggleable__label sk-toggleable__label-arrow\">estimator: RidgeClassifierCV</label><div class=\"sk-toggleable__content\"><pre>RidgeClassifierCV()</pre></div></div></div><div class=\"sk-serial\"><div class=\"sk-item\"><div class=\"sk-estimator sk-toggleable\"><input class=\"sk-toggleable__control sk-hidden--visually\" id=\"sk-estimator-id-54\" type=\"checkbox\" ><label for=\"sk-estimator-id-54\" class=\"sk-toggleable__label sk-toggleable__label-arrow\">RidgeClassifierCV</label><div class=\"sk-toggleable__content\"><pre>RidgeClassifierCV()</pre></div></div></div></div></div></div></div></div><div class=\"sk-item\"><div class=\"sk-estimator sk-toggleable\"><input class=\"sk-toggleable__control sk-hidden--visually\" id=\"sk-estimator-id-55\" type=\"checkbox\" ><label for=\"sk-estimator-id-55\" class=\"sk-toggleable__label sk-toggleable__label-arrow\">RidgeClassifierCV</label><div class=\"sk-toggleable__content\"><pre>RidgeClassifierCV(class_weight=&#x27;balanced&#x27;)</pre></div></div></div></div></div></div></div></div></div></div></div></div>"
      ],
      "text/plain": [
       "GridSearchCV(estimator=Pipeline(steps=[('categ',\n",
       "                                        ColumnTransformer(remainder='passthrough',\n",
       "                                                          transformers=[('one-hot-encoder',\n",
       "                                                                         OneHotEncoder(),\n",
       "                                                                         ['NAME_CONTRACT_TYPE',\n",
       "                                                                          'CODE_GENDER',\n",
       "                                                                          'FLAG_OWN_CAR',\n",
       "                                                                          'FLAG_OWN_REALTY',\n",
       "                                                                          'NAME_TYPE_SUITE',\n",
       "                                                                          'NAME_INCOME_TYPE',\n",
       "                                                                          'NAME_EDUCATION_TYPE',\n",
       "                                                                          'NAME_FAMILY_STATUS',\n",
       "                                                                          'NAME_HOUSING_TYPE',\n",
       "                                                                          'WEEKDAY_APPR_PROCESS_START',\n",
       "                                                                          'ORGANIZATION_TYPE'])])),\n",
       "                                       ('scaler',\n",
       "                                        StandardScaler(with_mean=False)),\n",
       "                                       ('rfe',\n",
       "                                        RFE(estimator=RidgeClassifierCV(),\n",
       "                                            n_features_to_select=70, step=10,\n",
       "                                            verbose=5)),\n",
       "                                       ('model',\n",
       "                                        RidgeClassifierCV(class_weight='balanced'))]),\n",
       "             n_jobs=2,\n",
       "             param_grid={'model__alphas': [(0.1, 1, 10), (0.2, 2, 20)]})"
      ]
     },
     "execution_count": 380,
     "metadata": {},
     "output_type": "execute_result"
    }
   ],
   "source": [
    "#scoring_metrics = \n",
    "param_grid =  {'model__alphas':[(0.1,1,10),(0.2,2,20)]} #grid params with __ (0.3,3,30)\n",
    "search = GridSearchCV(pipel, param_grid, n_jobs=2, scoring = scoring_metrics)\n",
    "search.fit(X_train, y_train)"
   ]
  },
  {
   "cell_type": "code",
   "execution_count": null,
   "metadata": {},
   "outputs": [
    {
     "data": {
      "text/plain": [
       "'https://127.0.0.1:5000'"
      ]
     },
     "metadata": {},
     "output_type": "display_data"
    }
   ],
   "source": [
    "mlflow.get_tracking_uri()"
   ]
  },
  {
   "attachments": {},
   "cell_type": "markdown",
   "metadata": {},
   "source": [
    "Mlflow"
   ]
  },
  {
   "cell_type": "code",
   "execution_count": 401,
   "metadata": {},
   "outputs": [],
   "source": [
    "mlflow.set_tracking_uri('http://127.0.0.1:5000') # changé de 5000"
   ]
  },
  {
   "cell_type": "code",
   "execution_count": 413,
   "metadata": {},
   "outputs": [
    {
     "data": {
      "text/plain": [
       "'https://127.0.0.1:5000'"
      ]
     },
     "execution_count": 413,
     "metadata": {},
     "output_type": "execute_result"
    }
   ],
   "source": [
    "mlflow.get_tracking_uri()"
   ]
  },
  {
   "cell_type": "code",
   "execution_count": 414,
   "metadata": {},
   "outputs": [],
   "source": [
    "mlflow.set_tracking_uri('http://127.0.0.1:5000')"
   ]
  },
  {
   "cell_type": "code",
   "execution_count": 422,
   "metadata": {},
   "outputs": [
    {
     "data": {
      "text/plain": [
       "{'mean_fit_time': array([189.5530005 , 186.08500228]),\n",
       " 'std_fit_time': array([13.01514645,  8.98847385]),\n",
       " 'mean_score_time': array([0.7565968 , 0.64220052]),\n",
       " 'std_score_time': array([0.2484872 , 0.16706332]),\n",
       " 'param_model__alphas': masked_array(data=[(0.1, 1, 10), (0.2, 2, 20)],\n",
       "              mask=[False, False],\n",
       "        fill_value='?',\n",
       "             dtype=object),\n",
       " 'params': [{'model__alphas': (0.1, 1, 10)}, {'model__alphas': (0.2, 2, 20)}],\n",
       " 'split0_test_score': array([0.68841606, 0.68848575]),\n",
       " 'split1_test_score': array([nan, nan]),\n",
       " 'split2_test_score': array([0.6854893, 0.6854893]),\n",
       " 'split3_test_score': array([0.69241133, 0.69252747]),\n",
       " 'split4_test_score': array([0.6866899 , 0.68671312]),\n",
       " 'mean_test_score': array([nan, nan]),\n",
       " 'std_test_score': array([nan, nan]),\n",
       " 'rank_test_score': array([1, 1])}"
      ]
     },
     "execution_count": 422,
     "metadata": {},
     "output_type": "execute_result"
    }
   ],
   "source": [
    "cv_results"
   ]
  },
  {
   "cell_type": "code",
   "execution_count": 420,
   "metadata": {},
   "outputs": [
    {
     "name": "stderr",
     "output_type": "stream",
     "text": [
      "2023/02/13 22:02:10 INFO mlflow.tracking.fluent: Experiment with name 'Pipeline + Gridsearch' does not exist. Creating a new experiment.\n"
     ]
    },
    {
     "name": "stdout",
     "output_type": "stream",
     "text": [
      "Logging parameters\n",
      "Logging metrics\n",
      "Logging model\n",
      "Logging parameters\n",
      "Logging metrics\n",
      "Logging model\n"
     ]
    }
   ],
   "source": [
    "\n",
    "mlflow.set_experiment(\"Pipeline + Gridsearch\") #Set the given experiment as the active experiment. The experiment must either be specified by name via experiment_name \n",
    "for i in range(len(search.cv_results_['params'])): # search remplace log_reg\n",
    "    run_index = i\n",
    "    cv_results = search.cv_results_\n",
    "    with mlflow.start_run(run_name=str(run_index)) as run:  \n",
    "            mlflow.log_param(\"folds\", search.cv)\n",
    "            print(\"Logging parameters\")\n",
    "            params = list(search.param_grid.keys())\n",
    "            for param in params:\n",
    "                mlflow.log_param(param, cv_results[\"param_%s\" % param][run_index])\n",
    "            print(\"Logging metrics\")\n",
    "            for score_name in [score for score in cv_results if \"mean_test\" in score]:\n",
    "                mlflow.log_metric(score_name, cv_results[score_name][run_index])\n",
    "                mlflow.log_metric(score_name.replace(\"mean\",\"std\"), cv_results[score_name.replace(\"mean\",\"std\")][run_index])\n",
    "            print(\"Logging model\")        \n",
    "            mlflow.sklearn.log_model(search.best_estimator_, 'Ridge_classifier_CV')#cv_results[score_name.replace(\"mean\",\"std\")][run_index]"
   ]
  },
  {
   "cell_type": "code",
   "execution_count": 409,
   "metadata": {},
   "outputs": [
    {
     "ename": "MlflowException",
     "evalue": "API request to https://127.0.0.1:5000/api/2.0/mlflow/runs/create failed with exception HTTPSConnectionPool(host='127.0.0.1', port=5000): Max retries exceeded with url: /api/2.0/mlflow/runs/create (Caused by NewConnectionError('<urllib3.connection.HTTPSConnection object at 0x000002999DF6ED00>: Failed to establish a new connection: [WinError 10061] Aucune connexion n’a pu être établie car l’ordinateur cible l’a expressément refusée'))",
     "output_type": "error",
     "traceback": [
      "\u001b[1;31m---------------------------------------------------------------------------\u001b[0m",
      "\u001b[1;31mConnectionRefusedError\u001b[0m                    Traceback (most recent call last)",
      "File \u001b[1;32mc:\\Users\\utilisateur\\Documents\\MyAmaWok\\OC Data Scientist\\Projet OC 7 Implementer un modele de Scoring\\.venv\\lib\\site-packages\\urllib3\\connection.py:174\u001b[0m, in \u001b[0;36mHTTPConnection._new_conn\u001b[1;34m(self)\u001b[0m\n\u001b[0;32m    173\u001b[0m \u001b[39mtry\u001b[39;00m:\n\u001b[1;32m--> 174\u001b[0m     conn \u001b[39m=\u001b[39m connection\u001b[39m.\u001b[39mcreate_connection(\n\u001b[0;32m    175\u001b[0m         (\u001b[39mself\u001b[39m\u001b[39m.\u001b[39m_dns_host, \u001b[39mself\u001b[39m\u001b[39m.\u001b[39mport), \u001b[39mself\u001b[39m\u001b[39m.\u001b[39mtimeout, \u001b[39m*\u001b[39m\u001b[39m*\u001b[39mextra_kw\n\u001b[0;32m    176\u001b[0m     )\n\u001b[0;32m    178\u001b[0m \u001b[39mexcept\u001b[39;00m SocketTimeout:\n",
      "File \u001b[1;32mc:\\Users\\utilisateur\\Documents\\MyAmaWok\\OC Data Scientist\\Projet OC 7 Implementer un modele de Scoring\\.venv\\lib\\site-packages\\urllib3\\util\\connection.py:95\u001b[0m, in \u001b[0;36mcreate_connection\u001b[1;34m(address, timeout, source_address, socket_options)\u001b[0m\n\u001b[0;32m     94\u001b[0m \u001b[39mif\u001b[39;00m err \u001b[39mis\u001b[39;00m \u001b[39mnot\u001b[39;00m \u001b[39mNone\u001b[39;00m:\n\u001b[1;32m---> 95\u001b[0m     \u001b[39mraise\u001b[39;00m err\n\u001b[0;32m     97\u001b[0m \u001b[39mraise\u001b[39;00m socket\u001b[39m.\u001b[39merror(\u001b[39m\"\u001b[39m\u001b[39mgetaddrinfo returns an empty list\u001b[39m\u001b[39m\"\u001b[39m)\n",
      "File \u001b[1;32mc:\\Users\\utilisateur\\Documents\\MyAmaWok\\OC Data Scientist\\Projet OC 7 Implementer un modele de Scoring\\.venv\\lib\\site-packages\\urllib3\\util\\connection.py:85\u001b[0m, in \u001b[0;36mcreate_connection\u001b[1;34m(address, timeout, source_address, socket_options)\u001b[0m\n\u001b[0;32m     84\u001b[0m     sock\u001b[39m.\u001b[39mbind(source_address)\n\u001b[1;32m---> 85\u001b[0m sock\u001b[39m.\u001b[39;49mconnect(sa)\n\u001b[0;32m     86\u001b[0m \u001b[39mreturn\u001b[39;00m sock\n",
      "\u001b[1;31mConnectionRefusedError\u001b[0m: [WinError 10061] Aucune connexion n’a pu être établie car l’ordinateur cible l’a expressément refusée",
      "\nDuring handling of the above exception, another exception occurred:\n",
      "\u001b[1;31mNewConnectionError\u001b[0m                        Traceback (most recent call last)",
      "File \u001b[1;32mc:\\Users\\utilisateur\\Documents\\MyAmaWok\\OC Data Scientist\\Projet OC 7 Implementer un modele de Scoring\\.venv\\lib\\site-packages\\urllib3\\connectionpool.py:703\u001b[0m, in \u001b[0;36mHTTPConnectionPool.urlopen\u001b[1;34m(self, method, url, body, headers, retries, redirect, assert_same_host, timeout, pool_timeout, release_conn, chunked, body_pos, **response_kw)\u001b[0m\n\u001b[0;32m    702\u001b[0m \u001b[39m# Make the request on the httplib connection object.\u001b[39;00m\n\u001b[1;32m--> 703\u001b[0m httplib_response \u001b[39m=\u001b[39m \u001b[39mself\u001b[39;49m\u001b[39m.\u001b[39;49m_make_request(\n\u001b[0;32m    704\u001b[0m     conn,\n\u001b[0;32m    705\u001b[0m     method,\n\u001b[0;32m    706\u001b[0m     url,\n\u001b[0;32m    707\u001b[0m     timeout\u001b[39m=\u001b[39;49mtimeout_obj,\n\u001b[0;32m    708\u001b[0m     body\u001b[39m=\u001b[39;49mbody,\n\u001b[0;32m    709\u001b[0m     headers\u001b[39m=\u001b[39;49mheaders,\n\u001b[0;32m    710\u001b[0m     chunked\u001b[39m=\u001b[39;49mchunked,\n\u001b[0;32m    711\u001b[0m )\n\u001b[0;32m    713\u001b[0m \u001b[39m# If we're going to release the connection in ``finally:``, then\u001b[39;00m\n\u001b[0;32m    714\u001b[0m \u001b[39m# the response doesn't need to know about the connection. Otherwise\u001b[39;00m\n\u001b[0;32m    715\u001b[0m \u001b[39m# it will also try to release it and we'll have a double-release\u001b[39;00m\n\u001b[0;32m    716\u001b[0m \u001b[39m# mess.\u001b[39;00m\n",
      "File \u001b[1;32mc:\\Users\\utilisateur\\Documents\\MyAmaWok\\OC Data Scientist\\Projet OC 7 Implementer un modele de Scoring\\.venv\\lib\\site-packages\\urllib3\\connectionpool.py:386\u001b[0m, in \u001b[0;36mHTTPConnectionPool._make_request\u001b[1;34m(self, conn, method, url, timeout, chunked, **httplib_request_kw)\u001b[0m\n\u001b[0;32m    385\u001b[0m \u001b[39mtry\u001b[39;00m:\n\u001b[1;32m--> 386\u001b[0m     \u001b[39mself\u001b[39;49m\u001b[39m.\u001b[39;49m_validate_conn(conn)\n\u001b[0;32m    387\u001b[0m \u001b[39mexcept\u001b[39;00m (SocketTimeout, BaseSSLError) \u001b[39mas\u001b[39;00m e:\n\u001b[0;32m    388\u001b[0m     \u001b[39m# Py2 raises this as a BaseSSLError, Py3 raises it as socket timeout.\u001b[39;00m\n",
      "File \u001b[1;32mc:\\Users\\utilisateur\\Documents\\MyAmaWok\\OC Data Scientist\\Projet OC 7 Implementer un modele de Scoring\\.venv\\lib\\site-packages\\urllib3\\connectionpool.py:1042\u001b[0m, in \u001b[0;36mHTTPSConnectionPool._validate_conn\u001b[1;34m(self, conn)\u001b[0m\n\u001b[0;32m   1041\u001b[0m \u001b[39mif\u001b[39;00m \u001b[39mnot\u001b[39;00m \u001b[39mgetattr\u001b[39m(conn, \u001b[39m\"\u001b[39m\u001b[39msock\u001b[39m\u001b[39m\"\u001b[39m, \u001b[39mNone\u001b[39;00m):  \u001b[39m# AppEngine might not have  `.sock`\u001b[39;00m\n\u001b[1;32m-> 1042\u001b[0m     conn\u001b[39m.\u001b[39;49mconnect()\n\u001b[0;32m   1044\u001b[0m \u001b[39mif\u001b[39;00m \u001b[39mnot\u001b[39;00m conn\u001b[39m.\u001b[39mis_verified:\n",
      "File \u001b[1;32mc:\\Users\\utilisateur\\Documents\\MyAmaWok\\OC Data Scientist\\Projet OC 7 Implementer un modele de Scoring\\.venv\\lib\\site-packages\\urllib3\\connection.py:358\u001b[0m, in \u001b[0;36mHTTPSConnection.connect\u001b[1;34m(self)\u001b[0m\n\u001b[0;32m    356\u001b[0m \u001b[39mdef\u001b[39;00m \u001b[39mconnect\u001b[39m(\u001b[39mself\u001b[39m):\n\u001b[0;32m    357\u001b[0m     \u001b[39m# Add certificate verification\u001b[39;00m\n\u001b[1;32m--> 358\u001b[0m     \u001b[39mself\u001b[39m\u001b[39m.\u001b[39msock \u001b[39m=\u001b[39m conn \u001b[39m=\u001b[39m \u001b[39mself\u001b[39;49m\u001b[39m.\u001b[39;49m_new_conn()\n\u001b[0;32m    359\u001b[0m     hostname \u001b[39m=\u001b[39m \u001b[39mself\u001b[39m\u001b[39m.\u001b[39mhost\n",
      "File \u001b[1;32mc:\\Users\\utilisateur\\Documents\\MyAmaWok\\OC Data Scientist\\Projet OC 7 Implementer un modele de Scoring\\.venv\\lib\\site-packages\\urllib3\\connection.py:186\u001b[0m, in \u001b[0;36mHTTPConnection._new_conn\u001b[1;34m(self)\u001b[0m\n\u001b[0;32m    185\u001b[0m \u001b[39mexcept\u001b[39;00m SocketError \u001b[39mas\u001b[39;00m e:\n\u001b[1;32m--> 186\u001b[0m     \u001b[39mraise\u001b[39;00m NewConnectionError(\n\u001b[0;32m    187\u001b[0m         \u001b[39mself\u001b[39m, \u001b[39m\"\u001b[39m\u001b[39mFailed to establish a new connection: \u001b[39m\u001b[39m%s\u001b[39;00m\u001b[39m\"\u001b[39m \u001b[39m%\u001b[39m e\n\u001b[0;32m    188\u001b[0m     )\n\u001b[0;32m    190\u001b[0m \u001b[39mreturn\u001b[39;00m conn\n",
      "\u001b[1;31mNewConnectionError\u001b[0m: <urllib3.connection.HTTPSConnection object at 0x000002999DF6ED00>: Failed to establish a new connection: [WinError 10061] Aucune connexion n’a pu être établie car l’ordinateur cible l’a expressément refusée",
      "\nDuring handling of the above exception, another exception occurred:\n",
      "\u001b[1;31mMaxRetryError\u001b[0m                             Traceback (most recent call last)",
      "File \u001b[1;32mc:\\Users\\utilisateur\\Documents\\MyAmaWok\\OC Data Scientist\\Projet OC 7 Implementer un modele de Scoring\\.venv\\lib\\site-packages\\requests\\adapters.py:489\u001b[0m, in \u001b[0;36mHTTPAdapter.send\u001b[1;34m(self, request, stream, timeout, verify, cert, proxies)\u001b[0m\n\u001b[0;32m    488\u001b[0m \u001b[39mif\u001b[39;00m \u001b[39mnot\u001b[39;00m chunked:\n\u001b[1;32m--> 489\u001b[0m     resp \u001b[39m=\u001b[39m conn\u001b[39m.\u001b[39;49murlopen(\n\u001b[0;32m    490\u001b[0m         method\u001b[39m=\u001b[39;49mrequest\u001b[39m.\u001b[39;49mmethod,\n\u001b[0;32m    491\u001b[0m         url\u001b[39m=\u001b[39;49murl,\n\u001b[0;32m    492\u001b[0m         body\u001b[39m=\u001b[39;49mrequest\u001b[39m.\u001b[39;49mbody,\n\u001b[0;32m    493\u001b[0m         headers\u001b[39m=\u001b[39;49mrequest\u001b[39m.\u001b[39;49mheaders,\n\u001b[0;32m    494\u001b[0m         redirect\u001b[39m=\u001b[39;49m\u001b[39mFalse\u001b[39;49;00m,\n\u001b[0;32m    495\u001b[0m         assert_same_host\u001b[39m=\u001b[39;49m\u001b[39mFalse\u001b[39;49;00m,\n\u001b[0;32m    496\u001b[0m         preload_content\u001b[39m=\u001b[39;49m\u001b[39mFalse\u001b[39;49;00m,\n\u001b[0;32m    497\u001b[0m         decode_content\u001b[39m=\u001b[39;49m\u001b[39mFalse\u001b[39;49;00m,\n\u001b[0;32m    498\u001b[0m         retries\u001b[39m=\u001b[39;49m\u001b[39mself\u001b[39;49m\u001b[39m.\u001b[39;49mmax_retries,\n\u001b[0;32m    499\u001b[0m         timeout\u001b[39m=\u001b[39;49mtimeout,\n\u001b[0;32m    500\u001b[0m     )\n\u001b[0;32m    502\u001b[0m \u001b[39m# Send the request.\u001b[39;00m\n\u001b[0;32m    503\u001b[0m \u001b[39melse\u001b[39;00m:\n",
      "File \u001b[1;32mc:\\Users\\utilisateur\\Documents\\MyAmaWok\\OC Data Scientist\\Projet OC 7 Implementer un modele de Scoring\\.venv\\lib\\site-packages\\urllib3\\connectionpool.py:815\u001b[0m, in \u001b[0;36mHTTPConnectionPool.urlopen\u001b[1;34m(self, method, url, body, headers, retries, redirect, assert_same_host, timeout, pool_timeout, release_conn, chunked, body_pos, **response_kw)\u001b[0m\n\u001b[0;32m    812\u001b[0m     log\u001b[39m.\u001b[39mwarning(\n\u001b[0;32m    813\u001b[0m         \u001b[39m\"\u001b[39m\u001b[39mRetrying (\u001b[39m\u001b[39m%r\u001b[39;00m\u001b[39m) after connection broken by \u001b[39m\u001b[39m'\u001b[39m\u001b[39m%r\u001b[39;00m\u001b[39m'\u001b[39m\u001b[39m: \u001b[39m\u001b[39m%s\u001b[39;00m\u001b[39m\"\u001b[39m, retries, err, url\n\u001b[0;32m    814\u001b[0m     )\n\u001b[1;32m--> 815\u001b[0m     \u001b[39mreturn\u001b[39;00m \u001b[39mself\u001b[39m\u001b[39m.\u001b[39murlopen(\n\u001b[0;32m    816\u001b[0m         method,\n\u001b[0;32m    817\u001b[0m         url,\n\u001b[0;32m    818\u001b[0m         body,\n\u001b[0;32m    819\u001b[0m         headers,\n\u001b[0;32m    820\u001b[0m         retries,\n\u001b[0;32m    821\u001b[0m         redirect,\n\u001b[0;32m    822\u001b[0m         assert_same_host,\n\u001b[0;32m    823\u001b[0m         timeout\u001b[39m=\u001b[39mtimeout,\n\u001b[0;32m    824\u001b[0m         pool_timeout\u001b[39m=\u001b[39mpool_timeout,\n\u001b[0;32m    825\u001b[0m         release_conn\u001b[39m=\u001b[39mrelease_conn,\n\u001b[0;32m    826\u001b[0m         chunked\u001b[39m=\u001b[39mchunked,\n\u001b[0;32m    827\u001b[0m         body_pos\u001b[39m=\u001b[39mbody_pos,\n\u001b[0;32m    828\u001b[0m         \u001b[39m*\u001b[39m\u001b[39m*\u001b[39mresponse_kw\n\u001b[0;32m    829\u001b[0m     )\n\u001b[0;32m    831\u001b[0m \u001b[39m# Handle redirect?\u001b[39;00m\n",
      "File \u001b[1;32mc:\\Users\\utilisateur\\Documents\\MyAmaWok\\OC Data Scientist\\Projet OC 7 Implementer un modele de Scoring\\.venv\\lib\\site-packages\\urllib3\\connectionpool.py:815\u001b[0m, in \u001b[0;36mHTTPConnectionPool.urlopen\u001b[1;34m(self, method, url, body, headers, retries, redirect, assert_same_host, timeout, pool_timeout, release_conn, chunked, body_pos, **response_kw)\u001b[0m\n\u001b[0;32m    812\u001b[0m     log\u001b[39m.\u001b[39mwarning(\n\u001b[0;32m    813\u001b[0m         \u001b[39m\"\u001b[39m\u001b[39mRetrying (\u001b[39m\u001b[39m%r\u001b[39;00m\u001b[39m) after connection broken by \u001b[39m\u001b[39m'\u001b[39m\u001b[39m%r\u001b[39;00m\u001b[39m'\u001b[39m\u001b[39m: \u001b[39m\u001b[39m%s\u001b[39;00m\u001b[39m\"\u001b[39m, retries, err, url\n\u001b[0;32m    814\u001b[0m     )\n\u001b[1;32m--> 815\u001b[0m     \u001b[39mreturn\u001b[39;00m \u001b[39mself\u001b[39m\u001b[39m.\u001b[39murlopen(\n\u001b[0;32m    816\u001b[0m         method,\n\u001b[0;32m    817\u001b[0m         url,\n\u001b[0;32m    818\u001b[0m         body,\n\u001b[0;32m    819\u001b[0m         headers,\n\u001b[0;32m    820\u001b[0m         retries,\n\u001b[0;32m    821\u001b[0m         redirect,\n\u001b[0;32m    822\u001b[0m         assert_same_host,\n\u001b[0;32m    823\u001b[0m         timeout\u001b[39m=\u001b[39mtimeout,\n\u001b[0;32m    824\u001b[0m         pool_timeout\u001b[39m=\u001b[39mpool_timeout,\n\u001b[0;32m    825\u001b[0m         release_conn\u001b[39m=\u001b[39mrelease_conn,\n\u001b[0;32m    826\u001b[0m         chunked\u001b[39m=\u001b[39mchunked,\n\u001b[0;32m    827\u001b[0m         body_pos\u001b[39m=\u001b[39mbody_pos,\n\u001b[0;32m    828\u001b[0m         \u001b[39m*\u001b[39m\u001b[39m*\u001b[39mresponse_kw\n\u001b[0;32m    829\u001b[0m     )\n\u001b[0;32m    831\u001b[0m \u001b[39m# Handle redirect?\u001b[39;00m\n",
      "    \u001b[1;31m[... skipping similar frames: HTTPConnectionPool.urlopen at line 815 (2 times)]\u001b[0m\n",
      "File \u001b[1;32mc:\\Users\\utilisateur\\Documents\\MyAmaWok\\OC Data Scientist\\Projet OC 7 Implementer un modele de Scoring\\.venv\\lib\\site-packages\\urllib3\\connectionpool.py:815\u001b[0m, in \u001b[0;36mHTTPConnectionPool.urlopen\u001b[1;34m(self, method, url, body, headers, retries, redirect, assert_same_host, timeout, pool_timeout, release_conn, chunked, body_pos, **response_kw)\u001b[0m\n\u001b[0;32m    812\u001b[0m     log\u001b[39m.\u001b[39mwarning(\n\u001b[0;32m    813\u001b[0m         \u001b[39m\"\u001b[39m\u001b[39mRetrying (\u001b[39m\u001b[39m%r\u001b[39;00m\u001b[39m) after connection broken by \u001b[39m\u001b[39m'\u001b[39m\u001b[39m%r\u001b[39;00m\u001b[39m'\u001b[39m\u001b[39m: \u001b[39m\u001b[39m%s\u001b[39;00m\u001b[39m\"\u001b[39m, retries, err, url\n\u001b[0;32m    814\u001b[0m     )\n\u001b[1;32m--> 815\u001b[0m     \u001b[39mreturn\u001b[39;00m \u001b[39mself\u001b[39m\u001b[39m.\u001b[39murlopen(\n\u001b[0;32m    816\u001b[0m         method,\n\u001b[0;32m    817\u001b[0m         url,\n\u001b[0;32m    818\u001b[0m         body,\n\u001b[0;32m    819\u001b[0m         headers,\n\u001b[0;32m    820\u001b[0m         retries,\n\u001b[0;32m    821\u001b[0m         redirect,\n\u001b[0;32m    822\u001b[0m         assert_same_host,\n\u001b[0;32m    823\u001b[0m         timeout\u001b[39m=\u001b[39mtimeout,\n\u001b[0;32m    824\u001b[0m         pool_timeout\u001b[39m=\u001b[39mpool_timeout,\n\u001b[0;32m    825\u001b[0m         release_conn\u001b[39m=\u001b[39mrelease_conn,\n\u001b[0;32m    826\u001b[0m         chunked\u001b[39m=\u001b[39mchunked,\n\u001b[0;32m    827\u001b[0m         body_pos\u001b[39m=\u001b[39mbody_pos,\n\u001b[0;32m    828\u001b[0m         \u001b[39m*\u001b[39m\u001b[39m*\u001b[39mresponse_kw\n\u001b[0;32m    829\u001b[0m     )\n\u001b[0;32m    831\u001b[0m \u001b[39m# Handle redirect?\u001b[39;00m\n",
      "File \u001b[1;32mc:\\Users\\utilisateur\\Documents\\MyAmaWok\\OC Data Scientist\\Projet OC 7 Implementer un modele de Scoring\\.venv\\lib\\site-packages\\urllib3\\connectionpool.py:787\u001b[0m, in \u001b[0;36mHTTPConnectionPool.urlopen\u001b[1;34m(self, method, url, body, headers, retries, redirect, assert_same_host, timeout, pool_timeout, release_conn, chunked, body_pos, **response_kw)\u001b[0m\n\u001b[0;32m    785\u001b[0m     e \u001b[39m=\u001b[39m ProtocolError(\u001b[39m\"\u001b[39m\u001b[39mConnection aborted.\u001b[39m\u001b[39m\"\u001b[39m, e)\n\u001b[1;32m--> 787\u001b[0m retries \u001b[39m=\u001b[39m retries\u001b[39m.\u001b[39;49mincrement(\n\u001b[0;32m    788\u001b[0m     method, url, error\u001b[39m=\u001b[39;49me, _pool\u001b[39m=\u001b[39;49m\u001b[39mself\u001b[39;49m, _stacktrace\u001b[39m=\u001b[39;49msys\u001b[39m.\u001b[39;49mexc_info()[\u001b[39m2\u001b[39;49m]\n\u001b[0;32m    789\u001b[0m )\n\u001b[0;32m    790\u001b[0m retries\u001b[39m.\u001b[39msleep()\n",
      "File \u001b[1;32mc:\\Users\\utilisateur\\Documents\\MyAmaWok\\OC Data Scientist\\Projet OC 7 Implementer un modele de Scoring\\.venv\\lib\\site-packages\\urllib3\\util\\retry.py:592\u001b[0m, in \u001b[0;36mRetry.increment\u001b[1;34m(self, method, url, response, error, _pool, _stacktrace)\u001b[0m\n\u001b[0;32m    591\u001b[0m \u001b[39mif\u001b[39;00m new_retry\u001b[39m.\u001b[39mis_exhausted():\n\u001b[1;32m--> 592\u001b[0m     \u001b[39mraise\u001b[39;00m MaxRetryError(_pool, url, error \u001b[39mor\u001b[39;00m ResponseError(cause))\n\u001b[0;32m    594\u001b[0m log\u001b[39m.\u001b[39mdebug(\u001b[39m\"\u001b[39m\u001b[39mIncremented Retry for (url=\u001b[39m\u001b[39m'\u001b[39m\u001b[39m%s\u001b[39;00m\u001b[39m'\u001b[39m\u001b[39m): \u001b[39m\u001b[39m%r\u001b[39;00m\u001b[39m\"\u001b[39m, url, new_retry)\n",
      "\u001b[1;31mMaxRetryError\u001b[0m: HTTPSConnectionPool(host='127.0.0.1', port=5000): Max retries exceeded with url: /api/2.0/mlflow/runs/create (Caused by NewConnectionError('<urllib3.connection.HTTPSConnection object at 0x000002999DF6ED00>: Failed to establish a new connection: [WinError 10061] Aucune connexion n’a pu être établie car l’ordinateur cible l’a expressément refusée'))",
      "\nDuring handling of the above exception, another exception occurred:\n",
      "\u001b[1;31mConnectionError\u001b[0m                           Traceback (most recent call last)",
      "File \u001b[1;32mc:\\Users\\utilisateur\\Documents\\MyAmaWok\\OC Data Scientist\\Projet OC 7 Implementer un modele de Scoring\\.venv\\lib\\site-packages\\mlflow\\utils\\rest_utils.py:167\u001b[0m, in \u001b[0;36mhttp_request\u001b[1;34m(host_creds, endpoint, method, max_retries, backoff_factor, retry_codes, timeout, **kwargs)\u001b[0m\n\u001b[0;32m    166\u001b[0m \u001b[39mtry\u001b[39;00m:\n\u001b[1;32m--> 167\u001b[0m     \u001b[39mreturn\u001b[39;00m _get_http_response_with_retries(\n\u001b[0;32m    168\u001b[0m         method,\n\u001b[0;32m    169\u001b[0m         url,\n\u001b[0;32m    170\u001b[0m         max_retries,\n\u001b[0;32m    171\u001b[0m         backoff_factor,\n\u001b[0;32m    172\u001b[0m         retry_codes,\n\u001b[0;32m    173\u001b[0m         headers\u001b[39m=\u001b[39mheaders,\n\u001b[0;32m    174\u001b[0m         verify\u001b[39m=\u001b[39mverify,\n\u001b[0;32m    175\u001b[0m         timeout\u001b[39m=\u001b[39mtimeout,\n\u001b[0;32m    176\u001b[0m         \u001b[39m*\u001b[39m\u001b[39m*\u001b[39mkwargs,\n\u001b[0;32m    177\u001b[0m     )\n\u001b[0;32m    178\u001b[0m \u001b[39mexcept\u001b[39;00m requests\u001b[39m.\u001b[39mexceptions\u001b[39m.\u001b[39mTimeout \u001b[39mas\u001b[39;00m to:\n",
      "File \u001b[1;32mc:\\Users\\utilisateur\\Documents\\MyAmaWok\\OC Data Scientist\\Projet OC 7 Implementer un modele de Scoring\\.venv\\lib\\site-packages\\mlflow\\utils\\rest_utils.py:98\u001b[0m, in \u001b[0;36m_get_http_response_with_retries\u001b[1;34m(method, url, max_retries, backoff_factor, retry_codes, **kwargs)\u001b[0m\n\u001b[0;32m     97\u001b[0m session \u001b[39m=\u001b[39m _get_request_session(max_retries, backoff_factor, retry_codes)\n\u001b[1;32m---> 98\u001b[0m \u001b[39mreturn\u001b[39;00m session\u001b[39m.\u001b[39mrequest(method, url, \u001b[39m*\u001b[39m\u001b[39m*\u001b[39mkwargs)\n",
      "File \u001b[1;32mc:\\Users\\utilisateur\\Documents\\MyAmaWok\\OC Data Scientist\\Projet OC 7 Implementer un modele de Scoring\\.venv\\lib\\site-packages\\requests\\sessions.py:587\u001b[0m, in \u001b[0;36mSession.request\u001b[1;34m(self, method, url, params, data, headers, cookies, files, auth, timeout, allow_redirects, proxies, hooks, stream, verify, cert, json)\u001b[0m\n\u001b[0;32m    586\u001b[0m send_kwargs\u001b[39m.\u001b[39mupdate(settings)\n\u001b[1;32m--> 587\u001b[0m resp \u001b[39m=\u001b[39m \u001b[39mself\u001b[39m\u001b[39m.\u001b[39msend(prep, \u001b[39m*\u001b[39m\u001b[39m*\u001b[39msend_kwargs)\n\u001b[0;32m    589\u001b[0m \u001b[39mreturn\u001b[39;00m resp\n",
      "File \u001b[1;32mc:\\Users\\utilisateur\\Documents\\MyAmaWok\\OC Data Scientist\\Projet OC 7 Implementer un modele de Scoring\\.venv\\lib\\site-packages\\requests\\sessions.py:701\u001b[0m, in \u001b[0;36mSession.send\u001b[1;34m(self, request, **kwargs)\u001b[0m\n\u001b[0;32m    700\u001b[0m \u001b[39m# Send the request\u001b[39;00m\n\u001b[1;32m--> 701\u001b[0m r \u001b[39m=\u001b[39m adapter\u001b[39m.\u001b[39msend(request, \u001b[39m*\u001b[39m\u001b[39m*\u001b[39mkwargs)\n\u001b[0;32m    703\u001b[0m \u001b[39m# Total elapsed time of the request (approximately)\u001b[39;00m\n",
      "File \u001b[1;32mc:\\Users\\utilisateur\\Documents\\MyAmaWok\\OC Data Scientist\\Projet OC 7 Implementer un modele de Scoring\\.venv\\lib\\site-packages\\requests\\adapters.py:565\u001b[0m, in \u001b[0;36mHTTPAdapter.send\u001b[1;34m(self, request, stream, timeout, verify, cert, proxies)\u001b[0m\n\u001b[0;32m    563\u001b[0m         \u001b[39mraise\u001b[39;00m SSLError(e, request\u001b[39m=\u001b[39mrequest)\n\u001b[1;32m--> 565\u001b[0m     \u001b[39mraise\u001b[39;00m \u001b[39mConnectionError\u001b[39;00m(e, request\u001b[39m=\u001b[39mrequest)\n\u001b[0;32m    567\u001b[0m \u001b[39mexcept\u001b[39;00m ClosedPoolError \u001b[39mas\u001b[39;00m e:\n",
      "\u001b[1;31mConnectionError\u001b[0m: HTTPSConnectionPool(host='127.0.0.1', port=5000): Max retries exceeded with url: /api/2.0/mlflow/runs/create (Caused by NewConnectionError('<urllib3.connection.HTTPSConnection object at 0x000002999DF6ED00>: Failed to establish a new connection: [WinError 10061] Aucune connexion n’a pu être établie car l’ordinateur cible l’a expressément refusée'))",
      "\nDuring handling of the above exception, another exception occurred:\n",
      "\u001b[1;31mMlflowException\u001b[0m                           Traceback (most recent call last)",
      "Cell \u001b[1;32mIn[409], line 3\u001b[0m\n\u001b[0;32m      1\u001b[0m \u001b[39m#mlflow.set_tracking_uri('http://127.0.0.1:5000')\u001b[39;00m\n\u001b[0;32m      2\u001b[0m \u001b[39m#experiment = mlflow.set_experiment(\"Pipeline + Gridsearch\")\u001b[39;00m\n\u001b[1;32m----> 3\u001b[0m \u001b[39mwith\u001b[39;00m mlflow\u001b[39m.\u001b[39;49mstart_run():\n\u001b[0;32m      4\u001b[0m      \u001b[39m#log metrics\u001b[39;00m\n\u001b[0;32m      5\u001b[0m      mlflow\u001b[39m.\u001b[39mlog_metric(\u001b[39m\"\u001b[39m\u001b[39maccuracy\u001b[39m\u001b[39m\"\u001b[39m, accuracy_score( y_test\u001b[39m.\u001b[39mvalues, y_pred))\n\u001b[0;32m      6\u001b[0m      mlflow\u001b[39m.\u001b[39mlog_metric(\u001b[39m\"\u001b[39m\u001b[39mprecison\u001b[39m\u001b[39m\"\u001b[39m, precision_score( y_test\u001b[39m.\u001b[39mvalues, y_pred))\n",
      "File \u001b[1;32mc:\\Users\\utilisateur\\Documents\\MyAmaWok\\OC Data Scientist\\Projet OC 7 Implementer un modele de Scoring\\.venv\\lib\\site-packages\\mlflow\\tracking\\fluent.py:349\u001b[0m, in \u001b[0;36mstart_run\u001b[1;34m(run_id, experiment_id, run_name, nested, tags, description)\u001b[0m\n\u001b[0;32m    345\u001b[0m         user_specified_tags[MLFLOW_RUN_NAME] \u001b[39m=\u001b[39m run_name\n\u001b[0;32m    347\u001b[0m     resolved_tags \u001b[39m=\u001b[39m context_registry\u001b[39m.\u001b[39mresolve_tags(user_specified_tags)\n\u001b[1;32m--> 349\u001b[0m     active_run_obj \u001b[39m=\u001b[39m client\u001b[39m.\u001b[39;49mcreate_run(\n\u001b[0;32m    350\u001b[0m         experiment_id\u001b[39m=\u001b[39;49mexp_id_for_run, tags\u001b[39m=\u001b[39;49mresolved_tags, run_name\u001b[39m=\u001b[39;49mrun_name\n\u001b[0;32m    351\u001b[0m     )\n\u001b[0;32m    353\u001b[0m _active_run_stack\u001b[39m.\u001b[39mappend(ActiveRun(active_run_obj))\n\u001b[0;32m    354\u001b[0m \u001b[39mreturn\u001b[39;00m _active_run_stack[\u001b[39m-\u001b[39m\u001b[39m1\u001b[39m]\n",
      "File \u001b[1;32mc:\\Users\\utilisateur\\Documents\\MyAmaWok\\OC Data Scientist\\Projet OC 7 Implementer un modele de Scoring\\.venv\\lib\\site-packages\\mlflow\\tracking\\client.py:270\u001b[0m, in \u001b[0;36mMlflowClient.create_run\u001b[1;34m(self, experiment_id, start_time, tags, run_name)\u001b[0m\n\u001b[0;32m    219\u001b[0m \u001b[39mdef\u001b[39;00m \u001b[39mcreate_run\u001b[39m(\n\u001b[0;32m    220\u001b[0m     \u001b[39mself\u001b[39m,\n\u001b[0;32m    221\u001b[0m     experiment_id: \u001b[39mstr\u001b[39m,\n\u001b[1;32m   (...)\u001b[0m\n\u001b[0;32m    224\u001b[0m     run_name: Optional[\u001b[39mstr\u001b[39m] \u001b[39m=\u001b[39m \u001b[39mNone\u001b[39;00m,\n\u001b[0;32m    225\u001b[0m ) \u001b[39m-\u001b[39m\u001b[39m>\u001b[39m Run:\n\u001b[0;32m    226\u001b[0m \u001b[39m    \u001b[39m\u001b[39m\"\"\"\u001b[39;00m\n\u001b[0;32m    227\u001b[0m \u001b[39m    Create a :py:class:`mlflow.entities.Run` object that can be associated with\u001b[39;00m\n\u001b[0;32m    228\u001b[0m \u001b[39m    metrics, parameters, artifacts, etc.\u001b[39;00m\n\u001b[1;32m   (...)\u001b[0m\n\u001b[0;32m    268\u001b[0m \u001b[39m        status: RUNNING\u001b[39;00m\n\u001b[0;32m    269\u001b[0m \u001b[39m    \"\"\"\u001b[39;00m\n\u001b[1;32m--> 270\u001b[0m     \u001b[39mreturn\u001b[39;00m \u001b[39mself\u001b[39;49m\u001b[39m.\u001b[39;49m_tracking_client\u001b[39m.\u001b[39;49mcreate_run(experiment_id, start_time, tags, run_name)\n",
      "File \u001b[1;32mc:\\Users\\utilisateur\\Documents\\MyAmaWok\\OC Data Scientist\\Projet OC 7 Implementer un modele de Scoring\\.venv\\lib\\site-packages\\mlflow\\tracking\\_tracking_service\\client.py:131\u001b[0m, in \u001b[0;36mTrackingServiceClient.create_run\u001b[1;34m(self, experiment_id, start_time, tags, run_name)\u001b[0m\n\u001b[0;32m    126\u001b[0m \u001b[39m# Extract user from tags\u001b[39;00m\n\u001b[0;32m    127\u001b[0m \u001b[39m# This logic is temporary; the user_id attribute of runs is deprecated and will be removed\u001b[39;00m\n\u001b[0;32m    128\u001b[0m \u001b[39m# in a later release.\u001b[39;00m\n\u001b[0;32m    129\u001b[0m user_id \u001b[39m=\u001b[39m tags\u001b[39m.\u001b[39mget(MLFLOW_USER, \u001b[39m\"\u001b[39m\u001b[39munknown\u001b[39m\u001b[39m\"\u001b[39m)\n\u001b[1;32m--> 131\u001b[0m \u001b[39mreturn\u001b[39;00m \u001b[39mself\u001b[39;49m\u001b[39m.\u001b[39;49mstore\u001b[39m.\u001b[39;49mcreate_run(\n\u001b[0;32m    132\u001b[0m     experiment_id\u001b[39m=\u001b[39;49mexperiment_id,\n\u001b[0;32m    133\u001b[0m     user_id\u001b[39m=\u001b[39;49muser_id,\n\u001b[0;32m    134\u001b[0m     start_time\u001b[39m=\u001b[39;49mstart_time \u001b[39mor\u001b[39;49;00m get_current_time_millis(),\n\u001b[0;32m    135\u001b[0m     tags\u001b[39m=\u001b[39;49m[RunTag(key, value) \u001b[39mfor\u001b[39;49;00m (key, value) \u001b[39min\u001b[39;49;00m tags\u001b[39m.\u001b[39;49mitems()],\n\u001b[0;32m    136\u001b[0m     run_name\u001b[39m=\u001b[39;49mrun_name,\n\u001b[0;32m    137\u001b[0m )\n",
      "File \u001b[1;32mc:\\Users\\utilisateur\\Documents\\MyAmaWok\\OC Data Scientist\\Projet OC 7 Implementer un modele de Scoring\\.venv\\lib\\site-packages\\mlflow\\store\\tracking\\rest_store.py:175\u001b[0m, in \u001b[0;36mRestStore.create_run\u001b[1;34m(self, experiment_id, user_id, start_time, tags, run_name)\u001b[0m\n\u001b[0;32m    165\u001b[0m tag_protos \u001b[39m=\u001b[39m [tag\u001b[39m.\u001b[39mto_proto() \u001b[39mfor\u001b[39;00m tag \u001b[39min\u001b[39;00m tags]\n\u001b[0;32m    166\u001b[0m req_body \u001b[39m=\u001b[39m message_to_json(\n\u001b[0;32m    167\u001b[0m     CreateRun(\n\u001b[0;32m    168\u001b[0m         experiment_id\u001b[39m=\u001b[39m\u001b[39mstr\u001b[39m(experiment_id),\n\u001b[1;32m   (...)\u001b[0m\n\u001b[0;32m    173\u001b[0m     )\n\u001b[0;32m    174\u001b[0m )\n\u001b[1;32m--> 175\u001b[0m response_proto \u001b[39m=\u001b[39m \u001b[39mself\u001b[39;49m\u001b[39m.\u001b[39;49m_call_endpoint(CreateRun, req_body)\n\u001b[0;32m    176\u001b[0m run \u001b[39m=\u001b[39m Run\u001b[39m.\u001b[39mfrom_proto(response_proto\u001b[39m.\u001b[39mrun)\n\u001b[0;32m    177\u001b[0m \u001b[39mreturn\u001b[39;00m run\n",
      "File \u001b[1;32mc:\\Users\\utilisateur\\Documents\\MyAmaWok\\OC Data Scientist\\Projet OC 7 Implementer un modele de Scoring\\.venv\\lib\\site-packages\\mlflow\\store\\tracking\\rest_store.py:56\u001b[0m, in \u001b[0;36mRestStore._call_endpoint\u001b[1;34m(self, api, json_body)\u001b[0m\n\u001b[0;32m     54\u001b[0m endpoint, method \u001b[39m=\u001b[39m _METHOD_TO_INFO[api]\n\u001b[0;32m     55\u001b[0m response_proto \u001b[39m=\u001b[39m api\u001b[39m.\u001b[39mResponse()\n\u001b[1;32m---> 56\u001b[0m \u001b[39mreturn\u001b[39;00m call_endpoint(\u001b[39mself\u001b[39;49m\u001b[39m.\u001b[39;49mget_host_creds(), endpoint, method, json_body, response_proto)\n",
      "File \u001b[1;32mc:\\Users\\utilisateur\\Documents\\MyAmaWok\\OC Data Scientist\\Projet OC 7 Implementer un modele de Scoring\\.venv\\lib\\site-packages\\mlflow\\utils\\rest_utils.py:278\u001b[0m, in \u001b[0;36mcall_endpoint\u001b[1;34m(host_creds, endpoint, method, json_body, response_proto)\u001b[0m\n\u001b[0;32m    274\u001b[0m     response \u001b[39m=\u001b[39m http_request(\n\u001b[0;32m    275\u001b[0m         host_creds\u001b[39m=\u001b[39mhost_creds, endpoint\u001b[39m=\u001b[39mendpoint, method\u001b[39m=\u001b[39mmethod, params\u001b[39m=\u001b[39mjson_body\n\u001b[0;32m    276\u001b[0m     )\n\u001b[0;32m    277\u001b[0m \u001b[39melse\u001b[39;00m:\n\u001b[1;32m--> 278\u001b[0m     response \u001b[39m=\u001b[39m http_request(\n\u001b[0;32m    279\u001b[0m         host_creds\u001b[39m=\u001b[39;49mhost_creds, endpoint\u001b[39m=\u001b[39;49mendpoint, method\u001b[39m=\u001b[39;49mmethod, json\u001b[39m=\u001b[39;49mjson_body\n\u001b[0;32m    280\u001b[0m     )\n\u001b[0;32m    281\u001b[0m response \u001b[39m=\u001b[39m verify_rest_response(response, endpoint)\n\u001b[0;32m    282\u001b[0m js_dict \u001b[39m=\u001b[39m json\u001b[39m.\u001b[39mloads(response\u001b[39m.\u001b[39mtext)\n",
      "File \u001b[1;32mc:\\Users\\utilisateur\\Documents\\MyAmaWok\\OC Data Scientist\\Projet OC 7 Implementer un modele de Scoring\\.venv\\lib\\site-packages\\mlflow\\utils\\rest_utils.py:185\u001b[0m, in \u001b[0;36mhttp_request\u001b[1;34m(host_creds, endpoint, method, max_retries, backoff_factor, retry_codes, timeout, **kwargs)\u001b[0m\n\u001b[0;32m    179\u001b[0m     \u001b[39mraise\u001b[39;00m MlflowException(\n\u001b[0;32m    180\u001b[0m         \u001b[39mf\u001b[39m\u001b[39m\"\u001b[39m\u001b[39mAPI request to \u001b[39m\u001b[39m{\u001b[39;00murl\u001b[39m}\u001b[39;00m\u001b[39m failed with timeout exception \u001b[39m\u001b[39m{\u001b[39;00mto\u001b[39m}\u001b[39;00m\u001b[39m.\u001b[39m\u001b[39m\"\u001b[39m\n\u001b[0;32m    181\u001b[0m         \u001b[39mf\u001b[39m\u001b[39m\"\u001b[39m\u001b[39m To increase the timeout, set the environment variable \u001b[39m\u001b[39m{\u001b[39;00mMLFLOW_HTTP_REQUEST_TIMEOUT\u001b[39m}\u001b[39;00m\u001b[39m\"\u001b[39m\n\u001b[0;32m    182\u001b[0m         \u001b[39m\"\u001b[39m\u001b[39m to a larger value.\u001b[39m\u001b[39m\"\u001b[39m\n\u001b[0;32m    183\u001b[0m     )\n\u001b[0;32m    184\u001b[0m \u001b[39mexcept\u001b[39;00m \u001b[39mException\u001b[39;00m \u001b[39mas\u001b[39;00m e:\n\u001b[1;32m--> 185\u001b[0m     \u001b[39mraise\u001b[39;00m MlflowException(\u001b[39mf\u001b[39m\u001b[39m\"\u001b[39m\u001b[39mAPI request to \u001b[39m\u001b[39m{\u001b[39;00murl\u001b[39m}\u001b[39;00m\u001b[39m failed with exception \u001b[39m\u001b[39m{\u001b[39;00me\u001b[39m}\u001b[39;00m\u001b[39m\"\u001b[39m)\n",
      "\u001b[1;31mMlflowException\u001b[0m: API request to https://127.0.0.1:5000/api/2.0/mlflow/runs/create failed with exception HTTPSConnectionPool(host='127.0.0.1', port=5000): Max retries exceeded with url: /api/2.0/mlflow/runs/create (Caused by NewConnectionError('<urllib3.connection.HTTPSConnection object at 0x000002999DF6ED00>: Failed to establish a new connection: [WinError 10061] Aucune connexion n’a pu être établie car l’ordinateur cible l’a expressément refusée'))"
     ]
    }
   ],
   "source": [
    "#mlflow.set_tracking_uri('http://127.0.0.1:5000')\n",
    "#experiment = mlflow.set_experiment(\"Pipeline + Gridsearch\")\n",
    "with mlflow.start_run():\n",
    "     #log metrics\n",
    "     mlflow.log_metric(\"accuracy\", accuracy_score( y_test.values, y_pred))\n",
    "     mlflow.log_metric(\"precison\", precision_score( y_test.values, y_pred))\n",
    "     mlflow.log_metric(\"recall\", recall_score( y_test.values, y_pred))\n",
    "     mlflow.sklearn.log_model(pipel_2,'Model complet RidgeClassifierCV') # réutiliser ce que mlflow a enregistré, et choisit le meilleur, de façon automatique"
   ]
  },
  {
   "cell_type": "code",
   "execution_count": 38,
   "metadata": {},
   "outputs": [],
   "source": [
    "pickle_out = open(\"pipel_2.pkl\",\"wb\")\n",
    "pickle.dump(pipel,pickle_out)\n",
    "pickle_out.close()"
   ]
  },
  {
   "attachments": {},
   "cell_type": "markdown",
   "metadata": {},
   "source": [
    "Import du modele qu'on a exporté pour tester"
   ]
  },
  {
   "cell_type": "code",
   "execution_count": 57,
   "metadata": {},
   "outputs": [
    {
     "data": {
      "text/plain": [
       "array([0], dtype=int64)"
      ]
     },
     "execution_count": 57,
     "metadata": {},
     "output_type": "execute_result"
    }
   ],
   "source": [
    "pickle_in = open(\"pipel_2.pkl\",\"rb\") #notre pipeline importé\n",
    "classifier_test=pickle.load(pickle_in) #chargé dans une variable\n",
    "classifier_test.predict(X_test.iloc[0,:])#X_test.loc[0,:] pd.DataFrame(X_test.iloc[0,:]).transpose()"
   ]
  },
  {
   "attachments": {},
   "cell_type": "markdown",
   "metadata": {},
   "source": [
    "Feature importance"
   ]
  },
  {
   "cell_type": "markdown",
   "metadata": {},
   "source": [
    "#au lieu d'avoir une series permet d'avoir un format dataframe comme attendue par standardscaler\n",
    "pd.DataFrame(X_train.iloc[0,:]).transpose()"
   ]
  },
  {
   "attachments": {},
   "cell_type": "markdown",
   "metadata": {},
   "source": [
    "tuto à suivre pour améliorer bokeh"
   ]
  },
  {
   "attachments": {},
   "cell_type": "markdown",
   "metadata": {},
   "source": [
    "https://trenton3983.github.io/files/projects/2020-03-15_interactive_data_visualization_with_bokeh/2020-03-15_interactive_data_visualization_with_bokeh.html"
   ]
  },
  {
   "cell_type": "code",
   "execution_count": 202,
   "metadata": {},
   "outputs": [],
   "source": [
    "# sorting the bars means sorting the range factors\n",
    "sorted_fruits = sorted(cols, key=lambda x: feat_i[cols.to_list().index(x)])\n",
    "#x_range=sorted_fruits\n",
    "\n",
    "p = figure(x_range=sorted_fruits, height=350, title=\"Feature_importance\",\n",
    "           tools='pan,box_zoom,reset')\n",
    "\n",
    "p.vbar(x=cols.values, top=feat_i, width=0.9)\n",
    "\n",
    "p.xaxis.major_label_orientation = \"vertical\"\n",
    "p.axis.major_label_standoff  = 5 # distance entre les labels x et la visualisation\n",
    "\n",
    "#p.xgrid.grid_line_color = None\n",
    "p.y_range.start = 0\n",
    "\n",
    "show(p)"
   ]
  },
  {
   "attachments": {},
   "cell_type": "markdown",
   "metadata": {},
   "source": [
    "https://docs.bokeh.org/en/latest/docs/user_guide/plotting.html"
   ]
  },
  {
   "attachments": {
    "image.png": {
     "image/png": "[encoded data removed]"
    }
   },
   "cell_type": "markdown",
   "metadata": {},
   "source": [
    "![image.png](attachment:image.png)"
   ]
  }
 ],
 "metadata": {
  "kernelspec": {
   "display_name": ".venv",
   "language": "python",
   "name": "python3"
  },
  "language_info": {
   "codemirror_mode": {
    "name": "ipython",
    "version": 3
   },
   "file_extension": ".py",
   "mimetype": "text/x-python",
   "name": "python",
   "nbconvert_exporter": "python",
   "pygments_lexer": "ipython3",
   "version": "3.9.13"
  },
  "orig_nbformat": 4,
  "vscode": {
   "interpreter": {
    "hash": "2d2d9aa71f1703c75bc3be39a6f8ddbf6c36aca69f388de4b317d86743ee94c3"
   }
  }
 },
 "nbformat": 4,
 "nbformat_minor": 2
}
