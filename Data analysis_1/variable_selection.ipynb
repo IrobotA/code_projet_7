{
 "cells": [
  {
   "attachments": {},
   "cell_type": "markdown",
   "metadata": {},
   "source": [
    "Sélection des variables"
   ]
  },
  {
   "cell_type": "code",
   "execution_count": 2,
   "metadata": {},
   "outputs": [],
   "source": [
    "import pandas as pd \n",
    "import numpy as np \n",
    "import seaborn as sns "
   ]
  },
  {
   "cell_type": "code",
   "execution_count": 3,
   "metadata": {},
   "outputs": [],
   "source": [
    "df_train = pd.read_csv(\"../../datasets/application_train.csv\")\n",
    "df_test =  pd.read_csv(\"../../datasets/application_test.csv\")"
   ]
  },
  {
   "attachments": {},
   "cell_type": "markdown",
   "metadata": {},
   "source": [
    "filtre sur les valeurs manquantes"
   ]
  },
  {
   "cell_type": "code",
   "execution_count": 8,
   "metadata": {},
   "outputs": [],
   "source": [
    "val_mqtes_pc = df_train.isna().sum()/len(df_train)"
   ]
  },
  {
   "cell_type": "code",
   "execution_count": 14,
   "metadata": {},
   "outputs": [
    {
     "name": "stdout",
     "output_type": "stream",
     "text": [
      "Nous avons 67 / 122 colonnes avec des valeurs manquantes à peiu près 0.5491803278688525\n"
     ]
    }
   ],
   "source": [
    "print(f\"Nous avons {len(val_mqtes_pc[val_mqtes_pc>0])} / {df_train.shape[1]} colonnes avec des valeurs manquantes à peu près {len(val_mqtes_pc[val_mqtes_pc>0])/df_train.shape[1]}\")"
   ]
  },
  {
   "attachments": {},
   "cell_type": "markdown",
   "metadata": {},
   "source": [
    "Voir distribution => si valeurs atypiques ou pas ? "
   ]
  },
  {
   "attachments": {},
   "cell_type": "markdown",
   "metadata": {},
   "source": [
    "Y a t'il un élément dans les autres variables qui puissent expliquer pourquoi il ya des valeurs manquantes"
   ]
  },
  {
   "cell_type": "markdown",
   "metadata": {},
   "source": [
    "for  col in val_mqtes_pc[val_mqtes_pc>= 0.5].index :\n",
    "    print(col)\n",
    "    sns.boxplot(df_train[col])\n",
    "    plt.show()"
   ]
  },
  {
   "attachments": {},
   "cell_type": "markdown",
   "metadata": {},
   "source": [
    "Sur les 122 variables que nous avons quelles sont celles qui ont un réel impact sur notre variable explicative"
   ]
  },
  {
   "cell_type": "code",
   "execution_count": 48,
   "metadata": {},
   "outputs": [],
   "source": [
    "#dico = dict(zip([str(i)+'-'+str(i+10) for i in range(0,100,10)],[[i,i+10] for i in range(0,100,10)]))\n",
    "#ebauche pour rajouter l'intervalle"
   ]
  },
  {
   "cell_type": "markdown",
   "metadata": {},
   "source": [
    "col_mq_3 = val_mqtes_pc[val_mqtes_pc >=0.3].sort_values(ascending =  False) #colonnes avec 30 ou plus de valeurs manquantes"
   ]
  },
  {
   "cell_type": "markdown",
   "metadata": {},
   "source": [
    "col_mq_3"
   ]
  },
  {
   "attachments": {},
   "cell_type": "markdown",
   "metadata": {},
   "source": [
    "Si aucune différence entre les valeurs manquantes et sans valeurs manquantes, variables non intéressantes"
   ]
  },
  {
   "attachments": {},
   "cell_type": "markdown",
   "metadata": {},
   "source": [
    "hypothese pas bonne aléatoire, meme distribution avec mqtes et sans valeurs mqtes\n",
    "\n",
    "Exemple voiture nan dans la colonne et pas "
   ]
  },
  {
   "attachments": {},
   "cell_type": "markdown",
   "metadata": {},
   "source": [
    "Suppression des variables :"
   ]
  },
  {
   "attachments": {},
   "cell_type": "markdown",
   "metadata": {},
   "source": [
    "export des données, jeux de données meme la forme "
   ]
  },
  {
   "cell_type": "markdown",
   "metadata": {},
   "source": [
    "df_train_2.to_feather(\"../../datasets/train_2.feather\")\n",
    "df_test_2.to_feather(\"../../datasets/test_2.feather\")"
   ]
  }
 ],
 "metadata": {
  "kernelspec": {
   "display_name": ".venv",
   "language": "python",
   "name": "python3"
  },
  "language_info": {
   "codemirror_mode": {
    "name": "ipython",
    "version": 3
   },
   "file_extension": ".py",
   "mimetype": "text/x-python",
   "name": "python",
   "nbconvert_exporter": "python",
   "pygments_lexer": "ipython3",
   "version": "3.9.13 (tags/v3.9.13:6de2ca5, May 17 2022, 16:36:42) [MSC v.1929 64 bit (AMD64)]"
  },
  "orig_nbformat": 4,
  "vscode": {
   "interpreter": {
    "hash": "2d2d9aa71f1703c75bc3be39a6f8ddbf6c36aca69f388de4b317d86743ee94c3"
   }
  }
 },
 "nbformat": 4,
 "nbformat_minor": 2
}
