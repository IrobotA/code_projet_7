{
 "cells": [
  {
   "cell_type": "code",
   "execution_count": null,
   "metadata": {},
   "outputs": [],
   "source": []
  },
  {
   "attachments": {},
   "cell_type": "markdown",
   "metadata": {},
   "source": [
    "# Import modules"
   ]
  },
  {
   "cell_type": "code",
   "execution_count": 1,
   "metadata": {},
   "outputs": [
    {
     "name": "stderr",
     "output_type": "stream",
     "text": [
      "C:\\Users\\utilisateur\\AppData\\Local\\Packages\\PythonSoftwareFoundation.Python.3.9_qbz5n2kfra8p0\\LocalCache\\local-packages\\Python39\\site-packages\\tqdm\\auto.py:22: TqdmWarning: IProgress not found. Please update jupyter and ipywidgets. See https://ipywidgets.readthedocs.io/en/stable/user_install.html\n",
      "  from .autonotebook import tqdm as notebook_tqdm\n"
     ]
    },
    {
     "data": {
      "text/html": [
       "<style>\n",
       "        .bk-notebook-logo {\n",
       "            display: block;\n",
       "            width: 20px;\n",
       "            height: 20px;\n",
       "            background-image: url(data:image/png;base64,iVBORw0KGgoAAAANSUhEUgAAABQAAAAUCAYAAACNiR0NAAAABHNCSVQICAgIfAhkiAAAAAlwSFlzAAALEgAACxIB0t1+/AAAABx0RVh0U29mdHdhcmUAQWRvYmUgRmlyZXdvcmtzIENTNui8sowAAAOkSURBVDiNjZRtaJVlGMd/1/08zzln5zjP1LWcU9N0NkN8m2CYjpgQYQXqSs0I84OLIC0hkEKoPtiH3gmKoiJDU7QpLgoLjLIQCpEsNJ1vqUOdO7ppbuec5+V+rj4ctwzd8IIbbi6u+8f1539dt3A78eXC7QizUF7gyV1fD1Yqg4JWz84yffhm0qkFqBogB9rM8tZdtwVsPUhWhGcFJngGeWrPzHm5oaMmkfEg1usvLFyc8jLRqDOMru7AyC8saQr7GG7f5fvDeH7Ej8CM66nIF+8yngt6HWaKh7k49Soy9nXurCi1o3qUbS3zWfrYeQDTB/Qj6kX6Ybhw4B+bOYoLKCC9H3Nu/leUTZ1JdRWkkn2ldcCamzrcf47KKXdAJllSlxAOkRgyHsGC/zRday5Qld9DyoM4/q/rUoy/CXh3jzOu3bHUVZeU+DEn8FInkPBFlu3+nW3Nw0mk6vCDiWg8CeJaxEwuHS3+z5RgY+YBR6V1Z1nxSOfoaPa4LASWxxdNp+VWTk7+4vzaou8v8PN+xo+KY2xsw6une2frhw05CTYOmQvsEhjhWjn0bmXPjpE1+kplmmkP3suftwTubK9Vq22qKmrBhpY4jvd5afdRA3wGjFAgcnTK2s4hY0/GPNIb0nErGMCRxWOOX64Z8RAC4oCXdklmEvcL8o0BfkNK4lUg9HTl+oPlQxdNo3Mg4Nv175e/1LDGzZen30MEjRUtmXSfiTVu1kK8W4txyV6BMKlbgk3lMwYCiusNy9fVfvvwMxv8Ynl6vxoByANLTWplvuj/nF9m2+PDtt1eiHPBr1oIfhCChQMBw6Aw0UulqTKZdfVvfG7VcfIqLG9bcldL/+pdWTLxLUy8Qq38heUIjh4XlzZxzQm19lLFlr8vdQ97rjZVOLf8nclzckbcD4wxXMidpX30sFd37Fv/GtwwhzhxGVAprjbg0gCAEeIgwCZyTV2Z1REEW8O4py0wsjeloKoMr6iCY6dP92H6Vw/oTyICIthibxjm/DfN9lVz8IqtqKYLUXfoKVMVQVVJOElGjrnnUt9T9wbgp8AyYKaGlqingHZU/uG2NTZSVqwHQTWkx9hxjkpWDaCg6Ckj5qebgBVbT3V3NNXMSiWSDdGV3hrtzla7J+duwPOToIg42ChPQOQjspnSlp1V+Gjdged7+8UN5CRAV7a5EdFNwCjEaBR27b3W890TE7g24NAP/mMDXRWrGoFPQI9ls/MWO2dWFAar/xcOIImbbpA3zgAAAABJRU5ErkJggg==);\n",
       "        }\n",
       "    </style>\n",
       "    <div>\n",
       "        <a href=\"https://bokeh.org\" target=\"_blank\" class=\"bk-notebook-logo\"></a>\n",
       "        <span id=\"p1001\">Loading BokehJS ...</span>\n",
       "    </div>\n"
      ]
     },
     "metadata": {},
     "output_type": "display_data"
    },
    {
     "data": {
      "application/javascript": "(function(root) {\n  function now() {\n    return new Date();\n  }\n\n  const force = true;\n\n  if (typeof root._bokeh_onload_callbacks === \"undefined\" || force === true) {\n    root._bokeh_onload_callbacks = [];\n    root._bokeh_is_loading = undefined;\n  }\n\nconst JS_MIME_TYPE = 'application/javascript';\n  const HTML_MIME_TYPE = 'text/html';\n  const EXEC_MIME_TYPE = 'application/vnd.bokehjs_exec.v0+json';\n  const CLASS_NAME = 'output_bokeh rendered_html';\n\n  /**\n   * Render data to the DOM node\n   */\n  function render(props, node) {\n    const script = document.createElement(\"script\");\n    node.appendChild(script);\n  }\n\n  /**\n   * Handle when an output is cleared or removed\n   */\n  function handleClearOutput(event, handle) {\n    const cell = handle.cell;\n\n    const id = cell.output_area._bokeh_element_id;\n    const server_id = cell.output_area._bokeh_server_id;\n    // Clean up Bokeh references\n    if (id != null && id in Bokeh.index) {\n      Bokeh.index[id].model.document.clear();\n      delete Bokeh.index[id];\n    }\n\n    if (server_id !== undefined) {\n      // Clean up Bokeh references\n      const cmd_clean = \"from bokeh.io.state import curstate; print(curstate().uuid_to_server['\" + server_id + \"'].get_sessions()[0].document.roots[0]._id)\";\n      cell.notebook.kernel.execute(cmd_clean, {\n        iopub: {\n          output: function(msg) {\n            const id = msg.content.text.trim();\n            if (id in Bokeh.index) {\n              Bokeh.index[id].model.document.clear();\n              delete Bokeh.index[id];\n            }\n          }\n        }\n      });\n      // Destroy server and session\n      const cmd_destroy = \"import bokeh.io.notebook as ion; ion.destroy_server('\" + server_id + \"')\";\n      cell.notebook.kernel.execute(cmd_destroy);\n    }\n  }\n\n  /**\n   * Handle when a new output is added\n   */\n  function handleAddOutput(event, handle) {\n    const output_area = handle.output_area;\n    const output = handle.output;\n\n    // limit handleAddOutput to display_data with EXEC_MIME_TYPE content only\n    if ((output.output_type != \"display_data\") || (!Object.prototype.hasOwnProperty.call(output.data, EXEC_MIME_TYPE))) {\n      return\n    }\n\n    const toinsert = output_area.element.find(\".\" + CLASS_NAME.split(' ')[0]);\n\n    if (output.metadata[EXEC_MIME_TYPE][\"id\"] !== undefined) {\n      toinsert[toinsert.length - 1].firstChild.textContent = output.data[JS_MIME_TYPE];\n      // store reference to embed id on output_area\n      output_area._bokeh_element_id = output.metadata[EXEC_MIME_TYPE][\"id\"];\n    }\n    if (output.metadata[EXEC_MIME_TYPE][\"server_id\"] !== undefined) {\n      const bk_div = document.createElement(\"div\");\n      bk_div.innerHTML = output.data[HTML_MIME_TYPE];\n      const script_attrs = bk_div.children[0].attributes;\n      for (let i = 0; i < script_attrs.length; i++) {\n        toinsert[toinsert.length - 1].firstChild.setAttribute(script_attrs[i].name, script_attrs[i].value);\n        toinsert[toinsert.length - 1].firstChild.textContent = bk_div.children[0].textContent\n      }\n      // store reference to server id on output_area\n      output_area._bokeh_server_id = output.metadata[EXEC_MIME_TYPE][\"server_id\"];\n    }\n  }\n\n  function register_renderer(events, OutputArea) {\n\n    function append_mime(data, metadata, element) {\n      // create a DOM node to render to\n      const toinsert = this.create_output_subarea(\n        metadata,\n        CLASS_NAME,\n        EXEC_MIME_TYPE\n      );\n      this.keyboard_manager.register_events(toinsert);\n      // Render to node\n      const props = {data: data, metadata: metadata[EXEC_MIME_TYPE]};\n      render(props, toinsert[toinsert.length - 1]);\n      element.append(toinsert);\n      return toinsert\n    }\n\n    /* Handle when an output is cleared or removed */\n    events.on('clear_output.CodeCell', handleClearOutput);\n    events.on('delete.Cell', handleClearOutput);\n\n    /* Handle when a new output is added */\n    events.on('output_added.OutputArea', handleAddOutput);\n\n    /**\n     * Register the mime type and append_mime function with output_area\n     */\n    OutputArea.prototype.register_mime_type(EXEC_MIME_TYPE, append_mime, {\n      /* Is output safe? */\n      safe: true,\n      /* Index of renderer in `output_area.display_order` */\n      index: 0\n    });\n  }\n\n  // register the mime type if in Jupyter Notebook environment and previously unregistered\n  if (root.Jupyter !== undefined) {\n    const events = require('base/js/events');\n    const OutputArea = require('notebook/js/outputarea').OutputArea;\n\n    if (OutputArea.prototype.mime_types().indexOf(EXEC_MIME_TYPE) == -1) {\n      register_renderer(events, OutputArea);\n    }\n  }\n  if (typeof (root._bokeh_timeout) === \"undefined\" || force === true) {\n    root._bokeh_timeout = Date.now() + 5000;\n    root._bokeh_failed_load = false;\n  }\n\n  const NB_LOAD_WARNING = {'data': {'text/html':\n     \"<div style='background-color: #fdd'>\\n\"+\n     \"<p>\\n\"+\n     \"BokehJS does not appear to have successfully loaded. If loading BokehJS from CDN, this \\n\"+\n     \"may be due to a slow or bad network connection. Possible fixes:\\n\"+\n     \"</p>\\n\"+\n     \"<ul>\\n\"+\n     \"<li>re-rerun `output_notebook()` to attempt to load from CDN again, or</li>\\n\"+\n     \"<li>use INLINE resources instead, as so:</li>\\n\"+\n     \"</ul>\\n\"+\n     \"<code>\\n\"+\n     \"from bokeh.resources import INLINE\\n\"+\n     \"output_notebook(resources=INLINE)\\n\"+\n     \"</code>\\n\"+\n     \"</div>\"}};\n\n  function display_loaded() {\n    const el = document.getElementById(\"p1001\");\n    if (el != null) {\n      el.textContent = \"BokehJS is loading...\";\n    }\n    if (root.Bokeh !== undefined) {\n      if (el != null) {\n        el.textContent = \"BokehJS \" + root.Bokeh.version + \" successfully loaded.\";\n      }\n    } else if (Date.now() < root._bokeh_timeout) {\n      setTimeout(display_loaded, 100)\n    }\n  }\n\n  function run_callbacks() {\n    try {\n      root._bokeh_onload_callbacks.forEach(function(callback) {\n        if (callback != null)\n          callback();\n      });\n    } finally {\n      delete root._bokeh_onload_callbacks\n    }\n    console.debug(\"Bokeh: all callbacks have finished\");\n  }\n\n  function load_libs(css_urls, js_urls, callback) {\n    if (css_urls == null) css_urls = [];\n    if (js_urls == null) js_urls = [];\n\n    root._bokeh_onload_callbacks.push(callback);\n    if (root._bokeh_is_loading > 0) {\n      console.debug(\"Bokeh: BokehJS is being loaded, scheduling callback at\", now());\n      return null;\n    }\n    if (js_urls == null || js_urls.length === 0) {\n      run_callbacks();\n      return null;\n    }\n    console.debug(\"Bokeh: BokehJS not loaded, scheduling load and callback at\", now());\n    root._bokeh_is_loading = css_urls.length + js_urls.length;\n\n    function on_load() {\n      root._bokeh_is_loading--;\n      if (root._bokeh_is_loading === 0) {\n        console.debug(\"Bokeh: all BokehJS libraries/stylesheets loaded\");\n        run_callbacks()\n      }\n    }\n\n    function on_error(url) {\n      console.error(\"failed to load \" + url);\n    }\n\n    for (let i = 0; i < css_urls.length; i++) {\n      const url = css_urls[i];\n      const element = document.createElement(\"link\");\n      element.onload = on_load;\n      element.onerror = on_error.bind(null, url);\n      element.rel = \"stylesheet\";\n      element.type = \"text/css\";\n      element.href = url;\n      console.debug(\"Bokeh: injecting link tag for BokehJS stylesheet: \", url);\n      document.body.appendChild(element);\n    }\n\n    for (let i = 0; i < js_urls.length; i++) {\n      const url = js_urls[i];\n      const element = document.createElement('script');\n      element.onload = on_load;\n      element.onerror = on_error.bind(null, url);\n      element.async = false;\n      element.src = url;\n      console.debug(\"Bokeh: injecting script tag for BokehJS library: \", url);\n      document.head.appendChild(element);\n    }\n  };\n\n  function inject_raw_css(css) {\n    const element = document.createElement(\"style\");\n    element.appendChild(document.createTextNode(css));\n    document.body.appendChild(element);\n  }\n\n  const js_urls = [\"https://cdn.bokeh.org/bokeh/release/bokeh-3.0.3.min.js\", \"https://cdn.bokeh.org/bokeh/release/bokeh-gl-3.0.3.min.js\", \"https://cdn.bokeh.org/bokeh/release/bokeh-widgets-3.0.3.min.js\", \"https://cdn.bokeh.org/bokeh/release/bokeh-tables-3.0.3.min.js\", \"https://cdn.bokeh.org/bokeh/release/bokeh-mathjax-3.0.3.min.js\"];\n  const css_urls = [];\n\n  const inline_js = [    function(Bokeh) {\n      Bokeh.set_log_level(\"info\");\n    },\nfunction(Bokeh) {\n    }\n  ];\n\n  function run_inline_js() {\n    if (root.Bokeh !== undefined || force === true) {\n          for (let i = 0; i < inline_js.length; i++) {\n      inline_js[i].call(root, root.Bokeh);\n    }\nif (force === true) {\n        display_loaded();\n      }} else if (Date.now() < root._bokeh_timeout) {\n      setTimeout(run_inline_js, 100);\n    } else if (!root._bokeh_failed_load) {\n      console.log(\"Bokeh: BokehJS failed to load within specified timeout.\");\n      root._bokeh_failed_load = true;\n    } else if (force !== true) {\n      const cell = $(document.getElementById(\"p1001\")).parents('.cell').data().cell;\n      cell.output_area.append_execute_result(NB_LOAD_WARNING)\n    }\n  }\n\n  if (root._bokeh_is_loading === 0) {\n    console.debug(\"Bokeh: BokehJS loaded, going straight to plotting\");\n    run_inline_js();\n  } else {\n    load_libs(css_urls, js_urls, function() {\n      console.debug(\"Bokeh: BokehJS plotting callback run at\", now());\n      run_inline_js();\n    });\n  }\n}(window));",
      "application/vnd.bokehjs_load.v0+json": ""
     },
     "metadata": {},
     "output_type": "display_data"
    }
   ],
   "source": [
    "import pickle\n",
    "import re\n",
    "import shap\n",
    "from bokeh.io import output_file, show\n",
    "from bokeh.models import ColumnDataSource, FactorRange\n",
    "from bokeh.plotting import figure\n",
    "from bokeh.plotting import figure, output_notebook, show\n",
    "\n",
    "# enable output to display directly in the notebook\n",
    "output_notebook()\n",
    "\n",
    "import pandas as pd\n",
    "import numpy as np\n"
   ]
  },
  {
   "attachments": {},
   "cell_type": "markdown",
   "metadata": {},
   "source": [
    "Importer pipeline,\n",
    " récupérer modèle,\n",
    "  isoler\n",
    "   exporter \n",
    "   ré importer seul\n",
    "   => feature_importance \n",
    "   => shap values locale \n",
    "   => recuperer avec fastapi et renvoyer graph"
   ]
  },
  {
   "cell_type": "code",
   "execution_count": 13,
   "metadata": {},
   "outputs": [
    {
     "data": {
      "text/html": [
       "<style>#sk-container-id-3 {color: black;background-color: white;}#sk-container-id-3 pre{padding: 0;}#sk-container-id-3 div.sk-toggleable {background-color: white;}#sk-container-id-3 label.sk-toggleable__label {cursor: pointer;display: block;width: 100%;margin-bottom: 0;padding: 0.3em;box-sizing: border-box;text-align: center;}#sk-container-id-3 label.sk-toggleable__label-arrow:before {content: \"▸\";float: left;margin-right: 0.25em;color: #696969;}#sk-container-id-3 label.sk-toggleable__label-arrow:hover:before {color: black;}#sk-container-id-3 div.sk-estimator:hover label.sk-toggleable__label-arrow:before {color: black;}#sk-container-id-3 div.sk-toggleable__content {max-height: 0;max-width: 0;overflow: hidden;text-align: left;background-color: #f0f8ff;}#sk-container-id-3 div.sk-toggleable__content pre {margin: 0.2em;color: black;border-radius: 0.25em;background-color: #f0f8ff;}#sk-container-id-3 input.sk-toggleable__control:checked~div.sk-toggleable__content {max-height: 200px;max-width: 100%;overflow: auto;}#sk-container-id-3 input.sk-toggleable__control:checked~label.sk-toggleable__label-arrow:before {content: \"▾\";}#sk-container-id-3 div.sk-estimator input.sk-toggleable__control:checked~label.sk-toggleable__label {background-color: #d4ebff;}#sk-container-id-3 div.sk-label input.sk-toggleable__control:checked~label.sk-toggleable__label {background-color: #d4ebff;}#sk-container-id-3 input.sk-hidden--visually {border: 0;clip: rect(1px 1px 1px 1px);clip: rect(1px, 1px, 1px, 1px);height: 1px;margin: -1px;overflow: hidden;padding: 0;position: absolute;width: 1px;}#sk-container-id-3 div.sk-estimator {font-family: monospace;background-color: #f0f8ff;border: 1px dotted black;border-radius: 0.25em;box-sizing: border-box;margin-bottom: 0.5em;}#sk-container-id-3 div.sk-estimator:hover {background-color: #d4ebff;}#sk-container-id-3 div.sk-parallel-item::after {content: \"\";width: 100%;border-bottom: 1px solid gray;flex-grow: 1;}#sk-container-id-3 div.sk-label:hover label.sk-toggleable__label {background-color: #d4ebff;}#sk-container-id-3 div.sk-serial::before {content: \"\";position: absolute;border-left: 1px solid gray;box-sizing: border-box;top: 0;bottom: 0;left: 50%;z-index: 0;}#sk-container-id-3 div.sk-serial {display: flex;flex-direction: column;align-items: center;background-color: white;padding-right: 0.2em;padding-left: 0.2em;position: relative;}#sk-container-id-3 div.sk-item {position: relative;z-index: 1;}#sk-container-id-3 div.sk-parallel {display: flex;align-items: stretch;justify-content: center;background-color: white;position: relative;}#sk-container-id-3 div.sk-item::before, #sk-container-id-3 div.sk-parallel-item::before {content: \"\";position: absolute;border-left: 1px solid gray;box-sizing: border-box;top: 0;bottom: 0;left: 50%;z-index: -1;}#sk-container-id-3 div.sk-parallel-item {display: flex;flex-direction: column;z-index: 1;position: relative;background-color: white;}#sk-container-id-3 div.sk-parallel-item:first-child::after {align-self: flex-end;width: 50%;}#sk-container-id-3 div.sk-parallel-item:last-child::after {align-self: flex-start;width: 50%;}#sk-container-id-3 div.sk-parallel-item:only-child::after {width: 0;}#sk-container-id-3 div.sk-dashed-wrapped {border: 1px dashed gray;margin: 0 0.4em 0.5em 0.4em;box-sizing: border-box;padding-bottom: 0.4em;background-color: white;}#sk-container-id-3 div.sk-label label {font-family: monospace;font-weight: bold;display: inline-block;line-height: 1.2em;}#sk-container-id-3 div.sk-label-container {text-align: center;}#sk-container-id-3 div.sk-container {/* jupyter's `normalize.less` sets `[hidden] { display: none; }` but bootstrap.min.css set `[hidden] { display: none !important; }` so we also need the `!important` here to be able to override the default hidden behavior on the sphinx rendered scikit-learn.org. See: https://github.com/scikit-learn/scikit-learn/issues/21755 */display: inline-block !important;position: relative;}#sk-container-id-3 div.sk-text-repr-fallback {display: none;}</style><div id=\"sk-container-id-3\" class=\"sk-top-container\"><div class=\"sk-text-repr-fallback\"><pre>RidgeClassifierCV(alphas=(500, 600), class_weight=&#x27;balanced&#x27;, cv=3,\n",
       "                  scoring=&#x27;recall&#x27;)</pre><b>In a Jupyter environment, please rerun this cell to show the HTML representation or trust the notebook. <br />On GitHub, the HTML representation is unable to render, please try loading this page with nbviewer.org.</b></div><div class=\"sk-container\" hidden><div class=\"sk-item\"><div class=\"sk-estimator sk-toggleable\"><input class=\"sk-toggleable__control sk-hidden--visually\" id=\"sk-estimator-id-5\" type=\"checkbox\" checked><label for=\"sk-estimator-id-5\" class=\"sk-toggleable__label sk-toggleable__label-arrow\">RidgeClassifierCV</label><div class=\"sk-toggleable__content\"><pre>RidgeClassifierCV(alphas=(500, 600), class_weight=&#x27;balanced&#x27;, cv=3,\n",
       "                  scoring=&#x27;recall&#x27;)</pre></div></div></div></div></div>"
      ],
      "text/plain": [
       "RidgeClassifierCV(alphas=(500, 600), class_weight='balanced', cv=3,\n",
       "                  scoring='recall')"
      ]
     },
     "execution_count": 13,
     "metadata": {},
     "output_type": "execute_result"
    }
   ],
   "source": [
    "#isoler et enregistrer model\n",
    "pipeline = open(\"pipel_4.pkl\", \"rb\")\n",
    "pipeline = pickle.load(pipeline)\n",
    "pipeline['rfe'].estimator_\n"
   ]
  },
  {
   "attachments": {},
   "cell_type": "markdown",
   "metadata": {},
   "source": [
    "#export modele\n",
    "pickle_out = open(\"model.pkl\", \"wb\")  # ada et lgbm\n",
    "pickle.dump(model['rfe'].estimator_, pickle_out)\n",
    "pickle_out.close()"
   ]
  },
  {
   "cell_type": "code",
   "execution_count": 14,
   "metadata": {},
   "outputs": [
    {
     "data": {
      "text/html": [
       "<style>#sk-container-id-4 {color: black;background-color: white;}#sk-container-id-4 pre{padding: 0;}#sk-container-id-4 div.sk-toggleable {background-color: white;}#sk-container-id-4 label.sk-toggleable__label {cursor: pointer;display: block;width: 100%;margin-bottom: 0;padding: 0.3em;box-sizing: border-box;text-align: center;}#sk-container-id-4 label.sk-toggleable__label-arrow:before {content: \"▸\";float: left;margin-right: 0.25em;color: #696969;}#sk-container-id-4 label.sk-toggleable__label-arrow:hover:before {color: black;}#sk-container-id-4 div.sk-estimator:hover label.sk-toggleable__label-arrow:before {color: black;}#sk-container-id-4 div.sk-toggleable__content {max-height: 0;max-width: 0;overflow: hidden;text-align: left;background-color: #f0f8ff;}#sk-container-id-4 div.sk-toggleable__content pre {margin: 0.2em;color: black;border-radius: 0.25em;background-color: #f0f8ff;}#sk-container-id-4 input.sk-toggleable__control:checked~div.sk-toggleable__content {max-height: 200px;max-width: 100%;overflow: auto;}#sk-container-id-4 input.sk-toggleable__control:checked~label.sk-toggleable__label-arrow:before {content: \"▾\";}#sk-container-id-4 div.sk-estimator input.sk-toggleable__control:checked~label.sk-toggleable__label {background-color: #d4ebff;}#sk-container-id-4 div.sk-label input.sk-toggleable__control:checked~label.sk-toggleable__label {background-color: #d4ebff;}#sk-container-id-4 input.sk-hidden--visually {border: 0;clip: rect(1px 1px 1px 1px);clip: rect(1px, 1px, 1px, 1px);height: 1px;margin: -1px;overflow: hidden;padding: 0;position: absolute;width: 1px;}#sk-container-id-4 div.sk-estimator {font-family: monospace;background-color: #f0f8ff;border: 1px dotted black;border-radius: 0.25em;box-sizing: border-box;margin-bottom: 0.5em;}#sk-container-id-4 div.sk-estimator:hover {background-color: #d4ebff;}#sk-container-id-4 div.sk-parallel-item::after {content: \"\";width: 100%;border-bottom: 1px solid gray;flex-grow: 1;}#sk-container-id-4 div.sk-label:hover label.sk-toggleable__label {background-color: #d4ebff;}#sk-container-id-4 div.sk-serial::before {content: \"\";position: absolute;border-left: 1px solid gray;box-sizing: border-box;top: 0;bottom: 0;left: 50%;z-index: 0;}#sk-container-id-4 div.sk-serial {display: flex;flex-direction: column;align-items: center;background-color: white;padding-right: 0.2em;padding-left: 0.2em;position: relative;}#sk-container-id-4 div.sk-item {position: relative;z-index: 1;}#sk-container-id-4 div.sk-parallel {display: flex;align-items: stretch;justify-content: center;background-color: white;position: relative;}#sk-container-id-4 div.sk-item::before, #sk-container-id-4 div.sk-parallel-item::before {content: \"\";position: absolute;border-left: 1px solid gray;box-sizing: border-box;top: 0;bottom: 0;left: 50%;z-index: -1;}#sk-container-id-4 div.sk-parallel-item {display: flex;flex-direction: column;z-index: 1;position: relative;background-color: white;}#sk-container-id-4 div.sk-parallel-item:first-child::after {align-self: flex-end;width: 50%;}#sk-container-id-4 div.sk-parallel-item:last-child::after {align-self: flex-start;width: 50%;}#sk-container-id-4 div.sk-parallel-item:only-child::after {width: 0;}#sk-container-id-4 div.sk-dashed-wrapped {border: 1px dashed gray;margin: 0 0.4em 0.5em 0.4em;box-sizing: border-box;padding-bottom: 0.4em;background-color: white;}#sk-container-id-4 div.sk-label label {font-family: monospace;font-weight: bold;display: inline-block;line-height: 1.2em;}#sk-container-id-4 div.sk-label-container {text-align: center;}#sk-container-id-4 div.sk-container {/* jupyter's `normalize.less` sets `[hidden] { display: none; }` but bootstrap.min.css set `[hidden] { display: none !important; }` so we also need the `!important` here to be able to override the default hidden behavior on the sphinx rendered scikit-learn.org. See: https://github.com/scikit-learn/scikit-learn/issues/21755 */display: inline-block !important;position: relative;}#sk-container-id-4 div.sk-text-repr-fallback {display: none;}</style><div id=\"sk-container-id-4\" class=\"sk-top-container\"><div class=\"sk-text-repr-fallback\"><pre>RidgeClassifierCV(alphas=(500, 600), class_weight=&#x27;balanced&#x27;, cv=3,\n",
       "                  scoring=&#x27;recall&#x27;)</pre><b>In a Jupyter environment, please rerun this cell to show the HTML representation or trust the notebook. <br />On GitHub, the HTML representation is unable to render, please try loading this page with nbviewer.org.</b></div><div class=\"sk-container\" hidden><div class=\"sk-item\"><div class=\"sk-estimator sk-toggleable\"><input class=\"sk-toggleable__control sk-hidden--visually\" id=\"sk-estimator-id-6\" type=\"checkbox\" checked><label for=\"sk-estimator-id-6\" class=\"sk-toggleable__label sk-toggleable__label-arrow\">RidgeClassifierCV</label><div class=\"sk-toggleable__content\"><pre>RidgeClassifierCV(alphas=(500, 600), class_weight=&#x27;balanced&#x27;, cv=3,\n",
       "                  scoring=&#x27;recall&#x27;)</pre></div></div></div></div></div>"
      ],
      "text/plain": [
       "RidgeClassifierCV(alphas=(500, 600), class_weight='balanced', cv=3,\n",
       "                  scoring='recall')"
      ]
     },
     "execution_count": 14,
     "metadata": {},
     "output_type": "execute_result"
    }
   ],
   "source": [
    "#import model \n",
    "model = open(\"model.pkl\",\"rb\")\n",
    "model = pickle.load(model)\n",
    "model"
   ]
  },
  {
   "attachments": {},
   "cell_type": "markdown",
   "metadata": {},
   "source": [
    "Import jeu de données de issu du train"
   ]
  },
  {
   "cell_type": "code",
   "execution_count": 20,
   "metadata": {},
   "outputs": [
    {
     "ename": "NameError",
     "evalue": "name 'nettoyage' is not defined",
     "output_type": "error",
     "traceback": [
      "\u001b[1;31m---------------------------------------------------------------------------\u001b[0m",
      "\u001b[1;31mNameError\u001b[0m                                 Traceback (most recent call last)",
      "Cell \u001b[1;32mIn[20], line 3\u001b[0m\n\u001b[0;32m      1\u001b[0m echantillon_0 \u001b[39m=\u001b[39m pd\u001b[39m.\u001b[39mread_csv(\u001b[39m\"\u001b[39m\u001b[39m../../datasets/application_train.csv\u001b[39m\u001b[39m\"\u001b[39m)\n\u001b[0;32m      2\u001b[0m echantillon \u001b[39m=\u001b[39m echantillon_0\u001b[39m.\u001b[39msample(\u001b[39m150\u001b[39m, random_state\u001b[39m=\u001b[39m\u001b[39m42\u001b[39m)\u001b[39m.\u001b[39mcopy()\n\u001b[1;32m----> 3\u001b[0m nettoyage(echantillon)\n",
      "\u001b[1;31mNameError\u001b[0m: name 'nettoyage' is not defined"
     ]
    }
   ],
   "source": [
    "echantillon_0 = pd.read_csv(\"../../datasets/application_train.csv\")\n",
    "echantillon = echantillon_0.sample(150, random_state=42).copy()\n",
    "nettoyage(echantillon)\n"
   ]
  },
  {
   "cell_type": "code",
   "execution_count": 126,
   "metadata": {},
   "outputs": [
    {
     "data": {
      "text/plain": [
       "0    132\n",
       "1     18\n",
       "Name: TARGET, dtype: int64"
      ]
     },
     "execution_count": 126,
     "metadata": {},
     "output_type": "execute_result"
    }
   ],
   "source": [
    "#vérife répartition target\n",
    "echantillon['TARGET'].value_counts(dropna=False)"
   ]
  },
  {
   "cell_type": "code",
   "execution_count": null,
   "metadata": {},
   "outputs": [],
   "source": [
    "fruits = ['Apples', 'Pears', 'Nectarines', 'Plums', 'Grapes', 'Strawberries']\n",
    "years = ['2015', '2016', '2017']\n",
    "\n",
    "data = {'fruits': fruits,\n",
    "        '2015': [2, 1, 4, 3, 2, 4],\n",
    "        '2016': [5, 3, 3, 2, 4, 6],\n",
    "        '2017': [3, 2, 4, 4, 5, 3]}\n",
    "\n",
    "# this creates [ (\"Apples\", \"2015\"), (\"Apples\", \"2016\"), (\"Apples\", \"2017\"), (\"Pears\", \"2015), ... ]\n",
    "x = [(fruit, year) for fruit in fruits for year in years]\n",
    "counts = sum(zip(data['2015'], data['2016'],\n",
    "             data['2017']), ())  # like an hstack\n",
    "\n",
    "source = ColumnDataSource(data=dict(x=x, counts=counts))\n",
    "\n",
    "p = figure(x_range=FactorRange(*x), height=250, title=\"Fruit counts by year\",\n",
    "           toolbar_location=None, tools=\"\")\n",
    "\n",
    "p.vbar(x='x', top='counts', width=0.9, source=source)\n",
    "\n",
    "p.y_range.start = 0\n",
    "p.x_range.range_padding = 0.1\n",
    "p.xaxis.major_label_orientation = 1\n",
    "p.xgrid.grid_line_color = None\n",
    "show(p)\n"
   ]
  },
  {
   "cell_type": "markdown",
   "metadata": {},
   "source": [
    "Lime et shap"
   ]
  },
  {
   "cell_type": "code",
   "execution_count": 144,
   "metadata": {},
   "outputs": [],
   "source": [
    "pickle_in = open(\"pipel_4.pkl\",\"rb\") #notre classifier_test importé v2 avec model pipel_4 plus de parametre\n",
    "classifier_test=pickle.load(pickle_in) #chargé dans une variable"
   ]
  },
  {
   "cell_type": "code",
   "execution_count": 229,
   "metadata": {},
   "outputs": [
    {
     "data": {
      "text/plain": [
       "((131,), 131)"
      ]
     },
     "execution_count": 229,
     "metadata": {},
     "output_type": "execute_result"
    }
   ],
   "source": [
    "data_classifier_transfo.shape, len(cols)"
   ]
  },
  {
   "attachments": {},
   "cell_type": "markdown",
   "metadata": {},
   "source": [
    "Transformation données : categ +scaler version avec rfe "
   ]
  },
  {
   "cell_type": "code",
   "execution_count": 259,
   "metadata": {},
   "outputs": [
    {
     "data": {
      "text/plain": [
       "((15, 131),\n",
       " ['NAME_CONTRACT_TYPE_Cash loans',\n",
       "  'NAME_CONTRACT_TYPE_Revolving loans',\n",
       "  'CODE_GENDER_F',\n",
       "  'CODE_GENDER_M',\n",
       "  'FLAG_OWN_CAR_N'])"
      ]
     },
     "execution_count": 259,
     "metadata": {},
     "output_type": "execute_result"
    }
   ],
   "source": [
    "#data_classifier_transfo = classifier_test.steps[0][1].transform(\n",
    "#    pd.DataFrame(echantillon.iloc[0,:]).transpose())[0][classifier_test.steps[1][1].get_support()]\n",
    "\n",
    "cols=[re.sub('one-hot-encoder__|remainder__','',col_names) for col_names in classifier_test.steps[0][1].get_feature_names_out()[classifier_test['rfe'].get_support()]]\n",
    "\n",
    "# transformation + sélection  des variables considérées comme intéressantes par rfe\n",
    "X_pipe_res = classifier_test.steps[0][1].transform(echantillon.iloc[:15,:])[:,classifier_test.steps[1][1].get_support()] #one hot + scaler \n",
    "X_pipe_res.shape, cols[:5]"
   ]
  },
  {
   "cell_type": "code",
   "execution_count": 257,
   "metadata": {},
   "outputs": [
    {
     "data": {
      "text/html": [
       "<div>\n",
       "<style scoped>\n",
       "    .dataframe tbody tr th:only-of-type {\n",
       "        vertical-align: middle;\n",
       "    }\n",
       "\n",
       "    .dataframe tbody tr th {\n",
       "        vertical-align: top;\n",
       "    }\n",
       "\n",
       "    .dataframe thead th {\n",
       "        text-align: right;\n",
       "    }\n",
       "</style>\n",
       "<table border=\"1\" class=\"dataframe\">\n",
       "  <thead>\n",
       "    <tr style=\"text-align: right;\">\n",
       "      <th></th>\n",
       "      <th>NAME_CONTRACT_TYPE_Cash loans</th>\n",
       "      <th>NAME_CONTRACT_TYPE_Revolving loans</th>\n",
       "      <th>CODE_GENDER_F</th>\n",
       "      <th>CODE_GENDER_M</th>\n",
       "      <th>FLAG_OWN_CAR_N</th>\n",
       "      <th>FLAG_OWN_CAR_Y</th>\n",
       "      <th>FLAG_OWN_REALTY_N</th>\n",
       "      <th>NAME_TYPE_SUITE_Family</th>\n",
       "      <th>NAME_TYPE_SUITE_Spouse, partner</th>\n",
       "      <th>NAME_TYPE_SUITE_Children</th>\n",
       "      <th>...</th>\n",
       "      <th>FLAG_DOCUMENT_6</th>\n",
       "      <th>FLAG_DOCUMENT_8</th>\n",
       "      <th>FLAG_DOCUMENT_13</th>\n",
       "      <th>FLAG_DOCUMENT_14</th>\n",
       "      <th>FLAG_DOCUMENT_15</th>\n",
       "      <th>FLAG_DOCUMENT_16</th>\n",
       "      <th>FLAG_DOCUMENT_18</th>\n",
       "      <th>FLAG_DOCUMENT_20</th>\n",
       "      <th>AMT_REQ_CREDIT_BUREAU_MON</th>\n",
       "      <th>AMT_REQ_CREDIT_BUREAU_QRT</th>\n",
       "    </tr>\n",
       "  </thead>\n",
       "  <tbody>\n",
       "    <tr>\n",
       "      <th>0</th>\n",
       "      <td>1.0</td>\n",
       "      <td>0.0</td>\n",
       "      <td>0.0</td>\n",
       "      <td>1.0</td>\n",
       "      <td>0.0</td>\n",
       "      <td>1.0</td>\n",
       "      <td>1.0</td>\n",
       "      <td>0.0</td>\n",
       "      <td>0.0</td>\n",
       "      <td>0.0</td>\n",
       "      <td>...</td>\n",
       "      <td>-0.309925</td>\n",
       "      <td>-0.298246</td>\n",
       "      <td>-0.059564</td>\n",
       "      <td>-0.054351</td>\n",
       "      <td>-0.034976</td>\n",
       "      <td>-0.100113</td>\n",
       "      <td>-0.090925</td>\n",
       "      <td>-0.022196</td>\n",
       "      <td>0.898768</td>\n",
       "      <td>-0.285612</td>\n",
       "    </tr>\n",
       "    <tr>\n",
       "      <th>1</th>\n",
       "      <td>1.0</td>\n",
       "      <td>0.0</td>\n",
       "      <td>1.0</td>\n",
       "      <td>0.0</td>\n",
       "      <td>0.0</td>\n",
       "      <td>1.0</td>\n",
       "      <td>0.0</td>\n",
       "      <td>0.0</td>\n",
       "      <td>0.0</td>\n",
       "      <td>0.0</td>\n",
       "      <td>...</td>\n",
       "      <td>-0.309925</td>\n",
       "      <td>-0.298246</td>\n",
       "      <td>-0.059564</td>\n",
       "      <td>-0.054351</td>\n",
       "      <td>-0.034976</td>\n",
       "      <td>-0.100113</td>\n",
       "      <td>-0.090925</td>\n",
       "      <td>-0.022196</td>\n",
       "      <td>0.898768</td>\n",
       "      <td>-0.285612</td>\n",
       "    </tr>\n",
       "    <tr>\n",
       "      <th>2</th>\n",
       "      <td>1.0</td>\n",
       "      <td>0.0</td>\n",
       "      <td>1.0</td>\n",
       "      <td>0.0</td>\n",
       "      <td>0.0</td>\n",
       "      <td>1.0</td>\n",
       "      <td>1.0</td>\n",
       "      <td>0.0</td>\n",
       "      <td>0.0</td>\n",
       "      <td>0.0</td>\n",
       "      <td>...</td>\n",
       "      <td>-0.309925</td>\n",
       "      <td>-0.298246</td>\n",
       "      <td>-0.059564</td>\n",
       "      <td>-0.054351</td>\n",
       "      <td>-0.034976</td>\n",
       "      <td>-0.100113</td>\n",
       "      <td>-0.090925</td>\n",
       "      <td>-0.022196</td>\n",
       "      <td>0.898768</td>\n",
       "      <td>-0.285612</td>\n",
       "    </tr>\n",
       "    <tr>\n",
       "      <th>3</th>\n",
       "      <td>1.0</td>\n",
       "      <td>0.0</td>\n",
       "      <td>1.0</td>\n",
       "      <td>0.0</td>\n",
       "      <td>1.0</td>\n",
       "      <td>0.0</td>\n",
       "      <td>0.0</td>\n",
       "      <td>0.0</td>\n",
       "      <td>0.0</td>\n",
       "      <td>0.0</td>\n",
       "      <td>...</td>\n",
       "      <td>-0.309925</td>\n",
       "      <td>-0.298246</td>\n",
       "      <td>-0.059564</td>\n",
       "      <td>-0.054351</td>\n",
       "      <td>-0.034976</td>\n",
       "      <td>-0.100113</td>\n",
       "      <td>-0.090925</td>\n",
       "      <td>-0.022196</td>\n",
       "      <td>-0.268657</td>\n",
       "      <td>-0.285612</td>\n",
       "    </tr>\n",
       "    <tr>\n",
       "      <th>4</th>\n",
       "      <td>1.0</td>\n",
       "      <td>0.0</td>\n",
       "      <td>0.0</td>\n",
       "      <td>1.0</td>\n",
       "      <td>1.0</td>\n",
       "      <td>0.0</td>\n",
       "      <td>0.0</td>\n",
       "      <td>0.0</td>\n",
       "      <td>0.0</td>\n",
       "      <td>0.0</td>\n",
       "      <td>...</td>\n",
       "      <td>-0.309925</td>\n",
       "      <td>-0.298246</td>\n",
       "      <td>-0.059564</td>\n",
       "      <td>-0.054351</td>\n",
       "      <td>-0.034976</td>\n",
       "      <td>-0.100113</td>\n",
       "      <td>-0.090925</td>\n",
       "      <td>-0.022196</td>\n",
       "      <td>-0.268657</td>\n",
       "      <td>-0.285612</td>\n",
       "    </tr>\n",
       "    <tr>\n",
       "      <th>...</th>\n",
       "      <td>...</td>\n",
       "      <td>...</td>\n",
       "      <td>...</td>\n",
       "      <td>...</td>\n",
       "      <td>...</td>\n",
       "      <td>...</td>\n",
       "      <td>...</td>\n",
       "      <td>...</td>\n",
       "      <td>...</td>\n",
       "      <td>...</td>\n",
       "      <td>...</td>\n",
       "      <td>...</td>\n",
       "      <td>...</td>\n",
       "      <td>...</td>\n",
       "      <td>...</td>\n",
       "      <td>...</td>\n",
       "      <td>...</td>\n",
       "      <td>...</td>\n",
       "      <td>...</td>\n",
       "      <td>...</td>\n",
       "      <td>...</td>\n",
       "    </tr>\n",
       "    <tr>\n",
       "      <th>145</th>\n",
       "      <td>1.0</td>\n",
       "      <td>0.0</td>\n",
       "      <td>1.0</td>\n",
       "      <td>0.0</td>\n",
       "      <td>1.0</td>\n",
       "      <td>0.0</td>\n",
       "      <td>0.0</td>\n",
       "      <td>1.0</td>\n",
       "      <td>0.0</td>\n",
       "      <td>0.0</td>\n",
       "      <td>...</td>\n",
       "      <td>-0.309925</td>\n",
       "      <td>-0.298246</td>\n",
       "      <td>-0.059564</td>\n",
       "      <td>-0.054351</td>\n",
       "      <td>-0.034976</td>\n",
       "      <td>-0.100113</td>\n",
       "      <td>-0.090925</td>\n",
       "      <td>-0.022196</td>\n",
       "      <td>-0.268657</td>\n",
       "      <td>0.955287</td>\n",
       "    </tr>\n",
       "    <tr>\n",
       "      <th>146</th>\n",
       "      <td>1.0</td>\n",
       "      <td>0.0</td>\n",
       "      <td>0.0</td>\n",
       "      <td>1.0</td>\n",
       "      <td>0.0</td>\n",
       "      <td>1.0</td>\n",
       "      <td>0.0</td>\n",
       "      <td>0.0</td>\n",
       "      <td>0.0</td>\n",
       "      <td>0.0</td>\n",
       "      <td>...</td>\n",
       "      <td>-0.309925</td>\n",
       "      <td>-0.298246</td>\n",
       "      <td>-0.059564</td>\n",
       "      <td>-0.054351</td>\n",
       "      <td>-0.034976</td>\n",
       "      <td>-0.100113</td>\n",
       "      <td>-0.090925</td>\n",
       "      <td>-0.022196</td>\n",
       "      <td>-0.268657</td>\n",
       "      <td>-0.285612</td>\n",
       "    </tr>\n",
       "    <tr>\n",
       "      <th>147</th>\n",
       "      <td>1.0</td>\n",
       "      <td>0.0</td>\n",
       "      <td>0.0</td>\n",
       "      <td>1.0</td>\n",
       "      <td>1.0</td>\n",
       "      <td>0.0</td>\n",
       "      <td>0.0</td>\n",
       "      <td>0.0</td>\n",
       "      <td>0.0</td>\n",
       "      <td>0.0</td>\n",
       "      <td>...</td>\n",
       "      <td>-0.309925</td>\n",
       "      <td>-0.298246</td>\n",
       "      <td>-0.059564</td>\n",
       "      <td>-0.054351</td>\n",
       "      <td>-0.034976</td>\n",
       "      <td>-0.100113</td>\n",
       "      <td>-0.090925</td>\n",
       "      <td>-0.022196</td>\n",
       "      <td>-0.268657</td>\n",
       "      <td>3.437086</td>\n",
       "    </tr>\n",
       "    <tr>\n",
       "      <th>148</th>\n",
       "      <td>1.0</td>\n",
       "      <td>0.0</td>\n",
       "      <td>0.0</td>\n",
       "      <td>1.0</td>\n",
       "      <td>0.0</td>\n",
       "      <td>1.0</td>\n",
       "      <td>0.0</td>\n",
       "      <td>0.0</td>\n",
       "      <td>0.0</td>\n",
       "      <td>0.0</td>\n",
       "      <td>...</td>\n",
       "      <td>-0.309925</td>\n",
       "      <td>3.352934</td>\n",
       "      <td>-0.059564</td>\n",
       "      <td>-0.054351</td>\n",
       "      <td>-0.034976</td>\n",
       "      <td>-0.100113</td>\n",
       "      <td>-0.090925</td>\n",
       "      <td>-0.022196</td>\n",
       "      <td>-0.268657</td>\n",
       "      <td>-0.285612</td>\n",
       "    </tr>\n",
       "    <tr>\n",
       "      <th>149</th>\n",
       "      <td>0.0</td>\n",
       "      <td>1.0</td>\n",
       "      <td>1.0</td>\n",
       "      <td>0.0</td>\n",
       "      <td>1.0</td>\n",
       "      <td>0.0</td>\n",
       "      <td>1.0</td>\n",
       "      <td>0.0</td>\n",
       "      <td>0.0</td>\n",
       "      <td>0.0</td>\n",
       "      <td>...</td>\n",
       "      <td>-0.309925</td>\n",
       "      <td>-0.298246</td>\n",
       "      <td>-0.059564</td>\n",
       "      <td>-0.054351</td>\n",
       "      <td>-0.034976</td>\n",
       "      <td>-0.100113</td>\n",
       "      <td>-0.090925</td>\n",
       "      <td>-0.022196</td>\n",
       "      <td>-0.268657</td>\n",
       "      <td>-0.285612</td>\n",
       "    </tr>\n",
       "  </tbody>\n",
       "</table>\n",
       "<p>150 rows × 131 columns</p>\n",
       "</div>"
      ],
      "text/plain": [
       "     NAME_CONTRACT_TYPE_Cash loans  NAME_CONTRACT_TYPE_Revolving loans  \\\n",
       "0                              1.0                                 0.0   \n",
       "1                              1.0                                 0.0   \n",
       "2                              1.0                                 0.0   \n",
       "3                              1.0                                 0.0   \n",
       "4                              1.0                                 0.0   \n",
       "..                             ...                                 ...   \n",
       "145                            1.0                                 0.0   \n",
       "146                            1.0                                 0.0   \n",
       "147                            1.0                                 0.0   \n",
       "148                            1.0                                 0.0   \n",
       "149                            0.0                                 1.0   \n",
       "\n",
       "     CODE_GENDER_F  CODE_GENDER_M  FLAG_OWN_CAR_N  FLAG_OWN_CAR_Y  \\\n",
       "0              0.0            1.0             0.0             1.0   \n",
       "1              1.0            0.0             0.0             1.0   \n",
       "2              1.0            0.0             0.0             1.0   \n",
       "3              1.0            0.0             1.0             0.0   \n",
       "4              0.0            1.0             1.0             0.0   \n",
       "..             ...            ...             ...             ...   \n",
       "145            1.0            0.0             1.0             0.0   \n",
       "146            0.0            1.0             0.0             1.0   \n",
       "147            0.0            1.0             1.0             0.0   \n",
       "148            0.0            1.0             0.0             1.0   \n",
       "149            1.0            0.0             1.0             0.0   \n",
       "\n",
       "     FLAG_OWN_REALTY_N  NAME_TYPE_SUITE_Family  \\\n",
       "0                  1.0                     0.0   \n",
       "1                  0.0                     0.0   \n",
       "2                  1.0                     0.0   \n",
       "3                  0.0                     0.0   \n",
       "4                  0.0                     0.0   \n",
       "..                 ...                     ...   \n",
       "145                0.0                     1.0   \n",
       "146                0.0                     0.0   \n",
       "147                0.0                     0.0   \n",
       "148                0.0                     0.0   \n",
       "149                1.0                     0.0   \n",
       "\n",
       "     NAME_TYPE_SUITE_Spouse, partner  NAME_TYPE_SUITE_Children  ...  \\\n",
       "0                                0.0                       0.0  ...   \n",
       "1                                0.0                       0.0  ...   \n",
       "2                                0.0                       0.0  ...   \n",
       "3                                0.0                       0.0  ...   \n",
       "4                                0.0                       0.0  ...   \n",
       "..                               ...                       ...  ...   \n",
       "145                              0.0                       0.0  ...   \n",
       "146                              0.0                       0.0  ...   \n",
       "147                              0.0                       0.0  ...   \n",
       "148                              0.0                       0.0  ...   \n",
       "149                              0.0                       0.0  ...   \n",
       "\n",
       "     FLAG_DOCUMENT_6  FLAG_DOCUMENT_8  FLAG_DOCUMENT_13  FLAG_DOCUMENT_14  \\\n",
       "0          -0.309925        -0.298246         -0.059564         -0.054351   \n",
       "1          -0.309925        -0.298246         -0.059564         -0.054351   \n",
       "2          -0.309925        -0.298246         -0.059564         -0.054351   \n",
       "3          -0.309925        -0.298246         -0.059564         -0.054351   \n",
       "4          -0.309925        -0.298246         -0.059564         -0.054351   \n",
       "..               ...              ...               ...               ...   \n",
       "145        -0.309925        -0.298246         -0.059564         -0.054351   \n",
       "146        -0.309925        -0.298246         -0.059564         -0.054351   \n",
       "147        -0.309925        -0.298246         -0.059564         -0.054351   \n",
       "148        -0.309925         3.352934         -0.059564         -0.054351   \n",
       "149        -0.309925        -0.298246         -0.059564         -0.054351   \n",
       "\n",
       "     FLAG_DOCUMENT_15  FLAG_DOCUMENT_16  FLAG_DOCUMENT_18  FLAG_DOCUMENT_20  \\\n",
       "0           -0.034976         -0.100113         -0.090925         -0.022196   \n",
       "1           -0.034976         -0.100113         -0.090925         -0.022196   \n",
       "2           -0.034976         -0.100113         -0.090925         -0.022196   \n",
       "3           -0.034976         -0.100113         -0.090925         -0.022196   \n",
       "4           -0.034976         -0.100113         -0.090925         -0.022196   \n",
       "..                ...               ...               ...               ...   \n",
       "145         -0.034976         -0.100113         -0.090925         -0.022196   \n",
       "146         -0.034976         -0.100113         -0.090925         -0.022196   \n",
       "147         -0.034976         -0.100113         -0.090925         -0.022196   \n",
       "148         -0.034976         -0.100113         -0.090925         -0.022196   \n",
       "149         -0.034976         -0.100113         -0.090925         -0.022196   \n",
       "\n",
       "     AMT_REQ_CREDIT_BUREAU_MON  AMT_REQ_CREDIT_BUREAU_QRT  \n",
       "0                     0.898768                  -0.285612  \n",
       "1                     0.898768                  -0.285612  \n",
       "2                     0.898768                  -0.285612  \n",
       "3                    -0.268657                  -0.285612  \n",
       "4                    -0.268657                  -0.285612  \n",
       "..                         ...                        ...  \n",
       "145                  -0.268657                   0.955287  \n",
       "146                  -0.268657                  -0.285612  \n",
       "147                  -0.268657                   3.437086  \n",
       "148                  -0.268657                  -0.285612  \n",
       "149                  -0.268657                  -0.285612  \n",
       "\n",
       "[150 rows x 131 columns]"
      ]
     },
     "execution_count": 257,
     "metadata": {},
     "output_type": "execute_result"
    }
   ],
   "source": [
    "#dataframe avec x transformé et colonnes sélectionnées\n",
    "explainer_X_ = pd.DataFrame(data=X_pipe_res,columns=cols)\n",
    "explainer_X_.head()"
   ]
  },
  {
   "cell_type": "code",
   "execution_count": 266,
   "metadata": {},
   "outputs": [
    {
     "data": {
      "text/plain": [
       "(135, 131)"
      ]
     },
     "execution_count": 266,
     "metadata": {},
     "output_type": "execute_result"
    }
   ],
   "source": [
    "shap_X_= classifier_test.steps[0][1].transform(echantillon.iloc[15:, :])[:, classifier_test.steps[1][1].get_support()]\n",
    "shap_X_ = pd.DataFrame(data=shap_X_,columns=cols)\n",
    "shap_X_.shape"
   ]
  },
  {
   "cell_type": "code",
   "execution_count": 272,
   "metadata": {},
   "outputs": [
    {
     "name": "stderr",
     "output_type": "stream",
     "text": [
      "X has feature names, but RidgeClassifierCV was fitted without feature names\n"
     ]
    },
    {
     "data": {
      "text/plain": [
       "array([1, 0, 1, 0, 0, 0, 0, 1, 1, 1, 0, 1, 0, 1, 0, 1, 0, 0, 0, 1, 0, 1,\n",
       "       0, 0, 0, 0, 0, 1, 1, 0, 0, 0, 0, 0, 0, 1, 0, 0, 1, 1, 1, 0, 1, 0,\n",
       "       0, 1, 1, 0, 0, 0, 0, 0, 0, 0, 0, 0, 1, 1, 0, 1, 0, 1, 0, 0, 0, 0,\n",
       "       0, 0, 0, 1, 0, 0, 1, 0, 0, 0, 0, 0, 0, 1, 0, 1, 0, 0, 0, 1, 1, 0,\n",
       "       0, 0, 1, 0, 0, 0, 1, 1, 0, 0, 0, 1, 0, 1, 1, 1, 1, 0, 0, 1, 1, 1,\n",
       "       0, 0, 0, 0, 1, 0, 0, 0, 0, 0, 1, 0, 1, 0, 0, 0, 1, 0, 1, 1, 0, 0,\n",
       "       0, 0, 0], dtype=int64)"
      ]
     },
     "execution_count": 272,
     "metadata": {},
     "output_type": "execute_result"
    }
   ],
   "source": [
    "classifier_test['rfe'].estimator_.predict(shap_X_)"
   ]
  },
  {
   "cell_type": "code",
   "execution_count": 273,
   "metadata": {},
   "outputs": [],
   "source": [
    "# get shap values\n",
    "explainer = shap.Explainer(classifier_test['rfe'].estimator_.predict,X_pipe_res)\n",
    "shap_values = explainer(shap_X_)\n",
    "shap_values\n"
   ]
  },
  {
   "cell_type": "code",
   "execution_count": null,
   "metadata": {},
   "outputs": [],
   "source": [
    "# waterfall plot for first observation\n",
    "shap.plots.waterfall(shap_values[0])\n"
   ]
  },
  {
   "cell_type": "markdown",
   "metadata": {},
   "source": [
    "Difficultés : \n",
    "\n",
    "pipeline :\n",
    "1) estimator qu'il faut sortir d'abord\n",
    "2) Transformé  les données avec la pipeline pour l'entrée le predict et l'explainer\n",
    " a) one hot encoder et normalisation\n",
    " b) RFE sélection des colonnes\n",
    " c) conversion en dataframe  de a pour avoir colonne de b\n",
    "\n",
    "\n",
    "\n",
    "Comment j'ai fait ? \n",
    "qu'est ce qui est attendu => qu'est ce que je donne au modèle \n",
    "quelles sont les erreurs, que veulent elles dire ? comment le vérifier ? exemple ou tout fonctionne\n",
    "\n",
    "isfinite = > valeurs catégorielles à enlever donc transformation à réaliser\n",
    "shape de la donnée différente => revoir la pipeline"
   ]
  },
  {
   "cell_type": "markdown",
   "metadata": {},
   "source": [
    "Version locale"
   ]
  },
  {
   "cell_type": "code",
   "execution_count": null,
   "metadata": {},
   "outputs": [],
   "source": [
    "# np.argsort(abs(shap_values[0].values) => garde l'index des  valeurs avant le tri\n",
    "# np.reshape met sous format 1 ligne et n variables au lieu de n_observation et 1 variable\n",
    "# [::-1]  # val de shap dans l'ordre croissant / décroissant avec [::-1]\n",
    "ind_val_tri = np.argsort(abs(shap_values[0].values))\n",
    "# 1,131 # valeurs une fois triée en utilisant index argsort\n",
    "val_i_n = shap_values[0].values[ind_val_tri]\n",
    "\n",
    "df_shap_val = pd.DataFrame(dict(variables=[cols[ind_col] for ind_col in np.argsort(abs(shap_values[0].values))],\n",
    "                           valeurs=val_i_n))\n",
    "df_shap_val"
   ]
  },
  {
   "cell_type": "code",
   "execution_count": null,
   "metadata": {},
   "outputs": [],
   "source": [
    "\n",
    "data = dict(y=df_shap_val[df_shap_val['valeurs'] != 0]['variables'],\n",
    "            x=df_shap_val[df_shap_val['valeurs']!=0]['valeurs'])\n",
    "data\n"
   ]
  },
  {
   "cell_type": "code",
   "execution_count": null,
   "metadata": {},
   "outputs": [],
   "source": [
    "# feature importance locale shap_value pour une prédiction\n",
    "from bokeh.io import output_file, show\n",
    "from bokeh.models import ColumnDataSource, CDSView, BooleanFilter\n",
    "from bokeh.plotting import figure\n",
    "from bokeh.sampledata.sprint import sprint\n",
    "\n",
    "TOOLTIPS = [\n",
    "    (\"index\", \"$index\"),\n",
    "    (\"Importance de la variable\", \"@x\"),  # v3\n",
    "    (\"Nom de la variable\", \"@y\")]\n",
    "\n",
    "source = ColumnDataSource(data)\n",
    "p = figure(y_range=source.data['y'],\n",
    "           x_range=(min((df_shap_val_test[0])) -\n",
    "                    0.05, max(df_shap_val_test[0])+0.05),\n",
    "           width=600, height=400, toolbar_location=None,\n",
    "           title=\"Importance des variables pour la prédiction\",\n",
    "           tooltips=TOOLTIPS)\n",
    "\n",
    "p.hbar(y='y', right=\"x\", left=0, height=0.4, source=source)\n",
    "\n",
    "p.ygrid.grid_line_color = None\n",
    "p.xaxis.axis_label = \"Time (seconds)\"\n",
    "p.outline_line_color = None\n",
    "show(p)\n"
   ]
  },
  {
   "attachments": {},
   "cell_type": "markdown",
   "metadata": {},
   "source": [
    "Shap global"
   ]
  },
  {
   "cell_type": "code",
   "execution_count": null,
   "metadata": {},
   "outputs": [],
   "source": [
    "shap.summary_plot(shap_values)"
   ]
  },
  {
   "attachments": {},
   "cell_type": "markdown",
   "metadata": {},
   "source": [
    "Shap global sans plot"
   ]
  },
  {
   "cell_type": "code",
   "execution_count": null,
   "metadata": {},
   "outputs": [
    {
     "data": {
      "image/png": "[encoded data removed]",
      "text/plain": [
       "<Figure size 800x950 with 2 Axes>"
      ]
     },
     "metadata": {},
     "output_type": "display_data"
    },
    {
     "ename": "AttributeError",
     "evalue": "'NoneType' object has no attribute 'values'",
     "output_type": "error",
     "traceback": [
      "\u001b[1;31m---------------------------------------------------------------------------\u001b[0m\n",
      "\u001b[1;31mAttributeError\u001b[0m                            Traceback (most recent call last)\n",
      "Cell \u001b[1;32mIn[436], line 1\u001b[0m\n",
      "\u001b[1;32m----> 1\u001b[0m shap\u001b[39m.\u001b[39;49msummary_plot(shap_values)\u001b[39m.\u001b[39;49mvalues()\n",
      "\n",
      "\u001b[1;31mAttributeError\u001b[0m: 'NoneType' object has no attribute 'values'"
     ]
    }
   ],
   "source": [
    "\n",
    "# vals = np.abs(rf_resultX.values).mean(0)\n",
    "\n",
    "shap_importance = pd.DataFrame(list(zip(np.abs(shap_values).mean(0), vals)),\n",
    "                               columns=['col_name', 'feature_importance_vals'])\n",
    "shap_importance.sort_values(by=['feature_importance_vals'],\n",
    "                            ascending=False, inplace=True)\n",
    "shap_importance.head()\n"
   ]
  },
  {
   "attachments": {},
   "cell_type": "markdown",
   "metadata": {},
   "source": [
    "Version sans rfe"
   ]
  },
  {
   "attachments": {},
   "cell_type": "markdown",
   "metadata": {},
   "source": [
    "import model\n",
    "nettoyage dataset\n"
   ]
  },
  {
   "cell_type": "code",
   "execution_count": 23,
   "metadata": {},
   "outputs": [],
   "source": [
    "def nettoyage(df):\n",
    "    for col_na in df.isna().sum()[df.isna().sum() > 0].index:\n",
    "        if df[col_na].dtype == 'object':\n",
    "            # var categ val mqte => mot le plus fréquent\n",
    "            df[col_na] = df[col_na].fillna(df[col_na].mode().values[0])\n",
    "        else:\n",
    "            df[col_na] = df[col_na].fillna(\n",
    "                df[col_na].median())  # val mqtes => mediane\n",
    "    return df.isna().sum().sum()\n"
   ]
  },
  {
   "cell_type": "code",
   "execution_count": 79,
   "metadata": {},
   "outputs": [
    {
     "data": {
      "text/plain": [
       "0"
      ]
     },
     "execution_count": 79,
     "metadata": {},
     "output_type": "execute_result"
    }
   ],
   "source": [
    "df_shap= echantillon_0.copy()\n",
    "nettoyage(df_shap)\n",
    "df_shap.isna().sum().sum()"
   ]
  },
  {
   "cell_type": "code",
   "execution_count": 80,
   "metadata": {},
   "outputs": [
    {
     "data": {
      "text/plain": [
       "(['NAME_CONTRACT_TYPE_Cash loans',\n",
       "  'NAME_CONTRACT_TYPE_Revolving loans',\n",
       "  'CODE_GENDER_F'],\n",
       " 164)"
      ]
     },
     "execution_count": 80,
     "metadata": {},
     "output_type": "execute_result"
    }
   ],
   "source": [
    "#transfomer les  variables en catg + scaler \n",
    "df_shap = pipeline['categ_scaler'].transform(df_shap)\n",
    "cols = [re.sub('one-hot-encoder__|remainder__', '', col_names)\n",
    "        for col_names in pipeline.steps[0][1].get_feature_names_out()]  # colonnes récupérées avec one hot encoder\n",
    "cols[:3], len(cols)"
   ]
  },
  {
   "cell_type": "code",
   "execution_count": 81,
   "metadata": {},
   "outputs": [
    {
     "data": {
      "text/html": [
       "<div>\n",
       "<style scoped>\n",
       "    .dataframe tbody tr th:only-of-type {\n",
       "        vertical-align: middle;\n",
       "    }\n",
       "\n",
       "    .dataframe tbody tr th {\n",
       "        vertical-align: top;\n",
       "    }\n",
       "\n",
       "    .dataframe thead th {\n",
       "        text-align: right;\n",
       "    }\n",
       "</style>\n",
       "<table border=\"1\" class=\"dataframe\">\n",
       "  <thead>\n",
       "    <tr style=\"text-align: right;\">\n",
       "      <th></th>\n",
       "      <th>NAME_CONTRACT_TYPE_Cash loans</th>\n",
       "      <th>NAME_CONTRACT_TYPE_Revolving loans</th>\n",
       "      <th>CODE_GENDER_F</th>\n",
       "      <th>CODE_GENDER_M</th>\n",
       "      <th>FLAG_OWN_CAR_N</th>\n",
       "      <th>FLAG_OWN_CAR_Y</th>\n",
       "      <th>FLAG_OWN_REALTY_Y</th>\n",
       "      <th>FLAG_OWN_REALTY_N</th>\n",
       "      <th>NAME_TYPE_SUITE_Unaccompanied</th>\n",
       "      <th>NAME_TYPE_SUITE_Family</th>\n",
       "      <th>...</th>\n",
       "      <th>FLAG_DOCUMENT_18</th>\n",
       "      <th>FLAG_DOCUMENT_19</th>\n",
       "      <th>FLAG_DOCUMENT_20</th>\n",
       "      <th>FLAG_DOCUMENT_21</th>\n",
       "      <th>AMT_REQ_CREDIT_BUREAU_HOUR</th>\n",
       "      <th>AMT_REQ_CREDIT_BUREAU_DAY</th>\n",
       "      <th>AMT_REQ_CREDIT_BUREAU_WEEK</th>\n",
       "      <th>AMT_REQ_CREDIT_BUREAU_MON</th>\n",
       "      <th>AMT_REQ_CREDIT_BUREAU_QRT</th>\n",
       "      <th>AMT_REQ_CREDIT_BUREAU_YEAR</th>\n",
       "    </tr>\n",
       "  </thead>\n",
       "  <tbody>\n",
       "    <tr>\n",
       "      <th>0</th>\n",
       "      <td>1.0</td>\n",
       "      <td>0.0</td>\n",
       "      <td>0.0</td>\n",
       "      <td>1.0</td>\n",
       "      <td>1.0</td>\n",
       "      <td>0.0</td>\n",
       "      <td>1.0</td>\n",
       "      <td>0.0</td>\n",
       "      <td>1.0</td>\n",
       "      <td>0.0</td>\n",
       "      <td>...</td>\n",
       "      <td>-0.090925</td>\n",
       "      <td>-0.023618</td>\n",
       "      <td>-0.022196</td>\n",
       "      <td>-0.018036</td>\n",
       "      <td>-0.070505</td>\n",
       "      <td>-0.058948</td>\n",
       "      <td>-0.156873</td>\n",
       "      <td>-0.268657</td>\n",
       "      <td>-0.285612</td>\n",
       "      <td>-0.440256</td>\n",
       "    </tr>\n",
       "    <tr>\n",
       "      <th>1</th>\n",
       "      <td>1.0</td>\n",
       "      <td>0.0</td>\n",
       "      <td>1.0</td>\n",
       "      <td>0.0</td>\n",
       "      <td>1.0</td>\n",
       "      <td>0.0</td>\n",
       "      <td>0.0</td>\n",
       "      <td>1.0</td>\n",
       "      <td>0.0</td>\n",
       "      <td>1.0</td>\n",
       "      <td>...</td>\n",
       "      <td>-0.090925</td>\n",
       "      <td>-0.023618</td>\n",
       "      <td>-0.022196</td>\n",
       "      <td>-0.018036</td>\n",
       "      <td>-0.070505</td>\n",
       "      <td>-0.058948</td>\n",
       "      <td>-0.156873</td>\n",
       "      <td>-0.268657</td>\n",
       "      <td>-0.285612</td>\n",
       "      <td>-1.006779</td>\n",
       "    </tr>\n",
       "    <tr>\n",
       "      <th>2</th>\n",
       "      <td>0.0</td>\n",
       "      <td>1.0</td>\n",
       "      <td>0.0</td>\n",
       "      <td>1.0</td>\n",
       "      <td>0.0</td>\n",
       "      <td>1.0</td>\n",
       "      <td>1.0</td>\n",
       "      <td>0.0</td>\n",
       "      <td>1.0</td>\n",
       "      <td>0.0</td>\n",
       "      <td>...</td>\n",
       "      <td>-0.090925</td>\n",
       "      <td>-0.023618</td>\n",
       "      <td>-0.022196</td>\n",
       "      <td>-0.018036</td>\n",
       "      <td>-0.070505</td>\n",
       "      <td>-0.058948</td>\n",
       "      <td>-0.156873</td>\n",
       "      <td>-0.268657</td>\n",
       "      <td>-0.285612</td>\n",
       "      <td>-1.006779</td>\n",
       "    </tr>\n",
       "    <tr>\n",
       "      <th>3</th>\n",
       "      <td>1.0</td>\n",
       "      <td>0.0</td>\n",
       "      <td>1.0</td>\n",
       "      <td>0.0</td>\n",
       "      <td>1.0</td>\n",
       "      <td>0.0</td>\n",
       "      <td>1.0</td>\n",
       "      <td>0.0</td>\n",
       "      <td>1.0</td>\n",
       "      <td>0.0</td>\n",
       "      <td>...</td>\n",
       "      <td>-0.090925</td>\n",
       "      <td>-0.023618</td>\n",
       "      <td>-0.022196</td>\n",
       "      <td>-0.018036</td>\n",
       "      <td>-0.070505</td>\n",
       "      <td>-0.058948</td>\n",
       "      <td>-0.156873</td>\n",
       "      <td>-0.268657</td>\n",
       "      <td>-0.285612</td>\n",
       "      <td>-0.440256</td>\n",
       "    </tr>\n",
       "    <tr>\n",
       "      <th>4</th>\n",
       "      <td>1.0</td>\n",
       "      <td>0.0</td>\n",
       "      <td>0.0</td>\n",
       "      <td>1.0</td>\n",
       "      <td>1.0</td>\n",
       "      <td>0.0</td>\n",
       "      <td>1.0</td>\n",
       "      <td>0.0</td>\n",
       "      <td>1.0</td>\n",
       "      <td>0.0</td>\n",
       "      <td>...</td>\n",
       "      <td>-0.090925</td>\n",
       "      <td>-0.023618</td>\n",
       "      <td>-0.022196</td>\n",
       "      <td>-0.018036</td>\n",
       "      <td>-0.070505</td>\n",
       "      <td>-0.058948</td>\n",
       "      <td>-0.156873</td>\n",
       "      <td>-0.268657</td>\n",
       "      <td>-0.285612</td>\n",
       "      <td>-1.006779</td>\n",
       "    </tr>\n",
       "  </tbody>\n",
       "</table>\n",
       "<p>5 rows × 164 columns</p>\n",
       "</div>"
      ],
      "text/plain": [
       "   NAME_CONTRACT_TYPE_Cash loans  NAME_CONTRACT_TYPE_Revolving loans  \\\n",
       "0                            1.0                                 0.0   \n",
       "1                            1.0                                 0.0   \n",
       "2                            0.0                                 1.0   \n",
       "3                            1.0                                 0.0   \n",
       "4                            1.0                                 0.0   \n",
       "\n",
       "   CODE_GENDER_F  CODE_GENDER_M  FLAG_OWN_CAR_N  FLAG_OWN_CAR_Y  \\\n",
       "0            0.0            1.0             1.0             0.0   \n",
       "1            1.0            0.0             1.0             0.0   \n",
       "2            0.0            1.0             0.0             1.0   \n",
       "3            1.0            0.0             1.0             0.0   \n",
       "4            0.0            1.0             1.0             0.0   \n",
       "\n",
       "   FLAG_OWN_REALTY_Y  FLAG_OWN_REALTY_N  NAME_TYPE_SUITE_Unaccompanied  \\\n",
       "0                1.0                0.0                            1.0   \n",
       "1                0.0                1.0                            0.0   \n",
       "2                1.0                0.0                            1.0   \n",
       "3                1.0                0.0                            1.0   \n",
       "4                1.0                0.0                            1.0   \n",
       "\n",
       "   NAME_TYPE_SUITE_Family  ...  FLAG_DOCUMENT_18  FLAG_DOCUMENT_19  \\\n",
       "0                     0.0  ...         -0.090925         -0.023618   \n",
       "1                     1.0  ...         -0.090925         -0.023618   \n",
       "2                     0.0  ...         -0.090925         -0.023618   \n",
       "3                     0.0  ...         -0.090925         -0.023618   \n",
       "4                     0.0  ...         -0.090925         -0.023618   \n",
       "\n",
       "   FLAG_DOCUMENT_20  FLAG_DOCUMENT_21  AMT_REQ_CREDIT_BUREAU_HOUR  \\\n",
       "0         -0.022196         -0.018036                   -0.070505   \n",
       "1         -0.022196         -0.018036                   -0.070505   \n",
       "2         -0.022196         -0.018036                   -0.070505   \n",
       "3         -0.022196         -0.018036                   -0.070505   \n",
       "4         -0.022196         -0.018036                   -0.070505   \n",
       "\n",
       "   AMT_REQ_CREDIT_BUREAU_DAY  AMT_REQ_CREDIT_BUREAU_WEEK  \\\n",
       "0                  -0.058948                   -0.156873   \n",
       "1                  -0.058948                   -0.156873   \n",
       "2                  -0.058948                   -0.156873   \n",
       "3                  -0.058948                   -0.156873   \n",
       "4                  -0.058948                   -0.156873   \n",
       "\n",
       "   AMT_REQ_CREDIT_BUREAU_MON  AMT_REQ_CREDIT_BUREAU_QRT  \\\n",
       "0                  -0.268657                  -0.285612   \n",
       "1                  -0.268657                  -0.285612   \n",
       "2                  -0.268657                  -0.285612   \n",
       "3                  -0.268657                  -0.285612   \n",
       "4                  -0.268657                  -0.285612   \n",
       "\n",
       "   AMT_REQ_CREDIT_BUREAU_YEAR  \n",
       "0                   -0.440256  \n",
       "1                   -1.006779  \n",
       "2                   -1.006779  \n",
       "3                   -0.440256  \n",
       "4                   -1.006779  \n",
       "\n",
       "[5 rows x 164 columns]"
      ]
     },
     "execution_count": 81,
     "metadata": {},
     "output_type": "execute_result"
    }
   ],
   "source": [
    "df_shap = pd.DataFrame(data = df_shap,columns = cols) #sous format de dataframe\n",
    "df_shap.head()"
   ]
  },
  {
   "attachments": {},
   "cell_type": "markdown",
   "metadata": {},
   "source": [
    " Réutilisation du X_test normalement "
   ]
  },
  {
   "cell_type": "code",
   "execution_count": 75,
   "metadata": {},
   "outputs": [
    {
     "data": {
      "text/plain": [
       "array([[ 0.00086051,  0.00086051,  0.05748131, ..., -0.0030232 ,\n",
       "        -0.00928758,  0.00457076],\n",
       "       [ 0.00086051,  0.00086051, -0.02582493, ..., -0.0030232 ,\n",
       "        -0.00928758,  0.00457076],\n",
       "       [ 0.00086051,  0.00086051, -0.02582493, ..., -0.0030232 ,\n",
       "        -0.00928758,  0.00457076],\n",
       "       ...,\n",
       "       [ 0.00086051,  0.00086051,  0.05748131, ..., -0.0030232 ,\n",
       "         0.00379352,  0.00457076],\n",
       "       [ 0.00086051,  0.00086051, -0.02582493, ..., -0.0030232 ,\n",
       "        -0.00928758,  0.00457076],\n",
       "       [ 0.00086051,  0.00086051, -0.02582493, ..., -0.0030232 ,\n",
       "         0.00379352,  0.00457076]])"
      ]
     },
     "execution_count": 75,
     "metadata": {},
     "output_type": "execute_result"
    }
   ],
   "source": [
    "df_shap_pred = df_shap.sample(10, random_state= 42) #sélection 10 id a prédire \n",
    "columns_selected = pipeline.steps[1][1].get_support() # a changer avec nouvel endroit dans pipeline\n",
    "columns_selected=df_shap.columns[columns_selected] # a changer avec nouvel endroit dans pipeline\n",
    "explainer = shap.Explainer(model,df_shap.drop(df_shap_pred.index.values,axis = 0)[columns_selected],seed = 42) #X_test a la place\n",
    "shap_values_2 = explainer.shap_values(df_shap_pred[columns_selected])\n",
    "shap_values_2\n"
   ]
  },
  {
   "cell_type": "code",
   "execution_count": 30,
   "metadata": {},
   "outputs": [],
   "source": [
    " val_to_return = {'prediction': [0],\n",
    "                    'feature_importance':[1,2,3],\n",
    "                    'nom_colonnes': ['test'],\n",
    "                    'score': [0.1]}"
   ]
  },
  {
   "cell_type": "code",
   "execution_count": 33,
   "metadata": {},
   "outputs": [],
   "source": [
    "from fastapi.encoders import jsonable_encoder"
   ]
  },
  {
   "cell_type": "code",
   "execution_count": 35,
   "metadata": {},
   "outputs": [],
   "source": [
    "df_f = pd.read_csv('shap_glob_val_sup_0.csv')\n"
   ]
  },
  {
   "cell_type": "code",
   "execution_count": 69,
   "metadata": {},
   "outputs": [
    {
     "data": {
      "text/plain": [
       "4.0"
      ]
     },
     "execution_count": 69,
     "metadata": {},
     "output_type": "execute_result"
    }
   ],
   "source": [
    "0.04*100"
   ]
  },
  {
   "cell_type": "code",
   "execution_count": 75,
   "metadata": {},
   "outputs": [],
   "source": [
    "data_graph = df_f[df_f['feature_importance']>0.001]"
   ]
  },
  {
   "cell_type": "code",
   "execution_count": 76,
   "metadata": {},
   "outputs": [
    {
     "data": {
      "text/html": [
       "\n",
       "  <div id=\"2156aead-92de-431e-b036-f84b4acbad58\" data-root-id=\"p4229\" style=\"display: contents;\"></div>\n"
      ]
     },
     "metadata": {},
     "output_type": "display_data"
    },
    {
     "data": {
      "application/javascript": "(function(root) {\n  function embed_document(root) {\n  const docs_json = {\"126a652a-4ffc-45a4-a970-8865938dee56\":{\"version\":\"3.0.3\",\"title\":\"Bokeh Application\",\"defs\":[],\"roots\":[{\"type\":\"object\",\"name\":\"Figure\",\"id\":\"p4229\",\"attributes\":{\"width\":500,\"height\":800,\"x_range\":{\"type\":\"object\",\"name\":\"Range1d\",\"id\":\"p4238\",\"attributes\":{\"start\":-0.0039831978319784,\"end\":0.0906092140921399}},\"y_range\":{\"type\":\"object\",\"name\":\"FactorRange\",\"id\":\"p4240\",\"attributes\":{\"factors\":[\"AMT_REQ_CREDIT_BUREAU_YEAR\",\"CODE_GENDER_M\",\"FLAG_OWN_CAR_N\",\"HOUR_APPR_PROCESS_START\",\"EXT_SOURCE_3\",\"AMT_GOODS_PRICE\",\"AMT_CREDIT\",\"CODE_GENDER_F\",\"EXT_SOURCE_2\",\"NAME_FAMILY_STATUS_Married\",\"ORGANIZATION_TYPE_Business Entity Type 3\",\"FLAG_OWN_REALTY_Y\",\"FLAG_OWN_REALTY_N\",\"AMT_ANNUITY\",\"FLAG_OWN_CAR_Y\",\"EXT_SOURCE_1\",\"DAYS_BIRTH\",\"DAYS_EMPLOYED\",\"DAYS_REGISTRATION\",\"OBS_60_CNT_SOCIAL_CIRCLE\",\"WEEKDAY_APPR_PROCESS_START_WEDNESDAY\",\"NAME_INCOME_TYPE_Working\",\"AMT_REQ_CREDIT_BUREAU_QRT\",\"DAYS_LAST_PHONE_CHANGE\",\"DAYS_ID_PUBLISH\",\"SK_ID_CURR\",\"REGION_POPULATION_RELATIVE\",\"NAME_EDUCATION_TYPE_Secondary / secondary special\",\"AMT_INCOME_TOTAL\",\"NAME_TYPE_SUITE_Unaccompanied\",\"WEEKDAY_APPR_PROCESS_START_FRIDAY\",\"AMT_REQ_CREDIT_BUREAU_MON\",\"WEEKDAY_APPR_PROCESS_START_TUESDAY\",\"FLAG_PHONE\",\"NONLIVINGAREA_MODE\",\"WEEKDAY_APPR_PROCESS_START_SATURDAY\",\"OWN_CAR_AGE\",\"WEEKDAY_APPR_PROCESS_START_MONDAY\",\"WALLSMATERIAL_MODE_Stone, brick\",\"OCCUPATION_TYPE_Laborers\",\"ORGANIZATION_TYPE_Self-employed\",\"BASEMENTAREA_MODE\",\"REGION_RATING_CLIENT_W_CITY\",\"FLAG_WORK_PHONE\",\"WEEKDAY_APPR_PROCESS_START_THURSDAY\",\"APARTMENTS_MODE\",\"FLAG_DOCUMENT_3\",\"WALLSMATERIAL_MODE_Panel\",\"FLOORSMAX_MEDI\",\"COMMONAREA_MEDI\",\"TOTALAREA_MODE\",\"NAME_TYPE_SUITE_Family\",\"CNT_FAM_MEMBERS\",\"WEEKDAY_APPR_PROCESS_START_SUNDAY\",\"LANDAREA_MODE\",\"LIVINGAREA_MODE\",\"BASEMENTAREA_MEDI\",\"APARTMENTS_AVG\",\"COMMONAREA_MODE\",\"COMMONAREA_AVG\",\"BASEMENTAREA_AVG\",\"OBS_30_CNT_SOCIAL_CIRCLE\",\"NAME_FAMILY_STATUS_Single / not married\",\"NONLIVINGAREA_AVG\",\"CNT_CHILDREN\",\"ENTRANCES_MODE\",\"ENTRANCES_MEDI\",\"FLOORSMAX_MODE\",\"LANDAREA_AVG\",\"NONLIVINGAREA_MEDI\",\"LIVINGAREA_AVG\",\"LIVINGAPARTMENTS_MODE\",\"YEARS_BEGINEXPLUATATION_AVG\",\"NAME_EDUCATION_TYPE_Higher education\",\"OCCUPATION_TYPE_Accountants\",\"NAME_INCOME_TYPE_Commercial associate\",\"LIVINGAREA_MEDI\",\"LANDAREA_MEDI\",\"ENTRANCES_AVG\",\"NAME_CONTRACT_TYPE_Cash loans\",\"OCCUPATION_TYPE_Sales staff\",\"NAME_HOUSING_TYPE_House / apartment\",\"DEF_30_CNT_SOCIAL_CIRCLE\",\"YEARS_BUILD_MODE\",\"FLOORSMAX_AVG\",\"LIVINGAPARTMENTS_MEDI\",\"YEARS_BEGINEXPLUATATION_MODE\",\"OCCUPATION_TYPE_High skill tech staff\",\"APARTMENTS_MEDI\",\"LIVINGAPARTMENTS_AVG\",\"ORGANIZATION_TYPE_Other\",\"FONDKAPREMONT_MODE_reg oper account\",\"NAME_FAMILY_STATUS_Widow\",\"FLOORSMIN_AVG\",\"YEARS_BEGINEXPLUATATION_MEDI\",\"REG_CITY_NOT_LIVE_CITY\",\"ORGANIZATION_TYPE_School\",\"YEARS_BUILD_AVG\",\"REG_CITY_NOT_WORK_CITY\",\"FLAG_DOCUMENT_6\",\"FLOORSMIN_MEDI\",\"ELEVATORS_MEDI\",\"OCCUPATION_TYPE_Drivers\",\"ORGANIZATION_TYPE_Medicine\",\"OCCUPATION_TYPE_Core staff\",\"REGION_RATING_CLIENT\",\"NAME_FAMILY_STATUS_Civil marriage\",\"OCCUPATION_TYPE_Medicine staff\",\"ELEVATORS_MODE\",\"FLAG_DOCUMENT_8\",\"YEARS_BUILD_MEDI\",\"ORGANIZATION_TYPE_Business Entity Type 1\",\"ORGANIZATION_TYPE_Construction\",\"AMT_REQ_CREDIT_BUREAU_DAY\",\"NONLIVINGAPARTMENTS_AVG\",\"ORGANIZATION_TYPE_Kindergarten\",\"ORGANIZATION_TYPE_Trade: type 7\",\"LIVE_CITY_NOT_WORK_CITY\",\"ELEVATORS_AVG\",\"DEF_60_CNT_SOCIAL_CIRCLE\",\"NAME_CONTRACT_TYPE_Revolving loans\",\"NAME_FAMILY_STATUS_Separated\",\"NONLIVINGAPARTMENTS_MODE\",\"ORGANIZATION_TYPE_Business Entity Type 2\"]}},\"x_scale\":{\"type\":\"object\",\"name\":\"LinearScale\",\"id\":\"p4242\"},\"y_scale\":{\"type\":\"object\",\"name\":\"CategoricalScale\",\"id\":\"p4244\"},\"title\":{\"type\":\"object\",\"name\":\"Title\",\"id\":\"p4234\"},\"outline_line_color\":null,\"renderers\":[{\"type\":\"object\",\"name\":\"GlyphRenderer\",\"id\":\"p4280\",\"attributes\":{\"data_source\":{\"type\":\"object\",\"name\":\"ColumnDataSource\",\"id\":\"p4226\",\"attributes\":{\"selected\":{\"type\":\"object\",\"name\":\"Selection\",\"id\":\"p4228\",\"attributes\":{\"indices\":[],\"line_indices\":[]}},\"selection_policy\":{\"type\":\"object\",\"name\":\"UnionRenderers\",\"id\":\"p4227\"},\"data\":{\"type\":\"map\",\"entries\":[[\"x\",{\"type\":\"ndarray\",\"array\":{\"type\":\"bytes\",\"data\":\"Pk7iHLvKpD9tUUo2U6ykP/qTsk7vfaQ/USD8nyEsoz8GVXo+g8WhP/uvFQu+eqA/qZ+/h6tgoD/yhb0pvbOdP/+xVYl2fZ0/zfFwZ3wXmj8Jhpn6IDKYP06Q30BVnZY/vaDou13FlT/ckKgr/ZSTP9K0aEZ6VZM/dSGwrO0ckz8KRdeyZrmQPyWOtffMVZA/rvX8r7B6jz9fdmKhlLaNPwXq0DOo1ow/Azo2rDpniz/+3fXIr0eLP8+0cX1OCos/lyQi+Wlzij+TvAWv1gSJP/Gi488NBYc/laI6yX2ahj9aBaDgiJKGP0VJufj68YU/6JNLSi1/hT/pGyaFkeiEP7+Hx9ikhYM/uPQOPxhNgz+WLZ79oTKCPyTRCRXXvYE/fQN0n+DKgD898m4UGKOAP02Y/bkd5H8/TYM9DI1Ffz8N2Fqztwx/P+AlWBKyu30/pN/z0I/Hez/qdBh09OF6P9qq6B92UHo/5NLGWHdjeT8zgBS/FL54P3W2jm02V3g/YUig+FKldz97u2SIxpp2PzUyjj2iMXY/tg+EJxHidT8smxt9XUJ1P9cw6CpCB3U/fRx8gvG9dD+gvCmDLpJ0P+qkqsKVfHQ/Tt2Nhl+3cz99WB5Zw29zP5kWcUop8nI/SOrZ5n/ocj+j7ez+x7RyP3FTuyt7TnI/j3/+ieQCcj8YdR03jPNxP3L55lHIEHE/BFz4Y5OzcD9QekdXXIxwP7/SIRlvSnA/eezEY+jVbz9IQToAk/JuP0gNf2R50G4/uZ+O93Webj+iQOb6Up1uP5D3bKnIXG0/CY3lUW3MbD96H/XkaZpsPyjv9mM4b2w//dD9bc9rbD86sLRiZhNrP75QZFvDZ2o/Py5aRTIYaj+ylHx3JQdqP/Tx2E6Is2c/pWEy0TOHZz+RkYhH5QdnPwCEQNcE12Y/dHGTQbwEZj8QVldmO/hlP6Ft2hYUDmU/0E6NG2u1ZD8EcO8mfFpkP16jVr1VJ2Q/jyRhxYnNYz/SxGTDJndjP+Wvoh12WGM/hCNltcnNYj/1tXRIxptiP94iEbCJeGI/SVxKcbOIYT+P0GAOR1NhP9fkzq63HGE/jbc5Qy6TYD/+fQRyRINgP8PgaYlPe2A/3O7Zc1AiXz/YaRZBdIVeP6UDoAlBQV4/UdUOjve3XD8R3hK5l5RYP26geMJF41c/avhShFihVz+yDMEkyWpXP5jZBYmvSFc/WJ6AosXjVT/Pk6FHjVRVPzt+i5yc4FQ/YHdpXExIVD8K0wA5R/1TP8i5LXNuklM/NAyO/7BiUz8smpBixeRRP39Rvxu7TlE/XM64A8eoUD8=\"},\"shape\":[124],\"dtype\":\"float64\",\"order\":\"little\"}],[\"y\",{\"type\":\"ndarray\",\"array\":[\"AMT_REQ_CREDIT_BUREAU_YEAR\",\"CODE_GENDER_M\",\"FLAG_OWN_CAR_N\",\"HOUR_APPR_PROCESS_START\",\"EXT_SOURCE_3\",\"AMT_GOODS_PRICE\",\"AMT_CREDIT\",\"CODE_GENDER_F\",\"EXT_SOURCE_2\",\"NAME_FAMILY_STATUS_Married\",\"ORGANIZATION_TYPE_Business Entity Type 3\",\"FLAG_OWN_REALTY_Y\",\"FLAG_OWN_REALTY_N\",\"AMT_ANNUITY\",\"FLAG_OWN_CAR_Y\",\"EXT_SOURCE_1\",\"DAYS_BIRTH\",\"DAYS_EMPLOYED\",\"DAYS_REGISTRATION\",\"OBS_60_CNT_SOCIAL_CIRCLE\",\"WEEKDAY_APPR_PROCESS_START_WEDNESDAY\",\"NAME_INCOME_TYPE_Working\",\"AMT_REQ_CREDIT_BUREAU_QRT\",\"DAYS_LAST_PHONE_CHANGE\",\"DAYS_ID_PUBLISH\",\"SK_ID_CURR\",\"REGION_POPULATION_RELATIVE\",\"NAME_EDUCATION_TYPE_Secondary / secondary special\",\"AMT_INCOME_TOTAL\",\"NAME_TYPE_SUITE_Unaccompanied\",\"WEEKDAY_APPR_PROCESS_START_FRIDAY\",\"AMT_REQ_CREDIT_BUREAU_MON\",\"WEEKDAY_APPR_PROCESS_START_TUESDAY\",\"FLAG_PHONE\",\"NONLIVINGAREA_MODE\",\"WEEKDAY_APPR_PROCESS_START_SATURDAY\",\"OWN_CAR_AGE\",\"WEEKDAY_APPR_PROCESS_START_MONDAY\",\"WALLSMATERIAL_MODE_Stone, brick\",\"OCCUPATION_TYPE_Laborers\",\"ORGANIZATION_TYPE_Self-employed\",\"BASEMENTAREA_MODE\",\"REGION_RATING_CLIENT_W_CITY\",\"FLAG_WORK_PHONE\",\"WEEKDAY_APPR_PROCESS_START_THURSDAY\",\"APARTMENTS_MODE\",\"FLAG_DOCUMENT_3\",\"WALLSMATERIAL_MODE_Panel\",\"FLOORSMAX_MEDI\",\"COMMONAREA_MEDI\",\"TOTALAREA_MODE\",\"NAME_TYPE_SUITE_Family\",\"CNT_FAM_MEMBERS\",\"WEEKDAY_APPR_PROCESS_START_SUNDAY\",\"LANDAREA_MODE\",\"LIVINGAREA_MODE\",\"BASEMENTAREA_MEDI\",\"APARTMENTS_AVG\",\"COMMONAREA_MODE\",\"COMMONAREA_AVG\",\"BASEMENTAREA_AVG\",\"OBS_30_CNT_SOCIAL_CIRCLE\",\"NAME_FAMILY_STATUS_Single / not married\",\"NONLIVINGAREA_AVG\",\"CNT_CHILDREN\",\"ENTRANCES_MODE\",\"ENTRANCES_MEDI\",\"FLOORSMAX_MODE\",\"LANDAREA_AVG\",\"NONLIVINGAREA_MEDI\",\"LIVINGAREA_AVG\",\"LIVINGAPARTMENTS_MODE\",\"YEARS_BEGINEXPLUATATION_AVG\",\"NAME_EDUCATION_TYPE_Higher education\",\"OCCUPATION_TYPE_Accountants\",\"NAME_INCOME_TYPE_Commercial associate\",\"LIVINGAREA_MEDI\",\"LANDAREA_MEDI\",\"ENTRANCES_AVG\",\"NAME_CONTRACT_TYPE_Cash loans\",\"OCCUPATION_TYPE_Sales staff\",\"NAME_HOUSING_TYPE_House / apartment\",\"DEF_30_CNT_SOCIAL_CIRCLE\",\"YEARS_BUILD_MODE\",\"FLOORSMAX_AVG\",\"LIVINGAPARTMENTS_MEDI\",\"YEARS_BEGINEXPLUATATION_MODE\",\"OCCUPATION_TYPE_High skill tech staff\",\"APARTMENTS_MEDI\",\"LIVINGAPARTMENTS_AVG\",\"ORGANIZATION_TYPE_Other\",\"FONDKAPREMONT_MODE_reg oper account\",\"NAME_FAMILY_STATUS_Widow\",\"FLOORSMIN_AVG\",\"YEARS_BEGINEXPLUATATION_MEDI\",\"REG_CITY_NOT_LIVE_CITY\",\"ORGANIZATION_TYPE_School\",\"YEARS_BUILD_AVG\",\"REG_CITY_NOT_WORK_CITY\",\"FLAG_DOCUMENT_6\",\"FLOORSMIN_MEDI\",\"ELEVATORS_MEDI\",\"OCCUPATION_TYPE_Drivers\",\"ORGANIZATION_TYPE_Medicine\",\"OCCUPATION_TYPE_Core staff\",\"REGION_RATING_CLIENT\",\"NAME_FAMILY_STATUS_Civil marriage\",\"OCCUPATION_TYPE_Medicine staff\",\"ELEVATORS_MODE\",\"FLAG_DOCUMENT_8\",\"YEARS_BUILD_MEDI\",\"ORGANIZATION_TYPE_Business Entity Type 1\",\"ORGANIZATION_TYPE_Construction\",\"AMT_REQ_CREDIT_BUREAU_DAY\",\"NONLIVINGAPARTMENTS_AVG\",\"ORGANIZATION_TYPE_Kindergarten\",\"ORGANIZATION_TYPE_Trade: type 7\",\"LIVE_CITY_NOT_WORK_CITY\",\"ELEVATORS_AVG\",\"DEF_60_CNT_SOCIAL_CIRCLE\",\"NAME_CONTRACT_TYPE_Revolving loans\",\"NAME_FAMILY_STATUS_Separated\",\"NONLIVINGAPARTMENTS_MODE\",\"ORGANIZATION_TYPE_Business Entity Type 2\"],\"shape\":[124],\"dtype\":\"object\",\"order\":\"little\"}]]}}},\"view\":{\"type\":\"object\",\"name\":\"CDSView\",\"id\":\"p4281\",\"attributes\":{\"filter\":{\"type\":\"object\",\"name\":\"AllIndices\",\"id\":\"p4282\"}}},\"glyph\":{\"type\":\"object\",\"name\":\"HBar\",\"id\":\"p4277\",\"attributes\":{\"y\":{\"type\":\"field\",\"field\":\"y\"},\"height\":{\"type\":\"value\",\"value\":0.4},\"left\":{\"type\":\"value\",\"value\":0.5},\"right\":{\"type\":\"field\",\"field\":\"x\"},\"line_color\":{\"type\":\"value\",\"value\":\"#1f77b4\"},\"fill_color\":{\"type\":\"value\",\"value\":\"#1f77b4\"}}},\"nonselection_glyph\":{\"type\":\"object\",\"name\":\"HBar\",\"id\":\"p4278\",\"attributes\":{\"y\":{\"type\":\"field\",\"field\":\"y\"},\"height\":{\"type\":\"value\",\"value\":0.4},\"left\":{\"type\":\"value\",\"value\":0.5},\"right\":{\"type\":\"field\",\"field\":\"x\"},\"line_color\":{\"type\":\"value\",\"value\":\"#1f77b4\"},\"line_alpha\":{\"type\":\"value\",\"value\":0.1},\"fill_color\":{\"type\":\"value\",\"value\":\"#1f77b4\"},\"fill_alpha\":{\"type\":\"value\",\"value\":0.1},\"hatch_alpha\":{\"type\":\"value\",\"value\":0.1}}},\"muted_glyph\":{\"type\":\"object\",\"name\":\"HBar\",\"id\":\"p4279\",\"attributes\":{\"y\":{\"type\":\"field\",\"field\":\"y\"},\"height\":{\"type\":\"value\",\"value\":0.4},\"left\":{\"type\":\"value\",\"value\":0.5},\"right\":{\"type\":\"field\",\"field\":\"x\"},\"line_color\":{\"type\":\"value\",\"value\":\"#1f77b4\"},\"line_alpha\":{\"type\":\"value\",\"value\":0.2},\"fill_color\":{\"type\":\"value\",\"value\":\"#1f77b4\"},\"fill_alpha\":{\"type\":\"value\",\"value\":0.2},\"hatch_alpha\":{\"type\":\"value\",\"value\":0.2}}}}}],\"toolbar\":{\"type\":\"object\",\"name\":\"Toolbar\",\"id\":\"p4236\",\"attributes\":{\"tools\":[{\"type\":\"object\",\"name\":\"PanTool\",\"id\":\"p4259\"},{\"type\":\"object\",\"name\":\"WheelZoomTool\",\"id\":\"p4260\"},{\"type\":\"object\",\"name\":\"BoxZoomTool\",\"id\":\"p4261\",\"attributes\":{\"overlay\":{\"type\":\"object\",\"name\":\"BoxAnnotation\",\"id\":\"p4262\",\"attributes\":{\"syncable\":false,\"level\":\"overlay\",\"visible\":false,\"left_units\":\"canvas\",\"right_units\":\"canvas\",\"bottom_units\":\"canvas\",\"top_units\":\"canvas\",\"line_color\":\"black\",\"line_alpha\":1.0,\"line_width\":2,\"line_dash\":[4,4],\"fill_color\":\"lightgrey\",\"fill_alpha\":0.5}}}},{\"type\":\"object\",\"name\":\"SaveTool\",\"id\":\"p4263\"},{\"type\":\"object\",\"name\":\"ResetTool\",\"id\":\"p4264\"},{\"type\":\"object\",\"name\":\"HelpTool\",\"id\":\"p4265\"}]}},\"left\":[{\"type\":\"object\",\"name\":\"CategoricalAxis\",\"id\":\"p4253\",\"attributes\":{\"ticker\":{\"type\":\"object\",\"name\":\"CategoricalTicker\",\"id\":\"p4255\"},\"formatter\":{\"type\":\"object\",\"name\":\"CategoricalTickFormatter\",\"id\":\"p4256\"},\"axis_label_text_font_size\":\"1pt\",\"major_label_policy\":{\"type\":\"object\",\"name\":\"AllLabels\",\"id\":\"p4254\"},\"major_label_text_font_size\":\"5pt\"}}],\"below\":[{\"type\":\"object\",\"name\":\"LinearAxis\",\"id\":\"p4246\",\"attributes\":{\"ticker\":{\"type\":\"object\",\"name\":\"BasicTicker\",\"id\":\"p4248\",\"attributes\":{\"mantissas\":[1,2,5]}},\"formatter\":{\"type\":\"object\",\"name\":\"BasicTickFormatter\",\"id\":\"p4249\"},\"axis_label\":\"feature importance globale\",\"major_label_policy\":{\"type\":\"object\",\"name\":\"AllLabels\",\"id\":\"p4247\"}}}],\"center\":[{\"type\":\"object\",\"name\":\"Grid\",\"id\":\"p4252\",\"attributes\":{\"axis\":{\"id\":\"p4246\"}}},{\"type\":\"object\",\"name\":\"Grid\",\"id\":\"p4258\",\"attributes\":{\"dimension\":1,\"axis\":{\"id\":\"p4253\"},\"grid_line_color\":null}}]}}]}};\n  const render_items = [{\"docid\":\"126a652a-4ffc-45a4-a970-8865938dee56\",\"roots\":{\"p4229\":\"2156aead-92de-431e-b036-f84b4acbad58\"},\"root_ids\":[\"p4229\"]}];\n  root.Bokeh.embed.embed_items_notebook(docs_json, render_items);\n  }\n  if (root.Bokeh !== undefined) {\n    embed_document(root);\n  } else {\n    let attempts = 0;\n    const timer = setInterval(function(root) {\n      if (root.Bokeh !== undefined) {\n        clearInterval(timer);\n        embed_document(root);\n      } else {\n        attempts++;\n        if (attempts > 100) {\n          clearInterval(timer);\n          console.log(\"Bokeh: ERROR: Unable to run BokehJS code because BokehJS library is missing\");\n        }\n      }\n    }, 10, root)\n  }\n})(window);",
      "application/vnd.bokehjs_exec.v0+json": ""
     },
     "metadata": {
      "application/vnd.bokehjs_exec.v0+json": {
       "id": "p4229"
      }
     },
     "output_type": "display_data"
    }
   ],
   "source": [
    "\n",
    "source_f = ColumnDataSource(dict(x=data_graph['feature_importance'].values,\n",
    "                                 y=data_graph['nom_variables'].values))\n",
    "\n",
    "f= figure(x_range=(min(data_graph['feature_importance'].values)-0.005,max(data_graph['feature_importance'].values)+0.05),\n",
    "          y_range=(data_graph['nom_variables'].values),\n",
    "          width=500,\n",
    "          height=800)\n",
    "\n",
    "f.hbar(y='y', right=\"x\", left=0.5, height=0.4, source=source_f)\n",
    "f.ygrid.grid_line_color = None\n",
    "f.yaxis.axis_label_text_font_size = \"1pt\"\n",
    "f.yaxis.major_label_text_font_size = \"5pt\"\n",
    "f.xaxis.axis_label = \"feature importance globale\"\n",
    "f.outline_line_color = None\n",
    "show(f)"
   ]
  },
  {
   "cell_type": "code",
   "execution_count": null,
   "metadata": {},
   "outputs": [
    {
     "data": {
      "text/plain": [
       "1"
      ]
     },
     "metadata": {},
     "output_type": "display_data"
    }
   ],
   "source": [
    "test_col['x_values'].value_counts().to_dict()['A']\n"
   ]
  },
  {
   "cell_type": "code",
   "execution_count": null,
   "metadata": {},
   "outputs": [
    {
     "data": {
      "text/plain": [
       "0"
      ]
     },
     "metadata": {},
     "output_type": "display_data"
    }
   ],
   "source": [
    "np.argwhere('x_values'==test_col.columns.values).ravel()[0]"
   ]
  },
  {
   "cell_type": "code",
   "execution_count": 84,
   "metadata": {},
   "outputs": [
    {
     "ename": "NameError",
     "evalue": "name 'x' is not defined",
     "output_type": "error",
     "traceback": [
      "\u001b[1;31m---------------------------------------------------------------------------\u001b[0m",
      "\u001b[1;31mNameError\u001b[0m                                 Traceback (most recent call last)",
      "Cell \u001b[1;32mIn[84], line 1\u001b[0m\n\u001b[1;32m----> 1\u001b[0m x\n",
      "\u001b[1;31mNameError\u001b[0m: name 'x' is not defined"
     ]
    }
   ],
   "source": [
    "x"
   ]
  },
  {
   "cell_type": "code",
   "execution_count": 140,
   "metadata": {},
   "outputs": [
    {
     "data": {
      "text/plain": [
       "array([8.46483030e-20, 3.41932504e-19, 1.40148170e-18, 2.78896232e-04,\n",
       "       2.83311468e-04, 3.34154879e-04, 3.47598527e-04, 3.50306082e-04,\n",
       "       3.65241251e-04, 3.92521346e-04, 4.10272412e-04, 5.40896691e-04,\n",
       "       6.68859080e-04, 7.97767094e-04, 8.12907242e-04, 8.60508616e-04,\n",
       "       8.60508616e-04, 1.04041802e-03, 1.34694494e-03, 1.36358849e-03,\n",
       "       1.42796586e-03, 1.55358557e-03, 1.75382427e-03, 1.91493458e-03,\n",
       "       1.92595157e-03, 1.95815328e-03, 2.05741370e-03, 2.09505043e-03,\n",
       "       2.19765238e-03, 2.22522538e-03, 2.34201419e-03, 2.47537819e-03,\n",
       "       2.68590052e-03, 3.02320280e-03, 3.18765203e-03, 3.28320340e-03,\n",
       "       3.44099857e-03, 3.82181716e-03, 3.99676806e-03, 4.00008009e-03,\n",
       "       4.05511105e-03, 4.29824483e-03, 4.32574475e-03, 4.32887884e-03,\n",
       "       4.48948204e-03, 5.27831471e-03, 5.36172354e-03, 5.38303798e-03,\n",
       "       5.42451983e-03, 5.99114605e-03, 6.16377364e-03, 7.02320819e-03,\n",
       "       7.17113255e-03, 7.39503489e-03, 7.63117839e-03, 7.99277343e-03,\n",
       "       9.46032411e-03, 9.98959873e-03, 1.11571613e-02, 1.18138135e-02,\n",
       "       1.26683769e-02, 1.38866168e-02, 1.49924825e-02, 1.50046586e-02,\n",
       "       1.75252604e-02, 1.92978890e-02, 1.94657349e-02, 1.95783406e-02,\n",
       "       2.06652386e-02, 2.15676203e-02, 2.19599263e-02, 2.21801160e-02,\n",
       "       2.30104150e-02, 2.46965652e-02, 2.49128870e-02, 2.49128870e-02,\n",
       "       2.81919029e-02, 3.00320347e-02, 3.05586760e-02, 3.71993003e-02,\n",
       "       3.82407173e-02, 3.84874832e-02, 3.84874832e-02, 4.27189419e-02,\n",
       "       4.69342660e-02, 5.77260950e-02, 1.20675431e-01, 1.41025485e-01,\n",
       "       2.15357207e-01, 2.31272536e-01, 2.81191498e-01])"
      ]
     },
     "execution_count": 140,
     "metadata": {},
     "output_type": "execute_result"
    }
   ],
   "source": [
    "val_sorted = val_sorted[np.where(val_sorted != 0, True, False)]"
   ]
  },
  {
   "cell_type": "code",
   "execution_count": 29,
   "metadata": {},
   "outputs": [
    {
     "ename": "NameError",
     "evalue": "name 'shap_values' is not defined",
     "output_type": "error",
     "traceback": [
      "\u001b[1;31m---------------------------------------------------------------------------\u001b[0m",
      "\u001b[1;31mNameError\u001b[0m                                 Traceback (most recent call last)",
      "Cell \u001b[1;32mIn[29], line 1\u001b[0m\n\u001b[1;32m----> 1\u001b[0m \u001b[39mtype\u001b[39m(shap_values)\n",
      "\u001b[1;31mNameError\u001b[0m: name 'shap_values' is not defined"
     ]
    }
   ],
   "source": []
  },
  {
   "cell_type": "code",
   "execution_count": 46,
   "metadata": {},
   "outputs": [
    {
     "ename": "NameError",
     "evalue": "name 'shap_values_2' is not defined",
     "output_type": "error",
     "traceback": [
      "\u001b[1;31m---------------------------------------------------------------------------\u001b[0m",
      "\u001b[1;31mNameError\u001b[0m                                 Traceback (most recent call last)",
      "Cell \u001b[1;32mIn[46], line 11\u001b[0m\n\u001b[0;32m      4\u001b[0m \u001b[39mfrom\u001b[39;00m \u001b[39mbokeh\u001b[39;00m\u001b[39m.\u001b[39;00m\u001b[39mplotting\u001b[39;00m \u001b[39mimport\u001b[39;00m figure\n\u001b[0;32m      6\u001b[0m TOOLTIPS \u001b[39m=\u001b[39m [\n\u001b[0;32m      7\u001b[0m     (\u001b[39m\"\u001b[39m\u001b[39mindex\u001b[39m\u001b[39m\"\u001b[39m, \u001b[39m\"\u001b[39m\u001b[39m$index\u001b[39m\u001b[39m\"\u001b[39m),\n\u001b[0;32m      8\u001b[0m     (\u001b[39m\"\u001b[39m\u001b[39mImportance de la variable\u001b[39m\u001b[39m\"\u001b[39m, \u001b[39m\"\u001b[39m\u001b[39m@x\u001b[39m\u001b[39m\"\u001b[39m),  \u001b[39m# v3\u001b[39;00m\n\u001b[0;32m      9\u001b[0m     (\u001b[39m\"\u001b[39m\u001b[39mNom de la variable\u001b[39m\u001b[39m\"\u001b[39m, \u001b[39m\"\u001b[39m\u001b[39m@y\u001b[39m\u001b[39m\"\u001b[39m)]\n\u001b[1;32m---> 11\u001b[0m mean_ \u001b[39m=\u001b[39m np\u001b[39m.\u001b[39mabs(shap_values_2)\u001b[39m.\u001b[39mmean(\u001b[39m0\u001b[39m) \u001b[39m#moyenne des features importance chaque variable\u001b[39;00m\n\u001b[0;32m     12\u001b[0m val_sorted \u001b[39m=\u001b[39m mean_[np\u001b[39m.\u001b[39mwhere(np\u001b[39m.\u001b[39msort(mean_) \u001b[39m!=\u001b[39m \u001b[39m0\u001b[39m, \u001b[39mTrue\u001b[39;00m, \u001b[39mFalse\u001b[39;00m)] \u001b[39m#filtre des variables triées par ordre croissant et différents de 0\u001b[39;00m\n\u001b[0;32m     13\u001b[0m idx_val_sorted \u001b[39m=\u001b[39m np\u001b[39m.\u001b[39margsort(mean_)[np\u001b[39m.\u001b[39mwhere(np\u001b[39m.\u001b[39msort(mean_) \u001b[39m!=\u001b[39m \u001b[39m0\u001b[39m, \u001b[39mTrue\u001b[39;00m, \u001b[39mFalse\u001b[39;00m)] \u001b[39m#filtre des index des variables triées par ordre croissant et différents de 0\u001b[39;00m\n",
      "\u001b[1;31mNameError\u001b[0m: name 'shap_values_2' is not defined"
     ]
    }
   ],
   "source": [
    "# feature importance globale shap_value pour plusieurs prédictions a faire avec x Test\n",
    "from bokeh.io import output_file, show\n",
    "from bokeh.models import ColumnDataSource, CDSView, BooleanFilter\n",
    "from bokeh.plotting import figure\n",
    "\n",
    "TOOLTIPS = [\n",
    "    (\"index\", \"$index\"),\n",
    "    (\"Importance de la variable\", \"@x\"),  # v3\n",
    "    (\"Nom de la variable\", \"@y\")]\n",
    "\n",
    "mean_ = np.abs(shap_values_2).mean(0) #moyenne des features importance chaque variable\n",
    "val_sorted = mean_[np.where(np.sort(mean_) != 0, True, False)] #filtre des variables triées par ordre croissant et différents de 0\n",
    "idx_val_sorted = np.argsort(mean_)[np.where(np.sort(mean_) != 0, True, False)] #filtre des index des variables triées par ordre croissant et différents de 0\n",
    "\n",
    "data = dict(x=np.sort(mean_[sup_0]),\n",
    "            y=[columns_selected[index_col] for index_col in idx_val_sorted]) # a changer avec toutes les colonnes\n",
    "\n",
    "source = ColumnDataSource(data)\n",
    "p = figure(y_range=source.data['y'],\n",
    "           x_range=((min(source.data['x'])-0.005)\n",
    "                    ,(max(source.data['x'])+0.05)),\n",
    "           width=600, height=750, toolbar_location=None,\n",
    "           title=\"Importance des variables pour les prédictions\",\n",
    "           tooltips=TOOLTIPS)\n",
    "\n",
    "p.hbar(y='y', right=\"x\", left=0, height=0.4, source=source)\n",
    "\n",
    "p.ygrid.grid_line_color = None\n",
    "p.xaxis.axis_label = \"feature_importance par variable\"\n",
    "p.yaxis.major_label_text_font_size = \"6pt\"\n",
    "p.outline_line_color = None\n",
    "show(p)"
   ]
  },
  {
   "cell_type": "code",
   "execution_count": 15,
   "metadata": {},
   "outputs": [],
   "source": [
    "import numpy as np\n",
    "import pandas as pd"
   ]
  },
  {
   "cell_type": "code",
   "execution_count": 21,
   "metadata": {},
   "outputs": [],
   "source": [
    "test_val = val_f[abs(pd.Series([0.0, 0.0, 0.005, -0.01, 0.0, -0.055, \n",
    "0.03, 0.005, -0.01, 0.0, -0.005, 0.0, 0.0, 0.0, 0.0, 0.0, -0.03, -0.005, 0.0, -0.005, 0.0, 0.0, 0.0, 0.0, -0.005, 0.01, 0.0, 0.0, 0.0, -0.015, -0.015, 0.0, -0.005, 0.0, 0.0, 0.0, 0.0, \n",
    "0.0, 0.0, 0.0, 0.0, 0.0, 0.005, 0.0, -0.005, 0.0, 0.0, -0.01, 0.0, 0.0, 0.0, 0.0, 0.0, 0.0, \n",
    "0.0, 0.0, 0.0, 0.0, 0.0, -0.015, -0.005, -0.01, -0.005, 0.0, -0.045, 0.0, 0.025, 0.0, -0.005, -0.005, 0.0, 0.0, 0.0, -0.005, 0.0, 0.0, 0.0, 0.0, 0.0, 0.0, 0.0, 0.0, 0.0, -0.005, -0.005, 0.0, 0.0, 0.0, 0.0, 0.0, -0.005, 0.0, 0.0, 0.0, 0.0, 0.0, 0.0, 0.0, 0.0, 0.0, 0.0, 0.0, 0.0, 0.0, 0.0, 0.0, 0.0, 0.0, 0.0, 0.0, 0.0, 0.0, 0.0, 0.0, 0.0, 0.0, 0.0, 0.0, 0.0, 0.0, 0.0, 0.0, 0.0, 0.0, 0.0, 0.0, 0.0, 0.0, 0.0, 0.0, 0.0, -0.01, -0.01, 0.0, 0.0, 0.0, 0.0, 0.0, 0.0, 0.0, 0.0, 0.0, -0.0, 0.07, -0.005, 0.01, 0.015, -0.005, 0.0, -0.075, -0.025, -0.005, 0.0, 0.0, 0.0, 0.0, 0.005, 0.035, 0.0, 0.0, 0.025, -0.04, 0.0, 0.0, 0.0, -0.005, 0.0, 0.0, -0.015, -0.015, -0.085, 0.0, 0.0, -0.03, 0.0, 0.01, 0.0, -0.01, -0.01, 0.0, -0.005, -0.015, 0.0, \n",
    "0.005, -0.015, 0.005, -0.015, 0.01, 0.005, -0.05, 0.0, 0.0, 0.01, 0.0, 0.0, 0.0, 0.0, 0.0, 0.0, 0.01, -0.005, -0.02, 0.0, -0.005, 0.0, 0.0, -0.03, 0.0, 0.005, 0.0, -0.01, 0.005, 0.025, 0.0, 0.0, 0.0, -0.005, 0.0, 0.015, 0.0, 0.0, 0.0, 0.0, 0.0, 0.0, 0.0, 0.0, 0.0, 0.0, 0.0, 0.0, 0.0, 0.0, 0.0, 0.0, 0.0, 0.0, 0.0, 0.0, 0.0, -0.005, 0.0, -0.02, -0.015, -0.03]))>0.0001]"
   ]
  },
  {
   "cell_type": "code",
   "execution_count": 25,
   "metadata": {},
   "outputs": [
    {
     "ename": "IndexError",
     "evalue": "index 77 is out of bounds for axis 0 with size 77",
     "output_type": "error",
     "traceback": [
      "\u001b[1;31m---------------------------------------------------------------------------\u001b[0m",
      "\u001b[1;31mIndexError\u001b[0m                                Traceback (most recent call last)",
      "Cell \u001b[1;32mIn[25], line 1\u001b[0m\n\u001b[1;32m----> 1\u001b[0m test_val\u001b[39m.\u001b[39;49mindex[[i \u001b[39mfor\u001b[39;49;00m i \u001b[39min\u001b[39;49;00m \u001b[39mrange\u001b[39;49m(\u001b[39m245\u001b[39;49m)]]\n",
      "File \u001b[1;32m~\\AppData\\Local\\Packages\\PythonSoftwareFoundation.Python.3.9_qbz5n2kfra8p0\\LocalCache\\local-packages\\Python39\\site-packages\\pandas\\core\\indexes\\base.py:5382\u001b[0m, in \u001b[0;36mIndex.__getitem__\u001b[1;34m(self, key)\u001b[0m\n\u001b[0;32m   5379\u001b[0m     \u001b[39melse\u001b[39;00m:\n\u001b[0;32m   5380\u001b[0m         key \u001b[39m=\u001b[39m np\u001b[39m.\u001b[39masarray(key, dtype\u001b[39m=\u001b[39m\u001b[39mbool\u001b[39m)\n\u001b[1;32m-> 5382\u001b[0m result \u001b[39m=\u001b[39m getitem(key)\n\u001b[0;32m   5383\u001b[0m \u001b[39m# Because we ruled out integer above, we always get an arraylike here\u001b[39;00m\n\u001b[0;32m   5384\u001b[0m \u001b[39mif\u001b[39;00m result\u001b[39m.\u001b[39mndim \u001b[39m>\u001b[39m \u001b[39m1\u001b[39m:\n",
      "\u001b[1;31mIndexError\u001b[0m: index 77 is out of bounds for axis 0 with size 77"
     ]
    }
   ],
   "source": [
    "test_val.index\n"
   ]
  },
  {
   "cell_type": "code",
   "execution_count": 17,
   "metadata": {},
   "outputs": [
    {
     "data": {
      "text/plain": [
       "0      False\n",
       "1      False\n",
       "2       True\n",
       "3       True\n",
       "4      False\n",
       "       ...  \n",
       "240     True\n",
       "241    False\n",
       "242     True\n",
       "243     True\n",
       "244     True\n",
       "Length: 245, dtype: bool"
      ]
     },
     "execution_count": 17,
     "metadata": {},
     "output_type": "execute_result"
    }
   ],
   "source": [
    "abs(val_f) >0.0001"
   ]
  },
  {
   "cell_type": "code",
   "execution_count": null,
   "metadata": {},
   "outputs": [],
   "source": [
    "import feature_importance"
   ]
  },
  {
   "cell_type": "code",
   "execution_count": 158,
   "metadata": {},
   "outputs": [
    {
     "data": {
      "text/plain": [
       "<shap.explainers._linear.Linear at 0x1e458cb7670>"
      ]
     },
     "execution_count": 158,
     "metadata": {},
     "output_type": "execute_result"
    }
   ],
   "source": [
    "explainer"
   ]
  },
  {
   "attachments": {},
   "cell_type": "markdown",
   "metadata": {},
   "source": [
    "Simulation export explainer"
   ]
  },
  {
   "cell_type": "code",
   "execution_count": 160,
   "metadata": {},
   "outputs": [],
   "source": [
    "pseudo = open(\"pseudo_explainer.pkl\",\"wb\")\n",
    "pickle.dump(explainer, pseudo)\n",
    "pseudo.close()"
   ]
  },
  {
   "attachments": {},
   "cell_type": "markdown",
   "metadata": {},
   "source": [
    "Import de l'explainer"
   ]
  },
  {
   "cell_type": "code",
   "execution_count": 162,
   "metadata": {},
   "outputs": [],
   "source": [
    "pseudo = open(\"pseudo_explainer.pkl\",\"rb\")\n",
    "pseudo = pickle.load(pseudo)"
   ]
  },
  {
   "attachments": {},
   "cell_type": "markdown",
   "metadata": {},
   "source": [
    "Import pipeline model"
   ]
  },
  {
   "cell_type": "code",
   "execution_count": 164,
   "metadata": {},
   "outputs": [],
   "source": [
    "pipeline_model = open(\"pipeline_transfo_model.pkl\", \"rb\")\n",
    "pipeline_model = pickle.load(pipeline_model)"
   ]
  },
  {
   "cell_type": "code",
   "execution_count": 168,
   "metadata": {},
   "outputs": [
    {
     "ename": "ValueError",
     "evalue": "operands could not be broadcast together with shapes (1,245) (131,) ",
     "output_type": "error",
     "traceback": [
      "\u001b[1;31m---------------------------------------------------------------------------\u001b[0m",
      "\u001b[1;31mValueError\u001b[0m                                Traceback (most recent call last)",
      "Cell \u001b[1;32mIn[168], line 1\u001b[0m\n\u001b[1;32m----> 1\u001b[0m pseudo(pipeline_model[\u001b[39m'\u001b[39;49m\u001b[39mcateg_scaler\u001b[39;49m\u001b[39m'\u001b[39;49m]\u001b[39m.\u001b[39;49mtransform(echantillon_0\u001b[39m.\u001b[39;49mcopy()))\n",
      "File \u001b[1;32m~\\AppData\\Local\\Packages\\PythonSoftwareFoundation.Python.3.9_qbz5n2kfra8p0\\LocalCache\\local-packages\\Python39\\site-packages\\shap\\explainers\\_explainer.py:266\u001b[0m, in \u001b[0;36mExplainer.__call__\u001b[1;34m(self, max_evals, main_effects, error_bounds, batch_size, outputs, silent, *args, **kwargs)\u001b[0m\n\u001b[0;32m    264\u001b[0m     feature_names \u001b[39m=\u001b[39m [[] \u001b[39mfor\u001b[39;00m _ \u001b[39min\u001b[39;00m \u001b[39mrange\u001b[39m(\u001b[39mlen\u001b[39m(args))]\n\u001b[0;32m    265\u001b[0m \u001b[39mfor\u001b[39;00m row_args \u001b[39min\u001b[39;00m show_progress(\u001b[39mzip\u001b[39m(\u001b[39m*\u001b[39margs), num_rows, \u001b[39mself\u001b[39m\u001b[39m.\u001b[39m\u001b[39m__class__\u001b[39m\u001b[39m.\u001b[39m\u001b[39m__name__\u001b[39m\u001b[39m+\u001b[39m\u001b[39m\"\u001b[39m\u001b[39m explainer\u001b[39m\u001b[39m\"\u001b[39m, silent):\n\u001b[1;32m--> 266\u001b[0m     row_result \u001b[39m=\u001b[39m \u001b[39mself\u001b[39m\u001b[39m.\u001b[39mexplain_row(\n\u001b[0;32m    267\u001b[0m         \u001b[39m*\u001b[39mrow_args, max_evals\u001b[39m=\u001b[39mmax_evals, main_effects\u001b[39m=\u001b[39mmain_effects, error_bounds\u001b[39m=\u001b[39merror_bounds,\n\u001b[0;32m    268\u001b[0m         batch_size\u001b[39m=\u001b[39mbatch_size, outputs\u001b[39m=\u001b[39moutputs, silent\u001b[39m=\u001b[39msilent, \u001b[39m*\u001b[39m\u001b[39m*\u001b[39mkwargs\n\u001b[0;32m    269\u001b[0m     )\n\u001b[0;32m    270\u001b[0m     values\u001b[39m.\u001b[39mappend(row_result\u001b[39m.\u001b[39mget(\u001b[39m\"\u001b[39m\u001b[39mvalues\u001b[39m\u001b[39m\"\u001b[39m, \u001b[39mNone\u001b[39;00m))\n\u001b[0;32m    271\u001b[0m     output_indices\u001b[39m.\u001b[39mappend(row_result\u001b[39m.\u001b[39mget(\u001b[39m\"\u001b[39m\u001b[39moutput_indices\u001b[39m\u001b[39m\"\u001b[39m, \u001b[39mNone\u001b[39;00m))\n",
      "File \u001b[1;32m~\\AppData\\Local\\Packages\\PythonSoftwareFoundation.Python.3.9_qbz5n2kfra8p0\\LocalCache\\local-packages\\Python39\\site-packages\\shap\\explainers\\_linear.py:322\u001b[0m, in \u001b[0;36mLinear.explain_row\u001b[1;34m(self, max_evals, main_effects, error_bounds, batch_size, outputs, silent, *row_args)\u001b[0m\n\u001b[0;32m    315\u001b[0m         phi \u001b[39m=\u001b[39m np\u001b[39m.\u001b[39marray(np\u001b[39m.\u001b[39mmultiply(X \u001b[39m-\u001b[39m \u001b[39mself\u001b[39m\u001b[39m.\u001b[39mmean, \u001b[39mself\u001b[39m\u001b[39m.\u001b[39mcoef))\n\u001b[0;32m    317\u001b[0m         \u001b[39m# if len(self.coef.shape) == 1:\u001b[39;00m\n\u001b[0;32m    318\u001b[0m         \u001b[39m#     return np.array(np.multiply(X - self.mean, self.coef))\u001b[39;00m\n\u001b[0;32m    319\u001b[0m         \u001b[39m# else:\u001b[39;00m\n\u001b[0;32m    320\u001b[0m         \u001b[39m#     return [np.array(np.multiply(X - self.mean, self.coef[i])) for i in range(self.coef.shape[0])]\u001b[39;00m\n\u001b[0;32m    321\u001b[0m     \u001b[39melse\u001b[39;00m:\n\u001b[1;32m--> 322\u001b[0m         phi \u001b[39m=\u001b[39m np\u001b[39m.\u001b[39marray(X \u001b[39m-\u001b[39;49m \u001b[39mself\u001b[39;49m\u001b[39m.\u001b[39;49mmean) \u001b[39m*\u001b[39m \u001b[39mself\u001b[39m\u001b[39m.\u001b[39mcoef\n\u001b[0;32m    323\u001b[0m         \u001b[39m# if len(self.coef.shape) == 1:\u001b[39;00m\n\u001b[0;32m    324\u001b[0m         \u001b[39m#     phi = np.array(X - self.mean) * self.coef\u001b[39;00m\n\u001b[0;32m    325\u001b[0m             \n\u001b[1;32m   (...)\u001b[0m\n\u001b[0;32m    328\u001b[0m         \u001b[39m# else:\u001b[39;00m\n\u001b[0;32m    329\u001b[0m         \u001b[39m#     return [np.array(X - self.mean) * self.coef[i] for i in range(self.coef.shape[0])]\u001b[39;00m\n\u001b[0;32m    331\u001b[0m \u001b[39mreturn\u001b[39;00m {\n\u001b[0;32m    332\u001b[0m     \u001b[39m\"\u001b[39m\u001b[39mvalues\u001b[39m\u001b[39m\"\u001b[39m: phi\u001b[39m.\u001b[39mT,\n\u001b[0;32m    333\u001b[0m     \u001b[39m\"\u001b[39m\u001b[39mexpected_values\u001b[39m\u001b[39m\"\u001b[39m: \u001b[39mself\u001b[39m\u001b[39m.\u001b[39mexpected_value,\n\u001b[1;32m   (...)\u001b[0m\n\u001b[0;32m    336\u001b[0m     \u001b[39m\"\u001b[39m\u001b[39mclustering\u001b[39m\u001b[39m\"\u001b[39m: \u001b[39mNone\u001b[39;00m\n\u001b[0;32m    337\u001b[0m }\n",
      "\u001b[1;31mValueError\u001b[0m: operands could not be broadcast together with shapes (1,245) (131,) "
     ]
    }
   ],
   "source": [
    "pseudo(pipeline_model['categ_scaler'].transform()) # a priori fonctionne, difference dans la shape attendu par explainer"
   ]
  },
  {
   "cell_type": "code",
   "execution_count": 6,
   "metadata": {},
   "outputs": [],
   "source": [
    "test_col = pd.DataFrame(data)"
   ]
  },
  {
   "cell_type": "code",
   "execution_count": 27,
   "metadata": {},
   "outputs": [
    {
     "data": {
      "text/plain": [
       "1"
      ]
     },
     "execution_count": 27,
     "metadata": {},
     "output_type": "execute_result"
    }
   ],
   "source": [
    "test_col['x_values'].value_counts().to_dict()['A']\n"
   ]
  },
  {
   "cell_type": "code",
   "execution_count": 81,
   "metadata": {},
   "outputs": [],
   "source": [
    "import json\n",
    "import requests\n",
    "from bokeh.models import Range1d"
   ]
  },
  {
   "cell_type": "code",
   "execution_count": 82,
   "metadata": {},
   "outputs": [
    {
     "ename": "NameError",
     "evalue": "name 'source_fl' is not defined",
     "output_type": "error",
     "traceback": [
      "\u001b[1;31m---------------------------------------------------------------------------\u001b[0m",
      "\u001b[1;31mNameError\u001b[0m                                 Traceback (most recent call last)",
      "Cell \u001b[1;32mIn[82], line 2\u001b[0m\n\u001b[0;32m      1\u001b[0m fl\u001b[39m=\u001b[39m figure(x_range\u001b[39m=\u001b[39m(\u001b[39m0\u001b[39m,\u001b[39m1\u001b[39m),y_range\u001b[39m=\u001b[39m([]),width\u001b[39m=\u001b[39m\u001b[39m400\u001b[39m, height\u001b[39m=\u001b[39m\u001b[39m400\u001b[39m)\n\u001b[1;32m----> 2\u001b[0m fl\u001b[39m.\u001b[39mhbar(y\u001b[39m=\u001b[39m\u001b[39m'\u001b[39m\u001b[39mx\u001b[39m\u001b[39m'\u001b[39m, right\u001b[39m=\u001b[39m\u001b[39m'\u001b[39m\u001b[39my\u001b[39m\u001b[39m'\u001b[39m,left\u001b[39m=\u001b[39m\u001b[39m0\u001b[39m,height\u001b[39m=\u001b[39m\u001b[39m0.4\u001b[39m,source\u001b[39m=\u001b[39msource_fl)\n",
      "\u001b[1;31mNameError\u001b[0m: name 'source_fl' is not defined"
     ]
    }
   ],
   "source": []
  },
  {
   "cell_type": "code",
   "execution_count": 91,
   "metadata": {},
   "outputs": [],
   "source": [
    "test_json = {'prediction': 1, 'feature_importance': [-0.01, 0.0, -0.04, 0.07, 0.0, -0.07,\n",
    "                                                     0.03, -0.105, 0.0, -0.005, 0.0, 0.0, 0.0, 0.0, 0.0, 0.0, -0.02, 0.005, 0.0, 0.0, 0.0, 0.0, 0.0, 0.0, -\n",
    "                                                     0.01, 0.0, 0.0, -0.005, 0.0, 0.0, -0.005, -\n",
    "                                                     0.005, -0.005, 0.005, 0.0, 0.015, 0.0,\n",
    "                                                     0.0, 0.0, -0.005, 0.0, 0.0, -0.005, 0.0, 0.0, 0.0, 0.0, -0.005, 0.0, 0.0, 0.0, 0.0, 0.0, 0.0, 0.0, 0.0, 0.0, 0.0, 0.0, 0.0, 0.0, 0.04, 0.005, -0.025, 0.005, -0.005, -0.005, 0.0, 0.0, -0.005, 0.0, 0.0, 0.0, 0.0, 0.01, 0.0, 0.0, 0.0, 0.0, 0.0, 0.0, 0.0, 0.0, 0.0, 0.0, 0.0, 0.0, 0.005, 0.0, 0.0, 0.0, 0.0, 0.0, 0.0, 0.0, 0.0, 0.0, 0.0, 0.005, 0.0, 0.0, 0.0, 0.0, 0.0, 0.0, 0.0, 0.0, 0.0, 0.0, 0.0, 0.0, 0.0, 0.0, 0.0, 0.0, 0.0, 0.0, 0.0, 0.0, 0.0, 0.0, 0.0, 0.0, 0.0, 0.01, 0.0, 0.0, 0.0, 0.0, 0.0, 0.0, -0.005, 0.0, 0.0, 0.0, 0.0, 0.0, 0.0, 0.0, 0.0, 0.0, 0.01, -0.01, 0.03, 0.06, 0.1, -0.005, 0.015, 0.09, 0.02, 0.02, 0.01, 0.0, 0.0, -0.03, 0.0, -0.005, 0.0, -0.01, 0.0, 0.0, -0.04, 0.0, 0.0, 0.0, 0.0, 0.2, 0.0, -0.06, -0.03, 0.19, 0.005, 0.005, 0.0, 0.01, -0.01, 0.0, 0.005, 0.0, 0.0, 0.0, 0.0, 0.0, 0.0, -0.005, 0.015, -0.005, 0.0, 0.005, 0.005, -0.005, 0.0, -0.01, 0.0, -0.005, 0.0, 0.005, 0.005, 0.0, 0.0, 0.0, 0.0, 0.0, 0.005, 0.0, 0.0, 0.0, 0.0, 0.0, 0.0, 0.0, 0.0, 0.0, -0.015, -0.01, 0.0, 0.01, 0.0, 0.015, 0.0, 0.0, 0.0, 0.0, 0.0, 0.0, 0.0, 0.0, 0.0, 0.0, 0.0, 0.0, 0.0, 0.0, 0.0, 0.0, 0.0, 0.0, 0.0, 0.0, 0.0, 0.0, 0.0, 0.015, 0.03, -0.02], 'nom_colonnes': ['NAME_CONTRACT_TYPE_Cash loans', 'NAME_CONTRACT_TYPE_Revolving loans', 'CODE_GENDER_F', 'CODE_GENDER_M', 'CODE_GENDER_XNA', 'FLAG_OWN_CAR_N', 'FLAG_OWN_CAR_Y', 'FLAG_OWN_REALTY_Y', 'FLAG_OWN_REALTY_N', 'NAME_TYPE_SUITE_Unaccompanied', 'NAME_TYPE_SUITE_Family', 'NAME_TYPE_SUITE_Spouse, partner', 'NAME_TYPE_SUITE_Children', 'NAME_TYPE_SUITE_Other_B', 'NAME_TYPE_SUITE_Other_A', 'NAME_TYPE_SUITE_Group of people', 'NAME_INCOME_TYPE_Working', 'NAME_INCOME_TYPE_Commercial associate', 'NAME_INCOME_TYPE_Pensioner', 'NAME_INCOME_TYPE_State servant', 'NAME_INCOME_TYPE_Unemployed', 'NAME_INCOME_TYPE_Student', 'NAME_INCOME_TYPE_Businessman', 'NAME_INCOME_TYPE_Maternity leave', 'NAME_EDUCATION_TYPE_Secondary / secondary special', 'NAME_EDUCATION_TYPE_Higher education', 'NAME_EDUCATION_TYPE_Incomplete higher', 'NAME_EDUCATION_TYPE_Lower secondary', 'NAME_EDUCATION_TYPE_Academic degree', 'NAME_FAMILY_STATUS_Married', 'NAME_FAMILY_STATUS_Single / not married', 'NAME_FAMILY_STATUS_Civil marriage', 'NAME_FAMILY_STATUS_Separated', 'NAME_FAMILY_STATUS_Widow', 'NAME_FAMILY_STATUS_Unknown', 'NAME_HOUSING_TYPE_House / apartment', 'NAME_HOUSING_TYPE_With parents', 'NAME_HOUSING_TYPE_Municipal apartment', 'NAME_HOUSING_TYPE_Rented apartment', 'NAME_HOUSING_TYPE_Office apartment', 'NAME_HOUSING_TYPE_Co-op apartment', 'OCCUPATION_TYPE_Laborers', 'OCCUPATION_TYPE_Sales staff', 'OCCUPATION_TYPE_Core staff', 'OCCUPATION_TYPE_Managers', 'OCCUPATION_TYPE_Drivers', 'OCCUPATION_TYPE_High skill tech staff', 'OCCUPATION_TYPE_Accountants', 'OCCUPATION_TYPE_Medicine staff', 'OCCUPATION_TYPE_Security staff', 'OCCUPATION_TYPE_Cooking staff', 'OCCUPATION_TYPE_Cleaning staff', 'OCCUPATION_TYPE_Private service staff', 'OCCUPATION_TYPE_Low-skill Laborers', 'OCCUPATION_TYPE_Waiters/barmen staff', 'OCCUPATION_TYPE_Secretaries', 'OCCUPATION_TYPE_Realty agents', 'OCCUPATION_TYPE_HR staff', 'OCCUPATION_TYPE_IT staff', 'WEEKDAY_APPR_PROCESS_START_TUESDAY', 'WEEKDAY_APPR_PROCESS_START_WEDNESDAY', 'WEEKDAY_APPR_PROCESS_START_THURSDAY', 'WEEKDAY_APPR_PROCESS_START_MONDAY', 'WEEKDAY_APPR_PROCESS_START_FRIDAY', 'WEEKDAY_APPR_PROCESS_START_SATURDAY', 'WEEKDAY_APPR_PROCESS_START_SUNDAY', 'ORGANIZATION_TYPE_Business Entity Type 3', 'ORGANIZATION_TYPE_XNA', 'ORGANIZATION_TYPE_Self-employed', 'ORGANIZATION_TYPE_Other', 'ORGANIZATION_TYPE_Medicine', 'ORGANIZATION_TYPE_Business Entity Type 2', 'ORGANIZATION_TYPE_Government', 'ORGANIZATION_TYPE_School', 'ORGANIZATION_TYPE_Trade: type 7', 'ORGANIZATION_TYPE_Kindergarten', 'ORGANIZATION_TYPE_Construction', 'ORGANIZATION_TYPE_Business Entity Type 1', 'ORGANIZATION_TYPE_Transport: type 4', 'ORGANIZATION_TYPE_Trade: type 3', 'ORGANIZATION_TYPE_Industry: type 9', 'ORGANIZATION_TYPE_Industry: type 3', 'ORGANIZATION_TYPE_Security', 'ORGANIZATION_TYPE_Housing', 'ORGANIZATION_TYPE_Industry: type 11', 'ORGANIZATION_TYPE_Military', 'ORGANIZATION_TYPE_Bank', 'ORGANIZATION_TYPE_Agriculture', 'ORGANIZATION_TYPE_Police', 'ORGANIZATION_TYPE_Transport: type 2', 'ORGANIZATION_TYPE_Postal', 'ORGANIZATION_TYPE_Security Ministries', 'ORGANIZATION_TYPE_Trade: type 2', 'ORGANIZATION_TYPE_Restaurant', 'ORGANIZATION_TYPE_Services', 'ORGANIZATION_TYPE_University', 'ORGANIZATION_TYPE_Industry: type 7', 'ORGANIZATION_TYPE_Transport: type 3', 'ORGANIZATION_TYPE_Industry: type 1', 'ORGANIZATION_TYPE_Hotel', 'ORGANIZATION_TYPE_Electricity', 'ORGANIZATION_TYPE_Industry: type 4', 'ORGANIZATION_TYPE_Trade: type 6',\n",
    "                                                                                                                                                                                                                                                                                                                                                                                                                                                                                                                                                                                                                                                                                                                                                                                                                                                                                                                                                                                                                                                                                                                                                                                                                                                                      'ORGANIZATION_TYPE_Industry: type 5', 'ORGANIZATION_TYPE_Insurance', 'ORGANIZATION_TYPE_Telecom', 'ORGANIZATION_TYPE_Emergency', 'ORGANIZATION_TYPE_Industry: type 2', 'ORGANIZATION_TYPE_Advertising', 'ORGANIZATION_TYPE_Culture', 'ORGANIZATION_TYPE_Realtor', 'ORGANIZATION_TYPE_Industry: type 12', 'ORGANIZATION_TYPE_Trade: type 1', 'ORGANIZATION_TYPE_Mobile', 'ORGANIZATION_TYPE_Legal Services', 'ORGANIZATION_TYPE_Cleaning', 'ORGANIZATION_TYPE_Transport: type 1', 'ORGANIZATION_TYPE_Industry: type 6', 'ORGANIZATION_TYPE_Industry: type 10', 'ORGANIZATION_TYPE_Religion', 'ORGANIZATION_TYPE_Industry: type 13', 'ORGANIZATION_TYPE_Trade: type 4', 'ORGANIZATION_TYPE_Trade: type 5', 'ORGANIZATION_TYPE_Industry: type 8', 'FONDKAPREMONT_MODE_reg oper account', 'FONDKAPREMONT_MODE_reg oper spec account', 'FONDKAPREMONT_MODE_not specified', 'FONDKAPREMONT_MODE_org spec account', 'HOUSETYPE_MODE_block of flats', 'HOUSETYPE_MODE_specific housing', 'HOUSETYPE_MODE_terraced house', 'WALLSMATERIAL_MODE_Panel', 'WALLSMATERIAL_MODE_Stone, brick', 'WALLSMATERIAL_MODE_Block', 'WALLSMATERIAL_MODE_Wooden', 'WALLSMATERIAL_MODE_Mixed', 'WALLSMATERIAL_MODE_Monolithic', 'WALLSMATERIAL_MODE_Others', 'EMERGENCYSTATE_MODE_No', 'EMERGENCYSTATE_MODE_Yes', 'SK_ID_CURR', 'CNT_CHILDREN', 'AMT_INCOME_TOTAL', 'AMT_CREDIT', 'AMT_ANNUITY', 'AMT_GOODS_PRICE', 'REGION_POPULATION_RELATIVE', 'DAYS_BIRTH', 'DAYS_EMPLOYED', 'DAYS_REGISTRATION', 'DAYS_ID_PUBLISH', 'OWN_CAR_AGE', 'FLAG_MOBIL', 'FLAG_EMP_PHONE', 'FLAG_WORK_PHONE', 'FLAG_CONT_MOBILE', 'FLAG_PHONE', 'FLAG_EMAIL', 'CNT_FAM_MEMBERS', 'REGION_RATING_CLIENT', 'REGION_RATING_CLIENT_W_CITY', 'HOUR_APPR_PROCESS_START', 'REG_REGION_NOT_LIVE_REGION', 'REG_REGION_NOT_WORK_REGION', 'LIVE_REGION_NOT_WORK_REGION', 'REG_CITY_NOT_LIVE_CITY', 'REG_CITY_NOT_WORK_CITY', 'LIVE_CITY_NOT_WORK_CITY', 'EXT_SOURCE_1', 'EXT_SOURCE_2', 'EXT_SOURCE_3', 'APARTMENTS_AVG', 'BASEMENTAREA_AVG', 'YEARS_BEGINEXPLUATATION_AVG', 'YEARS_BUILD_AVG', 'COMMONAREA_AVG', 'ELEVATORS_AVG', 'ENTRANCES_AVG', 'FLOORSMAX_AVG', 'FLOORSMIN_AVG', 'LANDAREA_AVG', 'LIVINGAPARTMENTS_AVG', 'LIVINGAREA_AVG', 'NONLIVINGAPARTMENTS_AVG', 'NONLIVINGAREA_AVG', 'APARTMENTS_MODE', 'BASEMENTAREA_MODE', 'YEARS_BEGINEXPLUATATION_MODE', 'YEARS_BUILD_MODE', 'COMMONAREA_MODE', 'ELEVATORS_MODE', 'ENTRANCES_MODE',\n",
    "                                                                                                                                                                                                                                                                                                                                                                                                                                                                                                                                                                                                                                                                                                                                                                                                                                                                                                                                                                                                                                                                                                                                                                                                                                                                      'FLOORSMAX_MODE', 'FLOORSMIN_MODE', 'LANDAREA_MODE', 'LIVINGAPARTMENTS_MODE', 'LIVINGAREA_MODE', 'NONLIVINGAPARTMENTS_MODE', 'NONLIVINGAREA_MODE', 'APARTMENTS_MEDI', 'BASEMENTAREA_MEDI', 'YEARS_BEGINEXPLUATATION_MEDI', 'YEARS_BUILD_MEDI', 'COMMONAREA_MEDI', 'ELEVATORS_MEDI',\n",
    "                                                                                                                                                                                                                                                                                                                                                                                                                                                                                                                                                                                                                                                                                                                                                                                                                                                                                                                                                                                                                                                                                                                                                                                                                                                                      'ENTRANCES_MEDI', 'FLOORSMAX_MEDI', 'FLOORSMIN_MEDI', 'LANDAREA_MEDI', 'LIVINGAPARTMENTS_MEDI', 'LIVINGAREA_MEDI', 'NONLIVINGAPARTMENTS_MEDI', 'NONLIVINGAREA_MEDI', 'TOTALAREA_MODE', 'OBS_30_CNT_SOCIAL_CIRCLE', 'DEF_30_CNT_SOCIAL_CIRCLE', 'OBS_60_CNT_SOCIAL_CIRCLE', 'DEF_60_CNT_SOCIAL_CIRCLE', 'DAYS_LAST_PHONE_CHANGE', 'FLAG_DOCUMENT_2', 'FLAG_DOCUMENT_3', 'FLAG_DOCUMENT_4', 'FLAG_DOCUMENT_5', 'FLAG_DOCUMENT_6', 'FLAG_DOCUMENT_7', 'FLAG_DOCUMENT_8', 'FLAG_DOCUMENT_9', 'FLAG_DOCUMENT_10', 'FLAG_DOCUMENT_11', 'FLAG_DOCUMENT_12', 'FLAG_DOCUMENT_13', 'FLAG_DOCUMENT_14', 'FLAG_DOCUMENT_15', 'FLAG_DOCUMENT_16', 'FLAG_DOCUMENT_17', 'FLAG_DOCUMENT_18', 'FLAG_DOCUMENT_19', 'FLAG_DOCUMENT_20', 'FLAG_DOCUMENT_21', 'AMT_REQ_CREDIT_BUREAU_HOUR', 'AMT_REQ_CREDIT_BUREAU_DAY', 'AMT_REQ_CREDIT_BUREAU_WEEK', 'AMT_REQ_CREDIT_BUREAU_MON', 'AMT_REQ_CREDIT_BUREAU_QRT', 'AMT_REQ_CREDIT_BUREAU_YEAR'], 'score': 0.6683938558483298}\n"
   ]
  },
  {
   "cell_type": "code",
   "execution_count": 92,
   "metadata": {},
   "outputs": [
    {
     "data": {
      "text/plain": [
       "1"
      ]
     },
     "execution_count": 92,
     "metadata": {},
     "output_type": "execute_result"
    }
   ],
   "source": [
    "test_json['prediction']"
   ]
  },
  {
   "cell_type": "code",
   "execution_count": 90,
   "metadata": {},
   "outputs": [
    {
     "name": "stdout",
     "output_type": "stream",
     "text": [
      "contenu apres envoi  b'{\"prediction\":0,\"feature_importance\":[0.0,0.0,0.0,-0.03,0.0,0.01,-0.015,0.0,-0.005,-0.005,0.0,-0.005,0.0,0.0,0.0,0.0,0.0,-0.02,0.0,0.0,0.0,0.0,0.0,0.0,0.0,0.0,0.0,0.0,0.0,0.0,0.0,0.0,-0.005,-0.005,0.0,0.0,0.0,0.0,0.0,0.0,0.0,0.0,0.0,0.0,0.0,-0.005,0.0,-0.005,-0.005,0.0,0.0,0.0,0.0,0.0,0.0,0.0,0.0,0.0,0.0,-0.015,-0.005,0.005,-0.005,-0.005,-0.02,0.0,0.0,0.0,0.0,0.0,0.0,0.0,0.0,-0.015,0.0,0.0,0.0,0.0,0.0,0.0,0.0,0.0,0.0,0.0,0.0,0.0,0.0,0.0,0.0,0.0,0.0,0.0,0.0,0.0,0.0,0.0,0.0,-0.005,0.0,0.0,0.0,0.0,0.0,0.0,0.0,0.0,0.0,0.0,0.0,0.0,0.0,0.0,0.0,0.0,0.0,0.0,0.0,0.0,0.0,0.0,0.0,0.0,0.0,0.0,0.0,0.0,0.0,0.0,0.0,0.0,0.0,0.0,-0.015,0.0,0.0,0.0,0.0,0.0,0.0,0.0,0.0,-0.005,-0.005,-0.04,-0.025,0.045,0.02,0.01,0.0,-0.02,-0.015,0.005,0.0,0.0,-0.005,0.0,-0.005,0.0,-0.005,-0.01,0.0,-0.04,0.0,0.0,0.0,0.0,0.0,0.0,0.0,-0.005,-0.025,0.0,0.0,-0.005,0.0,-0.005,0.0,-0.025,0.005,0.0,0.0,0.0,0.0,0.0,0.0,-0.01,0.01,0.0,-0.005,0.0,0.0,0.005,0.0,0.0,0.005,0.0,-0.005,0.0,-0.015,-0.04,0.0,0.0,-0.015,-0.005,0.0,0.0,-0.005,0.0,-0.005,0.0,0.005,0.0,0.0,0.0,0.0,0.0,-0.01,0.0,-0.005,0.0,-0.01,0.0,0.0,0.0,0.0,0.0,0.0,0.0,0.0,0.0,0.0,0.0,0.0,0.0,0.0,0.0,0.0,0.0,0.0,0.0,0.0,0.0,-0.02,-0.01,-0.065],\"nom_colonnes\":[\"NAME_CONTRACT_TYPE_Cash loans\",\"NAME_CONTRACT_TYPE_Revolving loans\",\"CODE_GENDER_F\",\"CODE_GENDER_M\",\"CODE_GENDER_XNA\",\"FLAG_OWN_CAR_N\",\"FLAG_OWN_CAR_Y\",\"FLAG_OWN_REALTY_Y\",\"FLAG_OWN_REALTY_N\",\"NAME_TYPE_SUITE_Unaccompanied\",\"NAME_TYPE_SUITE_Family\",\"NAME_TYPE_SUITE_Spouse, partner\",\"NAME_TYPE_SUITE_Children\",\"NAME_TYPE_SUITE_Other_B\",\"NAME_TYPE_SUITE_Other_A\",\"NAME_TYPE_SUITE_Group of people\",\"NAME_INCOME_TYPE_Working\",\"NAME_INCOME_TYPE_Commercial associate\",\"NAME_INCOME_TYPE_Pensioner\",\"NAME_INCOME_TYPE_State servant\",\"NAME_INCOME_TYPE_Unemployed\",\"NAME_INCOME_TYPE_Student\",\"NAME_INCOME_TYPE_Businessman\",\"NAME_INCOME_TYPE_Maternity leave\",\"NAME_EDUCATION_TYPE_Secondary / secondary special\",\"NAME_EDUCATION_TYPE_Higher education\",\"NAME_EDUCATION_TYPE_Incomplete higher\",\"NAME_EDUCATION_TYPE_Lower secondary\",\"NAME_EDUCATION_TYPE_Academic degree\",\"NAME_FAMILY_STATUS_Married\",\"NAME_FAMILY_STATUS_Single / not married\",\"NAME_FAMILY_STATUS_Civil marriage\",\"NAME_FAMILY_STATUS_Separated\",\"NAME_FAMILY_STATUS_Widow\",\"NAME_FAMILY_STATUS_Unknown\",\"NAME_HOUSING_TYPE_House / apartment\",\"NAME_HOUSING_TYPE_With parents\",\"NAME_HOUSING_TYPE_Municipal apartment\",\"NAME_HOUSING_TYPE_Rented apartment\",\"NAME_HOUSING_TYPE_Office apartment\",\"NAME_HOUSING_TYPE_Co-op apartment\",\"OCCUPATION_TYPE_Laborers\",\"OCCUPATION_TYPE_Sales staff\",\"OCCUPATION_TYPE_Core staff\",\"OCCUPATION_TYPE_Managers\",\"OCCUPATION_TYPE_Drivers\",\"OCCUPATION_TYPE_High skill tech staff\",\"OCCUPATION_TYPE_Accountants\",\"OCCUPATION_TYPE_Medicine staff\",\"OCCUPATION_TYPE_Security staff\",\"OCCUPATION_TYPE_Cooking staff\",\"OCCUPATION_TYPE_Cleaning staff\",\"OCCUPATION_TYPE_Private service staff\",\"OCCUPATION_TYPE_Low-skill Laborers\",\"OCCUPATION_TYPE_Waiters/barmen staff\",\"OCCUPATION_TYPE_Secretaries\",\"OCCUPATION_TYPE_Realty agents\",\"OCCUPATION_TYPE_HR staff\",\"OCCUPATION_TYPE_IT staff\",\"WEEKDAY_APPR_PROCESS_START_TUESDAY\",\"WEEKDAY_APPR_PROCESS_START_WEDNESDAY\",\"WEEKDAY_APPR_PROCESS_START_THURSDAY\",\"WEEKDAY_APPR_PROCESS_START_MONDAY\",\"WEEKDAY_APPR_PROCESS_START_FRIDAY\",\"WEEKDAY_APPR_PROCESS_START_SATURDAY\",\"WEEKDAY_APPR_PROCESS_START_SUNDAY\",\"ORGANIZATION_TYPE_Business Entity Type 3\",\"ORGANIZATION_TYPE_XNA\",\"ORGANIZATION_TYPE_Self-employed\",\"ORGANIZATION_TYPE_Other\",\"ORGANIZATION_TYPE_Medicine\",\"ORGANIZATION_TYPE_Business Entity Type 2\",\"ORGANIZATION_TYPE_Government\",\"ORGANIZATION_TYPE_School\",\"ORGANIZATION_TYPE_Trade: type 7\",\"ORGANIZATION_TYPE_Kindergarten\",\"ORGANIZATION_TYPE_Construction\",\"ORGANIZATION_TYPE_Business Entity Type 1\",\"ORGANIZATION_TYPE_Transport: type 4\",\"ORGANIZATION_TYPE_Trade: type 3\",\"ORGANIZATION_TYPE_Industry: type 9\",\"ORGANIZATION_TYPE_Industry: type 3\",\"ORGANIZATION_TYPE_Security\",\"ORGANIZATION_TYPE_Housing\",\"ORGANIZATION_TYPE_Industry: type 11\",\"ORGANIZATION_TYPE_Military\",\"ORGANIZATION_TYPE_Bank\",\"ORGANIZATION_TYPE_Agriculture\",\"ORGANIZATION_TYPE_Police\",\"ORGANIZATION_TYPE_Transport: type 2\",\"ORGANIZATION_TYPE_Postal\",\"ORGANIZATION_TYPE_Security Ministries\",\"ORGANIZATION_TYPE_Trade: type 2\",\"ORGANIZATION_TYPE_Restaurant\",\"ORGANIZATION_TYPE_Services\",\"ORGANIZATION_TYPE_University\",\"ORGANIZATION_TYPE_Industry: type 7\",\"ORGANIZATION_TYPE_Transport: type 3\",\"ORGANIZATION_TYPE_Industry: type 1\",\"ORGANIZATION_TYPE_Hotel\",\"ORGANIZATION_TYPE_Electricity\",\"ORGANIZATION_TYPE_Industry: type 4\",\"ORGANIZATION_TYPE_Trade: type 6\",\"ORGANIZATION_TYPE_Industry: type 5\",\"ORGANIZATION_TYPE_Insurance\",\"ORGANIZATION_TYPE_Telecom\",\"ORGANIZATION_TYPE_Emergency\",\"ORGANIZATION_TYPE_Industry: type 2\",\"ORGANIZATION_TYPE_Advertising\",\"ORGANIZATION_TYPE_Culture\",\"ORGANIZATION_TYPE_Realtor\",\"ORGANIZATION_TYPE_Industry: type 12\",\"ORGANIZATION_TYPE_Trade: type 1\",\"ORGANIZATION_TYPE_Mobile\",\"ORGANIZATION_TYPE_Legal Services\",\"ORGANIZATION_TYPE_Cleaning\",\"ORGANIZATION_TYPE_Transport: type 1\",\"ORGANIZATION_TYPE_Industry: type 6\",\"ORGANIZATION_TYPE_Industry: type 10\",\"ORGANIZATION_TYPE_Religion\",\"ORGANIZATION_TYPE_Industry: type 13\",\"ORGANIZATION_TYPE_Trade: type 4\",\"ORGANIZATION_TYPE_Trade: type 5\",\"ORGANIZATION_TYPE_Industry: type 8\",\"FONDKAPREMONT_MODE_reg oper account\",\"FONDKAPREMONT_MODE_reg oper spec account\",\"FONDKAPREMONT_MODE_not specified\",\"FONDKAPREMONT_MODE_org spec account\",\"HOUSETYPE_MODE_block of flats\",\"HOUSETYPE_MODE_specific housing\",\"HOUSETYPE_MODE_terraced house\",\"WALLSMATERIAL_MODE_Panel\",\"WALLSMATERIAL_MODE_Stone, brick\",\"WALLSMATERIAL_MODE_Block\",\"WALLSMATERIAL_MODE_Wooden\",\"WALLSMATERIAL_MODE_Mixed\",\"WALLSMATERIAL_MODE_Monolithic\",\"WALLSMATERIAL_MODE_Others\",\"EMERGENCYSTATE_MODE_No\",\"EMERGENCYSTATE_MODE_Yes\",\"SK_ID_CURR\",\"CNT_CHILDREN\",\"AMT_INCOME_TOTAL\",\"AMT_CREDIT\",\"AMT_ANNUITY\",\"AMT_GOODS_PRICE\",\"REGION_POPULATION_RELATIVE\",\"DAYS_BIRTH\",\"DAYS_EMPLOYED\",\"DAYS_REGISTRATION\",\"DAYS_ID_PUBLISH\",\"OWN_CAR_AGE\",\"FLAG_MOBIL\",\"FLAG_EMP_PHONE\",\"FLAG_WORK_PHONE\",\"FLAG_CONT_MOBILE\",\"FLAG_PHONE\",\"FLAG_EMAIL\",\"CNT_FAM_MEMBERS\",\"REGION_RATING_CLIENT\",\"REGION_RATING_CLIENT_W_CITY\",\"HOUR_APPR_PROCESS_START\",\"REG_REGION_NOT_LIVE_REGION\",\"REG_REGION_NOT_WORK_REGION\",\"LIVE_REGION_NOT_WORK_REGION\",\"REG_CITY_NOT_LIVE_CITY\",\"REG_CITY_NOT_WORK_CITY\",\"LIVE_CITY_NOT_WORK_CITY\",\"EXT_SOURCE_1\",\"EXT_SOURCE_2\",\"EXT_SOURCE_3\",\"APARTMENTS_AVG\",\"BASEMENTAREA_AVG\",\"YEARS_BEGINEXPLUATATION_AVG\",\"YEARS_BUILD_AVG\",\"COMMONAREA_AVG\",\"ELEVATORS_AVG\",\"ENTRANCES_AVG\",\"FLOORSMAX_AVG\",\"FLOORSMIN_AVG\",\"LANDAREA_AVG\",\"LIVINGAPARTMENTS_AVG\",\"LIVINGAREA_AVG\",\"NONLIVINGAPARTMENTS_AVG\",\"NONLIVINGAREA_AVG\",\"APARTMENTS_MODE\",\"BASEMENTAREA_MODE\",\"YEARS_BEGINEXPLUATATION_MODE\",\"YEARS_BUILD_MODE\",\"COMMONAREA_MODE\",\"ELEVATORS_MODE\",\"ENTRANCES_MODE\",\"FLOORSMAX_MODE\",\"FLOORSMIN_MODE\",\"LANDAREA_MODE\",\"LIVINGAPARTMENTS_MODE\",\"LIVINGAREA_MODE\",\"NONLIVINGAPARTMENTS_MODE\",\"NONLIVINGAREA_MODE\",\"APARTMENTS_MEDI\",\"BASEMENTAREA_MEDI\",\"YEARS_BEGINEXPLUATATION_MEDI\",\"YEARS_BUILD_MEDI\",\"COMMONAREA_MEDI\",\"ELEVATORS_MEDI\",\"ENTRANCES_MEDI\",\"FLOORSMAX_MEDI\",\"FLOORSMIN_MEDI\",\"LANDAREA_MEDI\",\"LIVINGAPARTMENTS_MEDI\",\"LIVINGAREA_MEDI\",\"NONLIVINGAPARTMENTS_MEDI\",\"NONLIVINGAREA_MEDI\",\"TOTALAREA_MODE\",\"OBS_30_CNT_SOCIAL_CIRCLE\",\"DEF_30_CNT_SOCIAL_CIRCLE\",\"OBS_60_CNT_SOCIAL_CIRCLE\",\"DEF_60_CNT_SOCIAL_CIRCLE\",\"DAYS_LAST_PHONE_CHANGE\",\"FLAG_DOCUMENT_2\",\"FLAG_DOCUMENT_3\",\"FLAG_DOCUMENT_4\",\"FLAG_DOCUMENT_5\",\"FLAG_DOCUMENT_6\",\"FLAG_DOCUMENT_7\",\"FLAG_DOCUMENT_8\",\"FLAG_DOCUMENT_9\",\"FLAG_DOCUMENT_10\",\"FLAG_DOCUMENT_11\",\"FLAG_DOCUMENT_12\",\"FLAG_DOCUMENT_13\",\"FLAG_DOCUMENT_14\",\"FLAG_DOCUMENT_15\",\"FLAG_DOCUMENT_16\",\"FLAG_DOCUMENT_17\",\"FLAG_DOCUMENT_18\",\"FLAG_DOCUMENT_19\",\"FLAG_DOCUMENT_20\",\"FLAG_DOCUMENT_21\",\"AMT_REQ_CREDIT_BUREAU_HOUR\",\"AMT_REQ_CREDIT_BUREAU_DAY\",\"AMT_REQ_CREDIT_BUREAU_WEEK\",\"AMT_REQ_CREDIT_BUREAU_MON\",\"AMT_REQ_CREDIT_BUREAU_QRT\",\"AMT_REQ_CREDIT_BUREAU_YEAR\"],\"score\":0.00013429490381330916}'\n"
     ]
    },
    {
     "data": {
      "text/html": [
       "\n",
       "  <div id=\"9fcb6fc7-d1e7-46c4-a952-740da09010a0\" data-root-id=\"p5295\" style=\"display: contents;\"></div>\n"
      ]
     },
     "metadata": {},
     "output_type": "display_data"
    },
    {
     "data": {
      "application/javascript": "(function(root) {\n  function embed_document(root) {\n  const docs_json = {\"4e910ce1-b92e-4ae2-93a9-6cedcc216134\":{\"version\":\"3.0.3\",\"title\":\"Bokeh Application\",\"defs\":[],\"roots\":[{\"type\":\"object\",\"name\":\"Figure\",\"id\":\"p5295\",\"attributes\":{\"width\":400,\"height\":400,\"x_range\":{\"type\":\"object\",\"name\":\"Range1d\",\"id\":\"p5352\",\"attributes\":{\"start\":-0.065,\"end\":0.045}},\"y_range\":{\"type\":\"object\",\"name\":\"FactorRange\",\"id\":\"p5306\",\"attributes\":{\"factors\":[\"NAME_CONTRACT_TYPE_Cash loans\",\"NAME_CONTRACT_TYPE_Revolving loans\",\"CODE_GENDER_F\",\"CODE_GENDER_M\",\"CODE_GENDER_XNA\",\"FLAG_OWN_CAR_N\",\"FLAG_OWN_CAR_Y\",\"FLAG_OWN_REALTY_Y\",\"FLAG_OWN_REALTY_N\",\"NAME_TYPE_SUITE_Unaccompanied\",\"NAME_TYPE_SUITE_Family\",\"NAME_TYPE_SUITE_Spouse, partner\",\"NAME_TYPE_SUITE_Children\",\"NAME_TYPE_SUITE_Other_B\",\"NAME_TYPE_SUITE_Other_A\",\"NAME_TYPE_SUITE_Group of people\",\"NAME_INCOME_TYPE_Working\",\"NAME_INCOME_TYPE_Commercial associate\",\"NAME_INCOME_TYPE_Pensioner\",\"NAME_INCOME_TYPE_State servant\",\"NAME_INCOME_TYPE_Unemployed\",\"NAME_INCOME_TYPE_Student\",\"NAME_INCOME_TYPE_Businessman\",\"NAME_INCOME_TYPE_Maternity leave\",\"NAME_EDUCATION_TYPE_Secondary / secondary special\",\"NAME_EDUCATION_TYPE_Higher education\",\"NAME_EDUCATION_TYPE_Incomplete higher\",\"NAME_EDUCATION_TYPE_Lower secondary\",\"NAME_EDUCATION_TYPE_Academic degree\",\"NAME_FAMILY_STATUS_Married\",\"NAME_FAMILY_STATUS_Single / not married\",\"NAME_FAMILY_STATUS_Civil marriage\",\"NAME_FAMILY_STATUS_Separated\",\"NAME_FAMILY_STATUS_Widow\",\"NAME_FAMILY_STATUS_Unknown\",\"NAME_HOUSING_TYPE_House / apartment\",\"NAME_HOUSING_TYPE_With parents\",\"NAME_HOUSING_TYPE_Municipal apartment\",\"NAME_HOUSING_TYPE_Rented apartment\",\"NAME_HOUSING_TYPE_Office apartment\",\"NAME_HOUSING_TYPE_Co-op apartment\",\"OCCUPATION_TYPE_Laborers\",\"OCCUPATION_TYPE_Sales staff\",\"OCCUPATION_TYPE_Core staff\",\"OCCUPATION_TYPE_Managers\",\"OCCUPATION_TYPE_Drivers\",\"OCCUPATION_TYPE_High skill tech staff\",\"OCCUPATION_TYPE_Accountants\",\"OCCUPATION_TYPE_Medicine staff\",\"OCCUPATION_TYPE_Security staff\",\"OCCUPATION_TYPE_Cooking staff\",\"OCCUPATION_TYPE_Cleaning staff\",\"OCCUPATION_TYPE_Private service staff\",\"OCCUPATION_TYPE_Low-skill Laborers\",\"OCCUPATION_TYPE_Waiters/barmen staff\",\"OCCUPATION_TYPE_Secretaries\",\"OCCUPATION_TYPE_Realty agents\",\"OCCUPATION_TYPE_HR staff\",\"OCCUPATION_TYPE_IT staff\",\"WEEKDAY_APPR_PROCESS_START_TUESDAY\",\"WEEKDAY_APPR_PROCESS_START_WEDNESDAY\",\"WEEKDAY_APPR_PROCESS_START_THURSDAY\",\"WEEKDAY_APPR_PROCESS_START_MONDAY\",\"WEEKDAY_APPR_PROCESS_START_FRIDAY\",\"WEEKDAY_APPR_PROCESS_START_SATURDAY\",\"WEEKDAY_APPR_PROCESS_START_SUNDAY\",\"ORGANIZATION_TYPE_Business Entity Type 3\",\"ORGANIZATION_TYPE_XNA\",\"ORGANIZATION_TYPE_Self-employed\",\"ORGANIZATION_TYPE_Other\",\"ORGANIZATION_TYPE_Medicine\",\"ORGANIZATION_TYPE_Business Entity Type 2\",\"ORGANIZATION_TYPE_Government\",\"ORGANIZATION_TYPE_School\",\"ORGANIZATION_TYPE_Trade: type 7\",\"ORGANIZATION_TYPE_Kindergarten\",\"ORGANIZATION_TYPE_Construction\",\"ORGANIZATION_TYPE_Business Entity Type 1\",\"ORGANIZATION_TYPE_Transport: type 4\",\"ORGANIZATION_TYPE_Trade: type 3\",\"ORGANIZATION_TYPE_Industry: type 9\",\"ORGANIZATION_TYPE_Industry: type 3\",\"ORGANIZATION_TYPE_Security\",\"ORGANIZATION_TYPE_Housing\",\"ORGANIZATION_TYPE_Industry: type 11\",\"ORGANIZATION_TYPE_Military\",\"ORGANIZATION_TYPE_Bank\",\"ORGANIZATION_TYPE_Agriculture\",\"ORGANIZATION_TYPE_Police\",\"ORGANIZATION_TYPE_Transport: type 2\",\"ORGANIZATION_TYPE_Postal\",\"ORGANIZATION_TYPE_Security Ministries\",\"ORGANIZATION_TYPE_Trade: type 2\",\"ORGANIZATION_TYPE_Restaurant\",\"ORGANIZATION_TYPE_Services\",\"ORGANIZATION_TYPE_University\",\"ORGANIZATION_TYPE_Industry: type 7\",\"ORGANIZATION_TYPE_Transport: type 3\",\"ORGANIZATION_TYPE_Industry: type 1\",\"ORGANIZATION_TYPE_Hotel\",\"ORGANIZATION_TYPE_Electricity\",\"ORGANIZATION_TYPE_Industry: type 4\",\"ORGANIZATION_TYPE_Trade: type 6\",\"ORGANIZATION_TYPE_Industry: type 5\",\"ORGANIZATION_TYPE_Insurance\",\"ORGANIZATION_TYPE_Telecom\",\"ORGANIZATION_TYPE_Emergency\",\"ORGANIZATION_TYPE_Industry: type 2\",\"ORGANIZATION_TYPE_Advertising\",\"ORGANIZATION_TYPE_Culture\",\"ORGANIZATION_TYPE_Realtor\",\"ORGANIZATION_TYPE_Industry: type 12\",\"ORGANIZATION_TYPE_Trade: type 1\",\"ORGANIZATION_TYPE_Mobile\",\"ORGANIZATION_TYPE_Legal Services\",\"ORGANIZATION_TYPE_Cleaning\",\"ORGANIZATION_TYPE_Transport: type 1\",\"ORGANIZATION_TYPE_Industry: type 6\",\"ORGANIZATION_TYPE_Industry: type 10\",\"ORGANIZATION_TYPE_Religion\",\"ORGANIZATION_TYPE_Industry: type 13\",\"ORGANIZATION_TYPE_Trade: type 4\",\"ORGANIZATION_TYPE_Trade: type 5\",\"ORGANIZATION_TYPE_Industry: type 8\",\"FONDKAPREMONT_MODE_reg oper account\",\"FONDKAPREMONT_MODE_reg oper spec account\",\"FONDKAPREMONT_MODE_not specified\",\"FONDKAPREMONT_MODE_org spec account\",\"HOUSETYPE_MODE_block of flats\",\"HOUSETYPE_MODE_specific housing\",\"HOUSETYPE_MODE_terraced house\",\"WALLSMATERIAL_MODE_Panel\",\"WALLSMATERIAL_MODE_Stone, brick\",\"WALLSMATERIAL_MODE_Block\",\"WALLSMATERIAL_MODE_Wooden\",\"WALLSMATERIAL_MODE_Mixed\",\"WALLSMATERIAL_MODE_Monolithic\",\"WALLSMATERIAL_MODE_Others\",\"EMERGENCYSTATE_MODE_No\",\"EMERGENCYSTATE_MODE_Yes\",\"SK_ID_CURR\",\"CNT_CHILDREN\",\"AMT_INCOME_TOTAL\",\"AMT_CREDIT\",\"AMT_ANNUITY\",\"AMT_GOODS_PRICE\",\"REGION_POPULATION_RELATIVE\",\"DAYS_BIRTH\",\"DAYS_EMPLOYED\",\"DAYS_REGISTRATION\",\"DAYS_ID_PUBLISH\",\"OWN_CAR_AGE\",\"FLAG_MOBIL\",\"FLAG_EMP_PHONE\",\"FLAG_WORK_PHONE\",\"FLAG_CONT_MOBILE\",\"FLAG_PHONE\",\"FLAG_EMAIL\",\"CNT_FAM_MEMBERS\",\"REGION_RATING_CLIENT\",\"REGION_RATING_CLIENT_W_CITY\",\"HOUR_APPR_PROCESS_START\",\"REG_REGION_NOT_LIVE_REGION\",\"REG_REGION_NOT_WORK_REGION\",\"LIVE_REGION_NOT_WORK_REGION\",\"REG_CITY_NOT_LIVE_CITY\",\"REG_CITY_NOT_WORK_CITY\",\"LIVE_CITY_NOT_WORK_CITY\",\"EXT_SOURCE_1\",\"EXT_SOURCE_2\",\"EXT_SOURCE_3\",\"APARTMENTS_AVG\",\"BASEMENTAREA_AVG\",\"YEARS_BEGINEXPLUATATION_AVG\",\"YEARS_BUILD_AVG\",\"COMMONAREA_AVG\",\"ELEVATORS_AVG\",\"ENTRANCES_AVG\",\"FLOORSMAX_AVG\",\"FLOORSMIN_AVG\",\"LANDAREA_AVG\",\"LIVINGAPARTMENTS_AVG\",\"LIVINGAREA_AVG\",\"NONLIVINGAPARTMENTS_AVG\",\"NONLIVINGAREA_AVG\",\"APARTMENTS_MODE\",\"BASEMENTAREA_MODE\",\"YEARS_BEGINEXPLUATATION_MODE\",\"YEARS_BUILD_MODE\",\"COMMONAREA_MODE\",\"ELEVATORS_MODE\",\"ENTRANCES_MODE\",\"FLOORSMAX_MODE\",\"FLOORSMIN_MODE\",\"LANDAREA_MODE\",\"LIVINGAPARTMENTS_MODE\",\"LIVINGAREA_MODE\",\"NONLIVINGAPARTMENTS_MODE\",\"NONLIVINGAREA_MODE\",\"APARTMENTS_MEDI\",\"BASEMENTAREA_MEDI\",\"YEARS_BEGINEXPLUATATION_MEDI\",\"YEARS_BUILD_MEDI\",\"COMMONAREA_MEDI\",\"ELEVATORS_MEDI\",\"ENTRANCES_MEDI\",\"FLOORSMAX_MEDI\",\"FLOORSMIN_MEDI\",\"LANDAREA_MEDI\",\"LIVINGAPARTMENTS_MEDI\",\"LIVINGAREA_MEDI\",\"NONLIVINGAPARTMENTS_MEDI\",\"NONLIVINGAREA_MEDI\",\"TOTALAREA_MODE\",\"OBS_30_CNT_SOCIAL_CIRCLE\",\"DEF_30_CNT_SOCIAL_CIRCLE\",\"OBS_60_CNT_SOCIAL_CIRCLE\",\"DEF_60_CNT_SOCIAL_CIRCLE\",\"DAYS_LAST_PHONE_CHANGE\",\"FLAG_DOCUMENT_2\",\"FLAG_DOCUMENT_3\",\"FLAG_DOCUMENT_4\",\"FLAG_DOCUMENT_5\",\"FLAG_DOCUMENT_6\",\"FLAG_DOCUMENT_7\",\"FLAG_DOCUMENT_8\",\"FLAG_DOCUMENT_9\",\"FLAG_DOCUMENT_10\",\"FLAG_DOCUMENT_11\",\"FLAG_DOCUMENT_12\",\"FLAG_DOCUMENT_13\",\"FLAG_DOCUMENT_14\",\"FLAG_DOCUMENT_15\",\"FLAG_DOCUMENT_16\",\"FLAG_DOCUMENT_17\",\"FLAG_DOCUMENT_18\",\"FLAG_DOCUMENT_19\",\"FLAG_DOCUMENT_20\",\"FLAG_DOCUMENT_21\",\"AMT_REQ_CREDIT_BUREAU_HOUR\",\"AMT_REQ_CREDIT_BUREAU_DAY\",\"AMT_REQ_CREDIT_BUREAU_WEEK\",\"AMT_REQ_CREDIT_BUREAU_MON\",\"AMT_REQ_CREDIT_BUREAU_QRT\",\"AMT_REQ_CREDIT_BUREAU_YEAR\"]}},\"x_scale\":{\"type\":\"object\",\"name\":\"LinearScale\",\"id\":\"p5308\"},\"y_scale\":{\"type\":\"object\",\"name\":\"CategoricalScale\",\"id\":\"p5310\"},\"title\":{\"type\":\"object\",\"name\":\"Title\",\"id\":\"p5300\"},\"renderers\":[{\"type\":\"object\",\"name\":\"GlyphRenderer\",\"id\":\"p5349\",\"attributes\":{\"data_source\":{\"type\":\"object\",\"name\":\"ColumnDataSource\",\"id\":\"p5340\",\"attributes\":{\"selected\":{\"type\":\"object\",\"name\":\"Selection\",\"id\":\"p5342\",\"attributes\":{\"indices\":[],\"line_indices\":[]}},\"selection_policy\":{\"type\":\"object\",\"name\":\"UnionRenderers\",\"id\":\"p5341\"},\"data\":{\"type\":\"map\",\"entries\":[[\"x\",[0.0,0.0,0.0,-0.03,0.0,0.01,-0.015,0.0,-0.005,-0.005,0.0,-0.005,0.0,0.0,0.0,0.0,0.0,-0.02,0.0,0.0,0.0,0.0,0.0,0.0,0.0,0.0,0.0,0.0,0.0,0.0,0.0,0.0,-0.005,-0.005,0.0,0.0,0.0,0.0,0.0,0.0,0.0,0.0,0.0,0.0,0.0,-0.005,0.0,-0.005,-0.005,0.0,0.0,0.0,0.0,0.0,0.0,0.0,0.0,0.0,0.0,-0.015,-0.005,0.005,-0.005,-0.005,-0.02,0.0,0.0,0.0,0.0,0.0,0.0,0.0,0.0,-0.015,0.0,0.0,0.0,0.0,0.0,0.0,0.0,0.0,0.0,0.0,0.0,0.0,0.0,0.0,0.0,0.0,0.0,0.0,0.0,0.0,0.0,0.0,0.0,-0.005,0.0,0.0,0.0,0.0,0.0,0.0,0.0,0.0,0.0,0.0,0.0,0.0,0.0,0.0,0.0,0.0,0.0,0.0,0.0,0.0,0.0,0.0,0.0,0.0,0.0,0.0,0.0,0.0,0.0,0.0,0.0,0.0,0.0,0.0,-0.015,0.0,0.0,0.0,0.0,0.0,0.0,0.0,0.0,-0.005,-0.005,-0.04,-0.025,0.045,0.02,0.01,0.0,-0.02,-0.015,0.005,0.0,0.0,-0.005,0.0,-0.005,0.0,-0.005,-0.01,0.0,-0.04,0.0,0.0,0.0,0.0,0.0,0.0,0.0,-0.005,-0.025,0.0,0.0,-0.005,0.0,-0.005,0.0,-0.025,0.005,0.0,0.0,0.0,0.0,0.0,0.0,-0.01,0.01,0.0,-0.005,0.0,0.0,0.005,0.0,0.0,0.005,0.0,-0.005,0.0,-0.015,-0.04,0.0,0.0,-0.015,-0.005,0.0,0.0,-0.005,0.0,-0.005,0.0,0.005,0.0,0.0,0.0,0.0,0.0,-0.01,0.0,-0.005,0.0,-0.01,0.0,0.0,0.0,0.0,0.0,0.0,0.0,0.0,0.0,0.0,0.0,0.0,0.0,0.0,0.0,0.0,0.0,0.0,0.0,0.0,0.0,-0.02,-0.01,-0.065]],[\"y\",[\"NAME_CONTRACT_TYPE_Cash loans\",\"NAME_CONTRACT_TYPE_Revolving loans\",\"CODE_GENDER_F\",\"CODE_GENDER_M\",\"CODE_GENDER_XNA\",\"FLAG_OWN_CAR_N\",\"FLAG_OWN_CAR_Y\",\"FLAG_OWN_REALTY_Y\",\"FLAG_OWN_REALTY_N\",\"NAME_TYPE_SUITE_Unaccompanied\",\"NAME_TYPE_SUITE_Family\",\"NAME_TYPE_SUITE_Spouse, partner\",\"NAME_TYPE_SUITE_Children\",\"NAME_TYPE_SUITE_Other_B\",\"NAME_TYPE_SUITE_Other_A\",\"NAME_TYPE_SUITE_Group of people\",\"NAME_INCOME_TYPE_Working\",\"NAME_INCOME_TYPE_Commercial associate\",\"NAME_INCOME_TYPE_Pensioner\",\"NAME_INCOME_TYPE_State servant\",\"NAME_INCOME_TYPE_Unemployed\",\"NAME_INCOME_TYPE_Student\",\"NAME_INCOME_TYPE_Businessman\",\"NAME_INCOME_TYPE_Maternity leave\",\"NAME_EDUCATION_TYPE_Secondary / secondary special\",\"NAME_EDUCATION_TYPE_Higher education\",\"NAME_EDUCATION_TYPE_Incomplete higher\",\"NAME_EDUCATION_TYPE_Lower secondary\",\"NAME_EDUCATION_TYPE_Academic degree\",\"NAME_FAMILY_STATUS_Married\",\"NAME_FAMILY_STATUS_Single / not married\",\"NAME_FAMILY_STATUS_Civil marriage\",\"NAME_FAMILY_STATUS_Separated\",\"NAME_FAMILY_STATUS_Widow\",\"NAME_FAMILY_STATUS_Unknown\",\"NAME_HOUSING_TYPE_House / apartment\",\"NAME_HOUSING_TYPE_With parents\",\"NAME_HOUSING_TYPE_Municipal apartment\",\"NAME_HOUSING_TYPE_Rented apartment\",\"NAME_HOUSING_TYPE_Office apartment\",\"NAME_HOUSING_TYPE_Co-op apartment\",\"OCCUPATION_TYPE_Laborers\",\"OCCUPATION_TYPE_Sales staff\",\"OCCUPATION_TYPE_Core staff\",\"OCCUPATION_TYPE_Managers\",\"OCCUPATION_TYPE_Drivers\",\"OCCUPATION_TYPE_High skill tech staff\",\"OCCUPATION_TYPE_Accountants\",\"OCCUPATION_TYPE_Medicine staff\",\"OCCUPATION_TYPE_Security staff\",\"OCCUPATION_TYPE_Cooking staff\",\"OCCUPATION_TYPE_Cleaning staff\",\"OCCUPATION_TYPE_Private service staff\",\"OCCUPATION_TYPE_Low-skill Laborers\",\"OCCUPATION_TYPE_Waiters/barmen staff\",\"OCCUPATION_TYPE_Secretaries\",\"OCCUPATION_TYPE_Realty agents\",\"OCCUPATION_TYPE_HR staff\",\"OCCUPATION_TYPE_IT staff\",\"WEEKDAY_APPR_PROCESS_START_TUESDAY\",\"WEEKDAY_APPR_PROCESS_START_WEDNESDAY\",\"WEEKDAY_APPR_PROCESS_START_THURSDAY\",\"WEEKDAY_APPR_PROCESS_START_MONDAY\",\"WEEKDAY_APPR_PROCESS_START_FRIDAY\",\"WEEKDAY_APPR_PROCESS_START_SATURDAY\",\"WEEKDAY_APPR_PROCESS_START_SUNDAY\",\"ORGANIZATION_TYPE_Business Entity Type 3\",\"ORGANIZATION_TYPE_XNA\",\"ORGANIZATION_TYPE_Self-employed\",\"ORGANIZATION_TYPE_Other\",\"ORGANIZATION_TYPE_Medicine\",\"ORGANIZATION_TYPE_Business Entity Type 2\",\"ORGANIZATION_TYPE_Government\",\"ORGANIZATION_TYPE_School\",\"ORGANIZATION_TYPE_Trade: type 7\",\"ORGANIZATION_TYPE_Kindergarten\",\"ORGANIZATION_TYPE_Construction\",\"ORGANIZATION_TYPE_Business Entity Type 1\",\"ORGANIZATION_TYPE_Transport: type 4\",\"ORGANIZATION_TYPE_Trade: type 3\",\"ORGANIZATION_TYPE_Industry: type 9\",\"ORGANIZATION_TYPE_Industry: type 3\",\"ORGANIZATION_TYPE_Security\",\"ORGANIZATION_TYPE_Housing\",\"ORGANIZATION_TYPE_Industry: type 11\",\"ORGANIZATION_TYPE_Military\",\"ORGANIZATION_TYPE_Bank\",\"ORGANIZATION_TYPE_Agriculture\",\"ORGANIZATION_TYPE_Police\",\"ORGANIZATION_TYPE_Transport: type 2\",\"ORGANIZATION_TYPE_Postal\",\"ORGANIZATION_TYPE_Security Ministries\",\"ORGANIZATION_TYPE_Trade: type 2\",\"ORGANIZATION_TYPE_Restaurant\",\"ORGANIZATION_TYPE_Services\",\"ORGANIZATION_TYPE_University\",\"ORGANIZATION_TYPE_Industry: type 7\",\"ORGANIZATION_TYPE_Transport: type 3\",\"ORGANIZATION_TYPE_Industry: type 1\",\"ORGANIZATION_TYPE_Hotel\",\"ORGANIZATION_TYPE_Electricity\",\"ORGANIZATION_TYPE_Industry: type 4\",\"ORGANIZATION_TYPE_Trade: type 6\",\"ORGANIZATION_TYPE_Industry: type 5\",\"ORGANIZATION_TYPE_Insurance\",\"ORGANIZATION_TYPE_Telecom\",\"ORGANIZATION_TYPE_Emergency\",\"ORGANIZATION_TYPE_Industry: type 2\",\"ORGANIZATION_TYPE_Advertising\",\"ORGANIZATION_TYPE_Culture\",\"ORGANIZATION_TYPE_Realtor\",\"ORGANIZATION_TYPE_Industry: type 12\",\"ORGANIZATION_TYPE_Trade: type 1\",\"ORGANIZATION_TYPE_Mobile\",\"ORGANIZATION_TYPE_Legal Services\",\"ORGANIZATION_TYPE_Cleaning\",\"ORGANIZATION_TYPE_Transport: type 1\",\"ORGANIZATION_TYPE_Industry: type 6\",\"ORGANIZATION_TYPE_Industry: type 10\",\"ORGANIZATION_TYPE_Religion\",\"ORGANIZATION_TYPE_Industry: type 13\",\"ORGANIZATION_TYPE_Trade: type 4\",\"ORGANIZATION_TYPE_Trade: type 5\",\"ORGANIZATION_TYPE_Industry: type 8\",\"FONDKAPREMONT_MODE_reg oper account\",\"FONDKAPREMONT_MODE_reg oper spec account\",\"FONDKAPREMONT_MODE_not specified\",\"FONDKAPREMONT_MODE_org spec account\",\"HOUSETYPE_MODE_block of flats\",\"HOUSETYPE_MODE_specific housing\",\"HOUSETYPE_MODE_terraced house\",\"WALLSMATERIAL_MODE_Panel\",\"WALLSMATERIAL_MODE_Stone, brick\",\"WALLSMATERIAL_MODE_Block\",\"WALLSMATERIAL_MODE_Wooden\",\"WALLSMATERIAL_MODE_Mixed\",\"WALLSMATERIAL_MODE_Monolithic\",\"WALLSMATERIAL_MODE_Others\",\"EMERGENCYSTATE_MODE_No\",\"EMERGENCYSTATE_MODE_Yes\",\"SK_ID_CURR\",\"CNT_CHILDREN\",\"AMT_INCOME_TOTAL\",\"AMT_CREDIT\",\"AMT_ANNUITY\",\"AMT_GOODS_PRICE\",\"REGION_POPULATION_RELATIVE\",\"DAYS_BIRTH\",\"DAYS_EMPLOYED\",\"DAYS_REGISTRATION\",\"DAYS_ID_PUBLISH\",\"OWN_CAR_AGE\",\"FLAG_MOBIL\",\"FLAG_EMP_PHONE\",\"FLAG_WORK_PHONE\",\"FLAG_CONT_MOBILE\",\"FLAG_PHONE\",\"FLAG_EMAIL\",\"CNT_FAM_MEMBERS\",\"REGION_RATING_CLIENT\",\"REGION_RATING_CLIENT_W_CITY\",\"HOUR_APPR_PROCESS_START\",\"REG_REGION_NOT_LIVE_REGION\",\"REG_REGION_NOT_WORK_REGION\",\"LIVE_REGION_NOT_WORK_REGION\",\"REG_CITY_NOT_LIVE_CITY\",\"REG_CITY_NOT_WORK_CITY\",\"LIVE_CITY_NOT_WORK_CITY\",\"EXT_SOURCE_1\",\"EXT_SOURCE_2\",\"EXT_SOURCE_3\",\"APARTMENTS_AVG\",\"BASEMENTAREA_AVG\",\"YEARS_BEGINEXPLUATATION_AVG\",\"YEARS_BUILD_AVG\",\"COMMONAREA_AVG\",\"ELEVATORS_AVG\",\"ENTRANCES_AVG\",\"FLOORSMAX_AVG\",\"FLOORSMIN_AVG\",\"LANDAREA_AVG\",\"LIVINGAPARTMENTS_AVG\",\"LIVINGAREA_AVG\",\"NONLIVINGAPARTMENTS_AVG\",\"NONLIVINGAREA_AVG\",\"APARTMENTS_MODE\",\"BASEMENTAREA_MODE\",\"YEARS_BEGINEXPLUATATION_MODE\",\"YEARS_BUILD_MODE\",\"COMMONAREA_MODE\",\"ELEVATORS_MODE\",\"ENTRANCES_MODE\",\"FLOORSMAX_MODE\",\"FLOORSMIN_MODE\",\"LANDAREA_MODE\",\"LIVINGAPARTMENTS_MODE\",\"LIVINGAREA_MODE\",\"NONLIVINGAPARTMENTS_MODE\",\"NONLIVINGAREA_MODE\",\"APARTMENTS_MEDI\",\"BASEMENTAREA_MEDI\",\"YEARS_BEGINEXPLUATATION_MEDI\",\"YEARS_BUILD_MEDI\",\"COMMONAREA_MEDI\",\"ELEVATORS_MEDI\",\"ENTRANCES_MEDI\",\"FLOORSMAX_MEDI\",\"FLOORSMIN_MEDI\",\"LANDAREA_MEDI\",\"LIVINGAPARTMENTS_MEDI\",\"LIVINGAREA_MEDI\",\"NONLIVINGAPARTMENTS_MEDI\",\"NONLIVINGAREA_MEDI\",\"TOTALAREA_MODE\",\"OBS_30_CNT_SOCIAL_CIRCLE\",\"DEF_30_CNT_SOCIAL_CIRCLE\",\"OBS_60_CNT_SOCIAL_CIRCLE\",\"DEF_60_CNT_SOCIAL_CIRCLE\",\"DAYS_LAST_PHONE_CHANGE\",\"FLAG_DOCUMENT_2\",\"FLAG_DOCUMENT_3\",\"FLAG_DOCUMENT_4\",\"FLAG_DOCUMENT_5\",\"FLAG_DOCUMENT_6\",\"FLAG_DOCUMENT_7\",\"FLAG_DOCUMENT_8\",\"FLAG_DOCUMENT_9\",\"FLAG_DOCUMENT_10\",\"FLAG_DOCUMENT_11\",\"FLAG_DOCUMENT_12\",\"FLAG_DOCUMENT_13\",\"FLAG_DOCUMENT_14\",\"FLAG_DOCUMENT_15\",\"FLAG_DOCUMENT_16\",\"FLAG_DOCUMENT_17\",\"FLAG_DOCUMENT_18\",\"FLAG_DOCUMENT_19\",\"FLAG_DOCUMENT_20\",\"FLAG_DOCUMENT_21\",\"AMT_REQ_CREDIT_BUREAU_HOUR\",\"AMT_REQ_CREDIT_BUREAU_DAY\",\"AMT_REQ_CREDIT_BUREAU_WEEK\",\"AMT_REQ_CREDIT_BUREAU_MON\",\"AMT_REQ_CREDIT_BUREAU_QRT\",\"AMT_REQ_CREDIT_BUREAU_YEAR\"]]]}}},\"view\":{\"type\":\"object\",\"name\":\"CDSView\",\"id\":\"p5350\",\"attributes\":{\"filter\":{\"type\":\"object\",\"name\":\"AllIndices\",\"id\":\"p5351\"}}},\"glyph\":{\"type\":\"object\",\"name\":\"HBar\",\"id\":\"p5346\",\"attributes\":{\"y\":{\"type\":\"field\",\"field\":\"y\"},\"height\":{\"type\":\"value\",\"value\":0.4},\"right\":{\"type\":\"field\",\"field\":\"x\"},\"line_color\":{\"type\":\"value\",\"value\":\"#1f77b4\"},\"fill_color\":{\"type\":\"value\",\"value\":\"#1f77b4\"}}},\"nonselection_glyph\":{\"type\":\"object\",\"name\":\"HBar\",\"id\":\"p5347\",\"attributes\":{\"y\":{\"type\":\"field\",\"field\":\"y\"},\"height\":{\"type\":\"value\",\"value\":0.4},\"right\":{\"type\":\"field\",\"field\":\"x\"},\"line_color\":{\"type\":\"value\",\"value\":\"#1f77b4\"},\"line_alpha\":{\"type\":\"value\",\"value\":0.1},\"fill_color\":{\"type\":\"value\",\"value\":\"#1f77b4\"},\"fill_alpha\":{\"type\":\"value\",\"value\":0.1},\"hatch_alpha\":{\"type\":\"value\",\"value\":0.1}}},\"muted_glyph\":{\"type\":\"object\",\"name\":\"HBar\",\"id\":\"p5348\",\"attributes\":{\"y\":{\"type\":\"field\",\"field\":\"y\"},\"height\":{\"type\":\"value\",\"value\":0.4},\"right\":{\"type\":\"field\",\"field\":\"x\"},\"line_color\":{\"type\":\"value\",\"value\":\"#1f77b4\"},\"line_alpha\":{\"type\":\"value\",\"value\":0.2},\"fill_color\":{\"type\":\"value\",\"value\":\"#1f77b4\"},\"fill_alpha\":{\"type\":\"value\",\"value\":0.2},\"hatch_alpha\":{\"type\":\"value\",\"value\":0.2}}}}}],\"toolbar\":{\"type\":\"object\",\"name\":\"Toolbar\",\"id\":\"p5302\",\"attributes\":{\"tools\":[{\"type\":\"object\",\"name\":\"PanTool\",\"id\":\"p5325\"},{\"type\":\"object\",\"name\":\"WheelZoomTool\",\"id\":\"p5326\"},{\"type\":\"object\",\"name\":\"BoxZoomTool\",\"id\":\"p5327\",\"attributes\":{\"overlay\":{\"type\":\"object\",\"name\":\"BoxAnnotation\",\"id\":\"p5328\",\"attributes\":{\"syncable\":false,\"level\":\"overlay\",\"visible\":false,\"left_units\":\"canvas\",\"right_units\":\"canvas\",\"bottom_units\":\"canvas\",\"top_units\":\"canvas\",\"line_color\":\"black\",\"line_alpha\":1.0,\"line_width\":2,\"line_dash\":[4,4],\"fill_color\":\"lightgrey\",\"fill_alpha\":0.5}}}},{\"type\":\"object\",\"name\":\"SaveTool\",\"id\":\"p5329\"},{\"type\":\"object\",\"name\":\"ResetTool\",\"id\":\"p5330\"},{\"type\":\"object\",\"name\":\"HelpTool\",\"id\":\"p5331\"}]}},\"left\":[{\"type\":\"object\",\"name\":\"CategoricalAxis\",\"id\":\"p5319\",\"attributes\":{\"ticker\":{\"type\":\"object\",\"name\":\"CategoricalTicker\",\"id\":\"p5321\"},\"formatter\":{\"type\":\"object\",\"name\":\"CategoricalTickFormatter\",\"id\":\"p5322\"},\"axis_label_text_font_size\":\"1pt\",\"major_label_policy\":{\"type\":\"object\",\"name\":\"AllLabels\",\"id\":\"p5320\"},\"major_label_text_font_size\":\"5pt\"}}],\"below\":[{\"type\":\"object\",\"name\":\"LinearAxis\",\"id\":\"p5312\",\"attributes\":{\"ticker\":{\"type\":\"object\",\"name\":\"BasicTicker\",\"id\":\"p5314\",\"attributes\":{\"mantissas\":[1,2,5]}},\"formatter\":{\"type\":\"object\",\"name\":\"BasicTickFormatter\",\"id\":\"p5315\"},\"axis_label\":\"feature importance locale\",\"major_label_policy\":{\"type\":\"object\",\"name\":\"AllLabels\",\"id\":\"p5313\"}}}],\"center\":[{\"type\":\"object\",\"name\":\"Grid\",\"id\":\"p5318\",\"attributes\":{\"axis\":{\"id\":\"p5312\"}}},{\"type\":\"object\",\"name\":\"Grid\",\"id\":\"p5324\",\"attributes\":{\"dimension\":1,\"axis\":{\"id\":\"p5319\"},\"grid_line_color\":null}}]}}]}};\n  const render_items = [{\"docid\":\"4e910ce1-b92e-4ae2-93a9-6cedcc216134\",\"roots\":{\"p5295\":\"9fcb6fc7-d1e7-46c4-a952-740da09010a0\"},\"root_ids\":[\"p5295\"]}];\n  root.Bokeh.embed.embed_items_notebook(docs_json, render_items);\n  }\n  if (root.Bokeh !== undefined) {\n    embed_document(root);\n  } else {\n    let attempts = 0;\n    const timer = setInterval(function(root) {\n      if (root.Bokeh !== undefined) {\n        clearInterval(timer);\n        embed_document(root);\n      } else {\n        attempts++;\n        if (attempts > 100) {\n          clearInterval(timer);\n          console.log(\"Bokeh: ERROR: Unable to run BokehJS code because BokehJS library is missing\");\n        }\n      }\n    }, 10, root)\n  }\n})(window);",
      "application/vnd.bokehjs_exec.v0+json": ""
     },
     "metadata": {
      "application/vnd.bokehjs_exec.v0+json": {
       "id": "p5295"
      }
     },
     "output_type": "display_data"
    }
   ],
   "source": [
    "fl= figure(x_range=(0,1),y_range=([]),width=400, height=400)\n",
    "source_fl = ColumnDataSource(dict(x=[0], y=[0]))  # a changer\n",
    "fl.hbar(y='y', right=\"x\", left=0, height=0.4, source=source_fl)\n",
    "\n",
    "fl.ygrid.grid_line_color = None\n",
    "fl.yaxis.axis_label_text_font_size = \"1pt\"\n",
    "fl.yaxis.major_label_text_font_size = \"5pt\"\n",
    "fl.xaxis.axis_label = \"feature importance locale\"\n",
    "\n",
    "df_retrieved = [0,0]\n",
    "url =  \"http://127.0.0.1:8000\"\n",
    "res = requests.post(url+\"/predict/\"+str(101099))\n",
    "print('contenu apres envoi ', res._content)\n",
    "df_retrieved[1] = json.loads(res._content.decode('utf-8'))  # data_retrieved\n",
    "new_data = dict() \n",
    "#new_data['feature_importance'] = df_retrieved[1]['feature_importance']\n",
    "# sinon ne chnage qu'une information à la fois 0 index de la ligne\n",
    "new_data['x'] = df_retrieved[1]['feature_importance']\n",
    "new_data['y'] = df_retrieved[1]['nom_colonnes']\n",
    "source_fl.data = new_data\n",
    "fl.y_range.factors = df_retrieved[1]['nom_colonnes']\n",
    "range_x=Range1d(min(df_retrieved[1]['feature_importance']),max(df_retrieved[1]['feature_importance']))\n",
    "fl.x_range = range_x\n",
    "show(fl)"
   ]
  },
  {
   "cell_type": "code",
   "execution_count": 10,
   "metadata": {},
   "outputs": [],
   "source": [
    "from bokeh.models import ColumnDataSource\n",
    "from bokeh.plotting import figure, show\n",
    "\n",
    "\n",
    "# define the categorical data\n",
    "categories = ['A', 'B', 'C', 'D', 'E']\n",
    "\n",
    "# define the data for the vbar chart\n",
    "data = {'x_values': categories, 'y_values': [3, 4, 1, 2, 5]}\n",
    "\n",
    "# create a ColumnDataSource object from the data\n",
    "source = ColumnDataSource(data)\n",
    "\n",
    "# create a figure object\n",
    "p = figure(x_range=categories)\n",
    "\n",
    "# add the vbar chart\n",
    "p.vbar(x='x_values', top='y_values', source=source, width=0.9)\n",
    "\n",
    "# add a point to the chart\n",
    "dot=p.circle(x=['B'], y=[4], size=20, color='red')\n",
    "#p.renderers.remove(dot)\n",
    "dot = p.circle(x=[],y=[],name='dot')\n",
    "\n",
    "# show the chart\n",
    "show(p)\n"
   ]
  }
 ],
 "metadata": {
  "kernelspec": {
   "display_name": "Python 3",
   "language": "python",
   "name": "python3"
  },
  "language_info": {
   "codemirror_mode": {
    "name": "ipython",
    "version": 3
   },
   "file_extension": ".py",
   "mimetype": "text/x-python",
   "name": "python",
   "nbconvert_exporter": "python",
   "pygments_lexer": "ipython3",
   "version": "3.9.13"
  },
  "orig_nbformat": 4
 },
 "nbformat": 4,
 "nbformat_minor": 2
}
