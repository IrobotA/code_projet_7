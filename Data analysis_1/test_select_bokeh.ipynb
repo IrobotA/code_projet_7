{
 "cells": [
  {
   "cell_type": "code",
   "execution_count": 7,
   "metadata": {},
   "outputs": [],
   "source": [
    "from bokeh.io import show, output_notebook\n",
    "from bokeh.models import ColumnDataSource, Select, Div, AutocompleteInput, FileInput, PreText, Range1d, FactorRange, Plot, VBar\n",
    "# from bokeh.models.widgets import Spacer\n",
    "from bokeh.plotting import figure, curdoc\n",
    "from bokeh.layouts import column, row\n",
    "import pandas as pd\n",
    "import numpy as np \n",
    "from bokeh.models import ColumnDataSource, FactorRange\n",
    "from bokeh.plotting import figure, show\n",
    "from bokeh.models import Range1d\n",
    "from bokeh.models import LabelSet\n"
   ]
  },
  {
   "cell_type": "code",
   "execution_count": 27,
   "metadata": {},
   "outputs": [],
   "source": [
    "from bokeh.io import  show, output_file\n",
    "# set output to static HTML file\n",
    "output_file(filename=\"custom_filename.html\", title=\"Static HTML file\")"
   ]
  },
  {
   "attachments": {},
   "cell_type": "markdown",
   "metadata": {},
   "source": [
    "Importation des données"
   ]
  },
  {
   "cell_type": "code",
   "execution_count": 4,
   "metadata": {},
   "outputs": [],
   "source": [
    "# Load some sample data\n",
    "df = pd.read_csv(\"application_test.csv\")\n",
    "df = df.sample(150,random_state=42).copy()"
   ]
  },
  {
   "cell_type": "code",
   "execution_count": 2,
   "metadata": {},
   "outputs": [
    {
     "ename": "NameError",
     "evalue": "name 'update_select_1' is not defined",
     "output_type": "error",
     "traceback": [
      "\u001b[1;31m---------------------------------------------------------------------------\u001b[0m",
      "\u001b[1;31mNameError\u001b[0m                                 Traceback (most recent call last)",
      "Cell \u001b[1;32mIn[2], line 22\u001b[0m\n\u001b[0;32m     18\u001b[0m x_select \u001b[39m=\u001b[39m Select(title\u001b[39m=\u001b[39m\u001b[39m'\u001b[39m\u001b[39mX-Axis Variable:\u001b[39m\u001b[39m'\u001b[39m,\n\u001b[0;32m     19\u001b[0m                   options\u001b[39m=\u001b[39m[val  \u001b[39mfor\u001b[39;00m val \u001b[39min\u001b[39;00m df\u001b[39m.\u001b[39mcolumns \u001b[39mif\u001b[39;00m val \u001b[39mnot\u001b[39;00m \u001b[39min\u001b[39;00m  [\u001b[39m'\u001b[39m\u001b[39mSK_ID_CURR\u001b[39m\u001b[39m'\u001b[39m,\u001b[39m'\u001b[39m\u001b[39mFLAG_MOBIL\u001b[39m\u001b[39m'\u001b[39m]], value\u001b[39m=\u001b[39m\u001b[39m'\u001b[39m\u001b[39mNAME_TYPE_SUITE\u001b[39m\u001b[39m'\u001b[39m)\n\u001b[0;32m     20\u001b[0m y_select \u001b[39m=\u001b[39m Select(title\u001b[39m=\u001b[39m\u001b[39m'\u001b[39m\u001b[39mY-Axis Variable:\u001b[39m\u001b[39m'\u001b[39m,\n\u001b[0;32m     21\u001b[0m                   options\u001b[39m=\u001b[39m[val  \u001b[39mfor\u001b[39;00m val \u001b[39min\u001b[39;00m df\u001b[39m.\u001b[39mselect_dtypes(exclude\u001b[39m=\u001b[39m\u001b[39m'\u001b[39m\u001b[39mobject\u001b[39m\u001b[39m'\u001b[39m)\u001b[39m.\u001b[39mcolumns \u001b[39mif\u001b[39;00m val \u001b[39mnot\u001b[39;00m \u001b[39min\u001b[39;00m  [\u001b[39m'\u001b[39m\u001b[39mSK_ID_CURR\u001b[39m\u001b[39m'\u001b[39m,\u001b[39m'\u001b[39m\u001b[39mFLAG_MOBIL\u001b[39m\u001b[39m'\u001b[39m]],value\u001b[39m=\u001b[39m\u001b[39m'\u001b[39m\u001b[39mDAYS_REGISTRATION\u001b[39m\u001b[39m'\u001b[39m)\n\u001b[1;32m---> 22\u001b[0m x_select\u001b[39m.\u001b[39mon_change(\u001b[39m'\u001b[39m\u001b[39mvalue\u001b[39m\u001b[39m'\u001b[39m, update_select_1)\n\u001b[0;32m     23\u001b[0m y_select\u001b[39m.\u001b[39mon_change(\u001b[39m'\u001b[39m\u001b[39mvalue\u001b[39m\u001b[39m'\u001b[39m, update_select_1)\n\u001b[0;32m     25\u001b[0m \u001b[39mdef\u001b[39;00m \u001b[39mupdate_select_1\u001b[39m(attr, old, new):\n\u001b[0;32m     26\u001b[0m     \u001b[39m# Update the x and y values of the ColumnDataSource object based on the selected variable\u001b[39;00m\n",
      "\u001b[1;31mNameError\u001b[0m: name 'update_select_1' is not defined"
     ]
    }
   ],
   "source": [
    "\n",
    "source_s = ColumnDataSource(dict(x=[0], y=[0]))\n",
    "source_b = ColumnDataSource(dict(x=[0], y=[0]))\n",
    "TOOLTIPS_2 = [\n",
    "    (\"index\", \"$index\"),\n",
    "    (\"variable X\", \"@x\"),  # v3\n",
    "    (\"Variable Y\", \"@y\")]\n",
    "# Add a scatterplot => int/int or int/float variables\n",
    "s = figure(width=400, height=400, tooltips=TOOLTIPS_2,\n",
    "           sizing_mode=\"stretch_both\")\n",
    "s.scatter(x='x', y='y', source=source_s)\n",
    "\n",
    "b = figure(x_range=[], width=400, height=400,\n",
    "           tooltips=TOOLTIPS_2, sizing_mode=\"stretch_both\")\n",
    "b.vbar(x='x', top='y', source=source_b, width=0.5)\n",
    "x_select = Select(title='X-Axis Variable:',\n",
    "                  options=[val  for val in df.columns if val not in  ['SK_ID_CURR','FLAG_MOBIL']], value='NAME_TYPE_SUITE')\n",
    "y_select = Select(title='Y-Axis Variable:',\n",
    "                  options=[val  for val in df.select_dtypes(exclude='object').columns if val not in  ['SK_ID_CURR','FLAG_MOBIL']],value='DAYS_REGISTRATION')\n",
    "x_select.on_change('value', update_select_1)\n",
    "y_select.on_change('value', update_select_1)\n",
    "\n",
    "def update_select_1(attr, old, new):\n",
    "    # Update the x and y values of the ColumnDataSource object based on the selected variable\n",
    "    print('test_avant_changement')\n",
    "    x_val = x_select.value\n",
    "    y_val = y_select.value\n",
    "    print('x_val =',x_val)\n",
    "    print(df[x_val])\n",
    "    print('y_val =',y_val)\n",
    "    print(df[y_val])\n",
    "    #selection  scatterplot #que des valeurs continues\n",
    "    if (df[x_val].dtype != 'object') & (df[y_val].dtype != 'object'):  # sélection graphique\n",
    "        \n",
    "        source_s.data['x'] = df[x_val]  # nouvelles colonnes chargées\n",
    "        source_s.data['y'] = df[y_val]  # nouvelles colonnes chargées \n",
    "        s.xaxis.axis_label = x_val\n",
    "        s.yaxis.axis_label = y_val\n",
    "        # add a point to the chart # removed for testing \n",
    "        layout.children[1]=s\n",
    "        print('scatter_chosen')\n",
    "    #selection vbar plot x = objet\n",
    "    elif (df[x_val].dtype == 'object') & (df[y_val].dtype == 'object'):\n",
    "        print('vbar_chosen')\n",
    "        # si une valeur dans id ou chargement a été sélectionnée removed for testing puproses\n",
    "        x_abs = df.groupby([x_val]).count()[y_val].index\n",
    "        y_ord = df.groupby([x_val]).count()[y_val].values \n",
    "        #changement des valeurs \n",
    "        new_data=dict()\n",
    "        new_data['x']=x_abs\n",
    "        new_data['y']=y_ord\n",
    "        source_b.data=new_data\n",
    "        print(new_data)\n",
    "        b.x_range.factors = x_abs\n",
    "        b.y_range = FactorRange(y_ord)\n",
    "        b.xaxis.axis_label = x_val\n",
    "        b.yaxis.axis_label = y_val\n",
    "        layout.children[1]=b \n",
    "        \n",
    "        \n",
    "    # x est  une variable de type float ou int       \n",
    "    else : \n",
    "        #b.renderers.remove(b_dot[0])\n",
    "        print('mean')\n",
    "        # si une valeur dans id ou chargement a été sélectionnée\n",
    "        x_abs = df.groupby([x_val]).mean(numeric_only=False)[y_val].index\n",
    "        y_ord = df.groupby([x_val]).mean(numeric_only=False)[y_val].values \n",
    "        #changement des valeurs \n",
    "        new_data=dict()\n",
    "        new_data['x']=x_abs\n",
    "        new_data['y']=y_ord\n",
    "        source_b.data=new_data\n",
    "        #print(new_data)\n",
    "        b.x_range.factors = x_abs\n",
    "        b.y_range = FactorRange(y_val)\n",
    "        b.xaxis.axis_label = x_val\n",
    "        b.yaxis.axis_label = y_val\n",
    "        layout.children[1]=b \n",
    "inputs = row(x_select, y_select)\n",
    "\n",
    "\n",
    "layout = column([inputs,\n",
    "                b],sizing_mode='stretch_both')\n",
    "\n",
    "show(layout)\n"
   ]
  },
  {
   "cell_type": "code",
   "execution_count": 179,
   "metadata": {},
   "outputs": [],
   "source": [
    "\n",
    "fruits = ['Apples', 'Pears', 'Nectarines', 'Plums', 'Grapes', 'Strawberries']\n",
    "years = ['2015', '2016', '2017']\n",
    "\n",
    "data = {'fruits': fruits,\n",
    "        '2015': [2, 1, 4, 3, 2, 4],\n",
    "        '2016': [5, 3, 3, 2, 4, 6],\n",
    "        '2017': [3, 2, 4, 4, 5, 3]}\n",
    "\n",
    "# this creates [ (\"Apples\", \"2015\"), (\"Apples\", \"2016\"), (\"Apples\", \"2017\"), (\"Pears\", \"2015), ... ]\n",
    "x = [(fruit, year) for fruit in fruits for year in years]\n",
    "counts = sum(zip(data['2015'], data['2016'],\n",
    "             data['2017']), ())  # like an hstack\n",
    "\n",
    "source = ColumnDataSource(data=dict(\n",
    "    x=[(str(i[0]), str(i[1])) for i in teest_.index], counts=teest_.values))\n",
    "\n",
    "p = figure(x_range=FactorRange(*[(str(i[0]), str(i[1])) for i in teest_.index]), height=350, title=\"Fruit Counts by Year\",\n",
    "           toolbar_location=None, tools=\"\")\n",
    "\n",
    "p.vbar(x='x', top='counts', width=0.9, source=source)\n",
    "\n",
    "p.y_range.start = 0\n",
    "p.x_range.range_padding = 0.1\n",
    "p.xaxis.major_label_orientation = 1\n",
    "p.xgrid.grid_line_color = None\n",
    "\n",
    "show(p)\n"
   ]
  },
  {
   "cell_type": "code",
   "execution_count": 5,
   "metadata": {},
   "outputs": [
    {
     "data": {
      "text/html": [
       "<div style=\"display: table;\"><div style=\"display: table-row;\"><div style=\"display: table-cell;\"><b title=\"bokeh.models.renderers.glyph_renderer.GlyphRenderer\">GlyphRenderer</b>(</div><div style=\"display: table-cell;\">id&nbsp;=&nbsp;'p1175', <span id=\"p1179\" style=\"cursor: pointer;\">&hellip;)</span></div></div><div class=\"p1178\" style=\"display: none;\"><div style=\"display: table-cell;\"></div><div style=\"display: table-cell;\">coordinates&nbsp;=&nbsp;None,</div></div><div class=\"p1178\" style=\"display: none;\"><div style=\"display: table-cell;\"></div><div style=\"display: table-cell;\">data_source&nbsp;=&nbsp;ColumnDataSource(id='p1122', ...),</div></div><div class=\"p1178\" style=\"display: none;\"><div style=\"display: table-cell;\"></div><div style=\"display: table-cell;\">glyph&nbsp;=&nbsp;VBar(id='p1172', ...),</div></div><div class=\"p1178\" style=\"display: none;\"><div style=\"display: table-cell;\"></div><div style=\"display: table-cell;\">group&nbsp;=&nbsp;None,</div></div><div class=\"p1178\" style=\"display: none;\"><div style=\"display: table-cell;\"></div><div style=\"display: table-cell;\">hover_glyph&nbsp;=&nbsp;None,</div></div><div class=\"p1178\" style=\"display: none;\"><div style=\"display: table-cell;\"></div><div style=\"display: table-cell;\">js_event_callbacks&nbsp;=&nbsp;{},</div></div><div class=\"p1178\" style=\"display: none;\"><div style=\"display: table-cell;\"></div><div style=\"display: table-cell;\">js_property_callbacks&nbsp;=&nbsp;{},</div></div><div class=\"p1178\" style=\"display: none;\"><div style=\"display: table-cell;\"></div><div style=\"display: table-cell;\">level&nbsp;=&nbsp;'glyph',</div></div><div class=\"p1178\" style=\"display: none;\"><div style=\"display: table-cell;\"></div><div style=\"display: table-cell;\">muted&nbsp;=&nbsp;False,</div></div><div class=\"p1178\" style=\"display: none;\"><div style=\"display: table-cell;\"></div><div style=\"display: table-cell;\">muted_glyph&nbsp;=&nbsp;VBar(id='p1174', ...),</div></div><div class=\"p1178\" style=\"display: none;\"><div style=\"display: table-cell;\"></div><div style=\"display: table-cell;\">name&nbsp;=&nbsp;None,</div></div><div class=\"p1178\" style=\"display: none;\"><div style=\"display: table-cell;\"></div><div style=\"display: table-cell;\">nonselection_glyph&nbsp;=&nbsp;VBar(id='p1173', ...),</div></div><div class=\"p1178\" style=\"display: none;\"><div style=\"display: table-cell;\"></div><div style=\"display: table-cell;\">selection_glyph&nbsp;=&nbsp;'auto',</div></div><div class=\"p1178\" style=\"display: none;\"><div style=\"display: table-cell;\"></div><div style=\"display: table-cell;\">subscribed_events&nbsp;=&nbsp;PropertyValueSet(),</div></div><div class=\"p1178\" style=\"display: none;\"><div style=\"display: table-cell;\"></div><div style=\"display: table-cell;\">syncable&nbsp;=&nbsp;True,</div></div><div class=\"p1178\" style=\"display: none;\"><div style=\"display: table-cell;\"></div><div style=\"display: table-cell;\">tags&nbsp;=&nbsp;[],</div></div><div class=\"p1178\" style=\"display: none;\"><div style=\"display: table-cell;\"></div><div style=\"display: table-cell;\">view&nbsp;=&nbsp;CDSView(id='p1176', ...),</div></div><div class=\"p1178\" style=\"display: none;\"><div style=\"display: table-cell;\"></div><div style=\"display: table-cell;\">visible&nbsp;=&nbsp;True,</div></div><div class=\"p1178\" style=\"display: none;\"><div style=\"display: table-cell;\"></div><div style=\"display: table-cell;\">x_range_name&nbsp;=&nbsp;'default',</div></div><div class=\"p1178\" style=\"display: none;\"><div style=\"display: table-cell;\"></div><div style=\"display: table-cell;\">y_range_name&nbsp;=&nbsp;'default')</div></div></div>\n",
       "<script>\n",
       "(function() {\n",
       "  let expanded = false;\n",
       "  const ellipsis = document.getElementById(\"p1179\");\n",
       "  ellipsis.addEventListener(\"click\", function() {\n",
       "    const rows = document.getElementsByClassName(\"p1178\");\n",
       "    for (let i = 0; i < rows.length; i++) {\n",
       "      const el = rows[i];\n",
       "      el.style.display = expanded ? \"none\" : \"table-row\";\n",
       "    }\n",
       "    ellipsis.innerHTML = expanded ? \"&hellip;)\" : \"&lsaquo;&lsaquo;&lsaquo;\";\n",
       "    expanded = !expanded;\n",
       "  });\n",
       "})();\n",
       "</script>\n"
      ],
      "text/plain": [
       "GlyphRenderer(id='p1175', ...)"
      ]
     },
     "execution_count": 5,
     "metadata": {},
     "output_type": "execute_result"
    }
   ],
   "source": [
    "source_c = ColumnDataSource(data=dict(x=[0], counts=[0]))\n",
    "c=figure(x_range=[], width=400, height=400, y_range=FactorRange(),sizing_mode=\"stretch_both\")\n",
    "c.vbar(x='x', top='counts', source=source_c, width=0.5)"
   ]
  },
  {
   "cell_type": "code",
   "execution_count": 6,
   "metadata": {},
   "outputs": [
    {
     "ename": "NameError",
     "evalue": "name 'teest_' is not defined",
     "output_type": "error",
     "traceback": [
      "\u001b[1;31m---------------------------------------------------------------------------\u001b[0m",
      "\u001b[1;31mNameError\u001b[0m                                 Traceback (most recent call last)",
      "Cell \u001b[1;32mIn[6], line 3\u001b[0m\n\u001b[0;32m      1\u001b[0m x_val \u001b[39m=\u001b[39m \u001b[39m'\u001b[39m\u001b[39mCODE_GENDER\u001b[39m\u001b[39m'\u001b[39m\n\u001b[0;32m      2\u001b[0m y_val \u001b[39m=\u001b[39m \u001b[39m'\u001b[39m\u001b[39mFLAG_WORK_PHONE\u001b[39m\u001b[39m'\u001b[39m\n\u001b[1;32m----> 3\u001b[0m new_data \u001b[39m=\u001b[39m {\u001b[39m'\u001b[39m\u001b[39mx\u001b[39m\u001b[39m'\u001b[39m:[(\u001b[39mstr\u001b[39m(i[\u001b[39m0\u001b[39m]), \u001b[39mstr\u001b[39m(i[\u001b[39m1\u001b[39m])) \u001b[39mfor\u001b[39;00m i \u001b[39min\u001b[39;00m teest_\u001b[39m.\u001b[39mindex],\u001b[39m'\u001b[39m\u001b[39my\u001b[39m\u001b[39m'\u001b[39m:teest_\u001b[39m.\u001b[39mvalues}\n\u001b[0;32m      4\u001b[0m source_c\u001b[39m.\u001b[39mdata \u001b[39m=\u001b[39m new_data\n\u001b[0;32m      5\u001b[0m c\u001b[39m.\u001b[39mx_range\u001b[39m=\u001b[39m FactorRange(factors\u001b[39m=\u001b[39m[(\u001b[39mstr\u001b[39m(i[\u001b[39m0\u001b[39m]), \u001b[39mstr\u001b[39m(i[\u001b[39m1\u001b[39m])) \u001b[39mfor\u001b[39;00m i \u001b[39min\u001b[39;00m teest_\u001b[39m.\u001b[39mindex])\n",
      "\u001b[1;31mNameError\u001b[0m: name 'teest_' is not defined"
     ]
    }
   ],
   "source": [
    "x_val = 'CODE_GENDER'\n",
    "y_val = 'FLAG_WORK_PHONE'\n",
    "new_data = {'x':[(str(i[0]), str(i[1])) for i in teest_.index],'y':teest_.values}\n",
    "source_c.data = new_data\n",
    "c.x_range= FactorRange(factors=[(str(i[0]), str(i[1])) for i in teest_.index])\n",
    "c.y_range = FactorRange(*[str(t) for t in teest_.values])\n",
    "#b.xaxis.major_label_orientation = 1\n",
    "#b.xgrid.grid_line_color = None\n"
   ]
  },
  {
   "cell_type": "code",
   "execution_count": 249,
   "metadata": {},
   "outputs": [],
   "source": [
    "show(c)"
   ]
  },
  {
   "cell_type": "code",
   "execution_count": 324,
   "metadata": {},
   "outputs": [
    {
     "name": "stdout",
     "output_type": "stream",
     "text": [
      "mean <class 'list'> [-5084.18, -4979.02]\n",
      "4979.02\n"
     ]
    }
   ],
   "source": [
    "b = figure(x_range=[],width=400, height=400,sizing_mode=\"stretch_both\")\n",
    "source_k=(ColumnDataSource())\n",
    "x_abs = df.groupby(['CODE_GENDER']).mean(numeric_only=True)['DAYS_REGISTRATION'].index.values\n",
    "y_ord = df.groupby(['CODE_GENDER']).mean(numeric_only=True)['DAYS_REGISTRATION'].values.round(decimals=2).tolist()\n",
    "print('mean',type(y_ord),y_ord) \n",
    "source_k.data=dict(x=x_abs,y=y_ord)\n",
    "b.vbar(x='x', top='y', source=source_k, width=0.5)\n",
    "b.x_range.factors = x_abs\n",
    "b.y_range.start = 0\n",
    "print(min([abs(o) for o in y_ord]))\n",
    "b.y_range.end = max(y_ord)*1.05\n",
    "b.xaxis.axis_label = x_val\n",
    "b.yaxis.axis_label = y_val\n",
    "labels = LabelSet(x='x', y='y', text='y', level='glyph',\n",
    "                    x_offset=0, y_offset=0,source = source_k,\n",
    "                    text_color='black',text_align='center')\n",
    "b.add_layout(labels)\n",
    "show(b)"
   ]
  },
  {
   "attachments": {},
   "cell_type": "markdown",
   "metadata": {},
   "source": [
    "RuntimeError: Models must be owned by only a single document, Selection(id='p1005', ...) is already in a doc\n",
    "\n",
    "#quand existe déjà et posséde déjà des éléments donc  il fautr le ré instancier\n",
    "\n",
    "\n",
    "aucun affichage => ^parce que end négatif et qu'opération instaure nombre positif donc hors écran\n",
    "toujours aucune bar => b.y_range.start = max(y_ord)*1.05 dobc trop haut"
   ]
  },
  {
   "cell_type": "code",
   "execution_count": 326,
   "metadata": {},
   "outputs": [
    {
     "name": "stdout",
     "output_type": "stream",
     "text": [
      "0 -5338.389\n"
     ]
    }
   ],
   "source": [
    "source_b = (ColumnDataSource(dict(x=[],y=[])))\n",
    "b = figure(x_range=[], width=400, height=400, sizing_mode=\"stretch_both\")\n",
    "b.vbar(x='x', top='y', source=source_b, width=0.5)\n",
    "is_numeric = True\n",
    "x_val = 'CODE_GENDER'\n",
    "y_val = 'DAYS_REGISTRATION'\n",
    "x_abs = df.groupby([x_val]).mean(numeric_only=is_numeric)[y_val].index\n",
    "y_ord = df.groupby([x_val]).mean(numeric_only=is_numeric)[y_val].values.round(decimals=2).tolist()\n",
    "source_b.data=dict(x=x_abs,y=y_ord)\n",
    "b.x_range.factors = x_abs\n",
    "start_ = 0\n",
    "if df[y_val].mean()>0: #variable négatif et positive\n",
    "    end_ = max(y_ord)*1.05\n",
    "else : \n",
    "    end_ = min(y_ord)*1.05\n",
    "b.y_range.start = 0\n",
    "b.y_range.end = end_\n",
    "b.xaxis.axis_label = x_val\n",
    "b.yaxis.axis_label = y_val\n",
    "labels = LabelSet(x='x', y='y', text='y', level='glyph',\n",
    "                    x_offset=0, y_offset=0,source = source_b,\n",
    "                    text_color='black',text_align='center')\n",
    "b.add_layout(labels)\n",
    "print(start_,end_)\n",
    "show(b)\n"
   ]
  },
  {
   "cell_type": "code",
   "execution_count": 65,
   "metadata": {},
   "outputs": [],
   "source": [
    "teest_ = df.groupby(['CNT_CHILDREN','FLAG_WORK_PHONE']).size()\n",
    "\n",
    "source = ColumnDataSource(data=dict(\n",
    "    x=[(str(i[0]), str(i[1])) for i in teest_.index], counts=teest_.values))\n",
    "\n",
    "p = figure(x_range=FactorRange(*[(str(i[0]), str(i[1])) for i in teest_.index]), height=350, title=\"cnt children & flag work phone\",\n",
    "           toolbar_location=None, tools=\"\")\n",
    "\n",
    "p.vbar(x='x', top='counts', width=0.9, source=source)\n",
    "df_teest_ = teest_.reset_index()\n",
    "index = df_teest_[(df_teest_['CNT_CHILDREN'] == 0) & (df_teest_[\n",
    "    'FLAG_WORK_PHONE'] == 1)][['CNT_CHILDREN', 'FLAG_WORK_PHONE']].values[0]\n",
    "index_str = tuple(str(el)for el in index)\n",
    "p.circle(x=[index_str], y=teest_[index[0], index[1]]/2,\n",
    "         size=10, color='red',\n",
    "         name='p_dot')\n",
    "p.y_range.start = 0\n",
    "p.x_range.range_padding = 0.1\n",
    "p.xaxis.major_label_orientation = 1\n",
    "p.xgrid.grid_line_color = None\n",
    "show(p)"
   ]
  },
  {
   "attachments": {},
   "cell_type": "markdown",
   "metadata": {},
   "source": [
    "erreur non affichage point avec f et m "
   ]
  },
  {
   "cell_type": "code",
   "execution_count": 88,
   "metadata": {},
   "outputs": [
    {
     "ename": "IndexError",
     "evalue": "index 0 is out of bounds for axis 0 with size 0",
     "output_type": "error",
     "traceback": [
      "\u001b[1;31m---------------------------------------------------------------------------\u001b[0m",
      "\u001b[1;31mIndexError\u001b[0m                                Traceback (most recent call last)",
      "Cell \u001b[1;32mIn[88], line 11\u001b[0m\n\u001b[0;32m      9\u001b[0m p\u001b[39m.\u001b[39mvbar(x\u001b[39m=\u001b[39m\u001b[39m'\u001b[39m\u001b[39mx\u001b[39m\u001b[39m'\u001b[39m, top\u001b[39m=\u001b[39m\u001b[39m'\u001b[39m\u001b[39mcounts\u001b[39m\u001b[39m'\u001b[39m, width\u001b[39m=\u001b[39m\u001b[39m0.9\u001b[39m, source\u001b[39m=\u001b[39msource)\n\u001b[0;32m     10\u001b[0m df_teest_ \u001b[39m=\u001b[39m teest_\u001b[39m.\u001b[39mreset_index()\n\u001b[1;32m---> 11\u001b[0m index \u001b[39m=\u001b[39m df_teest_[(df_teest_[\u001b[39m'\u001b[39;49m\u001b[39mCODE_GENDER\u001b[39;49m\u001b[39m'\u001b[39;49m] \u001b[39m==\u001b[39;49m \u001b[39m0\u001b[39;49m) \u001b[39m&\u001b[39;49m (df_teest_[\n\u001b[0;32m     12\u001b[0m     \u001b[39m'\u001b[39;49m\u001b[39mFLAG_PHONE\u001b[39;49m\u001b[39m'\u001b[39;49m] \u001b[39m==\u001b[39;49m \u001b[39m1\u001b[39;49m)][[\u001b[39m'\u001b[39;49m\u001b[39mFLAG_PHONE\u001b[39;49m\u001b[39m'\u001b[39;49m, \u001b[39m'\u001b[39;49m\u001b[39mFLAG_PHONE\u001b[39;49m\u001b[39m'\u001b[39;49m]]\u001b[39m.\u001b[39;49mvalues[\u001b[39m0\u001b[39;49m]\n\u001b[0;32m     13\u001b[0m index_str \u001b[39m=\u001b[39m \u001b[39mtuple\u001b[39m(\u001b[39mstr\u001b[39m(el)\u001b[39mfor\u001b[39;00m el \u001b[39min\u001b[39;00m index)\n\u001b[0;32m     14\u001b[0m p\u001b[39m.\u001b[39mcircle(x\u001b[39m=\u001b[39m[index_str], y\u001b[39m=\u001b[39mteest_[index[\u001b[39m0\u001b[39m], index[\u001b[39m1\u001b[39m]]\u001b[39m/\u001b[39m\u001b[39m2\u001b[39m,\n\u001b[0;32m     15\u001b[0m          size\u001b[39m=\u001b[39m\u001b[39m10\u001b[39m, color\u001b[39m=\u001b[39m\u001b[39m'\u001b[39m\u001b[39mred\u001b[39m\u001b[39m'\u001b[39m,\n\u001b[0;32m     16\u001b[0m          name\u001b[39m=\u001b[39m\u001b[39m'\u001b[39m\u001b[39mp_dot\u001b[39m\u001b[39m'\u001b[39m)\n",
      "\u001b[1;31mIndexError\u001b[0m: index 0 is out of bounds for axis 0 with size 0"
     ]
    }
   ],
   "source": [
    "teest_ = df.groupby(['CODE_GENDER','FLAG_PHONE']).size()\n",
    "\n",
    "source = ColumnDataSource(data=dict(\n",
    "    x=[(str(i[0]), str(i[1])) for i in teest_.index], counts=teest_.values))\n",
    "\n",
    "p = figure(x_range=FactorRange(*[(str(i[0]), str(i[1])) for i in teest_.index]), height=350, title=\"cnt children & flag work phone\",\n",
    "           toolbar_location=None, tools=\"\")\n",
    "\n",
    "p.vbar(x='x', top='counts', width=0.9, source=source)\n",
    "df_teest_ = teest_.reset_index()\n",
    "index = df_teest_[(df_teest_['CODE_GENDER'] == 0) & (df_teest_[\n",
    "    'FLAG_PHONE'] == 1)][['FLAG_PHONE', 'FLAG_PHONE']].values[0]\n",
    "index_str = tuple(str(el)for el in index)\n",
    "p.circle(x=[index_str], y=teest_[index[0], index[1]]/2,\n",
    "         size=10, color='red',\n",
    "         name='p_dot')\n",
    "p.y_range.start = 0\n",
    "p.x_range.range_padding = 0.1\n",
    "p.xaxis.major_label_orientation = 1\n",
    "p.xgrid.grid_line_color = None\n",
    "show(p)"
   ]
  },
  {
   "cell_type": "code",
   "execution_count": 91,
   "metadata": {},
   "outputs": [
    {
     "data": {
      "text/plain": [
       "array([1, 1], dtype=int64)"
      ]
     },
     "execution_count": 91,
     "metadata": {},
     "output_type": "execute_result"
    }
   ],
   "source": [
    "index = df_teest_[(df_teest_['CODE_GENDER'] == 'F') & (df_teest_['FLAG_PHONE'] == 1)][['FLAG_PHONE', 'FLAG_PHONE']].values[0]\n",
    "index"
   ]
  },
  {
   "cell_type": "code",
   "execution_count": 94,
   "metadata": {},
   "outputs": [
    {
     "data": {
      "text/plain": [
       "array(['F'], dtype=object)"
      ]
     },
     "execution_count": 94,
     "metadata": {},
     "output_type": "execute_result"
    }
   ],
   "source": [
    "df_retrieved['CODE_GENDER'].values"
   ]
  },
  {
   "cell_type": "code",
   "execution_count": 92,
   "metadata": {},
   "outputs": [
    {
     "data": {
      "text/plain": [
       "CODE_GENDER  FLAG_PHONE\n",
       "F            0             73\n",
       "             1             30\n",
       "M            0             37\n",
       "             1             10\n",
       "dtype: int64"
      ]
     },
     "execution_count": 92,
     "metadata": {},
     "output_type": "execute_result"
    }
   ],
   "source": [
    "teest_"
   ]
  },
  {
   "cell_type": "code",
   "execution_count": 64,
   "metadata": {},
   "outputs": [
    {
     "data": {
      "text/plain": [
       "('0', '1')"
      ]
     },
     "execution_count": 64,
     "metadata": {},
     "output_type": "execute_result"
    }
   ],
   "source": [
    "tuple(str(el)for el in index)"
   ]
  },
  {
   "cell_type": "code",
   "execution_count": 86,
   "metadata": {},
   "outputs": [
    {
     "data": {
      "text/plain": [
       "0     True\n",
       "1     True\n",
       "2    False\n",
       "3    False\n",
       "4    False\n",
       "5    False\n",
       "6    False\n",
       "Name: CNT_CHILDREN, dtype: bool"
      ]
     },
     "execution_count": 86,
     "metadata": {},
     "output_type": "execute_result"
    }
   ],
   "source": [
    "(df_teest_['CNT_CHILDREN'] == df_retrieved['CNT_CHILDREN'].values[0])\n"
   ]
  },
  {
   "cell_type": "code",
   "execution_count": null,
   "metadata": {},
   "outputs": [],
   "source": [
    "comparer flag email flag phone"
   ]
  },
  {
   "cell_type": "code",
   "execution_count": 87,
   "metadata": {},
   "outputs": [
    {
     "data": {
      "text/plain": [
       "array([0, 0], dtype=int64)"
      ]
     },
     "execution_count": 87,
     "metadata": {},
     "output_type": "execute_result"
    }
   ],
   "source": [
    "df_teest_[(df_teest_['CNT_CHILDREN'] == df_retrieved['CNT_CHILDREN'].values[0]) & \n",
    "          (df_teest_['FLAG_WORK_PHONE'] == df_retrieved['FLAG_WORK_PHONE'].values[0])]\\\n",
    "[['CNT_CHILDREN', 'FLAG_WORK_PHONE']].values[0]\n"
   ]
  },
  {
   "cell_type": "code",
   "execution_count": 82,
   "metadata": {},
   "outputs": [
    {
     "data": {
      "text/plain": [
       "array([0, 1], dtype=int64)"
      ]
     },
     "execution_count": 82,
     "metadata": {},
     "output_type": "execute_result"
    }
   ],
   "source": [
    "df_teest_[(df_teest_['CNT_CHILDREN'] == 0) & (df_teest_['FLAG_WORK_PHONE'] == 1)]\\\n",
    "[['CNT_CHILDREN', 'FLAG_WORK_PHONE']].values[0]"
   ]
  },
  {
   "cell_type": "code",
   "execution_count": 49,
   "metadata": {},
   "outputs": [
    {
     "data": {
      "text/plain": [
       "18"
      ]
     },
     "execution_count": 49,
     "metadata": {},
     "output_type": "execute_result"
    }
   ],
   "source": [
    "index = df_teest_[(df_teest_['CNT_CHILDREN'] == 0) & (df_teest_[\n",
    "    'FLAG_WORK_PHONE'] == 1)][['CNT_CHILDREN', 'FLAG_WORK_PHONE']].values[0]\n",
    "teest_[index[0], index[1]]\n"
   ]
  },
  {
   "attachments": {},
   "cell_type": "markdown",
   "metadata": {},
   "source": [
    "de series on passe a df"
   ]
  },
  {
   "cell_type": "code",
   "execution_count": 29,
   "metadata": {},
   "outputs": [],
   "source": [
    "df_teest_ = teest_.reset_index()\n"
   ]
  },
  {
   "cell_type": "code",
   "execution_count": 25,
   "metadata": {},
   "outputs": [
    {
     "data": {
      "text/plain": [
       "['0', '1']"
      ]
     },
     "execution_count": 25,
     "metadata": {},
     "output_type": "execute_result"
    }
   ],
   "source": [
    "[str(el) for el in df_teest_[(df_teest_['CNT_CHILDREN']== 0)&(df_teest_['FLAG_WORK_PHONE']== 1)][['CNT_CHILDREN','FLAG_WORK_PHONE']].values[0]]"
   ]
  },
  {
   "cell_type": "code",
   "execution_count": null,
   "metadata": {},
   "outputs": [],
   "source": []
  },
  {
   "cell_type": "code",
   "execution_count": 66,
   "metadata": {},
   "outputs": [
    {
     "data": {
      "text/plain": [
       "False"
      ]
     },
     "execution_count": 66,
     "metadata": {},
     "output_type": "execute_result"
    }
   ],
   "source": [
    "\n",
    "df_retrieved = df[df['SK_ID_CURR']==101099]\n"
   ]
  },
  {
   "cell_type": "code",
   "execution_count": 78,
   "metadata": {},
   "outputs": [
    {
     "data": {
      "text/plain": [
       "-11138.0"
      ]
     },
     "execution_count": 78,
     "metadata": {},
     "output_type": "execute_result"
    }
   ],
   "source": [
    "df_retrieved['DAYS_REGISTRATION'].values[0]"
   ]
  },
  {
   "cell_type": "code",
   "execution_count": 81,
   "metadata": {},
   "outputs": [
    {
     "data": {
      "text/plain": [
       "False"
      ]
     },
     "execution_count": 81,
     "metadata": {},
     "output_type": "execute_result"
    }
   ],
   "source": [
    "(df['DAYS_REGISTRATION'].mean()>0) & (max([-5084.18, -4979.02])>df_retrieved['DAYS_REGISTRATION'].values[0])"
   ]
  },
  {
   "cell_type": "code",
   "execution_count": 69,
   "metadata": {},
   "outputs": [
    {
     "data": {
      "text/plain": [
       "147   -11138.0\n",
       "Name: DAYS_REGISTRATION, dtype: float64"
      ]
     },
     "execution_count": 69,
     "metadata": {},
     "output_type": "execute_result"
    }
   ],
   "source": [
    "df_retrieved['DAYS_REGISTRATION']"
   ]
  }
 ],
 "metadata": {
  "kernelspec": {
   "display_name": ".venv",
   "language": "python",
   "name": "python3"
  },
  "language_info": {
   "codemirror_mode": {
    "name": "ipython",
    "version": 3
   },
   "file_extension": ".py",
   "mimetype": "text/x-python",
   "name": "python",
   "nbconvert_exporter": "python",
   "pygments_lexer": "ipython3",
   "version": "3.9.13"
  },
  "orig_nbformat": 4
 },
 "nbformat": 4,
 "nbformat_minor": 2
}
