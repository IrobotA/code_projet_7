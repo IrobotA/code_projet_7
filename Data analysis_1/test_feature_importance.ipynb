{
 "cells": [
  {
   "cell_type": "code",
   "execution_count": 1,
   "metadata": {},
   "outputs": [],
   "source": [
    "from sklearn.metrics import accuracy_score, precision_score, recall_score\n",
    "from sklearn.pipeline import Pipeline\n",
    "import pickle\n",
    "import pandas as pd"
   ]
  },
  {
   "cell_type": "code",
   "execution_count": 29,
   "metadata": {},
   "outputs": [],
   "source": [
    "#importation modele déjà entraîné\n",
    "templates = pd.read_csv('../../datasets/X_columns_template.csv')\n",
    "test = pd.read_csv('../../datasets/new_df_test.csv')"
   ]
  },
  {
   "cell_type": "code",
   "execution_count": null,
   "metadata": {},
   "outputs": [],
   "source": [
    "test_id = test[test['SK_ID_CURR']==456221].copy() #exemple sur lequel on va travailler # vérifier si une seule ligne"
   ]
  },
  {
   "cell_type": "code",
   "execution_count": null,
   "metadata": {},
   "outputs": [],
   "source": [
    "#one_hot_encoder() dans le pipe une fonction de fit et une fonction d'application, plus de robustesse\n",
    "#get dummies plus au niveau de la dataframe, biaisé donc pas applicable sur de nouvelles données"
   ]
  },
  {
   "cell_type": "markdown",
   "metadata": {},
   "source": [
    "def mise_en_forme(data_line):\n",
    "    \n",
    "    ''' objectif : meme  colonnes que l'apprentissage\n",
    "        patrameters:\n",
    "        dataline => ligne de données avec les colonnes\n",
    "        \n",
    "        return :\n",
    "        rajoute les colonnes qui ne sont pas présentes dans le jeu de test'''\n",
    "    \n",
    "    cols_not_in_test = [col_train for col_train in templates['0'].values if col_train not in test.columns] # ['0']nom de la colonne ou il y a les noms de colonnes colonnes qui sont absentes du test\n",
    "    for cols  in  cols_not_in_test :\n",
    "        print(cols)\n",
    "        if cols != 'TARGET':\n",
    "            data_line[cols] =-1  #attribution de la valeur atypique vue que absent\n",
    "            \n",
    "    return cols_not_in_test"
   ]
  },
  {
   "cell_type": "markdown",
   "metadata": {},
   "source": [
    "cols = mise_en_forme(test_id) #rajoute la ou les colonnes mqtes\n",
    "test_id = test_id[templates['0'].values] #réorganiser les colonnes comme X_train sur lequel le modele c'est entrainé"
   ]
  },
  {
   "cell_type": "code",
   "execution_count": 70,
   "metadata": {},
   "outputs": [
    {
     "data": {
      "text/plain": [
       "array([0], dtype=int64)"
      ]
     },
     "execution_count": 70,
     "metadata": {},
     "output_type": "execute_result"
    }
   ],
   "source": [
    "pickle_in = open(\"pipel_2.pkl\",\"rb\") #notre pipeline importé v2 = pipel_2, v1 = pipel\n",
    "classifier_test=pickle.load(pickle_in) #chargé dans une variable\n",
    "classifier_test.predict(test_id)#prediction"
   ]
  },
  {
   "attachments": {},
   "cell_type": "markdown",
   "metadata": {},
   "source": [
    "sléection par intex des étapes à réaliser"
   ]
  },
  {
   "attachments": {},
   "cell_type": "markdown",
   "metadata": {},
   "source": [
    "def feat_imp(pipe) :\n",
    "    val_avt_std = pipe['scaler'].transform(test_id)[0,:][pipe['rfe'].get_support()] # ct +scaler\n",
    "    return pipe['model'].coef_* val_avt_std# feature importance\n"
   ]
  },
  {
   "cell_type": "markdown",
   "metadata": {},
   "source": [
    "val_avt_std = classifier_test['scaler'].transform(test_id)[0,:][classifier_test['rfe'].get_support()]\n",
    "feat_imp = classifier_test['model'].coef_* val_avt_std# feature importance"
   ]
  },
  {
   "attachments": {},
   "cell_type": "markdown",
   "metadata": {},
   "source": [
    "Une autre solution pipe réutilisée les deux premieres etapes pipe. steps [], scaler et onehot encoder sur mes données pipe[2.2]"
   ]
  },
  {
   "attachments": {},
   "cell_type": "markdown",
   "metadata": {},
   "source": [
    "mentorat Utiliser un pipe et mettre dans une focntion qui prend le pipe un test_id et qui renvoit la feature importance, focntion à appeler dans fastapi"
   ]
  },
  {
   "cell_type": "code",
   "execution_count": null,
   "metadata": {},
   "outputs": [],
   "source": []
  },
  {
   "cell_type": "code",
   "execution_count": 78,
   "metadata": {},
   "outputs": [
    {
     "data": {
      "text/plain": [
       "-1.4491204555012176"
      ]
     },
     "execution_count": 78,
     "metadata": {},
     "output_type": "execute_result"
    }
   ],
   "source": [
    "feat_imp"
   ]
  },
  {
   "cell_type": "code",
   "execution_count": 76,
   "metadata": {},
   "outputs": [
    {
     "data": {
      "text/plain": [
       "0        100001\n",
       "1        100005\n",
       "2        100028\n",
       "3        100038\n",
       "4        100042\n",
       "          ...  \n",
       "47828    456221\n",
       "47829    456222\n",
       "47830    456223\n",
       "47831    456224\n",
       "47832    456250\n",
       "Name: SK_ID_CURR, Length: 47833, dtype: int64"
      ]
     },
     "execution_count": 76,
     "metadata": {},
     "output_type": "execute_result"
    }
   ],
   "source": [
    "test['SK_ID_CURR']"
   ]
  }
 ],
 "metadata": {
  "kernelspec": {
   "display_name": ".venv",
   "language": "python",
   "name": "python3"
  },
  "language_info": {
   "codemirror_mode": {
    "name": "ipython",
    "version": 3
   },
   "file_extension": ".py",
   "mimetype": "text/x-python",
   "name": "python",
   "nbconvert_exporter": "python",
   "pygments_lexer": "ipython3",
   "version": "3.9.13 (tags/v3.9.13:6de2ca5, May 17 2022, 16:36:42) [MSC v.1929 64 bit (AMD64)]"
  },
  "orig_nbformat": 4,
  "vscode": {
   "interpreter": {
    "hash": "2d2d9aa71f1703c75bc3be39a6f8ddbf6c36aca69f388de4b317d86743ee94c3"
   }
  }
 },
 "nbformat": 4,
 "nbformat_minor": 2
}
