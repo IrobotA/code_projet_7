{
 "cells": [
  {
   "cell_type": "code",
   "execution_count": 1,
   "metadata": {},
   "outputs": [],
   "source": [
    "from sklearn.metrics import accuracy_score, precision_score, recall_score\n",
    "from sklearn.pipeline import Pipeline\n",
    "import pickle\n",
    "import pandas as pd"
   ]
  },
  {
   "cell_type": "code",
   "execution_count": 11,
   "metadata": {},
   "outputs": [],
   "source": [
    "#importation modele déjà entraîné\n",
    "templates = pd.read_csv('../../datasets/X_columns_template.csv')\n",
    "test = pd.read_csv('../../datasets/new_df_test.csv')\n",
    "test_2 = pd.read_csv('../../datasets/application_test.csv')"
   ]
  },
  {
   "cell_type": "markdown",
   "metadata": {},
   "source": [
    "Fonction de remplacement des valeurs "
   ]
  },
  {
   "cell_type": "code",
   "execution_count": 8,
   "metadata": {},
   "outputs": [
    {
     "data": {
      "text/plain": [
       "SK_ID_CURR                       0\n",
       "NAME_CONTRACT_TYPE               0\n",
       "CODE_GENDER                      0\n",
       "FLAG_OWN_CAR                     0\n",
       "FLAG_OWN_REALTY                  0\n",
       "                              ... \n",
       "AMT_REQ_CREDIT_BUREAU_DAY     6049\n",
       "AMT_REQ_CREDIT_BUREAU_WEEK    6049\n",
       "AMT_REQ_CREDIT_BUREAU_MON     6049\n",
       "AMT_REQ_CREDIT_BUREAU_QRT     6049\n",
       "AMT_REQ_CREDIT_BUREAU_YEAR    6049\n",
       "Length: 121, dtype: int64"
      ]
     },
     "execution_count": 8,
     "metadata": {},
     "output_type": "execute_result"
    }
   ],
   "source": [
    "test_2.isna().sum()"
   ]
  },
  {
   "cell_type": "code",
   "execution_count": 10,
   "metadata": {},
   "outputs": [],
   "source": [
    "def nettoyage(df):\n",
    "    for col_na in df.isna().sum()[df.isna().sum() > 0 ].index: \n",
    "        print(col_na,df[col_na].dtype)\n",
    "        if df[col_na].dtype =='object':\n",
    "            print(col_na)\n",
    "            df[col_na] = df[col_na].fillna(df[col_na].mode().values[0]) # var categ val mqte => mot le plus fréquent\n",
    "        else :\n",
    "            df[col_na] = df[col_na].fillna(df[col_na].median()) # val mqtes => mediane\n",
    "    return df.isna().sum().sum()"
   ]
  },
  {
   "cell_type": "code",
   "execution_count": 12,
   "metadata": {},
   "outputs": [
    {
     "name": "stdout",
     "output_type": "stream",
     "text": [
      "AMT_ANNUITY float64\n",
      "NAME_TYPE_SUITE object\n",
      "NAME_TYPE_SUITE\n",
      "OWN_CAR_AGE float64\n",
      "OCCUPATION_TYPE object\n",
      "OCCUPATION_TYPE\n",
      "EXT_SOURCE_1 float64\n",
      "EXT_SOURCE_2 float64\n",
      "EXT_SOURCE_3 float64\n",
      "APARTMENTS_AVG float64\n",
      "BASEMENTAREA_AVG float64\n",
      "YEARS_BEGINEXPLUATATION_AVG float64\n",
      "YEARS_BUILD_AVG float64\n",
      "COMMONAREA_AVG float64\n",
      "ELEVATORS_AVG float64\n",
      "ENTRANCES_AVG float64\n",
      "FLOORSMAX_AVG float64\n",
      "FLOORSMIN_AVG float64\n",
      "LANDAREA_AVG float64\n",
      "LIVINGAPARTMENTS_AVG float64\n",
      "LIVINGAREA_AVG float64\n",
      "NONLIVINGAPARTMENTS_AVG float64\n",
      "NONLIVINGAREA_AVG float64\n",
      "APARTMENTS_MODE float64\n",
      "BASEMENTAREA_MODE float64\n",
      "YEARS_BEGINEXPLUATATION_MODE float64\n",
      "YEARS_BUILD_MODE float64\n",
      "COMMONAREA_MODE float64\n",
      "ELEVATORS_MODE float64\n",
      "ENTRANCES_MODE float64\n",
      "FLOORSMAX_MODE float64\n",
      "FLOORSMIN_MODE float64\n",
      "LANDAREA_MODE float64\n",
      "LIVINGAPARTMENTS_MODE float64\n",
      "LIVINGAREA_MODE float64\n",
      "NONLIVINGAPARTMENTS_MODE float64\n",
      "NONLIVINGAREA_MODE float64\n",
      "APARTMENTS_MEDI float64\n",
      "BASEMENTAREA_MEDI float64\n",
      "YEARS_BEGINEXPLUATATION_MEDI float64\n",
      "YEARS_BUILD_MEDI float64\n",
      "COMMONAREA_MEDI float64\n",
      "ELEVATORS_MEDI float64\n",
      "ENTRANCES_MEDI float64\n",
      "FLOORSMAX_MEDI float64\n",
      "FLOORSMIN_MEDI float64\n",
      "LANDAREA_MEDI float64\n",
      "LIVINGAPARTMENTS_MEDI float64\n",
      "LIVINGAREA_MEDI float64\n",
      "NONLIVINGAPARTMENTS_MEDI float64\n",
      "NONLIVINGAREA_MEDI float64\n",
      "FONDKAPREMONT_MODE object\n",
      "FONDKAPREMONT_MODE\n",
      "HOUSETYPE_MODE object\n",
      "HOUSETYPE_MODE\n",
      "TOTALAREA_MODE float64\n",
      "WALLSMATERIAL_MODE object\n",
      "WALLSMATERIAL_MODE\n",
      "EMERGENCYSTATE_MODE object\n",
      "EMERGENCYSTATE_MODE\n",
      "OBS_30_CNT_SOCIAL_CIRCLE float64\n",
      "DEF_30_CNT_SOCIAL_CIRCLE float64\n",
      "OBS_60_CNT_SOCIAL_CIRCLE float64\n",
      "DEF_60_CNT_SOCIAL_CIRCLE float64\n",
      "AMT_REQ_CREDIT_BUREAU_HOUR float64\n",
      "AMT_REQ_CREDIT_BUREAU_DAY float64\n",
      "AMT_REQ_CREDIT_BUREAU_WEEK float64\n",
      "AMT_REQ_CREDIT_BUREAU_MON float64\n",
      "AMT_REQ_CREDIT_BUREAU_QRT float64\n",
      "AMT_REQ_CREDIT_BUREAU_YEAR float64\n"
     ]
    },
    {
     "data": {
      "text/plain": [
       "0"
      ]
     },
     "execution_count": 12,
     "metadata": {},
     "output_type": "execute_result"
    }
   ],
   "source": [
    "nettoyage(test_2)"
   ]
  },
  {
   "cell_type": "markdown",
   "metadata": {},
   "source": [
    "test_id = test[test['SK_ID_CURR']==456221].copy() #exemple sur lequel on va travailler # vérifier si une seule ligne\n",
    "test_id"
   ]
  },
  {
   "cell_type": "code",
   "execution_count": 13,
   "metadata": {},
   "outputs": [
    {
     "data": {
      "text/html": [
       "<div>\n",
       "<style scoped>\n",
       "    .dataframe tbody tr th:only-of-type {\n",
       "        vertical-align: middle;\n",
       "    }\n",
       "\n",
       "    .dataframe tbody tr th {\n",
       "        vertical-align: top;\n",
       "    }\n",
       "\n",
       "    .dataframe thead th {\n",
       "        text-align: right;\n",
       "    }\n",
       "</style>\n",
       "<table border=\"1\" class=\"dataframe\">\n",
       "  <thead>\n",
       "    <tr style=\"text-align: right;\">\n",
       "      <th></th>\n",
       "      <th>SK_ID_CURR</th>\n",
       "      <th>NAME_CONTRACT_TYPE</th>\n",
       "      <th>CODE_GENDER</th>\n",
       "      <th>FLAG_OWN_CAR</th>\n",
       "      <th>FLAG_OWN_REALTY</th>\n",
       "      <th>CNT_CHILDREN</th>\n",
       "      <th>AMT_INCOME_TOTAL</th>\n",
       "      <th>AMT_CREDIT</th>\n",
       "      <th>AMT_ANNUITY</th>\n",
       "      <th>AMT_GOODS_PRICE</th>\n",
       "      <th>...</th>\n",
       "      <th>FLAG_DOCUMENT_18</th>\n",
       "      <th>FLAG_DOCUMENT_19</th>\n",
       "      <th>FLAG_DOCUMENT_20</th>\n",
       "      <th>FLAG_DOCUMENT_21</th>\n",
       "      <th>AMT_REQ_CREDIT_BUREAU_HOUR</th>\n",
       "      <th>AMT_REQ_CREDIT_BUREAU_DAY</th>\n",
       "      <th>AMT_REQ_CREDIT_BUREAU_WEEK</th>\n",
       "      <th>AMT_REQ_CREDIT_BUREAU_MON</th>\n",
       "      <th>AMT_REQ_CREDIT_BUREAU_QRT</th>\n",
       "      <th>AMT_REQ_CREDIT_BUREAU_YEAR</th>\n",
       "    </tr>\n",
       "  </thead>\n",
       "  <tbody>\n",
       "    <tr>\n",
       "      <th>48739</th>\n",
       "      <td>456221</td>\n",
       "      <td>Cash loans</td>\n",
       "      <td>F</td>\n",
       "      <td>N</td>\n",
       "      <td>Y</td>\n",
       "      <td>0</td>\n",
       "      <td>121500.0</td>\n",
       "      <td>412560.0</td>\n",
       "      <td>17473.5</td>\n",
       "      <td>270000.0</td>\n",
       "      <td>...</td>\n",
       "      <td>0</td>\n",
       "      <td>0</td>\n",
       "      <td>0</td>\n",
       "      <td>0</td>\n",
       "      <td>0.0</td>\n",
       "      <td>0.0</td>\n",
       "      <td>0.0</td>\n",
       "      <td>0.0</td>\n",
       "      <td>0.0</td>\n",
       "      <td>1.0</td>\n",
       "    </tr>\n",
       "  </tbody>\n",
       "</table>\n",
       "<p>1 rows × 121 columns</p>\n",
       "</div>"
      ],
      "text/plain": [
       "       SK_ID_CURR NAME_CONTRACT_TYPE CODE_GENDER FLAG_OWN_CAR FLAG_OWN_REALTY  \\\n",
       "48739      456221         Cash loans           F            N               Y   \n",
       "\n",
       "       CNT_CHILDREN  AMT_INCOME_TOTAL  AMT_CREDIT  AMT_ANNUITY  \\\n",
       "48739             0          121500.0    412560.0      17473.5   \n",
       "\n",
       "       AMT_GOODS_PRICE  ... FLAG_DOCUMENT_18 FLAG_DOCUMENT_19  \\\n",
       "48739         270000.0  ...                0                0   \n",
       "\n",
       "      FLAG_DOCUMENT_20 FLAG_DOCUMENT_21 AMT_REQ_CREDIT_BUREAU_HOUR  \\\n",
       "48739                0                0                        0.0   \n",
       "\n",
       "       AMT_REQ_CREDIT_BUREAU_DAY  AMT_REQ_CREDIT_BUREAU_WEEK  \\\n",
       "48739                        0.0                         0.0   \n",
       "\n",
       "       AMT_REQ_CREDIT_BUREAU_MON  AMT_REQ_CREDIT_BUREAU_QRT  \\\n",
       "48739                        0.0                        0.0   \n",
       "\n",
       "       AMT_REQ_CREDIT_BUREAU_YEAR  \n",
       "48739                         1.0  \n",
       "\n",
       "[1 rows x 121 columns]"
      ]
     },
     "execution_count": 13,
     "metadata": {},
     "output_type": "execute_result"
    }
   ],
   "source": [
    "test_id = test_2[test_2['SK_ID_CURR']==456221].copy() #exemple sur lequel on va travailler # vérifier si une seule ligne\n",
    "test_id"
   ]
  },
  {
   "cell_type": "code",
   "execution_count": null,
   "metadata": {},
   "outputs": [],
   "source": [
    "#one_hot_encoder() dans le pipe une fonction de fit et une fonction d'application, plus de robustesse\n",
    "#get dummies plus au niveau de la dataframe, biaisé donc pas applicable sur de nouvelles données"
   ]
  },
  {
   "attachments": {},
   "cell_type": "markdown",
   "metadata": {},
   "source": [
    "verif la forme du model base de données bonne taille que j'attends, vérifier les variables certaines variables clefs soient présente teste aille jusqu'au bout pas planté parce que fichier pas trouvé \n",
    "\n",
    "charger les modeles et les dponnées, applications et vérification que deux outputs sont dans les bonnes normes\n",
    "\n",
    "dans fichier =>  test_modele.Py => nom de fonction finissant avec test => lui dire ce que je dois vérifier  ex : assert a==2, 'error a n\\'a pas la bonne valeur', => synatxe avec vs code pour lancer pytrest dans l'invite commande si tout est bon il valide sinon erreur et là ou elle vient.\n",
    "\n",
    "test avec les données et les modeles et regarder si prédiction 1 ou 0 \n",
    "\n",
    "test sur toutes les fonctionalités pour s'assurer que quand on fait une modif rien ne se casse\n",
    "\n",
    "a chaque commit vérifier avec un test pour voir si tout fonctionne encore, si fonctionne pas test à remodifier, parce que mauvais exigence des conditions \n",
    "\n"
   ]
  },
  {
   "cell_type": "code",
   "execution_count": 14,
   "metadata": {},
   "outputs": [
    {
     "data": {
      "text/plain": [
       "array([0], dtype=int64)"
      ]
     },
     "execution_count": 14,
     "metadata": {},
     "output_type": "execute_result"
    }
   ],
   "source": [
    "pickle_in = open(\"pipel_3.pkl\",\"rb\") #notre pipeline importé v2 = pipel_2, v1 = pipel# v3 one hot et scaler\n",
    "pipe=pickle.load(pickle_in) #chargé dans une variable\n",
    "pipe.predict(test_id)#prediction"
   ]
  },
  {
   "cell_type": "code",
   "execution_count": 54,
   "metadata": {},
   "outputs": [
    {
     "data": {
      "text/plain": [
       "array([0], dtype=int64)"
      ]
     },
     "execution_count": 54,
     "metadata": {},
     "output_type": "execute_result"
    }
   ],
   "source": [
    "#pipe.best_estimator_.steps[1][1].estimator_.alpha_ # pour connaitre le meilleur alpha choisi\n",
    "pipe.predict(test_id)"
   ]
  },
  {
   "cell_type": "code",
   "execution_count": 60,
   "metadata": {},
   "outputs": [
    {
     "data": {
      "text/plain": [
       "array([[-8.23943652e-02,  8.23943651e-02,  5.62116781e-02,\n",
       "        -5.62116781e-02, -3.79727739e-02,  5.47800436e-02,\n",
       "         4.09120540e-02,  4.10371357e-01,  3.66271873e-01,\n",
       "        -1.27737959e+00,  3.60426989e-01, -2.58802053e-01,\n",
       "        -2.01563566e-01,  2.27395839e-02,  5.77935407e-01,\n",
       "         1.51291170e-01,  4.30709365e-02,  2.22971702e-01,\n",
       "        -3.51445466e-01, -6.99003420e-04,  4.74872208e-02,\n",
       "         7.01240401e-02,  6.51966109e-02, -2.54697953e-02,\n",
       "         5.94149554e-02,  5.15010788e-02, -5.67092769e-02,\n",
       "        -1.65821961e-02, -3.47124689e-02, -2.85216929e-02,\n",
       "        -4.71231278e-02,  2.13807299e-01, -1.95299258e+00,\n",
       "         2.38776162e-01,  1.57206431e-01,  1.29754981e-01,\n",
       "         1.76260211e-01,  1.24010116e-01,  9.11443078e-02,\n",
       "         2.05525659e-01,  1.60418161e-01,  2.77705528e-01,\n",
       "         1.58644981e-01,  2.23195303e-01,  2.58884224e-01,\n",
       "         2.02331048e-01,  2.30115212e-01,  1.55594015e-01,\n",
       "         2.15981400e-01,  1.01002904e-01,  2.59523509e-01,\n",
       "         5.83043317e-02,  1.20072958e-01,  2.33194359e-01,\n",
       "        -5.89955926e-02, -2.33262584e-02,  2.56203769e-01,\n",
       "         1.43058038e-01,  9.34629760e-02,  1.29908525e-01,\n",
       "         4.44004331e-01,  1.86665157e-01,  7.92126222e-02,\n",
       "         8.16180438e-02,  2.09590432e-01,  2.41656222e-01,\n",
       "         5.01559628e-02,  4.07238343e-02,  2.25702151e-01,\n",
       "         1.40552989e-01,  1.55983103e-01,  1.29976421e-01,\n",
       "         3.93629207e-01,  1.54831652e-01,  2.39767343e-01,\n",
       "         2.66808929e-01,  2.31550357e-01,  2.42030469e-01,\n",
       "         8.14981122e-02,  1.60549989e-01,  6.81379375e-02,\n",
       "         4.39943310e-02, -4.71326688e-02, -3.61517438e-01,\n",
       "        -1.33343124e-01,  2.71302336e-01,  4.03897348e-01,\n",
       "         5.94927036e-02, -4.47252129e-01,  3.75884963e-02,\n",
       "         1.84954419e+00,  1.50277776e-02,  3.18921044e-02,\n",
       "         4.01458144e-01,  2.63003095e-02, -1.86500333e-02,\n",
       "         5.97574113e-02,  2.63698789e-02, -1.65037848e-02,\n",
       "         1.83193714e-02, -1.69127237e-01, -2.01277081e-01,\n",
       "         7.93747160e-02,  1.85499053e-02, -7.71164966e-02,\n",
       "         1.71810765e-02,  2.90770422e-02,  5.17035548e-02,\n",
       "         2.44301316e-02, -1.83760348e-02, -1.69015806e-02,\n",
       "        -2.32821799e-02, -1.87547942e-02, -1.62380590e-02]])"
      ]
     },
     "execution_count": 60,
     "metadata": {},
     "output_type": "execute_result"
    }
   ],
   "source": [
    "pipe.best_estimator_.steps[1][1].estimator_.coef_"
   ]
  },
  {
   "attachments": {},
   "cell_type": "markdown",
   "metadata": {},
   "source": [
    "check format pipeline with => ohe,scaler,rfe\n",
    "check forme de la ligne qui m'est donnée nombre de lignes == 1 \n",
    "si 0 erreur "
   ]
  },
  {
   "cell_type": "code",
   "execution_count": 98,
   "metadata": {},
   "outputs": [],
   "source": [
    "def feat_imp(pipe) :\n",
    "    val_avt_std = pipe.best_estimator_.steps[0][1].transform(test_id)[0][pipe.best_estimator_.steps[1][1].get_support()] # preprocessing des valeurs + selection des features peretinentes \n",
    "    return pipe.best_estimator_.steps[1][1].estimator_.coef_* val_avt_std# feature importance\n"
   ]
  },
  {
   "cell_type": "code",
   "execution_count": 101,
   "metadata": {},
   "outputs": [
    {
     "data": {
      "text/plain": [
       "114"
      ]
     },
     "execution_count": 101,
     "metadata": {},
     "output_type": "execute_result"
    }
   ],
   "source": [
    "len(feat_imp(pipe)[0])"
   ]
  },
  {
   "cell_type": "markdown",
   "metadata": {},
   "source": [
    "val_avt_std = classifier_test['scaler'].transform(test_id)[0,:][classifier_test['rfe'].get_support()]\n",
    "feat_imp = classifier_test['model'].coef_* val_avt_std# feature importance"
   ]
  },
  {
   "attachments": {},
   "cell_type": "markdown",
   "metadata": {},
   "source": [
    "Une autre solution pipe réutilisée les deux premieres etapes pipe. steps [], scaler et onehot encoder sur mes données pipe[2.2]"
   ]
  },
  {
   "attachments": {},
   "cell_type": "markdown",
   "metadata": {},
   "source": [
    "mentorat Utiliser un pipe et mettre dans une focntion qui prend le pipe un test_id et qui renvoit la feature importance, focntion à appeler dans fastapi"
   ]
  }
 ],
 "metadata": {
  "kernelspec": {
   "display_name": ".venv",
   "language": "python",
   "name": "python3"
  },
  "language_info": {
   "codemirror_mode": {
    "name": "ipython",
    "version": 3
   },
   "file_extension": ".py",
   "mimetype": "text/x-python",
   "name": "python",
   "nbconvert_exporter": "python",
   "pygments_lexer": "ipython3",
   "version": "3.9.13"
  },
  "orig_nbformat": 4,
  "vscode": {
   "interpreter": {
    "hash": "2d2d9aa71f1703c75bc3be39a6f8ddbf6c36aca69f388de4b317d86743ee94c3"
   }
  }
 },
 "nbformat": 4,
 "nbformat_minor": 2
}
