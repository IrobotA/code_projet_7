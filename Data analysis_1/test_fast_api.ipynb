{
 "cells": [
  {
   "cell_type": "code",
   "execution_count": 11,
   "metadata": {},
   "outputs": [
    {
     "ename": "ValueError",
     "evalue": "The feature names should match those that were passed during fit.\nFeature names seen at fit time, yet now missing:\n- NAME_INCOME_TYPE_Maternity leave\n",
     "output_type": "error",
     "traceback": [
      "\u001b[1;31m---------------------------------------------------------------------------\u001b[0m",
      "\u001b[1;31mValueError\u001b[0m                                Traceback (most recent call last)",
      "Cell \u001b[1;32mIn[11], line 48\u001b[0m\n\u001b[0;32m     46\u001b[0m pickle_in \u001b[39m=\u001b[39m \u001b[39mopen\u001b[39m(\u001b[39m\"\u001b[39m\u001b[39mpipel.pkl\u001b[39m\u001b[39m\"\u001b[39m,\u001b[39m\"\u001b[39m\u001b[39mrb\u001b[39m\u001b[39m\"\u001b[39m)     \u001b[39m#notre pipeline importé\u001b[39;00m\n\u001b[0;32m     47\u001b[0m classifier_test\u001b[39m=\u001b[39mpickle\u001b[39m.\u001b[39mload(pickle_in) \u001b[39m#chargé dans une variable\u001b[39;00m\n\u001b[1;32m---> 48\u001b[0m classifier_test\u001b[39m.\u001b[39;49mpredict(test_id)       \u001b[39m#prediction\u001b[39;00m\n\u001b[0;32m     50\u001b[0m \u001b[39m# 3. Index route, opens automatically on http://127.0.0.1:8000\u001b[39;00m\n\u001b[0;32m     51\u001b[0m \u001b[39m#@app.get('/')\u001b[39;00m\n\u001b[0;32m     52\u001b[0m \u001b[39m#def index():\u001b[39;00m\n\u001b[0;32m     53\u001b[0m \u001b[39m#    return {'message': 'Bonjour, pour quel client souhaitez vous avoir l\\'étude du crédit (jeu de test) ?'}\u001b[39;00m\n",
      "File \u001b[1;32mc:\\Users\\utilisateur\\Documents\\MyAmaWok\\OC Data Scientist\\Projet OC 7 Implementer un modele de Scoring\\.venv\\lib\\site-packages\\sklearn\\pipeline.py:481\u001b[0m, in \u001b[0;36mPipeline.predict\u001b[1;34m(self, X, **predict_params)\u001b[0m\n\u001b[0;32m    479\u001b[0m Xt \u001b[39m=\u001b[39m X\n\u001b[0;32m    480\u001b[0m \u001b[39mfor\u001b[39;00m _, name, transform \u001b[39min\u001b[39;00m \u001b[39mself\u001b[39m\u001b[39m.\u001b[39m_iter(with_final\u001b[39m=\u001b[39m\u001b[39mFalse\u001b[39;00m):\n\u001b[1;32m--> 481\u001b[0m     Xt \u001b[39m=\u001b[39m transform\u001b[39m.\u001b[39;49mtransform(Xt)\n\u001b[0;32m    482\u001b[0m \u001b[39mreturn\u001b[39;00m \u001b[39mself\u001b[39m\u001b[39m.\u001b[39msteps[\u001b[39m-\u001b[39m\u001b[39m1\u001b[39m][\u001b[39m1\u001b[39m]\u001b[39m.\u001b[39mpredict(Xt, \u001b[39m*\u001b[39m\u001b[39m*\u001b[39mpredict_params)\n",
      "File \u001b[1;32mc:\\Users\\utilisateur\\Documents\\MyAmaWok\\OC Data Scientist\\Projet OC 7 Implementer un modele de Scoring\\.venv\\lib\\site-packages\\sklearn\\utils\\_set_output.py:142\u001b[0m, in \u001b[0;36m_wrap_method_output.<locals>.wrapped\u001b[1;34m(self, X, *args, **kwargs)\u001b[0m\n\u001b[0;32m    140\u001b[0m \u001b[39m@wraps\u001b[39m(f)\n\u001b[0;32m    141\u001b[0m \u001b[39mdef\u001b[39;00m \u001b[39mwrapped\u001b[39m(\u001b[39mself\u001b[39m, X, \u001b[39m*\u001b[39margs, \u001b[39m*\u001b[39m\u001b[39m*\u001b[39mkwargs):\n\u001b[1;32m--> 142\u001b[0m     data_to_wrap \u001b[39m=\u001b[39m f(\u001b[39mself\u001b[39m, X, \u001b[39m*\u001b[39margs, \u001b[39m*\u001b[39m\u001b[39m*\u001b[39mkwargs)\n\u001b[0;32m    143\u001b[0m     \u001b[39mif\u001b[39;00m \u001b[39misinstance\u001b[39m(data_to_wrap, \u001b[39mtuple\u001b[39m):\n\u001b[0;32m    144\u001b[0m         \u001b[39m# only wrap the first output for cross decomposition\u001b[39;00m\n\u001b[0;32m    145\u001b[0m         \u001b[39mreturn\u001b[39;00m (\n\u001b[0;32m    146\u001b[0m             _wrap_data_with_container(method, data_to_wrap[\u001b[39m0\u001b[39m], X, \u001b[39mself\u001b[39m),\n\u001b[0;32m    147\u001b[0m             \u001b[39m*\u001b[39mdata_to_wrap[\u001b[39m1\u001b[39m:],\n\u001b[0;32m    148\u001b[0m         )\n",
      "File \u001b[1;32mc:\\Users\\utilisateur\\Documents\\MyAmaWok\\OC Data Scientist\\Projet OC 7 Implementer un modele de Scoring\\.venv\\lib\\site-packages\\sklearn\\preprocessing\\_data.py:992\u001b[0m, in \u001b[0;36mStandardScaler.transform\u001b[1;34m(self, X, copy)\u001b[0m\n\u001b[0;32m    989\u001b[0m check_is_fitted(\u001b[39mself\u001b[39m)\n\u001b[0;32m    991\u001b[0m copy \u001b[39m=\u001b[39m copy \u001b[39mif\u001b[39;00m copy \u001b[39mis\u001b[39;00m \u001b[39mnot\u001b[39;00m \u001b[39mNone\u001b[39;00m \u001b[39melse\u001b[39;00m \u001b[39mself\u001b[39m\u001b[39m.\u001b[39mcopy\n\u001b[1;32m--> 992\u001b[0m X \u001b[39m=\u001b[39m \u001b[39mself\u001b[39;49m\u001b[39m.\u001b[39;49m_validate_data(\n\u001b[0;32m    993\u001b[0m     X,\n\u001b[0;32m    994\u001b[0m     reset\u001b[39m=\u001b[39;49m\u001b[39mFalse\u001b[39;49;00m,\n\u001b[0;32m    995\u001b[0m     accept_sparse\u001b[39m=\u001b[39;49m\u001b[39m\"\u001b[39;49m\u001b[39mcsr\u001b[39;49m\u001b[39m\"\u001b[39;49m,\n\u001b[0;32m    996\u001b[0m     copy\u001b[39m=\u001b[39;49mcopy,\n\u001b[0;32m    997\u001b[0m     dtype\u001b[39m=\u001b[39;49mFLOAT_DTYPES,\n\u001b[0;32m    998\u001b[0m     force_all_finite\u001b[39m=\u001b[39;49m\u001b[39m\"\u001b[39;49m\u001b[39mallow-nan\u001b[39;49m\u001b[39m\"\u001b[39;49m,\n\u001b[0;32m    999\u001b[0m )\n\u001b[0;32m   1001\u001b[0m \u001b[39mif\u001b[39;00m sparse\u001b[39m.\u001b[39missparse(X):\n\u001b[0;32m   1002\u001b[0m     \u001b[39mif\u001b[39;00m \u001b[39mself\u001b[39m\u001b[39m.\u001b[39mwith_mean:\n",
      "File \u001b[1;32mc:\\Users\\utilisateur\\Documents\\MyAmaWok\\OC Data Scientist\\Projet OC 7 Implementer un modele de Scoring\\.venv\\lib\\site-packages\\sklearn\\base.py:518\u001b[0m, in \u001b[0;36mBaseEstimator._validate_data\u001b[1;34m(self, X, y, reset, validate_separately, **check_params)\u001b[0m\n\u001b[0;32m    453\u001b[0m \u001b[39mdef\u001b[39;00m \u001b[39m_validate_data\u001b[39m(\n\u001b[0;32m    454\u001b[0m     \u001b[39mself\u001b[39m,\n\u001b[0;32m    455\u001b[0m     X\u001b[39m=\u001b[39m\u001b[39m\"\u001b[39m\u001b[39mno_validation\u001b[39m\u001b[39m\"\u001b[39m,\n\u001b[1;32m   (...)\u001b[0m\n\u001b[0;32m    459\u001b[0m     \u001b[39m*\u001b[39m\u001b[39m*\u001b[39mcheck_params,\n\u001b[0;32m    460\u001b[0m ):\n\u001b[0;32m    461\u001b[0m \u001b[39m    \u001b[39m\u001b[39m\"\"\"Validate input data and set or check the `n_features_in_` attribute.\u001b[39;00m\n\u001b[0;32m    462\u001b[0m \n\u001b[0;32m    463\u001b[0m \u001b[39m    Parameters\u001b[39;00m\n\u001b[1;32m   (...)\u001b[0m\n\u001b[0;32m    516\u001b[0m \u001b[39m        validated.\u001b[39;00m\n\u001b[0;32m    517\u001b[0m \u001b[39m    \"\"\"\u001b[39;00m\n\u001b[1;32m--> 518\u001b[0m     \u001b[39mself\u001b[39;49m\u001b[39m.\u001b[39;49m_check_feature_names(X, reset\u001b[39m=\u001b[39;49mreset)\n\u001b[0;32m    520\u001b[0m     \u001b[39mif\u001b[39;00m y \u001b[39mis\u001b[39;00m \u001b[39mNone\u001b[39;00m \u001b[39mand\u001b[39;00m \u001b[39mself\u001b[39m\u001b[39m.\u001b[39m_get_tags()[\u001b[39m\"\u001b[39m\u001b[39mrequires_y\u001b[39m\u001b[39m\"\u001b[39m]:\n\u001b[0;32m    521\u001b[0m         \u001b[39mraise\u001b[39;00m \u001b[39mValueError\u001b[39;00m(\n\u001b[0;32m    522\u001b[0m             \u001b[39mf\u001b[39m\u001b[39m\"\u001b[39m\u001b[39mThis \u001b[39m\u001b[39m{\u001b[39;00m\u001b[39mself\u001b[39m\u001b[39m.\u001b[39m\u001b[39m__class__\u001b[39m\u001b[39m.\u001b[39m\u001b[39m__name__\u001b[39m\u001b[39m}\u001b[39;00m\u001b[39m estimator \u001b[39m\u001b[39m\"\u001b[39m\n\u001b[0;32m    523\u001b[0m             \u001b[39m\"\u001b[39m\u001b[39mrequires y to be passed, but the target y is None.\u001b[39m\u001b[39m\"\u001b[39m\n\u001b[0;32m    524\u001b[0m         )\n",
      "File \u001b[1;32mc:\\Users\\utilisateur\\Documents\\MyAmaWok\\OC Data Scientist\\Projet OC 7 Implementer un modele de Scoring\\.venv\\lib\\site-packages\\sklearn\\base.py:451\u001b[0m, in \u001b[0;36mBaseEstimator._check_feature_names\u001b[1;34m(self, X, reset)\u001b[0m\n\u001b[0;32m    446\u001b[0m \u001b[39mif\u001b[39;00m \u001b[39mnot\u001b[39;00m missing_names \u001b[39mand\u001b[39;00m \u001b[39mnot\u001b[39;00m unexpected_names:\n\u001b[0;32m    447\u001b[0m     message \u001b[39m+\u001b[39m\u001b[39m=\u001b[39m (\n\u001b[0;32m    448\u001b[0m         \u001b[39m\"\u001b[39m\u001b[39mFeature names must be in the same order as they were in fit.\u001b[39m\u001b[39m\\n\u001b[39;00m\u001b[39m\"\u001b[39m\n\u001b[0;32m    449\u001b[0m     )\n\u001b[1;32m--> 451\u001b[0m \u001b[39mraise\u001b[39;00m \u001b[39mValueError\u001b[39;00m(message)\n",
      "\u001b[1;31mValueError\u001b[0m: The feature names should match those that were passed during fit.\nFeature names seen at fit time, yet now missing:\n- NAME_INCOME_TYPE_Maternity leave\n"
     ]
    }
   ],
   "source": [
    "#adaptation pour fastapi avec données du datasets\n",
    "\n",
    "# 1. Library imports\n",
    "import uvicorn\n",
    "from fastapi import FastAPI\n",
    "#from Credit_demands import Credit_demand_columns pas nécessaire puisque non rentré à la main\n",
    "import numpy as np\n",
    "import pandas as pd\n",
    "import pickle\n",
    "\n",
    "import pandas as pd\n",
    "# 2. Create the app object\n",
    "app = FastAPI()\n",
    "\n",
    "\n",
    "\n",
    "templates = pd.read_csv('../../datasets/X_columns_template.csv')\n",
    "test = pd.read_csv('../../datasets/new_df_test.csv')\n",
    "\n",
    "def mise_en_forme(data_line): # a remplacer par le pipe[2]\n",
    "    \n",
    "    ''' objectif == meme  colonne que l'apprentissage\n",
    "    \n",
    "        patrameters:\n",
    "        dataline => ligne de données avec les colonnes\n",
    "        \n",
    "        return :\n",
    "        rajoute les colonnes qui ne sont pas présentes dans le jeu de test'''\n",
    "    \n",
    "    cols_not_in_test = [col_train for col_train in templates['0'].values if col_train not in data_line.columns] # ['0']nom de la colonne ou il y a les noms de colonnes colonnes qui sont absentes du test\n",
    "    cols_not_in_train = [col_test for col_test in test.columns if col_test not in templates.columns]\n",
    "    \n",
    "    #if len(cols_not_in_train) !=0:\n",
    "    #    print(f\"mama mia {len(cols_not_in_train)} colonnes supplémentaires dans le test_set\")\n",
    "    #    data_line = data_line.drop(cols_not_in_train, axis =1)\n",
    "    for cols  in  cols_not_in_test :\n",
    "        print(cols)\n",
    "        if cols != 'TARGET':\n",
    "            data_line[cols] =-1  #attribution de la valeur atypique vue que absent\n",
    "            \n",
    "    #return cols_not_in_test\n",
    "\n",
    "\n",
    "\n",
    "\n",
    "pickle_in = open(\"pipel.pkl\",\"rb\")     #notre pipeline importé\n",
    "classifier_test=pickle.load(pickle_in) #chargé dans une variable\n",
    "#classifier_test.predict(test_id)       #prediction\n",
    "\n",
    "# 3. Index route, opens automatically on http://127.0.0.1:8000\n",
    "#@app.get('/')\n",
    "#def index():\n",
    "#    return {'message': 'Bonjour, pour quel client souhaitez vous avoir l\\'étude du crédit (jeu de test) ?'}\n"
   ]
  },
  {
   "attachments": {},
   "cell_type": "markdown",
   "metadata": {},
   "source": [
    "https://github.com/tiangolo/fastapi/issues/2133\n",
    "\n",
    "[ValueError('dictionary update sequence element #0 has length 70; 2 is required'), TypeError('vars() argument must have __dict__ attribute')]\n",
    "\n",
    "\n",
    "It looks like fastapi is trying to fall back to converting the numpy array to a dict using vars as it doesn't know what to do with it. You are probably best off converting the array into a python list yourself before returning it."
   ]
  },
  {
   "cell_type": "code",
   "execution_count": 17,
   "metadata": {},
   "outputs": [
    {
     "name": "stdout",
     "output_type": "stream",
     "text": [
      "0\n"
     ]
    }
   ],
   "source": [
    "for t in prediction:\n",
    "    print(t)"
   ]
  }
 ],
 "metadata": {
  "kernelspec": {
   "display_name": ".venv",
   "language": "python",
   "name": "python3"
  },
  "language_info": {
   "codemirror_mode": {
    "name": "ipython",
    "version": 3
   },
   "file_extension": ".py",
   "mimetype": "text/x-python",
   "name": "python",
   "nbconvert_exporter": "python",
   "pygments_lexer": "ipython3",
   "version": "3.9.13"
  },
  "orig_nbformat": 4,
  "vscode": {
   "interpreter": {
    "hash": "2d2d9aa71f1703c75bc3be39a6f8ddbf6c36aca69f388de4b317d86743ee94c3"
   }
  }
 },
 "nbformat": 4,
 "nbformat_minor": 2
}
