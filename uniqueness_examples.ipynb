# 🔄 Uniqueness/Unicity Checking - Complete Guide

This notebook shows you all the different ways to check **uniqueness (unicity)** in your data quality system.

## 🎯 Types of Uniqueness Checks:
1. **Single Column Uniqueness** - No duplicates in one column
2. **Composite Uniqueness** - Unique combinations across multiple columns  
3. **Primary Key Validation** - Ensure PKs are truly unique
4. **Business Rule Uniqueness** - Custom uniqueness rules
5. **Conditional Uniqueness** - Unique within groups/partitions

## 📋 What You'll Learn:
- Detect duplicate values with detailed metrics
- Check uniqueness rates and thresholds
- Handle missing values in uniqueness checks
- Build composite key validation
- Create conditional uniqueness rules